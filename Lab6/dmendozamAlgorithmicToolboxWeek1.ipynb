{
  "nbformat": 4,
  "nbformat_minor": 0,
  "metadata": {
    "colab": {
      "name": "dmendozamAlgorithmicToolboxWeek1.ipynb",
      "provenance": [],
      "collapsed_sections": [
        "LkVxxlhl9H98"
      ]
    },
    "kernelspec": {
      "name": "python3",
      "display_name": "Python 3"
    },
    "language_info": {
      "name": "python"
    }
  },
  "cells": [
    {
      "cell_type": "markdown",
      "metadata": {
        "id": "N1ok_-56OjB1"
      },
      "source": [
        "# I Solving the Sum of Two Digits Programming Challenge"
      ]
    },
    {
      "cell_type": "markdown",
      "metadata": {
        "id": "MMY7kmDSO0KM"
      },
      "source": [
        "## C++"
      ]
    },
    {
      "cell_type": "code",
      "metadata": {
        "colab": {
          "base_uri": "https://localhost:8080/"
        },
        "id": "2pGGf9BkPNIk",
        "outputId": "28e20713-8e4f-47cc-d3b2-8c4b7e8c1d19"
      },
      "source": [
        "%%writefile APlusB.cpp\n",
        "#include <iostream>\n",
        "\n",
        "int sum_of_two_digits(int first_digit, int second_digit) {\n",
        "    return first_digit + second_digit;\n",
        "}\n",
        "\n",
        "int main() {\n",
        "    int a = 0;\n",
        "    int b = 0;\n",
        "    std::cin >> a;\n",
        "    std::cin >> b;\n",
        "    std::cout << sum_of_two_digits(a, b);\n",
        "    return 0;\n",
        "}"
      ],
      "execution_count": null,
      "outputs": [
        {
          "output_type": "stream",
          "text": [
            "Overwriting APlusB.cpp\n"
          ],
          "name": "stdout"
        }
      ]
    },
    {
      "cell_type": "code",
      "metadata": {
        "colab": {
          "base_uri": "https://localhost:8080/"
        },
        "id": "0G3ZKOYAPXSU",
        "outputId": "95574e77-2ff7-4191-a74d-6715b7a92ed0"
      },
      "source": [
        "!g++ APlusB.cpp -o APlusB\n",
        "!./APlusB"
      ],
      "execution_count": null,
      "outputs": [
        {
          "output_type": "stream",
          "text": [
            "4 11\n",
            "15"
          ],
          "name": "stdout"
        }
      ]
    },
    {
      "cell_type": "markdown",
      "metadata": {
        "id": "iNkG2HqfTl9c"
      },
      "source": [
        "### Test input output files"
      ]
    },
    {
      "cell_type": "code",
      "metadata": {
        "colab": {
          "base_uri": "https://localhost:8080/"
        },
        "id": "aTzU2efzMxly",
        "outputId": "27174e42-c03b-40be-ddb7-fb006f9899b8"
      },
      "source": [
        "%%writefile input1.txt\n",
        "4 8"
      ],
      "execution_count": null,
      "outputs": [
        {
          "output_type": "stream",
          "text": [
            "Writing input1.txt\n"
          ],
          "name": "stdout"
        }
      ]
    },
    {
      "cell_type": "markdown",
      "metadata": {
        "id": "pdkfsvs-T0Wr"
      },
      "source": [
        ""
      ]
    },
    {
      "cell_type": "code",
      "metadata": {
        "colab": {
          "base_uri": "https://localhost:8080/"
        },
        "id": "zBJ0Gc0NQRet",
        "outputId": "2b683984-7050-4f97-f528-0b61814602ca"
      },
      "source": [
        "%%writefile output1.txt\n",
        "12"
      ],
      "execution_count": null,
      "outputs": [
        {
          "output_type": "stream",
          "text": [
            "Writing output1.txt\n"
          ],
          "name": "stdout"
        }
      ]
    },
    {
      "cell_type": "code",
      "metadata": {
        "colab": {
          "base_uri": "https://localhost:8080/"
        },
        "id": "IjEcIx63PJAN",
        "outputId": "008b301f-b994-4fc0-8b96-9bea8940bc54"
      },
      "source": [
        "%%writefile input2.txt\n",
        "-5 9"
      ],
      "execution_count": null,
      "outputs": [
        {
          "output_type": "stream",
          "text": [
            "Writing input2.txt\n"
          ],
          "name": "stdout"
        }
      ]
    },
    {
      "cell_type": "code",
      "metadata": {
        "colab": {
          "base_uri": "https://localhost:8080/"
        },
        "id": "Up9gOrxURTmd",
        "outputId": "999282ca-a069-4a14-b925-902c2b1e2d77"
      },
      "source": [
        "%%writefile output2.txt\n",
        "4"
      ],
      "execution_count": null,
      "outputs": [
        {
          "output_type": "stream",
          "text": [
            "Writing output2.txt\n"
          ],
          "name": "stdout"
        }
      ]
    },
    {
      "cell_type": "code",
      "metadata": {
        "colab": {
          "base_uri": "https://localhost:8080/"
        },
        "id": "PST6G-s-Pwgc",
        "outputId": "1ffae13c-98c4-47d0-b3ef-317e4a855ec0"
      },
      "source": [
        "!./APlusB < input1.txt"
      ],
      "execution_count": null,
      "outputs": [
        {
          "output_type": "stream",
          "text": [
            "12"
          ],
          "name": "stdout"
        }
      ]
    },
    {
      "cell_type": "code",
      "metadata": {
        "colab": {
          "base_uri": "https://localhost:8080/"
        },
        "id": "cKxZOjSlRfIN",
        "outputId": "a132b940-176c-43fb-dc88-9d1b7a8b2607"
      },
      "source": [
        "!./APlusB < input2.txt"
      ],
      "execution_count": null,
      "outputs": [
        {
          "output_type": "stream",
          "text": [
            "4"
          ],
          "name": "stdout"
        }
      ]
    },
    {
      "cell_type": "markdown",
      "metadata": {
        "id": "Qw2TQWCCUwqk"
      },
      "source": [
        "### Comparing files with grep\n",
        "\n",
        "https://askubuntu.com/questions/546796/comparing-two-text-files"
      ]
    },
    {
      "cell_type": "code",
      "metadata": {
        "id": "WVIaAmMKU4QM"
      },
      "source": [
        "!grep -xvFf output1.txt output1.txt "
      ],
      "execution_count": null,
      "outputs": []
    },
    {
      "cell_type": "code",
      "metadata": {
        "colab": {
          "base_uri": "https://localhost:8080/"
        },
        "id": "MQU8gPPjQuYO",
        "outputId": "aa7bd22c-a990-4c3e-95a3-245a263f440f"
      },
      "source": [
        "!grep -xvFf output1.txt output2.txt "
      ],
      "execution_count": null,
      "outputs": [
        {
          "output_type": "stream",
          "text": [
            "4\n"
          ],
          "name": "stdout"
        }
      ]
    },
    {
      "cell_type": "code",
      "metadata": {
        "colab": {
          "base_uri": "https://localhost:8080/"
        },
        "id": "jYL9OuYBTD_l",
        "outputId": "971cb7af-db13-4a14-cf6d-a2d00149d320"
      },
      "source": [
        "!grep -xvFf output2.txt output1.txt "
      ],
      "execution_count": null,
      "outputs": [
        {
          "output_type": "stream",
          "text": [
            "12\n"
          ],
          "name": "stdout"
        }
      ]
    },
    {
      "cell_type": "code",
      "metadata": {
        "id": "Jlja0Xm4TX9M"
      },
      "source": [
        "!./APlusB < input1.txt> ctest1.txt\n",
        "!grep -xvFf output1.txt ctest1.txt"
      ],
      "execution_count": null,
      "outputs": []
    },
    {
      "cell_type": "code",
      "metadata": {
        "id": "g9OIUZA_QLCQ"
      },
      "source": [
        "!./APlusB < input2.txt > ctest2.txt\n",
        "!grep -xvFf output2.txt ctest2.txt"
      ],
      "execution_count": null,
      "outputs": []
    },
    {
      "cell_type": "markdown",
      "metadata": {
        "id": "3BgOaDjUVJk6"
      },
      "source": [
        "## Python"
      ]
    },
    {
      "cell_type": "code",
      "metadata": {
        "colab": {
          "base_uri": "https://localhost:8080/"
        },
        "id": "DBvl-T0CTN_8",
        "outputId": "a6fb70ad-9db0-452c-bec0-8d5f62be2189"
      },
      "source": [
        "%%writefile sum.py\n",
        "# python3\n",
        "\n",
        "def sum_of_two_digits(first_digit, second_digit):\n",
        "    return first_digit + second_digit\n",
        "\n",
        "if __name__ == '__main__':\n",
        "    a, b = map(int, input().split())\n",
        "    print(sum_of_two_digits(a, b))"
      ],
      "execution_count": null,
      "outputs": [
        {
          "output_type": "stream",
          "text": [
            "Overwriting sum.py\n"
          ],
          "name": "stdout"
        }
      ]
    },
    {
      "cell_type": "code",
      "metadata": {
        "colab": {
          "base_uri": "https://localhost:8080/"
        },
        "id": "QKoKM11_WGyF",
        "outputId": "e3867fb5-7d40-4ef1-ff1b-66c3135f67cb"
      },
      "source": [
        "!python sum.py"
      ],
      "execution_count": null,
      "outputs": [
        {
          "output_type": "stream",
          "text": [
            "32 90\n",
            "122\n"
          ],
          "name": "stdout"
        }
      ]
    },
    {
      "cell_type": "code",
      "metadata": {
        "id": "cocFbPRTWrqt"
      },
      "source": [
        "!python sum.py  < input1.txt> ptest1.txt\n",
        "!grep -xvFf output1.txt ptest1.txt"
      ],
      "execution_count": null,
      "outputs": []
    },
    {
      "cell_type": "code",
      "metadata": {
        "id": "MorKTa-XXASN"
      },
      "source": [
        "!python sum.py  < input2.txt> ptest2.txt\n",
        "!grep -xvFf output2.txt ptest2.txt"
      ],
      "execution_count": null,
      "outputs": []
    },
    {
      "cell_type": "markdown",
      "metadata": {
        "id": "uvP-mOubW_5F"
      },
      "source": [
        "# II Solving The Maximum Pairwise Product Programming Challenge in C++"
      ]
    },
    {
      "cell_type": "markdown",
      "metadata": {
        "id": "C12yoFR6Xonl"
      },
      "source": [
        "## C++"
      ]
    },
    {
      "cell_type": "code",
      "metadata": {
        "colab": {
          "base_uri": "https://localhost:8080/"
        },
        "id": "YL4qJX3tXxdd",
        "outputId": "a25944c3-c827-4631-fb17-370f1fecf34a"
      },
      "source": [
        "%%writefile max_pairwise_product.cpp\n",
        "#include <iostream>\n",
        "#include <vector>\n",
        "#include <algorithm>\n",
        "\n",
        "int MaxPairwiseProduct(const std::vector<int>& numbers) {\n",
        "    int max_product = 0;\n",
        "    int n = numbers.size();\n",
        "\n",
        "    for (int first = 0; first < n; ++first) {\n",
        "        for (int second = first + 1; second < n; ++second) {\n",
        "            max_product = std::max(max_product,\n",
        "                numbers[first] * numbers[second]);\n",
        "        }\n",
        "    }\n",
        "\n",
        "    return max_product;\n",
        "}\n",
        "\n",
        "int main() {\n",
        "    int n;\n",
        "    std::cin >> n;\n",
        "    std::vector<int> numbers(n);\n",
        "    for (int i = 0; i < n; ++i) {\n",
        "        std::cin >> numbers[i];\n",
        "    }\n",
        "\n",
        "    std::cout << MaxPairwiseProduct(numbers) << \"\\n\";\n",
        "    return 0;\n",
        "}\n"
      ],
      "execution_count": null,
      "outputs": [
        {
          "output_type": "stream",
          "text": [
            "Writing max_pairwise_product.cpp\n"
          ],
          "name": "stdout"
        }
      ]
    },
    {
      "cell_type": "code",
      "metadata": {
        "colab": {
          "base_uri": "https://localhost:8080/"
        },
        "id": "KGxaEjvWX__O",
        "outputId": "3f856225-4011-46bf-dab1-05a7c27b2580"
      },
      "source": [
        "!g++ max_pairwise_product.cpp -o max_pairwise_product\n",
        "!./max_pairwise_product"
      ],
      "execution_count": null,
      "outputs": [
        {
          "output_type": "stream",
          "text": [
            "6\n",
            "23 1 89 56 34 5\n",
            "4984\n"
          ],
          "name": "stdout"
        }
      ]
    },
    {
      "cell_type": "markdown",
      "metadata": {
        "id": "e7KhxHGNS3i0"
      },
      "source": [
        "### Test 1: Small numbers"
      ]
    },
    {
      "cell_type": "code",
      "metadata": {
        "colab": {
          "base_uri": "https://localhost:8080/"
        },
        "id": "e1mmTzBgShT-",
        "outputId": "3bfff508-de1d-4ea4-cc8a-6b0f3724fbdc"
      },
      "source": [
        "%%writefile input1.txt\n",
        "10\n",
        "1 2 3 4 5 6 7 8 9 10"
      ],
      "execution_count": null,
      "outputs": [
        {
          "output_type": "stream",
          "text": [
            "Overwriting input1.txt\n"
          ],
          "name": "stdout"
        }
      ]
    },
    {
      "cell_type": "code",
      "metadata": {
        "colab": {
          "base_uri": "https://localhost:8080/"
        },
        "id": "vy_uI0x7TCId",
        "outputId": "2783453a-1f2a-4243-f377-e8eee0e53ff5"
      },
      "source": [
        "!./max_pairwise_product < input1.txt"
      ],
      "execution_count": null,
      "outputs": [
        {
          "output_type": "stream",
          "text": [
            "90\n"
          ],
          "name": "stdout"
        }
      ]
    },
    {
      "cell_type": "markdown",
      "metadata": {
        "id": "IeZ3kTjpYmR9"
      },
      "source": [
        "### Test 2: largest input numbers 200000 200000 in the input"
      ]
    },
    {
      "cell_type": "code",
      "metadata": {
        "colab": {
          "base_uri": "https://localhost:8080/"
        },
        "id": "LQNlZqaqYt7U",
        "outputId": "91a98e71-aaa1-4926-9d51-425a076f9610"
      },
      "source": [
        "%%writefile input2.txt\n",
        "6\n",
        "1 3 200000 9 200000 23"
      ],
      "execution_count": null,
      "outputs": [
        {
          "output_type": "stream",
          "text": [
            "Overwriting input2.txt\n"
          ],
          "name": "stdout"
        }
      ]
    },
    {
      "cell_type": "code",
      "metadata": {
        "colab": {
          "base_uri": "https://localhost:8080/"
        },
        "id": "2Wad2VZUZDxR",
        "outputId": "53715137-ffce-4884-c4ef-98932df16b39"
      },
      "source": [
        "!./max_pairwise_product < input2.txt"
      ],
      "execution_count": null,
      "outputs": [
        {
          "output_type": "stream",
          "text": [
            "1345294336\n"
          ],
          "name": "stdout"
        }
      ]
    },
    {
      "cell_type": "markdown",
      "metadata": {
        "id": "H2SC0Qt5HCzz"
      },
      "source": [
        "Changing the variables to long long"
      ]
    },
    {
      "cell_type": "code",
      "metadata": {
        "colab": {
          "base_uri": "https://localhost:8080/"
        },
        "id": "MPcmsxiQZSfE",
        "outputId": "64a1ecb5-d24d-41dc-f76a-f30939f12a9c"
      },
      "source": [
        "%%writefile max_pairwise_product_long.cpp\n",
        "#include <iostream>\n",
        "#include <vector>\n",
        "#include <algorithm>\n",
        "\n",
        "long long MaxPairwiseProduct(const std::vector<int>& numbers) {\n",
        "    long long max_product = 0LL;\n",
        "\t  long long aux_product = 0LL;\n",
        "    int n = numbers.size();\n",
        "\n",
        "    for (int first = 0; first < n; ++first) {\n",
        "        for (int second = first + 1; second < n; ++second) {\n",
        "\t\t\t       aux_product =  (long long) numbers[first] * numbers[second];\n",
        "            if ( max_product < aux_product)  {\n",
        "\t\t\t\t        max_product = aux_product;\n",
        "             }\n",
        "        }\n",
        "    }\n",
        "\n",
        "    return max_product;\n",
        "}\n",
        "\n",
        "int main() {\n",
        "    int n;\n",
        "    std::cin >> n;\n",
        "    std::vector<int> numbers(n);\n",
        "    for (int i = 0; i < n; ++i) {\n",
        "        std::cin >> numbers[i];\n",
        "    }\n",
        "\n",
        "    std::cout << MaxPairwiseProduct(numbers) << \"\\n\";\n",
        "    return 0;\n",
        "}\n"
      ],
      "execution_count": null,
      "outputs": [
        {
          "output_type": "stream",
          "text": [
            "Writing max_pairwise_product_long.cpp\n"
          ],
          "name": "stdout"
        }
      ]
    },
    {
      "cell_type": "code",
      "metadata": {
        "colab": {
          "base_uri": "https://localhost:8080/"
        },
        "id": "I5pCeOG1Zm7s",
        "outputId": "55e43dc6-3d4e-4acf-d3c5-de601bf0d089"
      },
      "source": [
        "!g++ max_pairwise_product_long.cpp -o max_pairwise_product_long\n",
        "!./max_pairwise_product_long < input1.txt\n",
        "!./max_pairwise_product_long < input2.txt"
      ],
      "execution_count": null,
      "outputs": [
        {
          "output_type": "stream",
          "text": [
            "90\n",
            "40000000000\n"
          ],
          "name": "stdout"
        }
      ]
    },
    {
      "cell_type": "markdown",
      "metadata": {
        "id": "XPVHkHxH6_7s"
      },
      "source": [
        "### Test 3  stress tests 20  times  random n in [2, 20] "
      ]
    },
    {
      "cell_type": "code",
      "metadata": {
        "id": "PwqpBmYr69fu",
        "colab": {
          "base_uri": "https://localhost:8080/"
        },
        "outputId": "59d539ad-1272-4a67-d751-3af1d825598b"
      },
      "source": [
        "%%writefile stresstest1.cpp\n",
        "#include <iostream>\n",
        "#include <vector>\n",
        "#include <algorithm>\n",
        "#include <cstdlib>\n",
        "\n",
        "using std::cin;\n",
        "using std::cout;\n",
        "using std::vector;\n",
        "\n",
        "int MaxPairwiseProduct(const std::vector<int>& numbers) {\n",
        "    int max_product = 0;\n",
        "    int n = numbers.size();\n",
        "\n",
        "    for (int first = 0; first < n; ++first) {\n",
        "        for (int second = first + 1; second < n; ++second) {\n",
        "            max_product = std::max(max_product,\n",
        "                numbers[first] * numbers[second]);\n",
        "        }\n",
        "    }\n",
        "\n",
        "    return max_product;\n",
        "}\n",
        "\n",
        "long long MaxPairwiseProductLong(const std::vector<int>& numbers) {\n",
        "    long long max_product = 0LL;\n",
        "\t  long long aux_product = 0LL;\n",
        "    int n = numbers.size();\n",
        "\n",
        "    for (int first = 0; first < n; ++first) {\n",
        "        for (int second = first + 1; second < n; ++second) {\n",
        "\t\t\t       aux_product =  (long long) numbers[first] * numbers[second];\n",
        "            if ( max_product < aux_product)  {\n",
        "\t\t\t\t        max_product = aux_product;\n",
        "             }\n",
        "        }\n",
        "    }\n",
        "\n",
        "    return max_product;\n",
        "}\n",
        "int main() {\n",
        "    for(int w=0;w<20;w++){\n",
        "        cout << \"Prueba \" << w+1<< \"\\n\";\n",
        "        int n= rand()% 19 + 2;\n",
        "        cout << n << \"\\n\";\n",
        "        vector <int> a;\n",
        "\n",
        "        for (int i=0; i<n; i++) {\n",
        "            a.push_back(rand() % 5000);                /* no se puede un numero tan grande por la solucion 1 */\n",
        "        }\n",
        "\n",
        "        for (int i=0; i<n; i++) {\n",
        "            cout << a[i] << \" \";\n",
        "        }\n",
        "\n",
        "        cout << \"\\n\";\n",
        "\n",
        "        long long res1 = MaxPairwiseProduct(a);\n",
        "        long long res2 = MaxPairwiseProductLong(a);\n",
        "\n",
        "        if (res1 != res2) {\n",
        "            cout << \"Incorrecto: \" << res1 << \" \" << res2 << \"\\n\";\n",
        "            break;\n",
        "        }\n",
        "        else {\n",
        "            cout << \"Correcto\\n\";\n",
        "        }\n",
        "    }\n",
        "    \n",
        "    \n",
        "}\n"
      ],
      "execution_count": null,
      "outputs": [
        {
          "output_type": "stream",
          "text": [
            "Overwriting stresstest1.cpp\n"
          ],
          "name": "stdout"
        }
      ]
    },
    {
      "cell_type": "code",
      "metadata": {
        "colab": {
          "base_uri": "https://localhost:8080/"
        },
        "id": "9Nxtr_sGiqxO",
        "outputId": "7451039b-c93a-41a5-aa6d-516cb974cc96"
      },
      "source": [
        "!g++ stresstest1.cpp -o stresstest1\n",
        "!./stresstest1"
      ],
      "execution_count": null,
      "outputs": [
        {
          "output_type": "stream",
          "text": [
            "Prueba 1\n",
            "4\n",
            "886 2777 1915 2793 \n",
            "Correcto\n",
            "Prueba 2\n",
            "10\n",
            "386 492 1649 1421 2362 27 3690 59 2763 3926 \n",
            "Correcto\n",
            "Prueba 3\n",
            "9\n",
            "3426 4172 736 211 368 2567 1429 782 1530 \n",
            "Correcto\n",
            "Prueba 4\n",
            "8\n",
            "123 4067 3135 3929 4802 4022 3058 3069 \n",
            "Correcto\n",
            "Prueba 5\n",
            "7\n",
            "1393 3456 11 3042 1229 2373 4421 \n",
            "Correcto\n",
            "Prueba 6\n",
            "3\n",
            "3784 3537 198 \n",
            "Correcto\n",
            "Prueba 7\n",
            "11\n",
            "3315 4370 1413 3526 1091 3980 4956 1873 1862 4170 1996 \n",
            "Correcto\n",
            "Prueba 8\n",
            "18\n",
            "2305 925 2084 1327 336 1505 846 1729 1313 857 1124 3895 4582 545 3814 3367 434 364 \n",
            "Correcto\n",
            "Prueba 9\n",
            "2\n",
            "3750 1087 \n",
            "Correcto\n",
            "Prueba 10\n",
            "15\n",
            "2276 2178 788 3584 403 2651 2754 2399 4932 60 4676 3368 2739 12 1226 \n",
            "Correcto\n",
            "Prueba 11\n",
            "7\n",
            "3094 2539 795 570 1434 378 2467 \n",
            "Correcto\n",
            "Prueba 12\n",
            "15\n",
            "97 2902 3317 492 1652 756 2301 280 4286 4441 3865 4689 3444 1619 3440 \n",
            "Correcto\n",
            "Prueba 13\n",
            "13\n",
            "3031 3117 3097 771 4481 675 709 3927 4567 2856 4497 2353 4586 \n",
            "Correcto\n",
            "Prueba 14\n",
            "6\n",
            "306 4683 1219 3624 1528 2871 \n",
            "Correcto\n",
            "Prueba 15\n",
            "17\n",
            "3829 4503 19 3270 3368 4708 1715 1340 3149 2796 723 2618 2245 2846 3451 2921 3555 \n",
            "Correcto\n",
            "Prueba 16\n",
            "19\n",
            "2488 2764 3228 4841 2350 193 1500 2034 2764 124 4914 1987 856 3743 1491 2227 3365 4859 1936 \n",
            "Correcto\n",
            "Prueba 17\n",
            "11\n",
            "2551 1437 4228 3275 407 1474 1121 3858 4395 1029 1237 \n",
            "Correcto\n",
            "Prueba 18\n",
            "3\n",
            "3793 818 4428 \n",
            "Correcto\n",
            "Prueba 19\n",
            "10\n",
            "1011 928 4529 3776 2404 4443 763 4613 4538 3606 \n",
            "Correcto\n",
            "Prueba 20\n",
            "7\n",
            "2904 4818 128 688 2369 2917 4917 \n",
            "Correcto\n"
          ],
          "name": "stdout"
        }
      ]
    },
    {
      "cell_type": "markdown",
      "metadata": {
        "id": "9z9yr5QkeyJF"
      },
      "source": [
        "### Test 4  time test  measure the execution time running with the the largest worst case file (200000 increasing numbers, 200000 and 200000 the end) "
      ]
    },
    {
      "cell_type": "code",
      "metadata": {
        "id": "oLiMjbAIfPlX",
        "colab": {
          "base_uri": "https://localhost:8080/"
        },
        "outputId": "1ba4e970-8a7f-4d1d-ea57-4e1d2a147366"
      },
      "source": [
        "%%writefile Test2Write.cpp\n",
        "\n",
        "#include <iostream>\n",
        "#include <fstream>\n",
        "#include <cstdlib>\n",
        "\n",
        "using namespace std;\n",
        "\n",
        "int main() {\n",
        "  // Create and open a text file\n",
        "  ofstream MyFile(\"input3.txt\");\n",
        "\n",
        " MyFile << 200000 <<\"\\n\";  // n \n",
        " for (int i=1; i < 200001; i++){\n",
        "     MyFile << i <<\" \";\n",
        " }\n",
        "  \n",
        "  // Close the file\n",
        "  MyFile.close();\n",
        "}"
      ],
      "execution_count": null,
      "outputs": [
        {
          "output_type": "stream",
          "text": [
            "Overwriting Test2Write.cpp\n"
          ],
          "name": "stdout"
        }
      ]
    },
    {
      "cell_type": "code",
      "metadata": {
        "id": "EH25TkOkZfD9"
      },
      "source": [
        "!g++ Test2Write.cpp -o Test2Write\n",
        "!./Test2Write"
      ],
      "execution_count": null,
      "outputs": []
    },
    {
      "cell_type": "markdown",
      "metadata": {
        "id": "JB6f03qO-lj9"
      },
      "source": [
        "Measure time\n",
        "\n",
        "https://askubuntu.com/questions/53444/how-can-i-measure-the-execution-time-of-a-terminal-process"
      ]
    },
    {
      "cell_type": "code",
      "metadata": {
        "colab": {
          "base_uri": "https://localhost:8080/"
        },
        "id": "6p2QLEr576zk",
        "outputId": "e2a4a6aa-3c0c-4d1d-8405-1562c263baf4"
      },
      "source": [
        "!g++ max_pairwise_product_long.cpp -o max_pairwise_product_long\n",
        "!time ./max_pairwise_product_long < input3.txt"
      ],
      "execution_count": null,
      "outputs": [
        {
          "output_type": "stream",
          "text": [
            "39999800000\n",
            "\n",
            "real\t2m9.177s\n",
            "user\t2m8.700s\n",
            "sys\t0m0.033s\n"
          ],
          "name": "stdout"
        }
      ]
    },
    {
      "cell_type": "markdown",
      "metadata": {
        "id": "AmZeB2wYjxy5"
      },
      "source": [
        "##### Calculate  the number of instructions executed by the algorithm as a function of n, add in each line a comment with the number of instructions that are executed in that line \n",
        "\n",
        "```cpp\n",
        " int main() {                         //N inst exec by line executed  \n",
        "   \n",
        "    int n;                            //1                      \n",
        "    std::cin >> n;                    //1\n",
        "                                              \n",
        "    std::vector<int> numbers(n);      //n    init vector\n",
        "    .\n",
        "    .\n",
        " }\n",
        "\n",
        "```"
      ]
    },
    {
      "cell_type": "code",
      "metadata": {
        "colab": {
          "base_uri": "https://localhost:8080/"
        },
        "id": "djGX3FL13g9b",
        "outputId": "270176eb-1660-419e-de67-2c8f8c3c7f74"
      },
      "source": [
        "%%writefile test_init_vectors.cpp\n",
        "#include <iostream>\n",
        "#include <vector>\n",
        "#include <algorithm>\n",
        "int main() {                                                               \n",
        "    int n = 10;                                                                                                                            //1\n",
        "    std::vector<int> numbers(n);                                            \n",
        "    for (int i = 0; i < n; ++i) {                                           \n",
        "        std::cout << numbers[i];                                             \n",
        "    }\n",
        "\n",
        "    std::cout << \"\\n\";                       \n",
        "    return 0;                                                              \n",
        "}  "
      ],
      "execution_count": null,
      "outputs": [
        {
          "output_type": "stream",
          "text": [
            "Overwriting test_init_vectors.cpp\n"
          ],
          "name": "stdout"
        }
      ]
    },
    {
      "cell_type": "code",
      "metadata": {
        "colab": {
          "base_uri": "https://localhost:8080/"
        },
        "id": "44gZcuE237-1",
        "outputId": "7f5f9c2a-bed0-4223-ee39-3290f70db610"
      },
      "source": [
        "!g++ test_init_vectors.cpp -o test_init_vectors\n",
        "!./test_init_vectors"
      ],
      "execution_count": null,
      "outputs": [
        {
          "output_type": "stream",
          "text": [
            "0000000000\n"
          ],
          "name": "stdout"
        }
      ]
    },
    {
      "cell_type": "code",
      "metadata": {
        "colab": {
          "base_uri": "https://localhost:8080/"
        },
        "id": "uG6Mv-Pwlkii",
        "outputId": "8b4b2a48-2fc3-4feb-81ab-088e183a49f5"
      },
      "source": [
        "%%writefile max_pairwise_product_long.cpp\n",
        "#include <iostream>\n",
        "#include <vector>\n",
        "#include <algorithm>\n",
        "\n",
        "long long MaxPairwiseProduct(const std::vector<int>& numbers) {              //N inst exec by line executed \n",
        "    long long max_product = 0LL;                                             //1                                          \n",
        "\t  long long aux_product = 0LL;                                             //1 \n",
        "    int n = numbers.size();                                                  //1 \n",
        "                                                                             \n",
        "    for (int first = 0; first < n; ++first) {                                //1+2n  \n",
        "        for (int second = first + 1; second < n; ++second) {                 //n + (n-1)n \n",
        "\t\t\t       aux_product =  (long long) numbers[first] * numbers[second];    //(n-1)n/2 \n",
        "            if (max_product < aux_product)  {                                //(n-1)n/2 \n",
        "\t\t\t\t        max_product = aux_product;                                   //[0, (n-1)n/2] \n",
        "             }\n",
        "        }\n",
        "    }\n",
        "                                                                             // -------------- \n",
        "    return max_product;                                                      // 4 + 3n + [2(n-1)n, 2.5 (n-1)n] \n",
        "}\n",
        "\n",
        "int main() {                                              //N inst exec by line executed \n",
        "    int n;                                                //1  \n",
        "    std::cin >> n;                                        //1\n",
        "    std::vector<int> numbers(n);                          //n\n",
        "    for (int i = 0; i < n; ++i) {                         //1 + 2n\n",
        "        std::cin >> numbers[i];                           //n\n",
        "    }\n",
        "\n",
        "    std::cout << MaxPairwiseProduct(numbers) << \"\\n\";     //1 + 1  + 4 + 3n + [2(n-1)n, 2.5 (n-1)n]\n",
        "    return 0;                                             // -------------- \n",
        "}                                                         // 9 + 7n + [2(n-1)n, 2.5 (n-1)n]\n"
      ],
      "execution_count": null,
      "outputs": [
        {
          "output_type": "stream",
          "text": [
            "Overwriting max_pairwise_product_long.cpp\n"
          ],
          "name": "stdout"
        }
      ]
    },
    {
      "cell_type": "markdown",
      "metadata": {
        "id": "0vTsUg8OwcHs"
      },
      "source": [
        "Count executed intructions in code and verify with inputs 1, 2 and 3"
      ]
    },
    {
      "cell_type": "code",
      "metadata": {
        "colab": {
          "base_uri": "https://localhost:8080/"
        },
        "id": "CuRKkqQc137V",
        "outputId": "58b72004-01f8-4734-96f8-5ff1a32cdd31"
      },
      "source": [
        "%%writefile max_pairwise_product_long_execints.cpp\n",
        "#include <iostream>\n",
        "#include <vector>\n",
        "#include <algorithm>\n",
        "\n",
        "long long MaxPairwiseProduct(const std::vector<int>& numbers, long long &execints) {              //N inst exec by line executed \n",
        "    \n",
        "    long long m = 0LL;                                                       //1\n",
        "    \n",
        "    long long max_product = 0LL;                                             //1\n",
        "    execints++;\n",
        "\n",
        "\t  long long aux_product = 0LL;                                             //1\n",
        "    execints++;\n",
        "\n",
        "    int n = numbers.size();                                                  //1 \n",
        "    execints++;\n",
        "\n",
        "    execints++;                                                                         \n",
        "    for (int first = 0; first < n; ++first) {                                //1+2n  \n",
        "        execints += 2;\n",
        "\n",
        "        long long m = 0LL;\n",
        "\n",
        "        execints++;                                    \n",
        "        for (int second = first + 1; second < n; ++second) {                 //n+ (n-1)n \n",
        "            execints += 2;                                                \n",
        "\n",
        "\t\t\t      aux_product =  (long long) numbers[first] * numbers[second];    //(n-1)n/2 \n",
        "            execints++; \n",
        "\n",
        "            execints++; \n",
        "            if ( max_product < aux_product)  {                               //(n-1)n/2 \n",
        "                       \n",
        "\t\t\t\t        max_product = aux_product;                                   //[0, (n-1)n/2] \n",
        "                execints++; \n",
        "                m++;\n",
        "             }\n",
        "        }\n",
        "        if ( (first <= 10) || (n- first <= 10)) std::cout << m << \"\\n\";\n",
        "    }\n",
        "                                                                            // -------------- \n",
        "    return max_product;                                                     // 4 + 3n + [2(n-1)n, 2.5 (n-1)n] \n",
        "}\n",
        "\n",
        "int main() {                                                 //N inst exec by line executed \n",
        "    long long execints =0LL;\n",
        "\n",
        "    int n;                                                   //1\n",
        "    execints++;                                                              \n",
        "    \n",
        "    std::cin >> n;                                           //1\n",
        "    execints++;\n",
        "\n",
        "    std::vector<int> numbers(n);                             //n\n",
        "    execints += n;\n",
        "    \n",
        "    execints++;\n",
        "    for (int i = 0; i < n; ++i) {                            //1 + 2n\n",
        "        execints += 2;\n",
        "\n",
        "        std::cin >> numbers[i];\n",
        "        execints++;                                          //n\n",
        "    }\n",
        "    \n",
        "    //std::cout << MaxPairwiseProduct(numbers) << \"\\n\";      //1 + 1  + 4 + 3n + [2(n-1)n, 2.5 (n-1)n]\n",
        "\n",
        "    execints++;\n",
        "    int M = MaxPairwiseProduct(numbers,execints);\n",
        "\n",
        "    execints++;\n",
        "    std::cout <<  execints << \"\\n\";                       \n",
        "    return 0;                                                // -------------- \n",
        "}                                                            // 9 + 7n + [2(n-1)n, 2.5 (n-1)n]"
      ],
      "execution_count": null,
      "outputs": [
        {
          "output_type": "stream",
          "text": [
            "Overwriting max_pairwise_product_long_execints.cpp\n"
          ],
          "name": "stdout"
        }
      ]
    },
    {
      "cell_type": "code",
      "metadata": {
        "colab": {
          "base_uri": "https://localhost:8080/"
        },
        "id": "Kuvm1C05ly2a",
        "outputId": "f8e2f872-e7d9-4732-acb4-5ffe2e6568d1"
      },
      "source": [
        "!g++ max_pairwise_product_long_execints.cpp -o max_pairwise_product_long_execints\n",
        "!./max_pairwise_product_long_execints < input1.txt\n",
        "!./max_pairwise_product_long_execints < input2.txt\n",
        "!./max_pairwise_product_long_execints < input3.txt"
      ],
      "execution_count": null,
      "outputs": [
        {
          "output_type": "stream",
          "text": [
            "9\n",
            "5\n",
            "4\n",
            "3\n",
            "2\n",
            "2\n",
            "2\n",
            "2\n",
            "1\n",
            "0\n",
            "289\n",
            "2\n",
            "1\n",
            "2\n",
            "0\n",
            "0\n",
            "0\n",
            "116\n",
            "199999\n",
            "100000\n",
            "66667\n",
            "50000\n",
            "40000\n",
            "33334\n",
            "28572\n",
            "25000\n",
            "22223\n",
            "20000\n",
            "18182\n",
            "2\n",
            "2\n",
            "2\n",
            "2\n",
            "2\n",
            "2\n",
            "2\n",
            "2\n",
            "1\n",
            "0\n",
            "80003672077\n"
          ],
          "name": "stdout"
        }
      ]
    },
    {
      "cell_type": "markdown",
      "metadata": {
        "id": "L_uaamxeAHK7"
      },
      "source": [
        "The number of instructions executed by the algooirithm with a list of size $n$ is  \n",
        "\n",
        "$$T = 9 + 7n + [2(n-1)n, 2.5 (n-1)n]$$\n",
        "\n",
        "It depends on the size of the lists and  the order of the list.\n",
        "\n",
        "For the input1.txt \n",
        "```\n",
        "10\n",
        "1 2 3 4 5 6 7 8 9 10\n",
        "```\n",
        "$$T = 9 + 7(10) + 2(9)(10) +  9 + 5 + 4 + 3 + 2 + 2 + 2 + 2 + 1 + 0  = 289 $$\n",
        "\n",
        "For the input2.txt \n",
        "```\n",
        "6\n",
        "1 3 200000 9 200000 23\n",
        "```\n",
        "$$T = 9 + 7(6) + 2(5)(6)  +  2 + 1 + 2 + 0 + 0 + 0 = 116 $$\n",
        "\n",
        "\n",
        "For the input3.txt that is the worst case (n=200000 and list in incresing order)\n",
        "\n",
        "```\n",
        "200000\n",
        "1 2 3 4 5 6 7 8 9 10 ... 199998 199999 200000\n",
        "```\n",
        "\n",
        "$$\n",
        "\\begin{array}{ll}\n",
        "T &= 9 + 7(200000) + (2)(199999)(200000)  + (199999 +\n",
        "100000 + 66667 +50000 \\cdots 2 + 2 + 1)\\\\\n",
        "&= 80003672077  \\\\\n",
        "  &< 9 + 7(200000) + (2.5)(199999)(200000) \\\\\n",
        "  & = 100000900009\n",
        "\\end{array}\n",
        "  $$"
      ]
    },
    {
      "cell_type": "markdown",
      "metadata": {
        "id": "NXW7QkoBL6xH"
      },
      "source": [
        "Calculate estimated time by instruction and number of instructions by second"
      ]
    },
    {
      "cell_type": "code",
      "metadata": {
        "colab": {
          "base_uri": "https://localhost:8080/"
        },
        "id": "pKqB3i7dIxnc",
        "outputId": "cec850f5-16e3-4cd6-bf9b-6f5f2fd7b076"
      },
      "source": [
        "# Estimated time by instruction\n",
        "\n",
        "128/80003672077 \n"
      ],
      "execution_count": null,
      "outputs": [
        {
          "output_type": "execute_result",
          "data": {
            "text/plain": [
              "1.5999265618308827e-09"
            ]
          },
          "metadata": {
            "tags": []
          },
          "execution_count": 34
        }
      ]
    },
    {
      "cell_type": "code",
      "metadata": {
        "colab": {
          "base_uri": "https://localhost:8080/"
        },
        "id": "18N1ouqeMhE1",
        "outputId": "d7d4d1bf-b899-4c01-8ecb-e30da3ae6468"
      },
      "source": [
        "# Estimated number of instructions by second\n",
        "\n",
        "1/(128/80003672077) "
      ],
      "execution_count": null,
      "outputs": [
        {
          "output_type": "execute_result",
          "data": {
            "text/plain": [
              "625028688.1015625"
            ]
          },
          "metadata": {
            "tags": []
          },
          "execution_count": 35
        }
      ]
    },
    {
      "cell_type": "markdown",
      "metadata": {
        "id": "CQufozXLNJwO"
      },
      "source": [
        "### Efficient solution"
      ]
    },
    {
      "cell_type": "markdown",
      "metadata": {
        "id": "nLcKBwbU0QsE"
      },
      "source": [
        "Add in each line a coment with the number of intstrcution that are executed in that line"
      ]
    },
    {
      "cell_type": "code",
      "metadata": {
        "id": "knls5Fh3NSt_",
        "colab": {
          "base_uri": "https://localhost:8080/"
        },
        "outputId": "5f3e7e86-3800-477a-a742-7bfa280dc883"
      },
      "source": [
        "%%writefile efficientsolution.cpp\n",
        "#include <iostream>\n",
        "#include <vector>\n",
        "#include <algorithm>\n",
        "using namespace std;\n",
        "long long MaxPairwiseProduct(const std::vector<long long>& numbers) {\n",
        "    int n = numbers.size();                             //1\n",
        "    long long maya = max(numbers[0], numbers[1]);       //1\n",
        "    long long mayb = min(numbers[0], numbers[1]);       //1\n",
        "    for (int i = 2; i < n; i++) {                       //2n - 1\n",
        "        if(mayb < numbers[i]){                          //n - 2\n",
        "            if(maya < numbers[i]){                      //n - 2\n",
        "                mayb = maya;                            //n - 2\n",
        "                maya = numbers[i];                      //n - 2\n",
        "            }else{\n",
        "                mayb = numbers[i];                      //n - 2\n",
        "            }\n",
        "        }\n",
        "    }\n",
        "\n",
        "    return maya * mayb;                                 //1\n",
        "}\n",
        "\n",
        "int main() {\n",
        "    int n;                                              //1\n",
        "    std::cin >> n;                                      //1\n",
        "    std::vector<long long> numbers(n);                  //n\n",
        "    for (int i = 0; i < n; ++i) {                       //2n + 1\n",
        "        std::cin >> numbers[i];                         //n\n",
        "    }\n",
        "\n",
        "    std::cout << MaxPairwiseProduct(numbers) << \"\\n\";   //1\n",
        "    return 0;\n",
        "}\n"
      ],
      "execution_count": null,
      "outputs": [
        {
          "output_type": "stream",
          "text": [
            "Writing efficientsolution.cpp\n"
          ],
          "name": "stdout"
        }
      ]
    },
    {
      "cell_type": "code",
      "metadata": {
        "id": "8HJDQaB2p3XJ"
      },
      "source": [
        "!g++ efficientsolution.cpp -o efficientsolution"
      ],
      "execution_count": null,
      "outputs": []
    },
    {
      "cell_type": "markdown",
      "metadata": {
        "id": "-JCijbWxNSii"
      },
      "source": [
        "Test with inputs 1 and 2\n",
        "\n"
      ]
    },
    {
      "cell_type": "code",
      "metadata": {
        "id": "TrTGAfqlNVXT",
        "colab": {
          "base_uri": "https://localhost:8080/"
        },
        "outputId": "e9fd5399-2ca1-417d-c848-c119d16e258e"
      },
      "source": [
        "!time #%%time\n",
        "!./efficientsolution < input1.txt"
      ],
      "execution_count": null,
      "outputs": [
        {
          "output_type": "stream",
          "text": [
            "\n",
            "real\t0m0.000s\n",
            "user\t0m0.000s\n",
            "sys\t0m0.000s\n",
            "90\n"
          ],
          "name": "stdout"
        }
      ]
    },
    {
      "cell_type": "code",
      "metadata": {
        "colab": {
          "base_uri": "https://localhost:8080/"
        },
        "id": "6IUNFkV2qCiO",
        "outputId": "8f439798-351f-4c6f-ace0-725c474db503"
      },
      "source": [
        "!time #%%time\n",
        "!./efficientsolution < input2.txt"
      ],
      "execution_count": null,
      "outputs": [
        {
          "output_type": "stream",
          "text": [
            "\n",
            "real\t0m0.000s\n",
            "user\t0m0.000s\n",
            "sys\t0m0.000s\n",
            "40000000000\n"
          ],
          "name": "stdout"
        }
      ]
    },
    {
      "cell_type": "markdown",
      "metadata": {
        "id": "PRX51wADNR8b"
      },
      "source": [
        "Test and time it with input 3"
      ]
    },
    {
      "cell_type": "code",
      "metadata": {
        "id": "v4z7-Is_NRt7",
        "colab": {
          "base_uri": "https://localhost:8080/"
        },
        "outputId": "7c870389-c812-4dee-e0a9-4fea746119aa"
      },
      "source": [
        "!time #%%time\n",
        "!./efficientsolution < input3.txt"
      ],
      "execution_count": null,
      "outputs": [
        {
          "output_type": "stream",
          "text": [
            "\n",
            "real\t0m0.000s\n",
            "user\t0m0.000s\n",
            "sys\t0m0.000s\n",
            "39999800000\n"
          ],
          "name": "stdout"
        }
      ]
    },
    {
      "cell_type": "markdown",
      "metadata": {
        "id": "rpdfs0_TNZJf"
      },
      "source": [
        "20 stress tests"
      ]
    },
    {
      "cell_type": "code",
      "metadata": {
        "id": "Lu4tYcKzNcTT",
        "colab": {
          "base_uri": "https://localhost:8080/"
        },
        "outputId": "fafddbc1-c5de-4f0f-a547-04c990ac5d7c"
      },
      "source": [
        "%%writefile stresstest2.cpp\n",
        "#include <iostream>\n",
        "#include <vector>\n",
        "#include <algorithm>\n",
        "#include <cstdlib>\n",
        "\n",
        "using std::cin;\n",
        "using std::cout;\n",
        "using std::vector;\n",
        "using namespace std;\n",
        "\n",
        "long long MaxPairwiseProduct(const std::vector<long long>& numbers) {\n",
        "    int n = numbers.size();\n",
        "    long long maya = max(numbers[0], numbers[1]);\n",
        "    long long mayb = min(numbers[0], numbers[1]);\n",
        "    for (int i = 2; i < n; i++) {\n",
        "        if(mayb < numbers[i]){\n",
        "            if(maya < numbers[i]){\n",
        "                mayb = maya;\n",
        "                maya = numbers[i];\n",
        "            }else{\n",
        "                mayb = numbers[i];\n",
        "            }\n",
        "        }\n",
        "    }\n",
        "\n",
        "    return maya * mayb;\n",
        "}\n",
        "\n",
        "long long MaxPairwiseProductLong(const std::vector<long long>& numbers) {\n",
        "    long long max_product = 0LL;\n",
        "\t  long long aux_product = 0LL;\n",
        "    int n = numbers.size();\n",
        "\n",
        "    for (int first = 0; first < n; ++first) {\n",
        "        for (int second = first + 1; second < n; ++second) {\n",
        "\t\t\t       aux_product =  (long long) numbers[first] * numbers[second];\n",
        "            if ( max_product < aux_product)  {\n",
        "\t\t\t\t        max_product = aux_product;\n",
        "             }\n",
        "        }\n",
        "    }\n",
        "\n",
        "    return max_product;\n",
        "}\n",
        "int main() {\n",
        "    for(int w=0;w<20;w++){\n",
        "        cout << \"Prueba \" << w+1<< \"\\n\";\n",
        "        int n= rand()% 19 + 2;\n",
        "        cout << n << \"\\n\";\n",
        "        vector <long long int> a;\n",
        "\n",
        "        for (int i=0; i<n; i++) {\n",
        "            a.push_back(rand() % 200000);             \n",
        "        }\n",
        "\n",
        "        for (int i=0; i<n; i++) {\n",
        "            cout << a[i] << \" \";\n",
        "        }\n",
        "\n",
        "        cout << \"\\n\";\n",
        "        \n",
        "        long long res1 = MaxPairwiseProduct(a);\n",
        "        long long res2 = MaxPairwiseProductLong(a);\n",
        "\n",
        "        if (res1 != res2) {\n",
        "            cout << \"Incorrecto: \" << res1 << \" \" << res2 << \"\\n\";\n",
        "            break;\n",
        "        }\n",
        "        else {\n",
        "            cout << \"Correcto\\n\";\n",
        "        }\n",
        "    }\n",
        "    \n",
        "    \n",
        "}\n"
      ],
      "execution_count": null,
      "outputs": [
        {
          "output_type": "stream",
          "text": [
            "Overwriting stresstest2.cpp\n"
          ],
          "name": "stdout"
        }
      ]
    },
    {
      "cell_type": "code",
      "metadata": {
        "colab": {
          "base_uri": "https://localhost:8080/"
        },
        "id": "OYKqh36sqoqz",
        "outputId": "0afe184a-06c3-4859-a563-5d056eea0d53"
      },
      "source": [
        "!g++ stresstest2.cpp -o stresstest2\n",
        "!./stresstest2"
      ],
      "execution_count": null,
      "outputs": [
        {
          "output_type": "stream",
          "text": [
            "Prueba 1\n",
            "4\n",
            "130886 92777 36915 147793 \n",
            "Correcto\n",
            "Prueba 2\n",
            "10\n",
            "85386 160492 116649 41421 2362 90027 168690 120059 97763 113926 \n",
            "Correcto\n",
            "Prueba 3\n",
            "9\n",
            "183426 89172 55736 5211 195368 102567 156429 65782 21530 \n",
            "Correcto\n",
            "Prueba 4\n",
            "8\n",
            "65123 174067 103135 113929 179802 34022 123058 133069 \n",
            "Correcto\n",
            "Prueba 5\n",
            "7\n",
            "161393 18456 175011 78042 176229 177373 84421 \n",
            "Correcto\n",
            "Prueba 6\n",
            "3\n",
            "13784 98537 175198 \n",
            "Correcto\n",
            "Prueba 7\n",
            "11\n",
            "198315 64370 166413 3526 176091 68980 159956 41873 6862 199170 106996 \n",
            "Correcto\n",
            "Prueba 8\n",
            "18\n",
            "102305 20925 77084 136327 60336 126505 150846 21729 61313 125857 16124 153895 19582 100545 98814 33367 115434 190364 \n",
            "Correcto\n",
            "Prueba 9\n",
            "2\n",
            "113750 171087 \n",
            "Correcto\n",
            "Prueba 10\n",
            "15\n",
            "117276 147178 95788 193584 105403 102651 192754 12399 199932 95060 149676 193368 147739 10012 36226 \n",
            "Correcto\n",
            "Prueba 11\n",
            "7\n",
            "148094 97539 140795 80570 51434 160378 97467 \n",
            "Correcto\n",
            "Prueba 12\n",
            "15\n",
            "110097 12902 173317 170492 126652 60756 197301 160280 124286 9441 153865 29689 28444 146619 158440 \n",
            "Correcto\n",
            "Prueba 13\n",
            "13\n",
            "158031 108117 138097 105771 34481 90675 120709 98927 104567 177856 179497 72353 54586 \n",
            "Correcto\n",
            "Prueba 14\n",
            "6\n",
            "55306 164683 6219 28624 51528 132871 \n",
            "Correcto\n",
            "Prueba 15\n",
            "17\n",
            "48829 9503 130019 58270 163368 159708 86715 26340 118149 147796 100723 142618 2245 122846 93451 92921 43555 \n",
            "Correcto\n",
            "Prueba 16\n",
            "19\n",
            "197488 137764 88228 69841 192350 165193 41500 157034 87764 70124 124914 136987 75856 173743 146491 122227 148365 109859 81936 \n",
            "Correcto\n",
            "Prueba 17\n",
            "11\n",
            "52551 116437 99228 153275 175407 101474 76121 68858 194395 36029 61237 \n",
            "Correcto\n",
            "Prueba 18\n",
            "3\n",
            "173793 65818 94428 \n",
            "Correcto\n",
            "Prueba 19\n",
            "10\n",
            "31011 135928 39529 118776 122404 164443 55763 114613 54538 118606 \n",
            "Correcto\n",
            "Prueba 20\n",
            "7\n",
            "2904 144818 35128 70688 197369 67917 169917 \n",
            "Correcto\n"
          ],
          "name": "stdout"
        }
      ]
    },
    {
      "cell_type": "markdown",
      "metadata": {
        "id": "L8U4151JNbxk"
      },
      "source": [
        "Count executed instructions in code and verify with inputs 1,2 and 3\n"
      ]
    },
    {
      "cell_type": "code",
      "metadata": {
        "id": "dh85RM8vNhFz",
        "colab": {
          "base_uri": "https://localhost:8080/"
        },
        "outputId": "a0f1206a-15cb-49f2-a957-1c8cb8247e8a"
      },
      "source": [
        "%%writefile max_pairwise_productEfficientSolution_execints.cpp\n",
        "#include <iostream>\n",
        "#include <vector>\n",
        "#include <algorithm>\n",
        "using namespace std;\n",
        "long long MaxPairwiseProduct(const std::vector<long long>& numbers, long long &execints) {\n",
        "    int n = numbers.size();                             //1\n",
        "    execints++;\n",
        "    long long maya = max(numbers[0], numbers[1]);       //1\n",
        "    execints++;\n",
        "    long long mayb = min(numbers[0], numbers[1]);       //1\n",
        "    execints++;\n",
        "    for (int i = 2; i < n; i++) {                       //2n - 1\n",
        "        execints += 2;\n",
        "        if(mayb < numbers[i]){                          //n - 2\n",
        "            execints++;\n",
        "            if(maya < numbers[i]){                      //n - 2\n",
        "                execints++;\n",
        "                mayb = maya;                            //n - 2\n",
        "                execints++;\n",
        "                maya = numbers[i];                      //n - 2\n",
        "                execints++;\n",
        "            }else{\n",
        "                mayb = numbers[i];                      //n - 2\n",
        "                execints++;\n",
        "            }\n",
        "        }\n",
        "    }\n",
        "    execints++;\n",
        "\n",
        "    return maya * mayb;                                 //1\n",
        "}\n",
        "\n",
        "int main() {\n",
        "    long long execints = 0;\n",
        "    int n;                                              //1\n",
        "    execints++;\n",
        "    std::cin >> n;                                      //1\n",
        "    execints++;\n",
        "    std::vector<long long> numbers(n);                  //n\n",
        "    execints += n;\n",
        "    for (int i = 0; i < n; ++i) {                       //2n + 1\n",
        "        execints++;\n",
        "        std::cin >> numbers[i];                         //n\n",
        "        execints++;\n",
        "    }\n",
        "    execints++;\n",
        "\n",
        "    cout << MaxPairwiseProduct(numbers, execints) << \"\\n\";   //1\n",
        "    execints++;\n",
        "    cout<<execints<<endl;\n",
        "    return 0;\n",
        "}\n"
      ],
      "execution_count": null,
      "outputs": [
        {
          "output_type": "stream",
          "text": [
            "Writing max_pairwise_productEfficientSolution_execints.cpp\n"
          ],
          "name": "stdout"
        }
      ]
    },
    {
      "cell_type": "code",
      "metadata": {
        "colab": {
          "base_uri": "https://localhost:8080/"
        },
        "id": "FoGbZLUuCwJy",
        "outputId": "ac05b7cd-4f95-4ace-8278-302483b3b228"
      },
      "source": [
        "!g++ max_pairwise_productEfficientSolution_execints.cpp -o max_pairwise_productEfficientSolution_execints\n",
        "!./max_pairwise_productEfficientSolution_execints < input1.txt\n",
        "!./max_pairwise_productEfficientSolution_execints < input2.txt"
      ],
      "execution_count": null,
      "outputs": [
        {
          "output_type": "stream",
          "text": [
            "90\n",
            "86\n",
            "40000000000\n",
            "42\n"
          ],
          "name": "stdout"
        }
      ]
    },
    {
      "cell_type": "code",
      "metadata": {
        "id": "54I7Gogy9cYL"
      },
      "source": [
        "!./max_pairwise_productEfficientSolution_execints < input3.txt"
      ],
      "execution_count": null,
      "outputs": []
    },
    {
      "cell_type": "markdown",
      "metadata": {
        "id": "K6ybgCmpNygr"
      },
      "source": [
        "Calculate estimated time by instruction and number of instructions by second"
      ]
    },
    {
      "cell_type": "code",
      "metadata": {
        "id": "kwe3G1O3Nz1w",
        "colab": {
          "base_uri": "https://localhost:8080/"
        },
        "outputId": "88bb7b46-a17c-4b77-f37f-1d209aab1019"
      },
      "source": [
        "#para input1(tiempo en microsegundos)\n",
        "tiempo_total_i1 = 9.3      #aqui hay que poner el tiempo dado en los test anteriores.\n",
        "cantidad_de_instrucciones_i1 = 86\n",
        "tiempo_por_instruccion_i1 = tiempo_total_i1/cantidad_de_instrucciones_i1\n",
        "instrucciones_por_segundo_i1 = cantidad_de_instrucciones_i1/(tiempo_total_i1/1000000)\n",
        "print(\"tiempo por instrucción en microsegundos para input1:\", tiempo_por_instruccion_i1)\n",
        "print(\"instrucciones por segundo para input1:\", instrucciones_por_segundo_i1)\n",
        "\n",
        "#para input2(tiempo en microsegundos)\n",
        "tiempo_total_i2 = 9.06\n",
        "cantidad_de_instrucciones_i2 = 42\n",
        "tiempo_por_instruccion_i2 = tiempo_total_i2/cantidad_de_instrucciones_i2\n",
        "instrucciones_por_segundo_i1 = cantidad_de_instrucciones_i2/(tiempo_total_i2/1000000)\n",
        "print(\"tiempo por instrucción en microsegundos para input2:\", tiempo_por_instruccion_i2)\n",
        "print(\"instrucciones por segundo para input2:\", cantidad_de_instrucciones_i2)\n",
        "\n",
        "#para input3(tiempo en microsegundos)\n",
        "tiempo_total_i3 = 8.82\n",
        "cantidad_de_instrucciones_i3 = 1799996\n",
        "tiempo_por_instruccion_i3 = tiempo_total_i3/cantidad_de_instrucciones_i3\n",
        "instrucciones_por_segundo_i3 = cantidad_de_instrucciones_i3/(tiempo_total_i3/1000000)\n",
        "print(\"tiempo por instrucción en microsegundos para input3:\", tiempo_por_instruccion_i3)\n",
        "print(\"instrucciones por segundo para input3:\", cantidad_de_instrucciones_i3)\n",
        "\n",
        "print(\"tiempo por instrucción en microsegundos en promedio:\", (tiempo_por_instruccion_i1 + tiempo_por_instruccion_i2 + tiempo_por_instruccion_i3)/3)\n",
        "print(\"instrucciones por segundo en promedio:\", (cantidad_de_instrucciones_i1 + cantidad_de_instrucciones_i2 + cantidad_de_instrucciones_i3)/3)"
      ],
      "execution_count": null,
      "outputs": [
        {
          "output_type": "stream",
          "text": [
            "tiempo por instrucción en microsegundos para input1: 0.10813953488372094\n",
            "instrucciones por segundo para input1: 9247311.82795699\n",
            "tiempo por instrucción en microsegundos para input2: 0.21571428571428572\n",
            "instrucciones por segundo para input2: 42\n",
            "tiempo por instrucción en microsegundos para input3: 4.9000108889130865e-06\n",
            "instrucciones por segundo para input3: 1799996\n",
            "tiempo por instrucción en microsegundos en promedio: 0.10795290686963187\n",
            "instrucciones por segundo en promedio: 600041.3333333334\n"
          ],
          "name": "stdout"
        }
      ]
    },
    {
      "cell_type": "markdown",
      "metadata": {
        "id": "sc9nOLQrfTm0"
      },
      "source": [
        "### Super efficient solution\n",
        "\n",
        "Whitout storing the list in memory and whitout calling a function, add in each line a coment with the number of intstrcution that are executed in that line "
      ]
    },
    {
      "cell_type": "code",
      "metadata": {
        "id": "hBLt_xBQLy8E",
        "colab": {
          "base_uri": "https://localhost:8080/"
        },
        "outputId": "b3c331af-4eaa-481a-9595-7c7e04b24cf7"
      },
      "source": [
        "%%writefile max_pairwise_product_super_efficient.cpp\n",
        "#include <iostream>\n",
        "#include <vector>\n",
        "#include <algorithm>\n",
        "using namespace std;\n",
        "int main() {\n",
        "    int n;                              //1\n",
        "    cin >> n;                           //1\n",
        "    long long numa = 0;                 //1\n",
        "    long long numb = 0;                 //1\n",
        "    long long entrada;                  //1\n",
        "    for (int i = 0; i < n; i++) {       //2n + 1\n",
        "        cin >> entrada;                 //n\n",
        "        if(entrada > numb)              //n\n",
        "            if(entrada > numa){         //n\n",
        "                numb = numa;            //n\n",
        "                numa = entrada;         //n\n",
        "            }else{\n",
        "                numb = entrada;         //n\n",
        "            }\n",
        "    }\n",
        "    cout << numa * numb;                //1\n",
        "    return 0;\n",
        "}"
      ],
      "execution_count": null,
      "outputs": [
        {
          "output_type": "stream",
          "text": [
            "Overwriting max_pairwise_product_super_efficient.cpp\n"
          ],
          "name": "stdout"
        }
      ]
    },
    {
      "cell_type": "code",
      "metadata": {
        "id": "-WU0a-CKZhGZ"
      },
      "source": [
        "!g++ max_pairwise_product_super_efficient.cpp -o max_pairwise_product_super_efficient"
      ],
      "execution_count": null,
      "outputs": []
    },
    {
      "cell_type": "markdown",
      "metadata": {
        "id": "683gc3roHqzb"
      },
      "source": [
        "Test with inputs 1 and 2\n",
        "\n",
        "\n",
        " "
      ]
    },
    {
      "cell_type": "code",
      "metadata": {
        "id": "b7d4LA8OIc2_",
        "colab": {
          "base_uri": "https://localhost:8080/"
        },
        "outputId": "0f7c94eb-7fde-4090-8a39-4962bdf28d5d"
      },
      "source": [
        "!time #%%time\n",
        "!./max_pairwise_product_super_efficient < input1.txt"
      ],
      "execution_count": null,
      "outputs": [
        {
          "output_type": "stream",
          "text": [
            "\n",
            "real\t0m0.000s\n",
            "user\t0m0.000s\n",
            "sys\t0m0.000s\n",
            "90"
          ],
          "name": "stdout"
        }
      ]
    },
    {
      "cell_type": "code",
      "metadata": {
        "colab": {
          "base_uri": "https://localhost:8080/"
        },
        "id": "eRCvJbvvZyyP",
        "outputId": "dfa744a1-5cb4-451c-e7cc-12a63464181c"
      },
      "source": [
        "!time #%%time\n",
        "!./max_pairwise_product_super_efficient < input2.txt"
      ],
      "execution_count": null,
      "outputs": [
        {
          "output_type": "stream",
          "text": [
            "\n",
            "real\t0m0.000s\n",
            "user\t0m0.000s\n",
            "sys\t0m0.000s\n",
            "40000000000"
          ],
          "name": "stdout"
        }
      ]
    },
    {
      "cell_type": "markdown",
      "metadata": {
        "id": "36Ugn1odIeJz"
      },
      "source": [
        "Test and time it with input 3"
      ]
    },
    {
      "cell_type": "code",
      "metadata": {
        "id": "jDyMbCnxHqSN",
        "colab": {
          "base_uri": "https://localhost:8080/"
        },
        "outputId": "c84e3219-f902-4c47-b9ce-b58c80df40c5"
      },
      "source": [
        "!time #%%time\n",
        "!./max_pairwise_product_super_efficient < input3.txt"
      ],
      "execution_count": null,
      "outputs": [
        {
          "output_type": "stream",
          "text": [
            "\n",
            "real\t0m0.000s\n",
            "user\t0m0.000s\n",
            "sys\t0m0.000s\n",
            "39999800000"
          ],
          "name": "stdout"
        }
      ]
    },
    {
      "cell_type": "markdown",
      "metadata": {
        "id": "bhqiKQG6fjKM"
      },
      "source": [
        "20 stress tests "
      ]
    },
    {
      "cell_type": "code",
      "metadata": {
        "id": "2KsiXKhALzwm",
        "colab": {
          "base_uri": "https://localhost:8080/"
        },
        "outputId": "b75845d1-7bdb-4532-ae92-eb5be4b83581"
      },
      "source": [
        "%%writefile stresstest3.cpp\n",
        "#include <iostream>\n",
        "#include <vector>\n",
        "#include <algorithm>\n",
        "#include <cstdlib>\n",
        "\n",
        "using std::cin;\n",
        "using std::cout;\n",
        "using std::vector;\n",
        "using namespace std;\n",
        "\n",
        "long long MaxPairwiseProduct(const std::vector<long long>& numbers) {\n",
        "    int n = numbers.size();\n",
        "    long long maya = max(numbers[0], numbers[1]);\n",
        "    long long mayb = min(numbers[0], numbers[1]);\n",
        "    for (int i = 2; i < n; i++) {\n",
        "        if(mayb < numbers[i]){\n",
        "            if(maya < numbers[i]){\n",
        "                mayb = maya;\n",
        "                maya = numbers[i];\n",
        "            }else{\n",
        "                mayb = numbers[i];\n",
        "            }\n",
        "        }\n",
        "    }\n",
        "\n",
        "    return maya * mayb;\n",
        "}\n",
        "\n",
        "int main() {\n",
        "    for(int w=0;w<20;w++){\n",
        "        cout << \"Prueba \" << w+1<< \"\\n\";\n",
        "        int n= rand()% 19 + 2;\n",
        "        cout << n << \"\\n\";\n",
        "        vector <long long> a;\n",
        "\n",
        "        for (int i=0; i<n; i++) {\n",
        "            a.push_back(rand() % 200000);                \n",
        "        }\n",
        "\n",
        "        for (int i=0; i<n; i++) {\n",
        "            cout << a[i] << \" \";\n",
        "        }\n",
        "\n",
        "        cout << \"\\n\";\n",
        "\n",
        "        long long res1 = MaxPairwiseProduct(a);\n",
        "        /*long long res2 = MaxPairwiseProductLong(a);*/\n",
        "\n",
        "\n",
        "        \n",
        "        \n",
        "        long long numa = 0;\n",
        "        long long numb = 0;\n",
        "        long long entrada;\n",
        "        for (int i = 0; i < n; i++) {\n",
        "            /*cin >> entrada;*/\n",
        "            entrada= a[i];\n",
        "            if(entrada > numb){\n",
        "                if(entrada > numa){\n",
        "                    numb = numa;\n",
        "                    numa = entrada;\n",
        "                }else{\n",
        "                    numb = entrada;\n",
        "                }\n",
        "            }\n",
        "        }\n",
        "        long long respuesta =numa * numb;\n",
        "\n",
        "\n",
        "\n",
        "\n",
        "\n",
        "        if (res1 != respuesta) {\n",
        "            cout << \"Incorrecto: \" << res1 << \" \" << respuesta << \"\\n\";\n",
        "            break;\n",
        "        }\n",
        "        else {\n",
        "            cout << \"Correcto\\n\";\n",
        "        }\n",
        "    }\n",
        "    \n",
        "    \n",
        "}\n"
      ],
      "execution_count": null,
      "outputs": [
        {
          "output_type": "stream",
          "text": [
            "Overwriting stresstest3.cpp\n"
          ],
          "name": "stdout"
        }
      ]
    },
    {
      "cell_type": "code",
      "metadata": {
        "colab": {
          "base_uri": "https://localhost:8080/"
        },
        "id": "yv8dj8BZ_BuB",
        "outputId": "f32a362c-56cb-488f-8d65-3aece682248f"
      },
      "source": [
        "!g++ stresstest3.cpp -o stresstest3\n",
        "!./stresstest3"
      ],
      "execution_count": null,
      "outputs": [
        {
          "output_type": "stream",
          "text": [
            "Prueba 1\n",
            "4\n",
            "130886 92777 36915 147793 \n",
            "Correcto\n",
            "Prueba 2\n",
            "10\n",
            "85386 160492 116649 41421 2362 90027 168690 120059 97763 113926 \n",
            "Correcto\n",
            "Prueba 3\n",
            "9\n",
            "183426 89172 55736 5211 195368 102567 156429 65782 21530 \n",
            "Correcto\n",
            "Prueba 4\n",
            "8\n",
            "65123 174067 103135 113929 179802 34022 123058 133069 \n",
            "Correcto\n",
            "Prueba 5\n",
            "7\n",
            "161393 18456 175011 78042 176229 177373 84421 \n",
            "Correcto\n",
            "Prueba 6\n",
            "3\n",
            "13784 98537 175198 \n",
            "Correcto\n",
            "Prueba 7\n",
            "11\n",
            "198315 64370 166413 3526 176091 68980 159956 41873 6862 199170 106996 \n",
            "Correcto\n",
            "Prueba 8\n",
            "18\n",
            "102305 20925 77084 136327 60336 126505 150846 21729 61313 125857 16124 153895 19582 100545 98814 33367 115434 190364 \n",
            "Correcto\n",
            "Prueba 9\n",
            "2\n",
            "113750 171087 \n",
            "Correcto\n",
            "Prueba 10\n",
            "15\n",
            "117276 147178 95788 193584 105403 102651 192754 12399 199932 95060 149676 193368 147739 10012 36226 \n",
            "Correcto\n",
            "Prueba 11\n",
            "7\n",
            "148094 97539 140795 80570 51434 160378 97467 \n",
            "Correcto\n",
            "Prueba 12\n",
            "15\n",
            "110097 12902 173317 170492 126652 60756 197301 160280 124286 9441 153865 29689 28444 146619 158440 \n",
            "Correcto\n",
            "Prueba 13\n",
            "13\n",
            "158031 108117 138097 105771 34481 90675 120709 98927 104567 177856 179497 72353 54586 \n",
            "Correcto\n",
            "Prueba 14\n",
            "6\n",
            "55306 164683 6219 28624 51528 132871 \n",
            "Correcto\n",
            "Prueba 15\n",
            "17\n",
            "48829 9503 130019 58270 163368 159708 86715 26340 118149 147796 100723 142618 2245 122846 93451 92921 43555 \n",
            "Correcto\n",
            "Prueba 16\n",
            "19\n",
            "197488 137764 88228 69841 192350 165193 41500 157034 87764 70124 124914 136987 75856 173743 146491 122227 148365 109859 81936 \n",
            "Correcto\n",
            "Prueba 17\n",
            "11\n",
            "52551 116437 99228 153275 175407 101474 76121 68858 194395 36029 61237 \n",
            "Correcto\n",
            "Prueba 18\n",
            "3\n",
            "173793 65818 94428 \n",
            "Correcto\n",
            "Prueba 19\n",
            "10\n",
            "31011 135928 39529 118776 122404 164443 55763 114613 54538 118606 \n",
            "Correcto\n",
            "Prueba 20\n",
            "7\n",
            "2904 144818 35128 70688 197369 67917 169917 \n",
            "Correcto\n"
          ],
          "name": "stdout"
        }
      ]
    },
    {
      "cell_type": "markdown",
      "metadata": {
        "id": "fEXj8GHJH5p1"
      },
      "source": [
        "Count executed instructions in code and verify with inputs 1,2 and 3"
      ]
    },
    {
      "cell_type": "code",
      "metadata": {
        "id": "LF1DHjKXIAsF"
      },
      "source": [
        "%%writefile SuperefficientSolutionExecint.cpp\n",
        "#include <iostream>\n",
        "#include <vector>\n",
        "#include <algorithm>\n",
        "using namespace std;\n",
        "int main() {\n",
        "    long long execint = 0LL;\n",
        "    int n;                              //1\n",
        "    execint++;\n",
        "    cin >> n;                           //1\n",
        "    long long numa = 0;                 //1\n",
        "    execint++;\n",
        "    long long numb = 0;                 //1\n",
        "    execint++;\n",
        "    long long entrada;                  //1\n",
        "    execint++;\n",
        "    for (int i = 0; i < n; i++) {       //2n + 1\n",
        "        execint += 2;\n",
        "        cin >> entrada;                 //n\n",
        "        execint++;\n",
        "        if(entrada > numb)              //n\n",
        "            execint++;\n",
        "            if(entrada > numa){         //n\n",
        "                execint++;\n",
        "                numb = numa;            //n\n",
        "                execint++;\n",
        "                numa = entrada;         //n\n",
        "                execint++;\n",
        "            }else{\n",
        "                numb = entrada;         //n\n",
        "                execint++;\n",
        "            }\n",
        "    }\n",
        "    execint++;\n",
        "    cout << numa * numb <<endl;                //1\n",
        "    execint++;\n",
        "    cout<< execint <<endl;\n",
        "    return 0;\n",
        "}"
      ],
      "execution_count": null,
      "outputs": []
    },
    {
      "cell_type": "code",
      "metadata": {
        "id": "Hz80OfaZ90oR"
      },
      "source": [
        "!g++ SuperefficientSolutionExecint.cpp -o SuperefficientSolutionExecint\n",
        "!./SuperefficientSolutionExecint < input1.txt\n",
        "!./SuperefficientSolutionExecint < input2.txt"
      ],
      "execution_count": null,
      "outputs": []
    },
    {
      "cell_type": "code",
      "metadata": {
        "id": "KQZna28-91QI"
      },
      "source": [
        "!./SuperefficientSolutionExecint < input3.txt"
      ],
      "execution_count": null,
      "outputs": []
    },
    {
      "cell_type": "markdown",
      "metadata": {
        "id": "yae7sSm2IG9U"
      },
      "source": [
        "Calculate estimated time by instruction and number of instructions by second"
      ]
    },
    {
      "cell_type": "code",
      "metadata": {
        "id": "suouY7BYL2dz"
      },
      "source": [
        "#para input1(tiempo en microsegundos)\n",
        "tiempo_total_i1SE = 10.5\n",
        "cantidad_de_instrucciones_i1SE = 76\n",
        "tiempo_por_instruccion_i1SE = tiempo_total_i1SE/cantidad_de_instrucciones_i1SE\n",
        "instrucciones_por_segundo_i1SE = cantidad_de_instrucciones_i1SE/(tiempo_total_i1SE/1000000)\n",
        "print(\"tiempo por instrucción en microsegundos para input1:\", tiempo_por_instruccion_i1SE)\n",
        "print(\"instrucciones por segundo para input1:\", instrucciones_por_segundo_i1SE)\n",
        "\n",
        "#para input2(tiempo en microsegundos)\n",
        "tiempo_total_i2SE = 5.96\n",
        "cantidad_de_instrucciones_i2SE = 41\n",
        "tiempo_por_instruccion_i2SE = tiempo_total_i2SE/cantidad_de_instrucciones_i2SE\n",
        "instrucciones_por_segundo_i1SE = cantidad_de_instrucciones_i2SE/(tiempo_total_i2SE/1000000)\n",
        "print(\"tiempo por instrucción en microsegundos para input2:\", tiempo_por_instruccion_i2SE)\n",
        "print(\"instrucciones por segundo para input2:\", cantidad_de_instrucciones_i2SE)\n",
        "\n",
        "#para input3(tiempo en microsegundos)\n",
        "tiempo_total_i3SE = 8.58\n",
        "cantidad_de_instrucciones_i3SE = 1400006\n",
        "tiempo_por_instruccion_i3SE = tiempo_total_i3SE/cantidad_de_instrucciones_i3SE\n",
        "instrucciones_por_segundo_i3SE = cantidad_de_instrucciones_i3SE/(tiempo_total_i3SE/1000000)\n",
        "print(\"tiempo por instrucción en microsegundos para input3:\", tiempo_por_instruccion_i3SE)\n",
        "print(\"instrucciones por segundo para input3:\", cantidad_de_instrucciones_i3SE)\n",
        "\n",
        "print(\"tiempo por instrucción en microsegundos en promedio:\", (tiempo_por_instruccion_i1SE + tiempo_por_instruccion_i2SE + tiempo_por_instruccion_i3SE)/3)\n",
        "print(\"instrucciones por segundo en promedio:\", (cantidad_de_instrucciones_i1SE + cantidad_de_instrucciones_i2SE + cantidad_de_instrucciones_i3SE)/3)"
      ],
      "execution_count": null,
      "outputs": []
    },
    {
      "cell_type": "markdown",
      "metadata": {
        "id": "rydCU4bFfrhG"
      },
      "source": [
        "## Python"
      ]
    },
    {
      "cell_type": "markdown",
      "metadata": {
        "id": "6n707zUXO0N0"
      },
      "source": [
        "Efficient cython file reading, string parsing, and array building\n",
        "\n",
        "https://stackoverflow.com/questions/37219875/efficient-cython-file-reading-string-parsing-and-array-building\n",
        "\n",
        "\n",
        "\n",
        "File PreProcessing With C and Cython\n",
        "\n",
        "https://github.com/EveryTimeIWill18/Cython_Repo/blob/master/FastFileProcessingWithCython.ipynb\n",
        "\n"
      ]
    },
    {
      "cell_type": "code",
      "metadata": {
        "id": "xwq0n_b4L3ML"
      },
      "source": [
        "%%writefile efficientSolutionPy.py\n",
        "def MaxPairwiseProduct(args):\n",
        "  n = len(args)\n",
        "  numa = max(args[0], args[1])\n",
        "  numb = min(args[0], args[1])\n",
        "  for i in range(2, n):\n",
        "    if numb < args[i]:\n",
        "      if numa < args[i]:\n",
        "        numb = numa\n",
        "        numa = args[i]\n",
        "      else:\n",
        "        numb = args[i]\n",
        "  return numa * numb\n",
        "\n",
        "n = int(input())\n",
        "numeros = []\n",
        "for i in input().split():\n",
        "  entrada = int(i)\n",
        "  numeros.append(entrada)\n",
        "print(MaxPairwiseProduct(numeros))"
      ],
      "execution_count": null,
      "outputs": []
    },
    {
      "cell_type": "code",
      "metadata": {
        "id": "NkwvEETR-KEP"
      },
      "source": [
        "%time\n",
        "!python efficientSolutionPy.py < input1.txt\n",
        "!python efficientSolutionPy.py < input2.txt"
      ],
      "execution_count": null,
      "outputs": []
    },
    {
      "cell_type": "code",
      "metadata": {
        "id": "KafvDziP-LMX"
      },
      "source": [
        "%time\n",
        "!python efficientSolutionPy.py < input3.txt"
      ],
      "execution_count": null,
      "outputs": []
    },
    {
      "cell_type": "markdown",
      "metadata": {
        "id": "LkVxxlhl9H98"
      },
      "source": [
        "# Screenhsoots of the Coursera Submissions in C++ and Python"
      ]
    },
    {
      "cell_type": "markdown",
      "metadata": {
        "id": "hRoqKP0k4Uy3"
      },
      "source": [
        "![captura cursera.jpg](data:image/jpeg;base64,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)"
      ]
    }
  ]
}