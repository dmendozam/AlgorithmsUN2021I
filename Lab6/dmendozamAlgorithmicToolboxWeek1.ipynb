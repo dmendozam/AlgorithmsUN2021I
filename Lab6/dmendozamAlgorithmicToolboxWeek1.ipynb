{
  "nbformat": 4,
  "nbformat_minor": 0,
  "metadata": {
    "colab": {
      "name": "dmendozamAlgorithmicToolboxWeek1.ipynb",
      "provenance": [],
      "collapsed_sections": []
    },
    "kernelspec": {
      "name": "python3",
      "display_name": "Python 3"
    },
    "language_info": {
      "name": "python"
    }
  },
  "cells": [
    {
      "cell_type": "markdown",
      "metadata": {
        "id": "N1ok_-56OjB1"
      },
      "source": [
        "# I Solving the Sum of Two Digits Programming Challenge"
      ]
    },
    {
      "cell_type": "markdown",
      "metadata": {
        "id": "MMY7kmDSO0KM"
      },
      "source": [
        "## C++"
      ]
    },
    {
      "cell_type": "code",
      "metadata": {
        "colab": {
          "base_uri": "https://localhost:8080/"
        },
        "id": "2pGGf9BkPNIk",
        "outputId": "cbb2bf0e-324f-4282-9041-cd8ec0060d14"
      },
      "source": [
        "%%writefile sum.cpp\n",
        "#include <iostream>\n",
        "\n",
        "int sum_of_two_digits(int first_digit, int second_digit) {\n",
        "    return first_digit + second_digit;\n",
        "}\n",
        "\n",
        "int main() {\n",
        "    int a = 0;\n",
        "    int b = 0;\n",
        "    std::cin >> a;\n",
        "    std::cin >> b;\n",
        "    std::cout << sum_of_two_digits(a, b);\n",
        "    return 0;\n",
        "}"
      ],
      "execution_count": null,
      "outputs": [
        {
          "output_type": "stream",
          "text": [
            "Writing sum.cpp\n"
          ],
          "name": "stdout"
        }
      ]
    },
    {
      "cell_type": "code",
      "metadata": {
        "colab": {
          "base_uri": "https://localhost:8080/"
        },
        "id": "0G3ZKOYAPXSU",
        "outputId": "fbcfea6b-3bc9-44ca-d11a-aeccfcde94fe"
      },
      "source": [
        "!g++ sum.cpp -o sum\n",
        "!./sum"
      ],
      "execution_count": null,
      "outputs": [
        {
          "output_type": "stream",
          "text": [
            "2\n",
            "\n",
            "3\n",
            "5"
          ],
          "name": "stdout"
        }
      ]
    },
    {
      "cell_type": "markdown",
      "metadata": {
        "id": "iNkG2HqfTl9c"
      },
      "source": [
        "### Test input output files"
      ]
    },
    {
      "cell_type": "code",
      "metadata": {
        "colab": {
          "base_uri": "https://localhost:8080/"
        },
        "id": "aTzU2efzMxly",
        "outputId": "b3ee57f0-3ebe-4618-b36a-cba2dbb3a358"
      },
      "source": [
        "%%writefile input1.txt\n",
        "4 8"
      ],
      "execution_count": null,
      "outputs": [
        {
          "output_type": "stream",
          "text": [
            "Writing input1.txt\n"
          ],
          "name": "stdout"
        }
      ]
    },
    {
      "cell_type": "markdown",
      "metadata": {
        "id": "pdkfsvs-T0Wr"
      },
      "source": [
        ""
      ]
    },
    {
      "cell_type": "code",
      "metadata": {
        "colab": {
          "base_uri": "https://localhost:8080/"
        },
        "id": "zBJ0Gc0NQRet",
        "outputId": "eb8c08e1-c84d-45bf-d75f-5fa6dc9db8ad"
      },
      "source": [
        "%%writefile output1.txt\n",
        "12"
      ],
      "execution_count": null,
      "outputs": [
        {
          "output_type": "stream",
          "text": [
            "Overwriting output1.txt\n"
          ],
          "name": "stdout"
        }
      ]
    },
    {
      "cell_type": "code",
      "metadata": {
        "colab": {
          "base_uri": "https://localhost:8080/"
        },
        "id": "IjEcIx63PJAN",
        "outputId": "d12de767-3ab3-48be-d9e9-0b42144080aa"
      },
      "source": [
        "%%writefile input2.txt\n",
        "-5 9"
      ],
      "execution_count": null,
      "outputs": [
        {
          "output_type": "stream",
          "text": [
            "Overwriting input2.txt\n"
          ],
          "name": "stdout"
        }
      ]
    },
    {
      "cell_type": "code",
      "metadata": {
        "colab": {
          "base_uri": "https://localhost:8080/"
        },
        "id": "Up9gOrxURTmd",
        "outputId": "8b1ffc9a-b9d2-4b03-9e0e-a25ae27a64b3"
      },
      "source": [
        "%%writefile output2.txt\n",
        "4"
      ],
      "execution_count": null,
      "outputs": [
        {
          "output_type": "stream",
          "text": [
            "Overwriting output2.txt\n"
          ],
          "name": "stdout"
        }
      ]
    },
    {
      "cell_type": "code",
      "metadata": {
        "colab": {
          "base_uri": "https://localhost:8080/"
        },
        "id": "PST6G-s-Pwgc",
        "outputId": "069de8c1-7dbb-4c2b-bfc5-f1c7550d5c4f"
      },
      "source": [
        "!./sum < input1.txt"
      ],
      "execution_count": null,
      "outputs": [
        {
          "output_type": "stream",
          "text": [
            "12"
          ],
          "name": "stdout"
        }
      ]
    },
    {
      "cell_type": "code",
      "metadata": {
        "colab": {
          "base_uri": "https://localhost:8080/"
        },
        "id": "cKxZOjSlRfIN",
        "outputId": "d5946364-d492-4049-8bb5-5fedd2c3a253"
      },
      "source": [
        "!./sum < input2.txt"
      ],
      "execution_count": null,
      "outputs": [
        {
          "output_type": "stream",
          "text": [
            "4"
          ],
          "name": "stdout"
        }
      ]
    },
    {
      "cell_type": "code",
      "metadata": {
        "id": "gMz7YLssPk4k"
      },
      "source": [
        "\n"
      ],
      "execution_count": null,
      "outputs": []
    },
    {
      "cell_type": "markdown",
      "metadata": {
        "id": "Qw2TQWCCUwqk"
      },
      "source": [
        "### Comparing files with grep\n",
        "\n",
        "https://askubuntu.com/questions/546796/comparing-two-text-files"
      ]
    },
    {
      "cell_type": "code",
      "metadata": {
        "id": "WVIaAmMKU4QM"
      },
      "source": [
        "!grep -xvFf output1.txt output1.txt "
      ],
      "execution_count": null,
      "outputs": []
    },
    {
      "cell_type": "code",
      "metadata": {
        "colab": {
          "base_uri": "https://localhost:8080/"
        },
        "id": "MQU8gPPjQuYO",
        "outputId": "c700e9c9-2d36-4d64-faac-f7cefe711e08"
      },
      "source": [
        "!grep -xvFf output1.txt output2.txt "
      ],
      "execution_count": null,
      "outputs": [
        {
          "output_type": "stream",
          "text": [
            "4\n"
          ],
          "name": "stdout"
        }
      ]
    },
    {
      "cell_type": "code",
      "metadata": {
        "colab": {
          "base_uri": "https://localhost:8080/"
        },
        "id": "jYL9OuYBTD_l",
        "outputId": "03cba134-2ad3-4251-a72c-a8a5ab76aad3"
      },
      "source": [
        "!grep -xvFf output2.txt output1.txt "
      ],
      "execution_count": null,
      "outputs": [
        {
          "output_type": "stream",
          "text": [
            "12\n"
          ],
          "name": "stdout"
        }
      ]
    },
    {
      "cell_type": "code",
      "metadata": {
        "id": "Jlja0Xm4TX9M"
      },
      "source": [
        "!./sum < input1.txt> ctest1.txt\n",
        "!grep -xvFf output1.txt ctest1.txt"
      ],
      "execution_count": null,
      "outputs": []
    },
    {
      "cell_type": "code",
      "metadata": {
        "id": "g9OIUZA_QLCQ"
      },
      "source": [
        "!./sum < input2.txt > ctest2.txt\n",
        "!grep -xvFf output2.txt ctest2.txt"
      ],
      "execution_count": null,
      "outputs": []
    },
    {
      "cell_type": "markdown",
      "metadata": {
        "id": "3BgOaDjUVJk6"
      },
      "source": [
        "## Python"
      ]
    },
    {
      "cell_type": "code",
      "metadata": {
        "colab": {
          "base_uri": "https://localhost:8080/"
        },
        "id": "DBvl-T0CTN_8",
        "outputId": "4965153b-ad00-481e-a0be-007c4ec4a079"
      },
      "source": [
        "%%writefile sum.py\n",
        "# python3\n",
        "\n",
        "\n",
        "def sum_of_two_digits(first_digit, second_digit):\n",
        "    return first_digit + second_digit\n",
        "\n",
        "if __name__ == '__main__':\n",
        "    a, b = map(int, input().split())\n",
        "    print(sum_of_two_digits(a, b))"
      ],
      "execution_count": null,
      "outputs": [
        {
          "output_type": "stream",
          "text": [
            "Writing sum.py\n"
          ],
          "name": "stdout"
        }
      ]
    },
    {
      "cell_type": "code",
      "metadata": {
        "colab": {
          "base_uri": "https://localhost:8080/"
        },
        "id": "QKoKM11_WGyF",
        "outputId": "684fb7e7-eb60-46ae-8394-cb8dbb98b3fb"
      },
      "source": [
        "!python sum.py"
      ],
      "execution_count": null,
      "outputs": [
        {
          "output_type": "stream",
          "text": [
            "4 7\n",
            "11\n"
          ],
          "name": "stdout"
        }
      ]
    },
    {
      "cell_type": "code",
      "metadata": {
        "id": "cocFbPRTWrqt"
      },
      "source": [
        "!python sum.py  < input1.txt> ptest1.txt\n",
        "!grep -xvFf output1.txt ptest1.txt"
      ],
      "execution_count": null,
      "outputs": []
    },
    {
      "cell_type": "code",
      "metadata": {
        "id": "MorKTa-XXASN"
      },
      "source": [
        "!python sum.py  < input2.txt> ptest2.txt\n",
        "!grep -xvFf output2.txt ptest2.txt"
      ],
      "execution_count": null,
      "outputs": []
    },
    {
      "cell_type": "markdown",
      "metadata": {
        "id": "uvP-mOubW_5F"
      },
      "source": [
        "# II Solving The Maximum Pairwise Product Programming Challenge in C++"
      ]
    },
    {
      "cell_type": "markdown",
      "metadata": {
        "id": "C12yoFR6Xonl"
      },
      "source": [
        "## C++"
      ]
    },
    {
      "cell_type": "code",
      "metadata": {
        "colab": {
          "base_uri": "https://localhost:8080/"
        },
        "id": "YL4qJX3tXxdd",
        "outputId": "8eaa34d4-52e7-4661-e22e-98055fc719e5"
      },
      "source": [
        "%%writefile max_pairwise_product1.cpp\n",
        "#include <iostream>\n",
        "#include <vector>\n",
        "#include <algorithm>\n",
        "\n",
        "int MaxPairwiseProduct(const std::vector<int>& numbers) {\n",
        "    int max_product = 0;\n",
        "    int n = numbers.size();\n",
        "\n",
        "    for (int first = 0; first < n; ++first) {\n",
        "        for (int second = first + 1; second < n; ++second) {\n",
        "            max_product = std::max(max_product,\n",
        "                numbers[first] * numbers[second]);\n",
        "        }\n",
        "    }\n",
        "\n",
        "    return max_product;\n",
        "}\n",
        "\n",
        "int main() {\n",
        "    int n;\n",
        "    std::cin >> n;\n",
        "    std::vector<int> numbers(n);\n",
        "    for (int i = 0; i < n; ++i) {\n",
        "        std::cin >> numbers[i];\n",
        "    }\n",
        "\n",
        "    std::cout << MaxPairwiseProduct(numbers) << \"\\n\";\n",
        "    return 0;\n",
        "}\n"
      ],
      "execution_count": null,
      "outputs": [
        {
          "output_type": "stream",
          "text": [
            "Writing max_pairwise_product1.cpp\n"
          ],
          "name": "stdout"
        }
      ]
    },
    {
      "cell_type": "code",
      "metadata": {
        "colab": {
          "base_uri": "https://localhost:8080/"
        },
        "id": "KGxaEjvWX__O",
        "outputId": "05843964-7c68-4b8f-84c9-07d54b39b703"
      },
      "source": [
        "!g++ max_pairwise_product1.cpp -o max_pairwise_product1\n",
        "!./max_pairwise_product1"
      ],
      "execution_count": null,
      "outputs": [
        {
          "output_type": "stream",
          "text": [
            "3\n",
            "1 3 4\n",
            "12\n"
          ],
          "name": "stdout"
        }
      ]
    },
    {
      "cell_type": "markdown",
      "metadata": {
        "id": "IeZ3kTjpYmR9"
      },
      "source": [
        "### Test 1: lagest input numbers 200000 200000 in the input"
      ]
    },
    {
      "cell_type": "code",
      "metadata": {
        "colab": {
          "base_uri": "https://localhost:8080/"
        },
        "id": "LQNlZqaqYt7U",
        "outputId": "7c9abcf3-4779-4da5-caf8-bb20f37f1ab9"
      },
      "source": [
        "%%writefile input1.txt\n",
        "6\n",
        "1 3 200000 9 200000 23"
      ],
      "execution_count": null,
      "outputs": [
        {
          "output_type": "stream",
          "text": [
            "Overwriting input1.txt\n"
          ],
          "name": "stdout"
        }
      ]
    },
    {
      "cell_type": "code",
      "metadata": {
        "colab": {
          "base_uri": "https://localhost:8080/"
        },
        "id": "2Wad2VZUZDxR",
        "outputId": "6638db6e-69d7-400a-adeb-833592339d78"
      },
      "source": [
        "!./max_pairwise_product1 < input1.txt"
      ],
      "execution_count": null,
      "outputs": [
        {
          "output_type": "stream",
          "text": [
            "/bin/bash: ./max_pairwise_product1: No such file or directory\n"
          ],
          "name": "stdout"
        }
      ]
    },
    {
      "cell_type": "code",
      "metadata": {
        "colab": {
          "base_uri": "https://localhost:8080/"
        },
        "id": "MPcmsxiQZSfE",
        "outputId": "8006e1ef-3e39-473b-98ff-3907f17a1daf"
      },
      "source": [
        "%%writefile max_pairwise_product2.cpp\n",
        "#include <iostream>\n",
        "#include <vector>\n",
        "#include <algorithm>\n",
        "\n",
        "long long MaxPairwiseProduct(const std::vector<int>& numbers) {\n",
        "    long long max_product = 0LL;\n",
        "\t  long long aux_product = 0LL;\n",
        "    int n = numbers.size();\n",
        "\n",
        "    for (int first = 0; first < n; ++first) {\n",
        "        for (int second = first + 1; second < n; ++second) {\n",
        "\t\t\t       aux_product =  (long long) numbers[first] * numbers[second];\n",
        "            if ( max_product < aux_product)  {\n",
        "\t\t\t\t        max_product = aux_product;\n",
        "             }\n",
        "        }\n",
        "    }\n",
        "\n",
        "    return max_product;\n",
        "}\n",
        "\n",
        "int main() {\n",
        "    int n;\n",
        "    std::cin >> n;\n",
        "    std::vector<int> numbers(n);\n",
        "    for (int i = 0; i < n; ++i) {\n",
        "        std::cin >> numbers[i];\n",
        "    }\n",
        "\n",
        "    std::cout << MaxPairwiseProduct(numbers) << \"\\n\";\n",
        "    return 0;\n",
        "}\n"
      ],
      "execution_count": null,
      "outputs": [
        {
          "output_type": "stream",
          "text": [
            "Overwriting max_pairwise_product2.cpp\n"
          ],
          "name": "stdout"
        }
      ]
    },
    {
      "cell_type": "code",
      "metadata": {
        "colab": {
          "base_uri": "https://localhost:8080/"
        },
        "id": "I5pCeOG1Zm7s",
        "outputId": "f6874dd0-4008-4733-85c7-c6f7d20d1069"
      },
      "source": [
        "!g++ max_pairwise_product2.cpp -o max_pairwise_product2\n",
        "!./max_pairwise_product2 < input1.txt"
      ],
      "execution_count": null,
      "outputs": [
        {
          "output_type": "stream",
          "text": [
            "1\n",
            "2\n",
            "3\n",
            "4\n",
            "82\n",
            "3\n",
            "9\n",
            "39998800005\n"
          ],
          "name": "stdout"
        }
      ]
    },
    {
      "cell_type": "markdown",
      "metadata": {
        "id": "9z9yr5QkeyJF"
      },
      "source": [
        "### Test 2  generate a tests file with the maximun n 200000 numbres and measure time"
      ]
    },
    {
      "cell_type": "code",
      "metadata": {
        "id": "oLiMjbAIfPlX"
      },
      "source": [
        "#generacion de los 200000 números.\n",
        "import numpy\n",
        "import pandas\n",
        "\n",
        "def numeros():\n",
        "  file1 = open(\"input1.txt\",\"w\")\n",
        "  file1.write('200000 \\n')\n",
        "  for i in range(200000):\n",
        "\n",
        "    x = numpy.random.randint(0,200000,1)\n",
        "\n",
        "    #print(type(x))\n",
        "\n",
        "    string = str(x[0])+' '\n",
        "    #print(string)\n",
        "    file1.write(string)\n",
        "  file1.close()\n",
        "numeros()"
      ],
      "execution_count": 2,
      "outputs": []
    },
    {
      "cell_type": "markdown",
      "metadata": {
        "id": "sc9nOLQrfTm0"
      },
      "source": [
        "### Efficient solution "
      ]
    },
    {
      "cell_type": "code",
      "metadata": {
        "colab": {
          "base_uri": "https://localhost:8080/"
        },
        "id": "Jvr-Iyj9ZcCW",
        "outputId": "c1428024-5eb9-4d54-828e-9eb5fd5342a8"
      },
      "source": [
        "%%writefile max_pairwise_product2.cpp\n",
        "#include <iostream>\n",
        "#include <vector>\n",
        "#include <algorithm>\n",
        "#include <time.h>\n",
        "using namespace std;\n",
        "\n",
        "int main() {\n",
        "    clock_t begin = clock();                     /*Aqui esta la medicion del tiempo gastado*/\n",
        "\n",
        "\n",
        "    \n",
        "    int n;\n",
        "    cin >> n;\n",
        "    long long numa = 0;\n",
        "    long long numb = 0;\n",
        "    long long entrada;\n",
        "    for (int i = 0; i < n; i++) {\n",
        "        cin >> entrada;\n",
        "        if(entrada > numb)\n",
        "            if(entrada > numa){\n",
        "                numb = numa;\n",
        "                numa = entrada;\n",
        "            }else{\n",
        "                numb = entrada;\n",
        "            }\n",
        "    }\n",
        "    cout << \"Maximo producto: \" <<numa * numb;\n",
        "    clock_t end = clock();\n",
        "    double time_spent = (double)(end - begin) / CLOCKS_PER_SEC;\n",
        "    cout << \" Tiempo gastado: \" << time_spent;\n",
        "    return 0;\n",
        "}\n"
      ],
      "execution_count": 10,
      "outputs": [
        {
          "output_type": "stream",
          "text": [
            "Overwriting max_pairwise_product2.cpp\n"
          ],
          "name": "stdout"
        }
      ]
    },
    {
      "cell_type": "code",
      "metadata": {
        "colab": {
          "base_uri": "https://localhost:8080/"
        },
        "id": "VJUEHCCk0U9X",
        "outputId": "ef23ea3e-1b6a-4311-a1e2-04b5736c98c3"
      },
      "source": [
        "!g++ max_pairwise_product2.cpp -o max_pairwise_product2\n",
        "!./max_pairwise_product2 < input1.txt"
      ],
      "execution_count": 11,
      "outputs": [
        {
          "output_type": "stream",
          "text": [
            "Maximo producto: 39999600001 Tiempo gastado: 0.08381"
          ],
          "name": "stdout"
        }
      ]
    },
    {
      "cell_type": "markdown",
      "metadata": {
        "id": "bhqiKQG6fjKM"
      },
      "source": [
        "Stress tests "
      ]
    },
    {
      "cell_type": "code",
      "metadata": {
        "id": "2VSG3_Xt1wp_"
      },
      "source": [
        ""
      ],
      "execution_count": null,
      "outputs": []
    },
    {
      "cell_type": "markdown",
      "metadata": {
        "id": "yBYnp6KjpxU0"
      },
      "source": [
        "Measure with test file of the maximun n 200000 numbres "
      ]
    },
    {
      "cell_type": "markdown",
      "metadata": {
        "id": "rydCU4bFfrhG"
      },
      "source": [
        "## Python"
      ]
    },
    {
      "cell_type": "code",
      "metadata": {
        "colab": {
          "base_uri": "https://localhost:8080/"
        },
        "id": "Km58gO31XFWK",
        "outputId": "41b8a5f1-be54-4403-fdb3-4cf00cd0f782"
      },
      "source": [
        "import numpy\n",
        "import pandas\n",
        "\n",
        "n = input()\n",
        "num_a=0\n",
        "num_b=0\n",
        "for i in range(int(n)):\n",
        "  entrada= int(input())\n",
        "  if entrada>num_b:\n",
        "    if entrada>num_a:\n",
        "      num_b=num_a\n",
        "      num_a=entrada\n",
        "    else:\n",
        "      num_b=entrada\n",
        "\n",
        "print(num_a*num_b)"
      ],
      "execution_count": 21,
      "outputs": [
        {
          "output_type": "stream",
          "text": [
            "5\n",
            "3\n",
            "5\n",
            "9\n",
            "4\n",
            "6\n",
            "54\n"
          ],
          "name": "stdout"
        }
      ]
    },
    {
      "cell_type": "markdown",
      "metadata": {
        "id": "j90QdjYk1yID"
      },
      "source": [
        "## Captura de cursera\n",
        "![captura cursera.jpg](data:image/jpeg;base64,/9j/4AAQSkZJRgABAQEAYABgAAD/2wBDAAIBAQIBAQICAgICAgICAwUDAwMDAwYEBAMFBwYHBwcGBwcICQsJCAgKCAcHCg0KCgsMDAwMBwkODw0MDgsMDAz/2wBDAQICAgMDAwYDAwYMCAcIDAwMDAwMDAwMDAwMDAwMDAwMDAwMDAwMDAwMDAwMDAwMDAwMDAwMDAwMDAwMDAwMDAz/wAARCAJ5BCkDASIAAhEBAxEB/8QAHwAAAQUBAQEBAQEAAAAAAAAAAAECAwQFBgcICQoL/8QAtRAAAgEDAwIEAwUFBAQAAAF9AQIDAAQRBRIhMUEGE1FhByJxFDKBkaEII0KxwRVS0fAkM2JyggkKFhcYGRolJicoKSo0NTY3ODk6Q0RFRkdISUpTVFVWV1hZWmNkZWZnaGlqc3R1dnd4eXqDhIWGh4iJipKTlJWWl5iZmqKjpKWmp6ipqrKztLW2t7i5usLDxMXGx8jJytLT1NXW19jZ2uHi4+Tl5ufo6erx8vP09fb3+Pn6/8QAHwEAAwEBAQEBAQEBAQAAAAAAAAECAwQFBgcICQoL/8QAtREAAgECBAQDBAcFBAQAAQJ3AAECAxEEBSExBhJBUQdhcRMiMoEIFEKRobHBCSMzUvAVYnLRChYkNOEl8RcYGRomJygpKjU2Nzg5OkNERUZHSElKU1RVVldYWVpjZGVmZ2hpanN0dXZ3eHl6goOEhYaHiImKkpOUlZaXmJmaoqOkpaanqKmqsrO0tba3uLm6wsPExcbHyMnK0tPU1dbX2Nna4uPk5ebn6Onq8vP09fb3+Pn6/9oADAMBAAIRAxEAPwD9/KKKKACiiigAooooAKKKKACiiigAooooAKKKKACiiigAooooAKKKKACiiigAooooAKKKKACiiigAooooAKKKKACiiigAooooAKKKKACiiigAooooAKKKKACiiigAooooAKKKKACiiigAooooAKKKKACiiigAooooAKKKKACiiigAooooAKKKKACiiigAooooAKKKKACiiigAooooAKKKKACiiigAooooAKKKKACiiigAooooAKKKKACiiigAooooAKKKKACiiigAooooAKKKKACiiigAooooAKKKKACqJ1sf8JL/AGd5Zz9m+0l8/wC1txir1YP/ADU7/uF/+1aAN6iiigArK8Z+N9I+Hfh6fVtc1G00rTrYZkuLmQIg9APUnsByewqx4i8QWfhPQL3VNQnS1sNOge5uJn+7FGilmY/QA1+U/wC1b+1LrP7Tnj2S8uXlttCs3ZdM07d8lunTew6GRhyzfgOAK+k4b4dqZrWavywju/0Xn+R8TxrxnRyDDKVuarP4Y+m7fkvxendr60+IP/BW3wfoF68Ph7QdX8QhDjz5XWyhk91yGfH1QfSsjwx/wWD0W8vVXWPBWp6fbk4aS01BLtlHrtZI/wCdfJP7Pv7PPiD9pLxv/YmgJArQxefdXNw5WG1jyBuYgEkkkAAAk/QEjsP2nP2GvFP7MmkW2q3tzY6vo1xIIDd2m4GCQgkK6MMjODggkcc4OM/oT4a4dpVVgan8V7Xk7/hpf5H49HjbjOvh5ZpS/gRetoR5fxTlZdXfTufoz8Gf2hfCPx+0drvwxq8N8YgDPbMDHc23+/GfmA9+h7E12tfjH8OfiPrPwn8YWeu6BfS6fqVi+6ORDww7qw6Mp6FTwRX6s/sv/H+z/aR+Edj4it0S3u8m21C1Vs/ZbhcblH+yQQy/7LDvmviuKOFZZZavRfNSemu6fZ/o/wCn+ncB8fwzxPC4mKhXir6bSXddmuq+a629Dooor44/SQooooAKKKKACiiigAooooAKKKKACiiigAooooAKKKKACiiigAooooAKKKKACiiigAooooAKKKKACiiigAooooAKKKKACiiigAooooAKKKKACiiigAooooAKKKKACiiigAooooAKKKKACiiigAooooAKKKKACiiigAooooAKKKKACiiigAooooAKKKKACiiigAooooAKKKKACiiigAooooAKKKKACiiigAooooAKKKKACiiigAooooAKKKKACiiigAooooAKKKKACiiigAooooAKKKKACiiigAooooAKKKKACiiigAooooAKKKKACiiigAooooAKwf8Amp3/AHC//atb1YP/ADU7/uF/+1aAN6iiigD54/4Ke+NJ/CX7K93bwOUOvahb6c5HXYd0zD8RDg+xNfmdX6Y/8FPfBc/i39le7uIELnQdQt9RdR12DdCx/ATZPsDX50fDv4f6r8VPGun+H9Etjd6pqcvlQRAhQcAsxJPAUKCSewBr9o4CnShlUpt2tJuT+S/Q/mPxbpYipxBCmk3eEVFd7t6Lzvc+jP8AglD8SrPwl8bNW0S9uI7b/hJLBUti5A82eJ9yxg+pRpCPXbjqRXtv/BVv4lWnh/4D2vhsXEf9pa/fxP8AZ8gv9niy7PjsN4jHvk+hrzPwb/wSD16Zo5Nb8Z6Zp7LhithaSXJB9mYx4+uK2PHH/BIu81OZrjTvH73c5AGNTsmJOPWRXJ/8drysZicjq5xDMHidrXXLKza21t6fcfQZdgeKcPw3UyaOC+K6UueKajLVrlvd9eq320PiCvsP/gkF40nt/iB4s8O7yba809NRCHorxSLGSPqJhn/dHpXz/wDtFfsyeJv2ZPE1tp/iFbSWO/jaW0u7SQvBchSAwBIDBlyuQQPvDqCDX0B/wSC8Fz3HxA8WeIthFtZ6emnBz0Z5ZFkIH0EIz/vD1r6bifEYevklWtCSlFpWfndW/E+H4GweMwnFNDD1IuNSLfMnulyu/wCB9SfH740+Kvh7408G+G/Bvhbw/wCJta8XPeYGs+IJtGtbWO2iWRj5kVndMzHcABsA96o+Hf2ydBb4f3Wp+ItL8QaLrmkarLoOq6DYaVd69f297EqO4hisopZbiAxyRSrMsYHlTRl1jYsiu/aL8AeOtV+JfgDxX4F0vwnrd34UbUEurHXtcuNIjlS5hSMMk0NndHcpXlTGAQetee+Iv2YPinD4GjFnqmhalrHi7X7nXfHFlY+JNR8JwXDyQxRW8dpf2kM14iWyQQKQnktclCzvGrPC34DFzvNfd63jp00tza9HbVLR/wBayt7vrr6Wlr635dOq6dV6Vrn7avw30Lw14T1X+27/AFK38dabJq/h+HSNDv8AVbvVraPyPMeK2toJJmKC4iZk2b1XexULHIVn0L9qrwt4l1PTLuz1rw+fCWqeEpfGEerz3k1uyWaPGGmdHgESQqsgLNJOroRgxYDMvCfs7/sh+Ivg5f8AwdOoanpN+nw68M65omoSxTXDSXct7dWUsMkfmhmZdts+8ySFwWXmTJauZh/4J+a/r/w5/wCEa1TXtO06G48Aar4SmvLCSZ5YLm6v0uY5UGIi0aqmGw8bk8KRneNZP3o8uz5/lZT5U/VqPb8dE/4d+vu/jOKl90bncePf229JvfhDdeIPBP2ue+sdd0HTZ7TxBoGoaTKLfUNTtrTz1guo4JWjaOWUxzKDGzxnBbYy10H7RX7RWpfCXxn4K8KeHdG8P6x4o8dTXSaemv6+2h6cVto1eRBcJbXLvcNvUpCkJLKszZURnPjmn/sT+MLz4W+JIpdE0TS/GF7faBcW9ze/FLxF4th1CLTdTivzE8upQGSzVikgVYkl5kyxbFezftQeBfFXxF0C20rTPB3wr+Inhm9Vo9a8OeNZZrWC5YMjwzJOttdoQjIcxPancWVxKhj2vVTlUVy7834Wj5dXfppfXuXG1rS8/wAvu0fnrbzsHjX9rHQ/gr4AsNW+IljrHhi/ktZLrUbGw0278QDSo4s+ZcTSWMMojtRtLCeZYl243BGDIrPih+238NPg7rdzp+u6/dpcWFlb6petZaNfajDp1lceYIru4lt4ZI4LY+TJmaVljXYdzCvD/Gf7Efxc1T4EeHvh7B4m0/UdDXQ72yu1Hi/VtD/sS7nmlaAxvZxfaNStLaCUWyW089ujJCpkDsy+T2mtfsd+JtS+HXxT0hL7Qhc+N/hhp3gqxZppdkV5b2uoQvJKfLyIS13GQVDNhWyowAUteaT6PTzV5X6u2yd7tWkut0opq86cG9Hu+3w69O70sndPS1m+j8UftwaLoPxb+IXgyPStY/tHwJ4cj19r670jVItJn3RXMpSS8jspIoowtuuJFMpkLyLGjvEyV0Pif9rrwV4AutBtNfv720utdWzXz7PR9QvtNspbpkjgS4vY7fybbzJJEVPtLQltynAzXB/EH9mvx3qXjLx+NJHhK50L4ifD+38Lzz3eo3Ftd6Ve20OoJG6xLbyJPDI14mSZImjCMQsmQK5T9of9jz4p/Ge5tdFTV9HPhiwstKGnSjxZqmmLps1s0T3McunWsKxagsxiG2S6nKxBhtt8q/mr/l5y9Pd+fx81u20bXv5XuiOZuCk1Z6/LSHL+Lle36HsHiv8AbV+H3g74mx+Ebi88SXetSajHo+dM8J6tqdnHeyRiQWz3dtbSW6SiM72RpAyJ8zBV5q/4Q/az8A+OviV/wiem6zcy6tI88VrJLpV5b6fqkkHE8dneyRLa3ckWG3pbyyMmx9wGxsfG/iL4ljw3+29q9umq6Fr9nH8Q4Lu1+HZ8axafrcd48cFnJqcWippct1MqxtLdAvqC20iZuDHF1X3T4S/skeN/Ck3ws8I6rN4VTwB8F79tQ0bVLK9uH1jXylpc2ltFcWvkRw22yO6cyOk0/mtEpCRByFVC86UKkvtWf3qLfzjd6faVrWd0taq5ZTj2/F3lb77RV/su97pK/pXxm/bL+HfwA8RXWleKNZv7XULDTotYvIbPRL/UTY2MjzILyY20Mgit1a3lDzOQkeF3su9N1f8A4by+Cf8A0Vj4ef8Ag/tv/i6y/i3+zdrnj3x78U9Us7rSo7fxx8OoPCNgs0sgeK7STU2LygIQIsXsWCpZvlf5eBnkf+GL/FH/AD/6B/3/AJf/AI1Xq5Tg8NiZTjiqvs7JWdr3u5XXyST/AO3jyc6xeJwvK8FS9rffW1vdg/xk5L/t0+m6KKK8s9QKKKKACiiigAooooAKKKKACiiigAooooAKKKKACiiigAooooAKKKKACiiigAooooAKKKKACiiigAooooAKKKKACiiigAooooAKKKKACiiigAooooAKKKKACiiigAooooAKKKKACiiigAooooAKKKKACiiigAooooAKKKKACiiigAooooAKKKKACiiigAooooAKKKKACiiigAooooAKKKKACiiigAooooAKKKKACiiigAooooAKKKKACiiigAooooAKKKKACiiigAooooAKKKKACiiigAooooAKwf8Amp3/AHC//atb1UTog/4SX+0fMOfs32Yx4/2t2c0AXqKKKAKXiLw/Z+LNAvdL1CBLqw1GB7a4hcfLLG6lWU/UE1+cHiTwLr3/AATf/aNh13+yhrumhZxot5KxSGZZFKEOVHEiozArx1DDjr+llZXjPwRpHxE8PT6TrmnWmq6dcjElvcxh0PoR6EdiOR2Ne/kWePASnTqx56VRWlH/AC8/zPkeK+Flm0adehP2eIpO8J2vZ72a6rT5PXun8Of8PgPEn/Qn6J/4FS0f8PgPEn/Qn6J/4FS16P8AEH/gkl4P1+9ebw9r2r+Hg5z5EqLewx+y5Kvj6ufrWR4Y/wCCPmi2d6rax411PULcHLR2mnpaMw9NzPJ/Kvso4rhBw53Cz7Wnf/L8T80nl/iLGr7NVbr+ZOnb8Un+B4n8ZP2hPE//AAUD1zw34bsvCdvHrFncSG1NnMzjZIFEm/cMKo2IS2QAAc+33j+y/wDAGz/Zu+Edj4dt3S4u8m51C6VcfarhsbmH+yAAq/7Kjvmr3wZ/Z68I/AHR2tPDGkQ2JlAE9yxMlzc/78h+Yj26DsBXa18tnmfU8RSjgsDDkoRd0urfd7/d8/T77hXhKtgq880zWp7XFTSTlbRLRWWiu9Fd2Wmne5RRRXy592FFFFABRRRQAUUUUAFFFFABRRRQAUUUUAZ//CV6X/0ErD/wIT/Gj/hK9L/6CVh/4EJ/jWhRQBn/APCV6X/0ErD/AMCE/wAaP+Er0v8A6CVh/wCBCf41oUUAZ/8Awlel/wDQSsP/AAIT/Gj/AISvS/8AoJWH/gQn+NaFFAGf/wAJXpf/AEErD/wIT/Gj/hK9L/6CVh/4EJ/jWhRQBn/8JXpf/QSsP/AhP8aP+Er0v/oJWH/gQn+NaFFAGf8A8JXpf/QSsP8AwIT/ABo/4SvS/wDoJWH/AIEJ/jWhRQBn/wDCV6X/ANBKw/8AAhP8aP8AhK9L/wCglYf+BCf41oUUAZ//AAlel/8AQSsP/AhP8aP+Er0v/oJWH/gQn+NaFFAGf/wlel/9BKw/8CE/xo/4SvS/+glYf+BCf41oUUAZ/wDwlel/9BKw/wDAhP8AGj/hK9L/AOglYf8AgQn+NaFFAGf/AMJXpf8A0ErD/wACE/xo/wCEr0v/AKCVh/4EJ/jWhRQBn/8ACV6X/wBBKw/8CE/xo/4SvS/+glYf+BCf41oUUAZ//CV6X/0ErD/wIT/Gj/hK9L/6CVh/4EJ/jWhRQBn/APCV6X/0ErD/AMCE/wAaP+Er0v8A6CVh/wCBCf41oUUAZ/8Awlel/wDQSsP/AAIT/Gj/AISvS/8AoJWH/gQn+NaFFAGf/wAJXpf/AEErD/wIT/Gj/hK9L/6CVh/4EJ/jWhRQBn/8JXpf/QSsP/AhP8aP+Er0v/oJWH/gQn+NaFFAGf8A8JXpf/QSsP8AwIT/ABo/4SvS/wDoJWH/AIEJ/jWhRQBn/wDCV6X/ANBKw/8AAhP8aP8AhK9L/wCglYf+BCf41oUUAZ//AAlel/8AQSsP/AhP8aP+Er0v/oJWH/gQn+NaFFAGf/wlel/9BKw/8CE/xo/4SvS/+glYf+BCf41oUUAZ/wDwlel/9BKw/wDAhP8AGj/hK9L/AOglYf8AgQn+NaFFAGf/AMJXpf8A0ErD/wACE/xo/wCEr0v/AKCVh/4EJ/jWhRQBn/8ACV6X/wBBKw/8CE/xo/4SvS/+glYf+BCf41oUUAZ//CV6X/0ErD/wIT/Gj/hK9L/6CVh/4EJ/jWhRQBn/APCV6X/0ErD/AMCE/wAaP+Er0v8A6CVh/wCBCf41oUUAZ/8Awlel/wDQSsP/AAIT/Gj/AISvS/8AoJWH/gQn+NaFFAGf/wAJXpf/AEErD/wIT/Gj/hK9L/6CVh/4EJ/jWhRQBn/8JXpf/QSsP/AhP8aP+Er0v/oJWH/gQn+NaFFAGf8A8JXpf/QSsP8AwIT/ABo/4SvS/wDoJWH/AIEJ/jWhRQBn/wDCV6X/ANBKw/8AAhP8aP8AhK9L/wCglYf+BCf41oUUAZ//AAlel/8AQSsP/AhP8aP+Er0v/oJWH/gQn+NaFFAGf/wlel/9BKw/8CE/xo/4SvS/+glYf+BCf41oUUAZ/wDwlel/9BKw/wDAhP8AGj/hK9L/AOglYf8AgQn+NaFFAGf/AMJXpf8A0ErD/wACE/xo/wCEr0v/AKCVh/4EJ/jWhRQBn/8ACV6X/wBBKw/8CE/xo/4SvS/+glYf+BCf41oUUAZ//CV6X/0ErD/wIT/Gj/hK9L/6CVh/4EJ/jWhRQBn/APCV6X/0ErD/AMCE/wAaP+Er0v8A6CVh/wCBCf41oUUAZ/8Awlel/wDQSsP/AAIT/Gj/AISvS/8AoJWH/gQn+NaFFAGf/wAJXpf/AEErD/wIT/Gj/hK9L/6CVh/4EJ/jWhRQBn/8JXpf/QSsP/AhP8aP+Er0v/oJWH/gQn+NaFFAGf8A8JXpf/QSsP8AwIT/ABo/4SvS/wDoJWH/AIEJ/jWhRQBn/wDCV6X/ANBKw/8AAhP8aP8AhK9L/wCglYf+BCf41oUUAZ//AAlel/8AQSsP/AhP8aP+Er0v/oJWH/gQn+NaFFAGf/wlel/9BKw/8CE/xo/4SvS/+glYf+BCf41oUUAZ/wDwlel/9BKw/wDAhP8AGj/hK9L/AOglYf8AgQn+NaFFAGf/AMJXpf8A0ErD/wACE/xo/wCEr0v/AKCVh/4EJ/jWhRQBn/8ACV6X/wBBKw/8CE/xo/4SvS/+glYf+BCf41oUUAZ//CV6X/0ErD/wIT/Gj/hK9L/6CVh/4EJ/jWhRQBn/APCV6X/0ErD/AMCE/wAaP+Er0v8A6CVh/wCBCf41oUUAZ/8Awlel/wDQSsP/AAIT/Gj/AISvS/8AoJWH/gQn+NaFFAGf/wAJXpf/AEErD/wIT/Gj/hK9L/6CVh/4EJ/jWhRQBn/8JXpf/QSsP/AhP8aP+Er0v/oJWH/gQn+NaFFAGf8A8JXpf/QSsP8AwIT/ABo/4SvS/wDoJWH/AIEJ/jWhRQBn/wDCV6X/ANBKw/8AAhP8aP8AhK9L/wCglYf+BCf41oUUAZ//AAlel/8AQSsP/AhP8aP+Er0v/oJWH/gQn+NaFFAGf/wlel/9BKw/8CE/xo/4SvS/+glYf+BCf41oUUAZ/wDwlel/9BKw/wDAhP8AGj/hK9L/AOglYf8AgQn+NaFFAGf/AMJXpf8A0ErD/wACE/xo/wCEr0v/AKCVh/4EJ/jWhRQBn/8ACV6X/wBBKw/8CE/xo/4SvS/+glYf+BCf41oUUAZ//CV6X/0ErD/wIT/Gj/hK9L/6CVh/4EJ/jWhRQBn/APCV6X/0ErD/AMCE/wAaP+Er0v8A6CVh/wCBCf41oUUAZ/8Awlel/wDQSsP/AAIT/Gj/AISvS/8AoJWH/gQn+NaFFAGf/wAJXpf/AEErD/wIT/Gj/hK9L/6CVh/4EJ/jWhRQBn/8JXpf/QSsP/AhP8aP+Er0v/oJWH/gQn+NaFFAGf8A8JXpf/QSsP8AwIT/ABo/4SvS/wDoJWH/AIEJ/jWhRQBn/wDCV6X/ANBKw/8AAhP8aP8AhK9L/wCglYf+BCf41oUUAFFfL3gX9s6L4TfAXxX4s8Q+Iz8SPCGieJF0rw/4rbUdD0k+JLWSCCQzfaJ5rHTZBFcST24eFkD/AGfhWcMT11j+3H4c1PwdY+M4TqEvhS68Jt4ma3t9OW8vNv2mOEhJILh0kZSzLshSQScNHKwwHdtbL+vd5/yE3ZX/AK+JR/N+vz0Pc6K8h1j9sLTvCmi63NrvhDxrompaLYWuojSbiC0mvb9Lm7mtYEgENxJG8jPCCVLqUWaLftJIWxqn7UOk3PjrSNM0u4kltX1QWN5cJYi7juN2kTamscbJOrxuIlhcsYpMiRVCfP5kaekXJ7LfyKtd8vX/AIZ/qvvXc9Wor58T/goz4Usf2fpviXrWh6v4c8LSzw2ukXWoa54fMPiCWRnUJb3EOpSW0ZBRgxuZoApBBOQcdr8FP2nvD/7S/wADL3xj4RulaC3FzbyKt3aXv2O5iXJQzWss9tIRlTmKWRPmAznIE1X7OM5NfArvy/4Oqv2ur2ugjaU4wv8AFovP+rP1s7bM9Oor4p/Zk/bSfT9C07xFc/Fi/wDjX4b/AOEIXXvFz2drpl5N4S1INaCO1j/su2hG6b7Rdf6PMHm/0PKHhg3vHiT9q670GG0t7f4WfEnV/EM1rLqNzoNl/ZJvtOs1kaNLiZpL5IMSlT5caStMwDZjBRwu1am6UuWT7/g2n+Td+2uxlSqKpBTjs7fjb/NKz6tLqr+vUVk+BPG+mfEvwTpHiLRbn7Zo+vWUOoWM+xk86CVA6NtYBhlWBwQCO4rWqJRcXyy3RaaaugooopDCiiigAooooAKKKKACiiigAooooAKKKKACiiigAooooAKKKKACiiigAooooAKKKKACiiigAooooAKKKKACiiigAooooAKKKKACiiigAooooAKKKKACiiigAooooAKKKKACiiigAooooAKKKKACiiigAooooAKKKKACiiigAooooAKKKKACiiigAooooAKKKKACiiigAooooAKKKKACiiigAooooAKKKKACiiigAooooAKKKKACiiigAooooAKKKKACiiigAooooAKKKKACiiigAooooAKKKKACisjx942sPhr4G1jxDqsog0zQ7Ka/upD/AARRIXY/kDXh/wAFv2i/F/hv4UeP5PiJBb3fjDwdpn/CVrZRbbbzNPubZ7mGDKrgeVLHc2u/aSfswdsluZcklKT2irv+vk36JlKEm4pbydl/Xq0vVo+h6K8R0f8AaZ8YXmqaTbah4F0nSP8AhMNGutU8Nl/ETzSPJDFHL5F8i2oFsxSTOYmuANjDPTPE+Ff25tY8A/srfDLxF4+XwJZeJfH1nbGwuNS8VLpemXINktxJc3dxJaqLYnkeVFHN8zoASCSttcvMpfZtf5tpfl+uxMfeSlHZ/wCVz6kor528Kft7f8LJ8O+Fm8KeHNO8S6x4l1rUPD2yx8QRzaXBdWkLTNKt6kbCS1ZAGEqx79rD90X+StST9pDUPB2u+NYrzS7q/wBft9Y0fQ7HSI9VSSye+vLSB9kMpt43jgVnZnkdXYrGzhASIqT0dn1tbzva1u97rbuCad7dL/K29+1rM91orwzxR+1/qfwz8MeKh4p8GpD4q8JrplzNpWkasb6DULW/uvs0UttcSQwszB1lUo8SfNGBnawevWPAOp6/q/h8T+JNI03RNRaRsWllqTagiR/wFpGhiw+PvKFZQejuOaA2/r5m3RRXn/hz/k6fxl/2Kmg/+les0AegUUV5R+1p4w8SeDfCuhS6Ld63pGk3GqrD4g1fRdJGq6jpFl5MrCaG3aKYNmZYUZjDLsR2YpgFlTdhpXPV6K8L8P8AxVgtW+FK6f4+1X4iad4m1u+gXWoZ7BFukj0+7m8udLa2WOQI0WNsYhYOqlidpRvDP+H9Pw2/6E/x5/4DQ/8AxyqkmnypNvyTf5I6cJgq+Kv7CN7ea8/PyPqz41fApPjFc6Be2/ibxH4P1vwzcy3NhqmirZyTxebE0MqFLy3uICGRsZ8reMfKygsG562/Yz8MWvhNdHGoeIntk0mTRvMkuo3maGS8F2zFjGSZPMGNx/h6gn5q9copLR3W/wDmrfk2cjSas/61T/NI4vxv8CtH8ffFbwl4vvZb5NR8HLdLbQwugt7sTqgInUqWcIyK6AMuHAPNc94E/ZD8N/DjRtCs9LvtbiPh7WLvWrSdpIWl82e2mtFR/wB1taOG3lWKMYyFt4QxfDbvVaKForL+ru7/AB19R7u7/rRr8m/vZ4Xpf7COlWn/AAkGoXfjXxnqPi/X7yy1A+Kjb6RZarZ3FmrpbyJ9ksYbeVlSWRCbiGXfG5jbdGAg9Q8HeArzw/4CbRNX8Ua/4unlWVJdU1WKyivJVfPBFpbwQjaDgYiBwBnJ5rpKKUkpRcXs9Lfh+WgJtSUluuv9fguhxVx8CdIufgPZ/D1rjUf7FstMttKSYSJ9qMUCoqEts27iIxk7ccnAFZ/xg/Z5PxP1+LWNL8Z+MPAOtfYm025v/DzWRlvrUsXEMi3dtcR/I5ZkdFWRS74cBiD6LRVVG5y556t/rv8Afs+60ehNOKhFQholb8Nvu0a7PU8zh/Zd0zSNHttM0XxJ428O6PYWWi6fY6fpurtHBYwaZO0qLGGVmHnqwhuCSTLEiqSMZrrvh/4F/wCEA06/t/7Y13Wvt+p3epebqt39pktvtEzS/Z4zgbYI92yNP4UVRk4zW9RTc5Ntt6v9bX/JFdLen4Ky/AKKKKkAooooAKKKKACiiigAooooAKKKKACiiigAooooAKKKKACiiigAooooAKKKKACiiigAooooAKKKKACiiigAooooAKKKKACiiigAooooAKKKKACiiigAooooAKKKKACiiigAooooAKKKKACiiigAooooAKKKKACiiigAooooAKKKKACiiigAooooAKKKKACiiigAooooAKKKKACiiigAooooAKKKKACiiigAooooAKKKKACiiigAooooAKKKKACiiigAooooAKKKKACiiigAooooAKKKKACiiigDi/jt8HYPjx4Kh8OX9ykeiT6ha3Oq2r2/nLqltDKJWtGywASRkRXyGBTeu35sjz7xP+wT4Qtb2+l8B6d4b+HC614e1Lw7q8GjaDBBDqcN1GBHI6RGMGSCRQyk5yryLxu3D3WipcIuLi+t7/NWf4fr3ZSm01JdLfg7r8fyXZHAaj8DF1LxL4D1BtTIXwTZXVmYhb/8fwnt0g3bt37vGzOMNnOOOtcP4Y/ZJ8SeE/hv4L0u08b6Ymt/DN/I8Man/wAI+/lCx+zfZvs19B9q/wBJLR4LPE9v8yIQq4Ib3eirk3KUpPeWr+X9fi+5EUoxUFsv+GPOY/g7r2v+J/AuueJfEel6hq/g67vbmU6do72Vtei4tpIFRY3uJmi2B85Lybsds8ZXi/8AZZ/4SfWfFupw6+9jqeua1pviDTJ1sw40m6soIoo9yl8TRv5ZDr8hKSMoIOHHrdFJ6tS6r9LNfikNaXS6/qeI6r+yXqnjnTPEl34o8WWeoeKvEraTFLfWGjNZ2Nnaafd/aooIbZ7iVxudpiztMxJkzgBQte3UUUAFcfovha/tPj74l1uSDbpmoeH9Isbebep8yaC51N5V253DatxCckYO/gnBx2FFABXNfEvRvFur6fbf8Ihr+haBexyEzPq2iSarbzoR93y47m3ZWBwQRJjrkGulooeoXseG2v7K+peEfsHiKDWYdb8V6Xruo+LbmNbEWlrq99cabLZrDEnmH7NEA0fLNIx2ksxLFq+Tv7H+Lv8A0Lfj7/wnL/8A+T6/SOisqmHw1Vp4mjCqkkkpptRt/LaUbXVk99lt1uFWrD+DVnTbbbcGle+uvNGWzva1t3vpbP8A7YuP+gVf/wDfcH/xyj+2Lj/oFX//AH3B/wDHK0KK1IM/+2Lj/oFX/wD33B/8co/ti4/6BV//AN9wf/HK0KKAM/8Ati4/6BV//wB9wf8Axyj+2Lj/AKBV/wD99wf/ABytCigDP/ti4/6BV/8A99wf/HKP7YuP+gVf/wDfcH/xytCigDP/ALYuP+gVf/8AfcH/AMco/ti4/wCgVf8A/fcH/wAcrQooAz/7YuP+gVf/APfcH/xyj+2Lj/oFX/8A33B/8crQooAz/wC2Lj/oFX//AH3B/wDHKP7YuP8AoFX/AP33B/8AHK0KKAM/+2Lj/oFX/wD33B/8co/ti4/6BV//AN9wf/HK0KKAM/8Ati4/6BV//wB9wf8Axyj+2Lj/AKBV/wD99wf/ABytCigDP/ti4/6BV/8A99wf/HKP7YuP+gVf/wDfcH/xytCigDP/ALYuP+gVf/8AfcH/AMco/ti4/wCgVf8A/fcH/wAcrQooAz/7YuP+gVf/APfcH/xyj+2Lj/oFX/8A33B/8crQooAz/wC2Lj/oFX//AH3B/wDHKP7YuP8AoFX/AP33B/8AHK0KKAM/+2Lj/oFX/wD33B/8co/ti4/6BV//AN9wf/HK0KKAM/8Ati4/6BV//wB9wf8Axyj+2Lj/AKBV/wD99wf/ABytCigDP/ti4/6BV/8A99wf/HKP7YuP+gVf/wDfcH/xytCigDP/ALYuP+gVf/8AfcH/AMco/ti4/wCgVf8A/fcH/wAcrQooAz/7YuP+gVf/APfcH/xyj+2Lj/oFX/8A33B/8crQooAz/wC2Lj/oFX//AH3B/wDHKP7YuP8AoFX/AP33B/8AHK0KKAM/+2Lj/oFX/wD33B/8co/ti4/6BV//AN9wf/HK0KKAM/8Ati4/6BV//wB9wf8Axyj+2Lj/AKBV/wD99wf/ABytCigDP/ti4/6BV/8A99wf/HKP7YuP+gVf/wDfcH/xytCigDP/ALYuP+gVf/8AfcH/AMco/ti4/wCgVf8A/fcH/wAcrQooAz/7YuP+gVf/APfcH/xyj+2Lj/oFX/8A33B/8crQooAz/wC2Lj/oFX//AH3B/wDHKP7YuP8AoFX/AP33B/8AHK0KKAM/+2Lj/oFX/wD33B/8co/ti4/6BV//AN9wf/HK0KKAM/8Ati4/6BV//wB9wf8Axyj+2Lj/AKBV/wD99wf/ABytCigDP/ti4/6BV/8A99wf/HKP7YuP+gVf/wDfcH/xytCigDP/ALYuP+gVf/8AfcH/AMco/ti4/wCgVf8A/fcH/wAcrQooAz/7YuP+gVf/APfcH/xyj+2Lj/oFX/8A33B/8crQooAz/wC2Lj/oFX//AH3B/wDHKP7YuP8AoFX/AP33B/8AHK0KKAM/+2Lj/oFX/wD33B/8co/ti4/6BV//AN9wf/HK0KKAM/8Ati4/6BV//wB9wf8Axyj+2Lj/AKBV/wD99wf/ABytCigDP/ti4/6BV/8A99wf/HKP7YuP+gVf/wDfcH/xytCigDP/ALYuP+gVf/8AfcH/AMco/ti4/wCgVf8A/fcH/wAcrQooAz/7YuP+gVf/APfcH/xyj+2Lj/oFX/8A33B/8crQooAz/wC2Lj/oFX//AH3B/wDHKP7YuP8AoFX/AP33B/8AHK0KKAM/+2Lj/oFX/wD33B/8co/ti4/6BV//AN9wf/HK0KKAM/8Ati4/6BV//wB9wf8Axyj+2Lj/AKBV/wD99wf/ABytCigDP/ti4/6BV/8A99wf/HKP7YuP+gVf/wDfcH/xytCigDP/ALYuP+gVf/8AfcH/AMco/ti4/wCgVf8A/fcH/wAcrQooAz/7YuP+gVf/APfcH/xyj+2Lj/oFX/8A33B/8crQooAz/wC2Lj/oFX//AH3B/wDHKP7YuP8AoFX/AP33B/8AHK0KKAM/+2Lj/oFX/wD33B/8co/ti4/6BV//AN9wf/HK0KKAM/8Ati4/6BV//wB9wf8Axyj+2Lj/AKBV/wD99wf/ABytCigDP/ti4/6BV/8A99wf/HKP7YuP+gVf/wDfcH/xytCigDP/ALYuP+gVf/8AfcH/AMco/ti4/wCgVf8A/fcH/wAcrQooAz/7YuP+gVf/APfcH/xyj+2Lj/oFX/8A33B/8crQooAz/wC2Lj/oFX//AH3B/wDHKP7YuP8AoFX/AP33B/8AHK0KKAM/+2Lj/oFX/wD33B/8co/ti4/6BV//AN9wf/HK0KKAM/8Ati4/6BV//wB9wf8Axyj+2Lj/AKBV/wD99wf/ABytCigDP/ti4/6BV/8A99wf/HKP7YuP+gVf/wDfcH/xytCigDP/ALYuP+gVf/8AfcH/AMco/ti4/wCgVf8A/fcH/wAcrQooAz/7YuP+gVf/APfcH/xyj+2Lj/oFX/8A33B/8crQooAz/wC2Lj/oFX//AH3B/wDHKP7YuP8AoFX/AP33B/8AHK0KKAM/+2Lj/oFX/wD33B/8co/ti4/6BV//AN9wf/HK0KKAM/8Ati4/6BV//wB9wf8Axyj+2Lj/AKBV/wD99wf/ABytCigDP/ti4/6BV/8A99wf/HKP7YuP+gVf/wDfcH/xytCigDP/ALYuP+gVf/8AfcH/AMco/ti4/wCgVf8A/fcH/wAcrQooAz/7YuP+gVf/APfcH/xyj+2Lj/oFX/8A33B/8crQooAz/wC2Lj/oFX//AH3B/wDHKP7YuP8AoFX/AP33B/8AHK0KKAM/+2Lj/oFX/wD33B/8co/ti4/6BV//AN9wf/HK0KKAM/8Ati4/6BV//wB9wf8Axyj+2Lj/AKBV/wD99wf/ABytCigDP/ti4/6BV/8A99wf/HKP7YuP+gVf/wDfcH/xytCigDP/ALYuP+gVf/8AfcH/AMco/ti4/wCgVf8A/fcH/wAcrQooAz/7YuP+gVf/APfcH/xyj+2Lj/oFX/8A33B/8crQooAz/wC2Lj/oFX//AH3B/wDHKP7YuP8AoFX/AP33B/8AHK0KKACiiigAooooAKKKKACiiigAooooAKKKKACiiigAooooAKKKKACiiigAooooAKKKKACiiigAooooAKKKKACiiigAooooAKKp+IfEWn+EdBvdV1W+s9M0vTYHuru8u5lhgtYkUs8kjsQqIqgksSAACTUPhDxjpHxB8L2Gt6Bqmna3ouqwLc2Woafcpc2t5EwyskciEq6kcgqSDQBpUUUUAFFFFABRRRQAUUUUAFFFFABRRRQAUUUUAFFFFABRRRQAUUUUAFFFFABRRRQAUUUUAFFFFABRRRQAUUUUAFFFFABRRRQAUUUUAFFFFABRRRQAUUUUAFFFFABRRRQAUUUUAFFFFABRRRQAUUUUAFFFFABRRRQAUUUUAFFFFABRRRQAUUUUAFFFFABRRRQAUUUUAFFFFABRRRQAUUUUAFFFFABRRRQAUUUUAFFFFABRRRQAUUUUAFFFFABRRRQAUUUUAFFFFABXjP7Vv7GNv+1fe6JNP8TPjN8P/wCxEmRU8C+Lp9BS98woc3AjB80rs+Un7u5sda9mopNJ7ju0fl3+w7+wjqf7Q/jv48adr/7Rv7WC2/w4+It34W0k2nxSv42a0itraVTKTnc+6VssMDGOK+3/AIy/tHWv7JOheF/DsfhD4u/E/Vriy8m1i8PaJJq95OluqI011du0dvG7FlJM0qF2YkA814//AMEp/wDkrX7W3/ZaNR/9IbKrXiH49fFH9pX9vT4ifBvwN4s0r4W6B8J9L0m+1TVm0WPVdY16bUI3lRbVZ28iGCNU2s7RyMX4GBRBylSoRX2qdOT/APBcW397173HOmlUqzt8MpL0XtOVL8l/wD1z9lL9tbwr+1ufEdjpWneKfC/inwbcRW3iDwz4n006fq+jtKheEyR7mRkkUEq8bujYOGry7w7/AMFf/AXxBsNO/wCEN8EfFvx5qtzqF1YX+leHPDqX9zoCwX01kbi+dZhBBG7wSOgMpkeMbgnBA8o/4JzT3Fn/AMFdf2ndIu/iTqfxSv8ARPDXhmy1DV761sbWVLhftjG3KWUMMGYw4XITcCSGOQQO1/4IQ+GbDQ/2MNevLS0hgutZ+Ifii5vpUXDXMi6rPCrMe5EcSKPZRUUqyqVIaaOEpevLOMNL9JX5uumib+ImqpQUo9VJR9LwcvvW3TzXQ9e/aF/b78NfAj4kxeCNO8L+P/ib46NmupXPh7wVpC6jd6baMSqT3LySRQQK5VgoklVnwdqmum/Zf/a28Jfta+FtTv8Aw3/bFhqHh+9Oma5oetafJp+r6DdhQ3kXNu/zIxVgwIJVgcqxFfD3wP8AhX8Q/G3/AAU7/ar0LSPjv4g+EfiW51vTNZh0y18O6PqLa3pLafFFbXMb31vLIUiKPERGdiseRuY59k0X4Eah/wAE1NB/aE/aA8QfELX/AIx+K7/wtFqmq213plhpTXP9l205twFs4kQFkJTeUJwo64pwqKND21XROPN6dbaX2V0+vMr6axLdOUqvsqe6lb16X1ta/wASe1tNb8x0fxC/4Kx+GfhgNQ1PV/hT8fbbwNo87xaj4xk8EyQ6RYojbXndJJFuzAuCTKtuyYGc4r0r9oH9tvwT+z14N8K6rdf254puvHsyweFtI8M6c+p6l4icwmf/AEeJcAqIQZGd2VFUcsMjPx7+1JP8WPG//BKbxp8WPiL+0LZeG9M8T+ArjVP+Ef8AC/hrTYtIdbyxbytO+0XiXFzMZDKkW+N43Yt8oU4r074GfsjRftX/APBOn9l/XLbxb4i8D/EHwN4M0jUvDfinS/KnuLCebS4YpllhnV47iGVDh43HzADDL1rb2M4wqKfxU5QT2v73PzeWnJpr166XhShJQqwd4zU7dtFHlfez5tdPS2tvcP2a/wBsAftFeJNV0e6+GPxd+HGp6TAty8fjHw+tlDcozbR5NxDLNbysD1VZCwB5Ar07xt410n4b+D9U8Qa9qFppOiaLayXt/e3UgjhtII1LPI7HgKFBJ+lfNn7Nf7SnxS8Jftf3fwF+L/8AwiPibWD4XbxZofi3w1BJYpqFnHcpbSR3ti7yG2n3yKVKO0bjdjBBFUv+C52j6lrX/BK/4sx6bDdXCwWdrdahDbk+ZLYRXtvJdgY7fZ1lz/sg1nVdqcZxas+r2+JxbfVKLT5vRl0Ic1b2U77rTS+qT06O6d16q5x3xq/4KseDPit+yz48vB4E+MHh7wN4g8NX9tpHjjXPCzWfh7UjNbOkDiXeZoYpGdQk1xDFGdw+bkV3P7DXxz8Lfs2/8Efvg34z8Z6rFo3h7RvAGjPcXDo0jMzW0SJHHGoLySO7KqogLMzAAEmur/bK8e+B5v8AgmR8RdcmvdKfwJf/AA+vWt5kdfs09tLYusKxkHB3bkVQOckAc18MftE2uqxf8EcP2H9Vg8RXPhDw7oeueDLvXtfitoLpdBhNo0cN7JFOrQskVzJCx8xWUHBI4FaRjyzrUldXnQjrvrKrHXZXV/JbLTchS56VKq/5asrLyjTdk9XZ2ts367H2n8Ov+CoHhTxV8R/D3hvxP4C+Lnwrl8ZXIsvDl/428N/2dYa5cEFkt45Ulk8qZ1VisVwInbGApPFfStfFnxU/4JqfEL9oLw7olr45/aq8YeKfDmn6xp+v21u/hLw/aRzXNtOk1uyzW9tHIMuF+443Bscg19p0rLl13u/usrX873WnZPS5N3zabWX363t5Wt+O58ox/wDBXrwN4j1PxPpPg7wL8XPiL4m8G65faHrOh+F/D8d7d6e1pM0LTyyGdbeOOUoxiV5VlkVSRHwQPUv2dv22vA37UPwe1vxj4Wl1byvDE1zZ65pOo2L2Or6Ld267pbW5tpMNHMBjgnByMMa+cP8AgiV4o8PXmtftTaRZS2w8RWPxu8QXOqQBx55jkdBBIVzkIRG6g4AzG/uap/s339p4s/bx/bp1zw2RN4W/s/RdJurmF91rc6zbaZcLdhCCR5katCkmMHcADyKwrScMNzr4vZKpfs+WL/8AAfet35rdNF1RpxeIlDpGo4eq53H77a/4U9Op6p8H/wDgrF4I/aFvvAsfgLwX8VvGVt4ygsp7zUNJ8PrPp/hH7WiyJHqdz5ohikVHVpEiaVkBBIwQTufG3/gpH4V+FPxa1HwH4f8AB/xM+LHjDQYI7nW9N8DaENROhJIu6MXU0skUEcjqCyxeYZCOQnIzy/8AwQ48Laf4S/4JP/BGLTbOCzju/DyX04iXHmzzSPJJI3qzMxJNYX/BIm4h0LxJ+0r4b1aSNPHtj8X9Z1HWIZMC6e1uvKksJyOpia32hG6YQgdCK7K1NLEToR+ypS9bShG3p71++nzXBRquVCFdr4nFel4yld/+A27Xfyfvv7Nf7Xvgr9qnwLqet+G7u+s28P3T2Gu6XrNnJpup+H7lFDPBd28oDRMFIOT8pHIYjmvC/iJ/wWa8J+C/hLqXxG0n4SfHbxv8MNMEkjeL9B8P2Z0y4ijYq9xGtxeQ3DQKVOZvJ8vAJ3Y5rF+AWhab8Xv+CqP7V39kN53g678K6D4a8Rz2jYin1gQ3QlUMODNHayRKxGSuVB5GK80/Y68A/G/9pP8A4JyL8LPCuo/CqP4Oajp+oeCdH8Z3sl2fEUmiRSS2PnSaXGhtxcmJXwTdr/CzRqcoOS85x5oKzcU0ujd2nd9E7KUO8ZX1tr1xUI1OWo/dUrN9bWT0XVrVPzjsr6fU3iX/AIKMeFfhx8FfAXjvxr4b8X+BtH+IXiC38P2SaudOMlkZ4pZYry4eC7lhS1McLNvWRmAKkp1xufs4ftqad+01qfiE6X4C+KmgaDosCXVnr/iHw2+naf4ihfdh7EMxnlGF3fPEhIdSAc180f8ABXH4OaJ4P/Z9/ZQ8A/Z/7Q8O6V8ZfBuhCG7xJ9pto1mh2ydm3IvPrk19K/8ABQz9qm4/Yj/Yx8efFCy0ZdfvfClikttYu5SOWWSaOFDIRyI1aQM+Odqtit6nKoTqw1XPKMflGDTfneXl+VlTo1JOjTfxTjFv1c5ppeVkl17nnGs/8FdfCHg5rTUvE/wy+Ovg7wJd3EdsPGmu+DnstFtzI4jjeYNJ9rgjZmUCSW3VPmGSK9D/AGoP2+/AH7IXj7wL4f8AGLaylx8RI9QOjy2Fl9sWaW0jicwCNGM0k03nIkUcUcjO5xxxn4u/4K8eEvid4L/4JX/EHxR8TP2jBN/bGkRwjw9oPhfS7LRdUnuHj8u0ieaOe8ZQTkOk6uVUscDp6N+1TYxa1/wUY/4J/fa41uNsfiaceZ837xdDhdW+oYA/UUqMeeq6P8r1frGTt2uuW/ndXSWrVO0kp9HCcl/24k152d9fTft6Pa/8FhvhxoHjObw94+8KfFb4Ta1NaPe6NZ+LvDLQS+KVVkTy9PW3eY3E5aSMC3GJssPkro/g7/wUv8LfE347aZ8ONd8EfFT4XeKfEcE1z4eh8a+Hxp0PiNIU3yi1lSWVTIifM0UhSQDqorgP+ChWm2+p/wDBRP8AYsW4hjmWPxVr0qh1ztZNHkdSPcMoI9wK2P8AgoZAh/a5/Y+l2r5i/Ea9RWxyAdC1AkZ9DgfkKiElaLkt5qH3tJP1XNqtnbpfRVFZO38jn93Np6e766+WvrH7Rv7XNv8As965p2k2/wAPfip8QtZ1O3a6js/CHh1r1Yo1baTLcyvFaxHPRXmDHsKk/ZS/bJ8Kfte6Lrsmg2viLQtb8J3w03X/AA94i05tO1fQ7goHVJ4SSMMhDK6MyMOjHBrxeL44fFX9rX9tX4s/DTwZ400r4U+Ffg0+mWl9eQ6LDq2u69cXlr9p3x/aCbe3t0UhQTDIzMrcgcV4R+wr/bms/th/t+6LpHxD1P4meILXSdC0+3124hs7eWfUV0u9i27LOKK3DxyKsWUjBzF82WBNTzONGpVavaDml1avG1t9GpddbtbbGipqcrJ2SlGL9W7Na21T106JrXdfRHiH/grt4P8A+Eq1Cz8GfDP46/FjRtIvJdPvvEngnwbJqWjW9xExWWNZmkQzlGBBNukgyOprqfFnjXwjcf8ABST4d6VdXXxEtvG934D1TULGxiukj8OtZC5tllN1AX3G7V2QIQpAG/JyFxhf8EW/EOga1/wS9+DkWgNbqmj+H4dN1KCMBXs9Rhyl5HKvVZBOJCwbnLZ75rnvic4k/wCC5nwlZSCp+EuvkEHgj+0LKrrx9jiadG9/emr97UqjuuydtN9Ha73OeM/aUJVLW+HTt+8grPzXXbXotg/b9/aZ+HPxRv8AVPglP4Y+MXxWu9OktL/xd4f+HGlJdrHa582Oy1K4laOJI5goZoElWaRFxjYxDe2fsr/tT+Av2i/hfd3vglLzTYPCUh0nU/D99pr6XqPhyeFB/ok9o4VoWVNu0Y2kY2kivC/+CRNxDoXiT9pXw3q0kaePbH4v6zqOsQyYF09rdeVJYTkdTE1vtCN0whA6EVU/ZyubfxT/AMFYP2p9Y8NOkvhu08MeH9H1ue3OYJ9ciiuWdcjhpY7Z4VfByuVB54rJycKKa3nDnv2fIpf+Ar4f8TW12jZrmqS/uT5PVc/L97+P/Cra2utfwZ/wWc8C/F34aad4p+Hvw3+N3xLsriDz9Rj8L+GI71tAYMQYLmQzrCbgAbjBBJLIFZSV+YZ9Pk/4KFfDi7/Yj1b4/wCk3Wq6/wCA9G0y41O4WxsiNQH2dmSaAwSlCsyOrKVcqAQSSBzXln/BA3RLXQ/+CT/wqW1gSEXMeoXMu3/lpI+o3RZj7k/0HQVj/wDBIfxppHw9/Zp+OWseIdV07RdA0X4w+Mprq91C5S3tLGBb8szO7kIiDJJJIHJrqxFLlnVoxduWLab6NSjHbt71++m+umPtUpU3a6lPlt3VpS+/3bfPy1+uPg78UdO+N/wm8NeMtIivoNK8VaXbatZx3sBguY4p41kQSIc7XAYZGTz3NfHP/BRXwhrnxx/4KQfs7fDOD4kfFPwB4a8TaB4nvtTHgrxRcaHPeS2qWbwl2iOH2lmxuU4DNjGTX2/oOu2PijRLPUtMvLXUdN1CFLm1urWVZYLmJ1DJIjqSrKwIIIOCCMV8D/8ABSn4e+Mvif8A8FVf2YdJ8B/EG5+GPiKXw34uki16DRrXV3gRY7EunkXIMR3jjJGR1FS0niYpR0vPTt7k7dtt/lsZ1HJYZvm19zXvepBPa++3z7Gne+G/HX/BN/8AbC+CGgab8XfiJ8Tfh18YdXu/DWpaJ471FNZ1DTLlLSS5ivLW8KLNsHlFXjcsuHz/AHdvqnjz/gq14A8HeNvGfhOw8NfEfxj438F62dDl8M+GtDGparqLLa29091BGkm1bVUuY1Ms7RDf8vJK7r/wU/4J7f8ACJfHDTPid8SfiV4z+Mvj7QLWaz0S81yGzsrDQEmG2Z7WytIYoklkX5WkYMxUYBFed/8ABN/wtp8P7e/7aGtrZwDVrjxxpljJdbf3jQR6Tbukef7oaRzj1aohzOXs5u9oyl6e9TSV+u7d3tzcq0imaztG04rdxj/5LNt+WyWm9rvVs9m+N/7d/hD9nzwD4P1PxDpfjA+IvHsanQvBlhpDXvia/lMQlkgFpGTh4lP7xmYRxkcvyM0P2ev+ChXhX47fFFvAmpeGfiB8MfHrWkmoWvh3xvo40671K1RgrzWzxySwXCqSNwjlZlzkgCvLfHU8PhP/AILs+Cr7xI6Q2HiP4S3uk+EprggRNqMepRzXkEZP/LZrcxNgclEb0NJ/wUYuIvEP7dH7H+iaHJG/jey8bXmtOkXzT2uhx6dcJfSPjJWJy0KZOAzYA5FVTtL2culSTVv5Upyj+FueV/s9viCteCnFauEU7/ze4pfjfkX97XX4T1D4rf8ABQbQvAvxZ1vwN4X8D/Ej4seKvC0ENxr9l4O023nXQxMheFJ5rq4t4fNdBuESO0mMHaAa5n4Bf8FU/D3x++CnxE+IMPwz+LPhfwx8M7PUbjVZtes9Mt53nsA7XNkkEd9JKtyoQ/LMsa8j5hkZ818NL8Sfhf8A8FKvjroXwSi+H/ia28Q2+j+K/Ftn4x1G50p9G1Ce3NtF9kltobh7iN4LQOyPEio2AspLMq9F4u/ZYv8A9l7/AIJnftMvr+t2mv8Ai/4h6V4p8YeIbqytTa2K3lzpzqYbaNmZlhjjiiQFmLNtLHBbA5p1HDDTrPpBv/t9NK3+Fe9r1su9jsw9GNXFU8O+s4p2/ket/V+76Xatpc774Tf8FMPCXx7+IfhfRPBHg34oeKtN8RQRSXXibT9A3eH/AA9LJbif7PeXjSBBMqlVdYfN2OwViDmrXxr/AOCg9r8H/HWr6HZfCD48+O/+EfZF1PUPDXhBpbC23Ish2S3EkP2narAkWwlI6YzxUn/BK7QLHwr/AME0vgRb6faxWlufAekXLRxLtDSS2ccsj/VpHdie5Y14t+y78ZPi7/wUE+Beo/GGb4x2/wAEvA81/qUFho2ieHtPur3SrWyuZYWlv7vUUnj80+SzMqQoqKw5JOR246l7CvUpL7Dld9NHZX8t/Pu9NeLC806EasuvKvm0397t6eWp71r/APwUE+HWmfsP337QWnXWpeIvh9YaU+rM2nWwF7JGj+XJGIpmj2yo4ZWR2XBUg1554w/4LD/DnwVBa65deEfiy/wyuZYoj8RovC7t4VhEjKizGcuJjb7mAFwkLQn+F2BBPxl8Kdbj8R/8GwHxivYNTm1m2un8UywX0qLG93G2szMspRVVVL53FVVQCxwB0r7E/wCCj2j2uh/8ET/iZYWcEVvZ2XwykhghRcJEiWahVA7AADH0rgqYnlVSrbSMKc7f41NtN2T05Utlrq10N6dPmnCj1lKcb/4XFJ22633/AMy348/4LB/DzwBbPrs3g74uah8M4ZhFP8RbDws83heFdwUz+dvE0lvuOPPjheI9nIIz6X+07+3b8P8A9kaHwHc+MLu9j0v4iam2laZqFnCtxAkv2WW5QuA29hIsWyMRLI7ySRqF+bNec/tTaLaaf/wRZ8bWENtDHZW/whuIo4FQeWiLpJCgDpgYFeNftF6Rba/of/BOuG9hS5iHivSJ9sgyN8egTSI31Dqp+ortnS5asqF/hqU437qcnF6eXLp6+V3xqu3RhXt8UKkrdnCMWtfPn19POx7E3/BYD4c+EvGsOjfELwr8VfhEmp281xouoeM/DLWNp4g8pd7RWpjeRzOV+7BIiTMSAELMAdf4ff8ABULwn4q+Nnh7wN4i8B/F34aX3jOR4PDV/wCMfDJ07T/EEyoX8mGQSOY5iiswjnWJzjpkgHhP+Ct+k2utfFv9kGG7t4bmL/hdumvskQMMrZXrqcH0ZVI9wK2f+CsEStqf7MrlRvT44+H9rY5XMN5mlQipOHN1qKn9/Jr6+/6aeemk5O9SMd403U+5TdvT3PXXfTXtLLxT4Pn/AOCpV9oyX3xC/wCE8g+GkV3JZtfL/wAIsdPbUmUSLBv3fbvNUgvs2+XxnJNc0P8Agrh4F13xH4v8P+E/BfxV+IHi7wP4hvvDureH/DWhR3t5bPayCNrmRzOtvDBI27yjNLG8mx9qZUgYWjf8p7dc/wCyH2v/AKepay/+CNWmQQeKP2tbtIkW5uPj34hjlkA+Z1RLUqD9N7Y/3jRQg50466KFSXzVflX/AKVr+h01YpOpLqp0l8pUOZ/ilY+gP2V/20fBf7XXgfWtY8P/ANtaNc+Fr59M8Q6P4hsH0zVPD90iB2huoX+4QjBtwLKRnDHBx4t8RP8Ags14T8F/CXUviNpPwk+O3jf4YaYJJG8X6D4fszplxFGxV7iNbi8huGgUqczeT5eATuxzWX+yR4ZtfGX/AAUL/bi0S93jT9XufDlrcLG207JdEKOQezbT1+leXfsdeAfjf+0n/wAE5F+FnhXUfhVH8HNR0/UPBOj+M72S7PiKTRIpJbHzpNLjQ24uTEr4Ju1/hZo1OUGT55K8d3CEl2vJXld9EtOXq1ffl1mChGVqr05mm+tull1dr36XXS+n3r8Avi/J8d/hbpvilvC3iPwhFqq+bb2GuNZm7aE8pLm0uLiLY6kMuJCcEZArz7/go/8AtFX/AOzN+yL4m1rQB5vjHWDD4c8LW6/fuNXv5VtbQAdTtkkDnH8MbHtXq3ws+Htl8I/hl4d8K6Y0zad4a0y20q1aZt0jRQRLEhY9zhRn3r4X/buPxS/a6/4KNeCfA3wbk8BGT9ni0Txvrj+MYrqfRzqt6rwafC6WzLKZo4PPnX5gBvUnoAaxEac6qowvySdvPlWsn5NxTt/eaIw0qkaXtp25oq/lzbJea5mk/I9Y/wCCVnj/AMVaL4U8d/Bf4i+I9R8VeP8A4J64dMn1jU7lri91vTLpBdafeyuxLOWjdoyxJOYDnmun+Mf/AAUd8P8Aw2+K2teCfDngH4rfFjxH4WWJtft/BOhJexaEZYxLFHPNPNBF5rRkMIkd3wQdvNfL+/4+/sj/APBSX4c/Fn423Hwgbw38VoU+F+rXHgeDUbaGG4YyXGmTXS3jyfN5++FXVgAJiD2r6J+K/wCw/wCOfCPxp8U/E74E/EmLwR4n8ZNDdeIPDviHSxq/hnxFcwwrDFM6K0dzaymNERpIJcEIuYyRkucpTUasvNSt/Mrb+qtNparmSQoRUXKnHycb9n29JXir6WjdnZ+Iv29PBfgj9mSz+KfiPTfG3hnTNQu00210TVPDtzb+ILm+knNvFZpY7TK00kowgA2sCG3bfmqp8B/25/8AhdnxNj8LX3we+OPw+urm3kurW+8VeGEt9OuEQAkfaYJpo43IPEcpRzz8tedfDOaz/wCCvv7GezxpZ6h4C8V+EfF09o194a1ISnRtd0i6aNb2wuGQrJHvBI3oQQzIwJGaZ4G+PPxl/ZZ/au+HXwl+LOteFfijoXxRF/beHvFml6f/AGPrNrc2dsbl1v7JXeF42jUgTQbAGxuRdwpxXvtPr8PZxcU1r3vd66NcqWrE3eF49L83dNNpq3ZJdNb3eyOp/Yi+LHw/ns/2gNX0TWPHiaf4W+I+s2/ia48Yagk0Gn3lvFC1z9iIdvK09V2lFbaR8+VAxXE/Ej/gtP4W+HnwhT4jx/Br4/a58Mrjy3tfFtjoFjDptzDIwWO523N7DcR27kqRLLCiEMpzg1wv/BPf4daP8Xvgz+3J4V8Qz3FroXiP4xeMdN1CeD/Ww28tpbJI6cH5gpJHB5HSsj9n34ZfHf8Ab5/4JqeGPh9qGofCnSfhR4x8PQaSniu0lu5fEV/oaERxsdN8v7LbXc1vGu4/a5ViZydmRtC5W4x5d/Z0Gu3vQvK71tay5fK9lK1jqxUYQrzj09pVT7+7LSy63u+btpte59K/FT/gpR4M/Z+8K/DfVfiPoHjHwCPibeXdjY2upwWlxcafLBDJMqzraXEwZp1jVYUgMzu80S7QzEDM8Hf8FSvCerfGPw54M8U+APjB8MLjxpdGw8N6n4x8M/YNN125wzLbxypJIYpmVSVjuFiY+mSBXCf8FDvCVhF+1/8AsS6U8Cz2Wn+O73yUl+bBg0edom+qsisD6gVof8Fnhj4V/BR/44vjV4RZG7oftuMg9jgn86mjUjUr2+y60afyl7PXrquf006nM1Lks9Gqbn81z6enu27+nX0j48/8FHfAX7PH7QafC/WLDxdqPjO98Op4j0vT9G0r+0JtaR7l7cW1tFGxlecGN3bKLGkYLtIAGxxmg/8ABYj4b3Wr6t4e13wr8VvBvxE07ymtvAms+GH/AOEj1tJS4jksYLd5kuYz5b5dJCqBSXKAE1yur6bBe/8ABw/pE0sSSS2fwEnkgZhzEx10ISPfazD6E1e8d6bb3f8AwXs8ATSwxvLa/BnVZIXZcmNjqtuuQex2sw+jGqpxbVFS/wCXntPlyOq1bztTt1Wt7d98TBU5VOX7Kptf9vqne/lebffzPUv2Z/8AgoR4W/aQ+K2r+AJ/C/xA+HHj/R7Eas/hzxno66fe3diXEf2u3aOSWGaIOQpKSEgnBAqt8av+CjHhn4WfFbUfBGgeC/id8VvFOgxRza5ZeB9DXUV0BZF3xi6mklihSRk+YQh2lK4OzBGeO+LMCL/wWm+DUgVRI/ww8TKzY5YC+0wgH6ZP5mvnX9gT4M/FDx78av2ltD0n9ojxJ8LvFGl/FXVr/VfDlr4Z0PUZJbe5Mb2V95l5bSTmOS38tV+bYPKwAKik/aqNtPdm3/27U5Puad3u77WWqymlDmv/ADRX/gUOd/jovVXu9H9qeHv2+vh94x/ZM8U/GPR5tX1Hw54Ls7+51nTxZG31fTprJGe5s5bacxmO5TaRskKjJBztIavMtT/4LG+BG8Gw+LPD/wAPvjV418BC1S8vvFvh/wAKG70fTIygeQvIZVeYQjIla2SZUZHBbKmuI+Kn7GFx+yV+wF+15qOofETVviLrnxF8P6prer3l9p1nYNHdrpTQkiK1RIlLRpEThBnGec5r3n9jfQbPQP8Agmz8M9PtLeOGzg+HWnIkQGVA/s6PPXrnJznrmirLlpVay+xGDt0vJTclfRtXjZbPrfvcIpypQf25VF8ounyv1tLzXkeWf8FMP+Ck0/7P/wCwzpPxI+Fun654rj8bNpx0bX9JsobixsYLm5t1WWXz2UBpElKRoUYmRgGCgEj6E/Zz+Pd78f8Aw1f6hffDr4h/DeSyufs62Xi+0tba5uhtDebGLe4nUpzt5YHKnjGCfzH1WZn/AODXT4UzyuTHbXHhySWRzxFGniODJJPRVUfQAV+vUcglQMpDKwyCDkEV11aMabqR3tUlFeiUGvzZ52GxEqypztZSpwl8253+6yPN/wBqSf4pP8PILD4R2/hlfE2r3iWUuq67M32Xw9bMrGS98hRm6dMALDuQFnUltoavEv8AgjnrvirU/gV8RrDxh4z8R+PtW8N/E/xFoi6xrdyZrmeK3nVEAH3Y04JEaAIm7CgCvrevkn/gkL/yTz42/wDZafFv/pYK58PpUqLvBv8A8npLT736316W68T/AA6b/wCniX306z1+5eStp1v638Of2zfCnxP/AGtPiB8GtPs/EMfir4b2FjqOqXFxYhNPmju03xiGXcSzAHkMq99pba2K/wDwUO8T6l4K/YN+MusaNqF9pOraX4L1a6sr6ynaC5tJktJWSSORCGR1YAhlIIIBFeiaP8T/AAxr/j3V/DFh4g0O88T6DDDPqmkwX0Ul9p8coJieaENvjVwCVLAA9q8t/wCCmn/KOr45/wDYiaz/AOkUtcmMbWEk+vK9e++qO/L0njaae3NHT7vz39GeI/8ABFX4zeLLj4e+J/hT8Q/Emu+KvFvggWGvafq+uX73uoatomr2q3lrJJM/zStFI08BboPKUcdK8j/4LuftI+PF15PDXw48Z+KPB1r8KrDTvFXiq98P6pNYTXE+oapb2FhYSyRMpMbxtezMhPPlxk9q6j4i+ILL9jS8/ZQ/aKu7iLTPCk/hHT/hz48u3O2KHT7y0hmsbqU9AsF5GAWPRbhu1eWftIaDe+Mv+COHxZ+NWt28kOv/AB78Y6P4qRJgfNtdIGrWUGlW59AtnHG+OzTP3Jr1qsU8ZF9ITUZf4lNRin5yi1Ub2umjx8DJvCxct6kVJeko3m/RSUoW6KUWfpZ8d/jvY/s9/DyPXr/RPGHiQyzx2dvp3hrRLjV9QupnBKqsUSnaPlOXcqi92GRXnfwA/wCChvhv43/GRvh3qng74kfDDx1Jp76tZaL400ZLKXVbSNlWSa2lhlmglCF13KJN655Xg45v9sL9pLx9pf7T3wn+CHw61Hw74T1f4lafqerXfijWLI6h/Z1tYpEWhtbXfGsty5lGDI21FViVboPAfF+j658P/wDgtv8As2+HvEnxl1n4m68vh/xNeT2F7pml2H9iwyWiBCq2cET7ZmibAmZz+54PUnloLnqJPaXPb/t2Mtv+3otO/S9u76JvlpXW8VFv5tb+qat5teh9n/B39rTw58Yfix8QPAy2Wt+HfFfw3uo49S07WYYoZLq1lTdBqFuUkdZLSUBgr5DBkZXVCMV4x8eP20/hx+0R/wAE6vjJ44mT4n2Hwv0SK+0yTXvDzQWWo63DA4ilu9IkM3zR+ZuRZJfLD7GwGXk+Ef8ABYjwprn7Sv7RWneFfgdZapd/FPwR4Yu7rx/faRqf2Av4YuVOdCklCODd3rIWgU4aPY0mVDZrvf26PiR4D+K3/BAHx/rHwyit7TwO/gM22l2UUXknTEiKRG1ePrHJCyGNlPIZDXDjKjjgKtfrGD9G1ze96Plt683RRcuukv8Aa6dPvJP0Wj5fXW9/5eXduXL7z8bv26fh7+xvoPwttvF1x4hisPiATpuk3ph+2SLJFZG4RZwGMsksoURosSSPJNIqhfmzXFR/8Fgvhz4Y8bJofxC8KfFX4Qz6hbS3Wiz+M/DLWcPiPywC0Vn5Lys9wQwxbsqzMSAE3EA8H+2ppNtrX7RH7BkN3BHcRL4tmnCOMgPHoc0iN9VdVYe4FdD/AMFQ9KttX/aa/Y6juoIp41+K3mBZFyAyaZeOp/BlUj3ArsnJyxFSH/T32fyap6+qc79rK3W64acrYeMrbUuf5rn08laNvn5a9v8ADP8A4Kc+FfG3xv0HwD4h8CfFv4Zax4w81fDc/jLw3/Z1n4heOMyPFBKskm2UIpbyphG+B93JAPp/hr9pTQvFX7TXir4VW9pqyeIfCGiafr15cSRRiylgvZLiOJY2Dly4Ns+4FFABXBOTjwr/AIKkQq3xI/ZUkKqXj+NOl7WxyubK+BwfcUz4Uaza6d/wW0+MOnTzJDe6n8MPDdzaQucNcxw3uorKyD+IK0iA46bhRT95w/xTi/8At2lzp/ir+nmaVG4OS/uwl/4FVcGv/JdPU9x1P9qXw/pX7WulfBqSz1g+J9X8MXHiyG6WKP7AtrDcx27Iz+Z5glLyKQBGVwD8wPFeVa1/wVb8ExeP/HXg/wAPeDfij478a/D7Wn0bU/D/AIa0OO+vMLDFL9r3ecsMVs3m7EaeSJpHjkCo2w1weteOdK1//g4L8PaNZ3kNzqOg/Ba/+3wxsGNq0uq27orY6MVG7B5wynuKv/8ABL7SbaH9qb9si+WCMXlx8VBBLMB87xx6ZaMik+gMjkf7xrKnJy9mn9qFWXzjXUI/+S79zWtaDaS+1Bf+BUuZ/ib3hn/gsF8OPiJ4a3eD/C3xV8Z+Mba4ntdU8EaT4Zc+I/D8kLbZBfwyvHDa8kBTLMA5JCFirY9Z/ZL/AGxfCX7ZHg3VdU8Mw69pV94d1F9H1zQ9e059O1bQ7xFVjBcQNna211IKllIPBODjwv8A4Jv6VbQ/twftnXiQRLdTePtNheUL8zouj2zKpPoC7n/gRrR/YZhWD/gol+2OEVUDeIPDbsFGMsdFjyT78CtaPvpSf2qcZ+jfJovL3nvd6LXoYzbUml0nKPqlza+t4rysdR/wV88c638NP+CZvxm17w5rGqeH9c0vw5LPZajpt3JaXdpIGTDxyxkOjc9VINeFfEn9g7xh+z3+yprHxS8AftNftB2/jDw14bfxJHH4w8XnxDoV2YbY3Dw3FtdRsojcKy7lIZcg5OMH2D/gtl/yii+Ov/Yrzf8AoaVxXhL/AIJp+P8A47/B3SNB+MP7S3xE8eeBtRsrZrzw3pmh6V4bt9Qt9iMLW4ntYPtDwkfK6iRd44JHNckFOVasoPlfLTs+13V/4HTW1mdPNCPsnUV43ndd7ez/AK30voeweBf234Ln9h74c/FzWvC3izUbvxzomm3y6J4X0S41e9a5u7dZfLjiiBIQHd+8kKoABuYZqP4Af8FDfDfxv+MjfDvVPB3xI+GHjqTT31ay0XxpoyWUuq2kbKsk1tLDLNBKELruUSb1zyvBxyX7VXxy8Y/D/wDaI+Dv7Pnwon8LeBZvHGlajeHX9S0830ej2OmxwgW1lZh40knbzFxvbYiIx2t0HhXi/R9c+H//AAW3/Zt8PeJPjLrPxN15fD/ia8nsL3TNLsP7FhktECFVs4In2zNE2BMzn9zwepPo3hVxDlBWhNz5fSKk9PRxad90nbu+R81OhaTvKKjzfNrfbdNW63a9D6X/AGdfGfg2+/bO/aNg0a9+Idx4k0KbRF8R22r3yzaLbMbAyQf2ZFvJjDRn97uC5cDGQK5r4Y/8FevAnx0tPBcngHwR8W/HX/CWfZze/wBh+HUuovCImlMa/wBqT+cIIGGC7IkkjiPD7drKTzf7HX/KR79tv/r78M/+mU1Y/wCCAnhbT/C//BKT4YmwtYrY6l/aF9dFBzPO9/cBnY9zhVH0UDoBWdNXipS2UaT/APAou69NPlsbVNG7buTX3Ja/8D59LP234Cftp+EP2gP2aL74qWUWr6F4f0htSTU7fWIY4r3TH0+WWK5SVI5JEBUwueHOQQe+Kp/skft3+Cv2yP2YG+LHh6DXdF8P27XqXtprltHbahprWrMJVmjSR1U7VDj5z8rqTgnA+CfjlNe/D3x9+0R+ytpkzWd38dviPot7oQRsMml69G0usOgxwsa6dqGfdxVj9tzxDefsieKP2lfgp4ezan9ofTNCvPBMIbaEvNSmh8P6iiY7oBbzYH9/nrmsU6lSH7te9OKUF/095YylHfb3mr94tXNGoRqWnpGMm5P/AKdOTjB+r3fkfTev/tV/D39o7Uv2TvGsyfFrw+fiRrdzfeELK3ngs4p2/s+4fGrRLMweBoQXQIXbcUzgFhXa/GP/AIKO+H/ht8Vta8E+HPAPxW+LHiPwssTa/b+CdCS9i0IyxiWKOeaeaCLzWjIYRI7vgg7ea8m/bE+H9j8J/wBpf9hHwtpkYi03w34qvNLtUAwFih0C4jQfkor0L4r/ALD/AI58I/GnxT8TvgT8SYvBHifxk0N14g8O+IdLGr+GfEVzDCsMUzorR3NrKY0RGkglwQi5jJGSc8XUq8nwKpJL05KbV/vd7a7JIxhzOMOf43CLfrzTvb9L6b3PUNE/a08KTfs13HxV8Qx694A8LafbTXWoJ4s0ubSb7TFhdkcTW8g3hty4UAHfldu7cM+V+Ef+Crng7VvFOg2viTwB8YvhvoXiy8i0/QvE3i7wudP0bU7iU4hj8wSPJbtKcBPtMcO7IxXy/wDt4ftQeJP2xv8AgkmPFt9Zf8IRe+CvifYaX44l0p01SzsE03V0iuby3MiFLi3SQRSgSIVwpVwQpJ9g+NX/AATX+IH7XXwNuPD/AIv/AGuvGPibwL4gS2vH8nwn4ct4rlI5I7iGVLi3tUdRvRGDI4zjrg1tTtKbk9I8yX/brjGXMuuql7ulrp79HpZRvrr6pqTja22jXva9V8O7+4qKis4GtrOKNnMjRoFLkY3kDGalqXuKLbV2FFFFAwooooAKKKKACiiigAooooAKKKKACiiigAooooAKKKKACiiigAooooAKKKKACiiigAooooAKKKw/iP8AE7w38HfB134h8XeIdD8LeH7Db9p1PWL+Kxs7bcwRd8srKi5ZlUZPJIHU0NpbjSbdkZXwp+APhL4I6t4tvvC+k/2ZdeOtak8Q64/2qab7dfSIkbzYkdgmVjQbUCr8vC5Jrh/2h/8Agnj8Hf2qPHdj4o8beDkvvEunW/2OLVrHU7zSb17fOfIkmtJonliySfLkLLyeOa6D4V/tl/CD466+dK8EfFX4beMdUC7zZ6H4mstQuAvPPlwyM2OD27V6TQ4aRutrW8klZW9FovLQFN3dnvv89dfnqebfBr9kL4a/s8+Jp9X8EeENL8MXtzpFroMhsN8UTWdtJNLDH5W7y8h7iZi+3exc7mbAxsfA34BeEv2bfA7+G/BWk/2Nor393qbW/wBqmuM3F1M8877pXdvmkdmxnAzgAAAV2NFHXm66/i7v73q+71FbS3p+CsvuWi8tDyH9qL9gv4Q/tnrp7fErwPpviO70lWSx1ASzWWoWat95I7q3eOdEPdQ4B7irP7O/7EXwq/ZS8Dav4b8B+DNN0bSPEJzq0Uskt9JqvyGP/SJbh5JJhsJXDseCR3r1WuK+NP7Q/g/9nmHwzJ4w1f8AshfGPiC08L6Ofsk9x9s1K6LCCD90jbNxVvnfagxywojH/l3FfFpbu29F53dtOrHZyalu46+lk7vysr+iueS+A/8Agkf+zt8NdYlvNJ+GlhHuWdIbW51K9vLHT/OVkkNrazTPBasVdxugRCNxwRXV+Pv2AvhN8TfhD4Q8C6v4Ynfw34Bs47Dw/Fa6zf2VzpcEcSQqiXUM6XH+rRFJMhLbeSTXslFG65Xtp+F7fdd27XfcV2ndb6/jv9/U8s/Zw/Yo+F/7JMmpzeAfCdro1/rewajqU1zPqGpX6p91Zbu5kknkVecKzkAknHNem6hYQatYTWt1DFc21zG0U0MqB45UYYZWU8EEEgg9amook+ZWlqC913R84+Cv+CSH7Ovw88Ty6rpPwx0u3kd5ZYrOS+vJ9NspJAQ8ltZSTNbWzkMfnhjRhngivXPDX7Pngvwn8CrD4ZW3h3T5/AWnaTHocOi3ym+tmskjEawSeeXMq7AAd5YnuTXZUUfZcOj6el7fdd/e+4XfNz9e/U+Zfhr/AMEcf2a/hF8SdP8AFmg/C+wttZ0e8j1DTvO1S/u7TTriNt0csFrNO9vEyHlSkY2npivpqiinzPl5eiCyvfqfnD+wF+w78Lf2ufDXxyuPH3hVNV1DTPjV4strXUbS/utL1CCB7iMvALq0lim8pjyY9+wnkivuX4Rfs1eA/gH8IV8BeDPC+l+GvCKxSxHTrCMxI4kBEjMwO9nbPLsxY+tdzRSsvZKlbRRjF9nyxUbtedr/ADG23VlV6uUpLy5pOVvle1zl/gt8GfDf7PHwp0LwR4P03+yPDHhm0Wx02y+0S3H2aFfur5krNI3XqzE+9cB+0T/wT2+Dv7Vfi228QeNvBcF94itLf7ImsWF/d6RqTQdfJe5s5YpZIuvyOxXk8cmvZ6KJ+++aWrFH3Fyx0Wx8+/G74R3f7IP7APjvRf2cPCGm6H4h0bQ7u58O6ZplkjmS9KE+YEbPnTnkjzNxdgoO7pXwxonwm/4Jra14ZhvNd01Nf+It1F9o1SxlOunxjd6i4DzM9jEVuEuGlcn5I1UMflwAMfrTRSs3Nzb1dvVWvs/O+vouw72iorZX9He268raer7nyJ+wv+yhffFX9hb4Uab8eNI13VNc8F+If+Es8P22uX9wmqaObe7nfSvtbpIGknhtpI1ZJS4z8rhitfU/jbwTpHxJ8I6loHiDTLHWdE1i3e0vrC9hWa3u4XG1o3RgQykHkGtSiqm+ZOL2fR69Em33bSV29XbUUXKNnfVbeWrdl2Sbdl0Pmnwx/wAEff2cvCWgatpdr8Nreax1jTbjR5Ir7WNQvvsdpOmyWG0M87mzVlO3/RjHgcDFeteJf2ZfBHjD4jfD/wAW6jon2jxB8LVuk8MXf2y4T+zBc24t5/kVwku6JQv71XxjIwea7yihSad1/W/+b+99w228/wAdH96Vn3OO8f8AwB8JfFH4i+C/Fmu6T9u8QfD26uLzw/dfapov7PluITBK2xHCSbo2K4kVgM5AB5qX4h/A7wt8VfFvhDXNf0v7fqngLUn1fQp/tM0X2G6eCS3aTajqsmYpZF2yBl+bOMgEdZRS/wA7/Pv66IHrv2t8tdPTV/ezxD4+/wDBOH4L/tN/EeLxf4x8FpeeJ47ZbN9TsNUvdKuLuBTkQ3DWk0X2iMf3Jd644xius+DX7J/w6/Z58Sapqvgjwnpnhi71nT7DSrtdP3xQPbWQlFsiwhvKTYJ5eUUM275i2Bj0OiiPurljogeur/rb/Jfcj5r+Lf8AwSB/Zv8Ajj8TLzxf4j+F2l3Gu6nKZ7+S0v7zT7fU5D1e5t7eaOGdj3MqMWyc5ya9em/Z08GTfGbQ/iCdFUeLvDWizeHtNvluZlFrYTPG8kIiD+UQWijO5kLDbgEAmu2opKKikl028tGvybXo2gfvNt9f87/mk/VHjH7RP/BPb4O/tV+LbbxB428FwX3iK0t/siaxYX93pGpNB18l7mzlilki6/I7FeTxya7X4L/s+eCf2dfhpD4P8DeGdK8L+GoN5WxsIfKRmf77ufvO7d3Ylj3NdlRRZKLitnv5g221J7o5D4EfAjwp+zN8KNI8D+CNK/sTwvoSPHY2X2ma58hXkaRh5kzvI2Xdj8zHr6VzFn+xD8LrL4L+Nfh4nhWJvB3xE1C/1TxDpsl7cyLqNzev5lzJvaQyR735xGyhT90LXq1FOfv359eZWd+qe6fdOyBaNNdHdeT11Xnq9fNmN8Ovh7o3wl8A6L4X8OWEOlaB4dsodO06ziJKWtvEgSOMEkkgKoGSSTjk1jeKP2fvCPjP40+FviHqWk/afGHgq0vbHRdQ+1TJ9jhvAi3C+UriN94jTl1Yrj5SMmuyoqnOTlzt6669ddH96bv6k8keXktppp6ar7mk16BXHfDj4B+E/hJ408ZeIfD+k/2frHxA1GPVdfuPtU0v2+5jhSBJNruyx4jjRcRhV4zjJJrsaKnZ3Xp8tHb70vuRW+j9f6+9/ecL+0D+zR4D/ap8Df8ACN/ELwvpfinSFmW5hiu0O+1mX7ssMqkSQyDJw8bKwyeea539m79hL4Ufsk6pqOoeA/CEGl6xq8YhvdWu7251TU7qMHIje7u5JZzGCBhN+0YHHFeuUUR927jpcJe8kpa2Pyk1bQf2Y/iz8WvHt9+23BZWnxctPEuoafpkHilr7TLNdCjuXGmpphiKQXETQsrlkLytI77zwoHrn/BOP9n7wx4n8afHHQvA3h/xbpv7J/izRLPRdI0jWm1K1t9TvJI7hNSn09bpxcxWrxSQpvXYrOCY/u5r7/oqacVGChLX3beT0s3Jdb7/AOL3txzlJz9onZ3un1Wt0ovpbZf3dDD+GPw30X4OfDjQfCXhuy/s7w94Y0+DStMtPOkm+zW0EaxxR75GZ22oqjLMWOOSTXimp/8ABKL9nzV/ilf+MJ/hrprarqt8NTvrdb27TSr663BvPm05ZRZySFgCWeEknkk19D0VpKUpT9rJ3l36/eJaQ9mtu3Q8ru/2KPhhe/s/eJvhY/heMeAvGFxe3Wr6THfXMa3Ul5cNc3JEiyCWMPK7NiN1C5woUcV1HxN+B3hb4xfBnVfh94j0v+0fCGt6a2kXth9pmh861KbDH5kbrIvy8blYN711lFZ8kWmmtGkvkr2Xoruy6XY+Zp8y3Tb+b1b9XbU5fxb8GfDXjn4N3/w/1TTftXhHU9IfQrmw+0Sp5tk0XktF5isJBmPjcGDd855rF139lfwH4li+HSXuhecvwnuYrzwoPttwv9lSx2zWyNxIPNxC7LiXeDnJGea9Coq3JuXM920/mtU/VNtp9COWPKo20SaXo7Jr0aSv3suxxvxX/Z+8I/HDWfCGoeKNJ/tO78Ba3H4i0KT7VND9hv445I0mxG6iTCSuNsgZPm5XIFSfFj4F+FfjhJ4ZbxRpf9pnwdrlv4k0g/aZofsmoQB1im/duu/aJH+R9yHPKnArrqKSbVrdHf56a+ui18l2Ksrt91Z+munpq9NtX3ONh+APhK3+Pc/xPTSceObnQ08Nyal9qm+awWczrD5W/wAriUlt2zfzjdjimfBv9njwf+z/ADeK5PCOkf2S3jjxBc+KNbP2uef7bqVwEE0/7122bhGnyJtQY4UZNdrRTTaVl2a+TfM16OWr89dxtt3v1s/mlyp/JaLstNj56/al+D+o/Az4J/Hn4ifBLw+//C5/GujC8M0byXcmpXlpbGG2KQSu0QkSPIVEUB2C7gxNfDeifCb/AIJra14ZhvNd01Nf+It1F9o1SxlOunxjd6i4DzM9jEVuEuGlcn5I1UMflwAMfrTRUKOrfkku6tfZ9N19y7DcrpLzb9b2372tp6vufPP/AASv8L+PvB37Dng+x+JH9upr6NdyW1vrkpl1Sy057qVrGC7ZiWM6WphVtxLAjBOQa9V+GnwC8JfCDxZ4w13w9pX2LV/H2prq+v3b3U1xJqFysSQqxMrtsVY0VVjTaigHCjJz2NFaSleXMu1vO2m763aTfdq5mlZW87+XXZdLXaXZaHHfHf4BeEv2mfhvc+EvG+kLregXU9vdPb/aJrZ1lglSaGRJYXSRGSRFYFWB49CRXmfxk/4JifBP4+/EC/8AFHifwrqdzrOrbDfyWfifVtNi1Daiovnw21zHFL8qhfnQ5HB6mvfaKiy/r5f5L7kVdnlniX9ij4WeKvgNp/wxm8GaXaeBNJdJLDSdNaTTY7F0LFZInt2jkjfLMdysGJYknJNZX7Pn/BPX4P8A7L3jKbxH4O8HrbeJJrc2h1nU9TvNZ1JIScmJLm9mmlRDxlVYA4GRxXtFFVd8zl1e/mKyso9EfLP7X/wg1P8AZM/Yw+Muq/s/aBqNj428X6tJ4p1P+zvN1K+ubq5mgTULu2hmaQGcWyOyRIuzci7UJOD8eah8G/8Agmg3haeXQNC/4STxwbd3t9M0OTX7nxfLeFcj/RYnFxFcFyOXVAGJyVAOP1porNwvdPskmt0krJJ9EktFbT7ktXUbd3rq277NvW77vuz5k/Yt/Ze1TxV+yt8ANS+Olje6z8WPhnZ/2jbXd7fzG7027lhkh/flJNs8wtpBG/mbxuDH73Ne1fGj4A+Ev2hdJ0Wx8YaT/a9r4e1q08Q6en2qa3+z31o/mW82YnUtsbnaxKnupFdjRW1SfNVdVKzcub/t7Sz9VZWe+i7GFOPJBQ7Ll+Wunpq9PNnFP+zx4Pk/aFT4qnSP+K9i8Pnwuuqfa5+NNNwLkweTv8n/AFoDb9m/tuxxUl78AfCWofHmx+Js2k7/ABxpuiy+HrbUvtUw8uxlmWZ4fKD+UcyIrbihYYwGA4rsaKi7VrdL28r3vbtfmd+933Zo25Xv1tf5Wt91lbtZdjk9X+B3hbXfjRovxCutL83xh4e0y60bT9Q+0zL9ntLl4pJ4/LDiNtzQRHcylht4IBOfPf2nv+CcPwT/AGx9ettX+IngLT9Z1uziFvFqttdXOmaj5QOREbm0kimaMEnCM5UZPHNe3UUuVWSttt+L/V/ew5mm2uu/9fJfceS+AP2FfhN8K/2fPEHws8O+DLHSPAviuK5i1jTreedW1L7TEIp3ln3+e0jxgKZDJvwowwwK9A8J/DzR/A3w807wppdn9l0DSdPj0q0tfNd/Kto4xEke9iXOEAGSxY9Sc81tUU5NzTUtb2v52ulf0u7drsS0tbpe3le17etlfvZdjzbwn+yD8NvBX7M8HwcsvCdhJ8NLewfTE0G9eS+gNszFzGzTs7v8zEgsxIOMEYFH7NH7I3gD9kDwtdaL8PtHu9G029kSSSG41e91HGxdqKjXUsrIijgIpCgdAK9JopuTcnN7vd9+uvfUlQioqCWkdl26adtArkfhB8C/CvwG07W7Xwppf9lQeI9au/EWor9pmn+0X90++ebMjsV3NztXCjsorrqKS0d16fLR2+9J/JFPVWfe/wA7NX9bNr0b7nA+Ef2YPAXgT48+KfifpPhy0svHfja1trLW9WSSQyX0NuAsSlSxRcALkqoLbV3E7Rjovib8N9F+Mfw613wn4jsv7R8P+JbCbTNStfOkh+028yGORN8bK65ViMqwIzwRW5RSaTjyPba3S3YcZOM/aReu9+um35I89+Jv7K3gD4yfs7S/CfxN4dg1f4fzafBpb6TLcTAfZ4NnkqJVcSgp5aEOH3ZUHOan+Ln7M/gf46/Bc/DzxRoMeoeDdtqo0yO4mtUVbWSOSAK8Lo4CPFGQA2DtwcjIru6Kpybk5vdtP5rZ+q6MmMVGKjHRLReS02+5fcjzP9pT9jv4bftfeHtM034ieF7bxBFotx9r02cXM9ne6bLgAvBcwPHPESAM7HGcDOcVjfCr/gnz8Hfglr/h7VvC/gex0vV/C9zd3ljqIuriW8aa6hEE8k80kjSXLPEqrmdpCAq4xgV7LRSj7t+XqN62T6bHF/CH9nnwf8CL/wAUXfhfR/7PvfGmrSa5rl1JdTXdxqV44CmR5Znd8BVCqgIRFACqo4rldQ/YQ+FOp/Dj4i+EJPC2PDHxYvJdQ8UaZHqd5Fb39xLt82RFWUC3LlQW8jy9zfMckk169RUuEZR5ZLS3L/27pp6aLTbRdh8zT5lvfm+euvrq9d9X3OG8Yfs3+C/H3iTwHq+raN9r1H4ZXT3vhqX7XOn9mzNbtbM21XCyZiZlxKHHOcZ5qx8TPgH4T+MXijwdrPiPSf7R1LwDqp1vQZvtU0P2C8MTw+btjdVk/dyONsgZfmzjIBrsaKrrzdb83z019dFrvouxNlbl6Wt8tdPTV6ebOR+KXwL8K/GnUfCt14l0v+0p/BOtReItFb7TND9iv4kdEmxG6h8LI42vuU7uVOBXJftL/sKfCj9r6+0m9+IHhGDWNU0HcNO1S2vbnTNSslblkju7WSKdUJ6qH2n0r1uilZWt53+e1/WySv5Du7362t8rt29Ltu3dvueS/CD9hX4TfAPxdpGveDvBWnaBrGh6ddaVbXVtNN5jwXUsMtx52XPnyO8ERMsu+T5PvYJz1Pww+AXhL4NeJPGGr+G9J/s3UPH2rHXdel+1TTfb7wxJD5u2R2WP5I0G2MKvy5xkk12NFPqn2TXybu16N6vz13FZbfP52tf7tPQ474cfAPwn8JPGnjLxD4f0n+z9Y+IGox6rr9x9qml+33McKQJJtd2WPEcaLiMKvGcZJNP8D/Avwr8N/iL4x8WaLpf2PxB4/ntrrXrr7TNJ9vkt4BBC2x3KR7YgFxGqg9Tk8111FC00Xa3y009NFp5LsP8Azv8APv66v7zlvjb8FvDP7Rfwo13wP4y03+2PC/iW1ay1Ky+0S2/2mEkEr5kTJIvQcqwPvXQ6VpkGiaXbWVqnlW1pEsEKZJ2IoCqMnk8AdasUUkkm2utvwvb7ru3q+4b2v0/Xf8l9x5p+0t+x78N/2wNA03TviJ4XtvEEejXP2vTbgXE9ne6bNwC8FzbvHPCTgZ2OM4Gc4rF+FX/BPn4O/BLX/D2reF/A9jper+F7m7vLHURdXEt4011CIJ5J5pJGkuWeJVXM7SEBVxjAr2WinH3b8ulwl71ubp/X6nFeDv2efB/gD4j+N/F2kaR9k8Q/EZ7aTxFd/ap5P7Qa2h8iE7GcpHtj+X92q56nJ5qb4EfAjwp+zN8KNI8D+CNK/sTwvoSPHY2X2ma58hXkaRh5kzvI2Xdj8zHr6V19FF2lZeX4bfd07BvuebeJf2Qvhx4v/aZ8P/GLUfDFtdfEnwtp0uk6XrRuJg9rbSeZvTyg4iY4lkAZkLAO2CM0nxd/Y/8Ahx8ePi74D8d+LPDFvrHiz4ZXEt34av3uZ4zpssmze2xHVJOY0IEisFK5AB5r0qihactvs6ryd27rtq2/VsH7179VZ+ataz7q2nocd8RfgF4S+LPjjwZ4k8QaT9v1r4fX8up+H7j7VNF9guJYWgd9qOqyZjdlxIGAzkDODXmnxm/4JjfBT4//ABC1DxT4o8K6lca1q5Q6hJZeJtV02HUCqqg8+C2uY4pflUL86HI4PU175RUqMU7pefz0X5JL5LsO7/r5/wCb+9nK+Cfgf4O+G/wpg8C6F4X0LS/BttavYx6Jb2Ua2PkPnfGYsbWDbm3ZB3bjnOTXg/hf/gi7+zH4M+IVt4m034UaZbahZXa31tb/ANpX76bazK4dXjsWnNqhVwGG2IYPIr6ioq7vn9p9rv1+8my5PZ/Z7dAooopDCiiigAooooAKKKKACiiigAooooAKKKKACiiigAooooAKKKKACiiigAooooAKKKKACiiigAooooAK+Of+C9Vul3/wTC8bRSokkUmp6Gjo65VwdXswQR3FfY1fG3/BfXTodY/4JceO7S5jEtvdajokMqE4Do2r2YI/EE0teeFlf3of+lI0pWvr2f5HFf8ABYv9mH4C/C39grxdr0PgvwL4N8e6baLP4I1HQ9Lt9N1sa2GU2aWjwKszO0wQFFzkZyOOO2/aP/bz+If7K/jH9mvwd/wiVr4v8S/FrSb+01DT/mhu5NYt7K1eJUm3eXBD50shmd0fbGhIGVw3ofwA/wCCVP7On7NHiSx17wV8IPBmka7YHzbTUntDd3do/wDfilnLvG3J5Ug4OOleY/t1f8paf2I/+vrxn/6ZlrWlC8/ZX0k7vytCW3m+rt0jo7axRgp++/sQm15vl5lfyTjtfrLudn4u/ao+KH7Gv7LHivx58ebDwBrWuw6jBZ+GtE+H63o/tGW5aOG1sme7JLTPcPtMiqq7Pm2DBFcZ8Tv2m/2rP2Wfhxd/FL4j+DfgzrngDRYhf+IfD/hW71BfEGhWOQZZo7ifNvePChLugjh3BG2seDXcf8FZfgt4m+L/AOyzZ33g7SZvEPiP4eeKdH8bWujQn99rA0+7SaW2j9ZHiEmwd2CjvXkn7W3/AAVE+G37T37K3jX4a/CqTXfG/wAWPiDolz4asvB0Oh3kGp6ZcXcTW7NfpJEq2ccPmMzvMVXEZ2luK5+efLOVNXmnaMe65Y203fNLmTfS2jT1ekIQc4Rqu0H8Uuz5nfXb3VZpdbu91ovZv2tv25774b6T8MND+Fei6b45+IPxsnKeEre9u2ttMitUgFxPqN1IgZxbxQsrEINzF1UcmvlH/go94r+OOj6/+zL4f+MWlfD7UIdQ+N/he7sPEHgkXcFrFPHO4a0ubW7d5E3JIzJMkrhvKYMkeVJ7r9oL4P337BfiT9kP4kXlpq3iHwb8CvD914I8XXOm2Ut9Pptrc6db266kYYlaRoklthvKqSqyZx1rj/8Agol+2/4H/bI1D9nC3+FN1e+N9B0f42+FdR1nxDZWE8elaYDctDFCbiRFSSZ3l/1cZZkCEuFyM91FU442kqT5l7aC+Sqx5fvVpX6tuN7KxjRnU9jJ1fd/dS+bdOV/ne8OXWySlu0z7Cj/AGmNef8A4KSTfB77JpP/AAjMfw4j8Xi58qT7d9rbUntSm/fs8ry1Bx5e7dn5scVT+Mf7VHiH4e/8FB/gv8J7Kz0aXw78RtE8QalqVzPFIb2CSwjt2hELCQIqkzNu3IxOBgr38a/ak+Mel/sXf8FXfD/xU+IS3mi/C/xP8Mn8InxOLOa4sdL1OLUzdLFdNGjeSskTna74XKN6EjktQ/aZ0T9qv/gsl+zjr3gu21bUPBGn+GPFdrZ+JJrCa0sdZuXgtmlS1Mqq0yRqsWZUUxky7VZijAc+GtP2XX+LzfL2vLftooW+XcnH80HU5P8Apzy+j9lz27689/8At7seufEr9rf4y/G39oXxt8Of2edB+HP/ABbJra18S+KfHU162nC/niEwsLW2tAsksiRMjPIZFVS4GCevjX/BUzxH+0hpP7Mfwet9ZvvhBpOuav8AEvQLDV10qHUrqyuLn+1UksShd4nFvuhieZD85OVVwBuOt4H/AGkfDH/BKv8Aau+Pll8aJdR8J+C/ij4qTxt4X8WvplzdaXfGe1hhuLKSWGNxDPFJDwr43K4I7Z0/+Clfxo0X9pn9hfwF8VvAUeu+J/Bng/4laB4nv7i10S8S5bTrG/AurmO2kjWZ40GW3BMFFLAleayoSSVCo39qi5v+V88edeSi216JN31b3lfnqQXaaj5+6+W3dy0fq7K2y+t/2frT4lWXgZ0+KmoeBtS8S/anKTeFNPurGx+z4XYDHczTP5md+TvwRtwBzXc1wP7Ov7UPgH9rTwLJ4m+HPiWy8V6DFctZte2iSCLzlVXZAXVckB1zjoSQeQQO+rWaknaSsYxtbQKKKKkoKKKKACiiigAooooAKKKKACiiigAooooAKKKKACiiigAooooAKKKKACiiigAooooAKKKKACiiigAooooAKKKKACiiigAooooAKKKKACiiigAooooAKKKKACiiigAooooAKKKKACiiigAooooAKKKKACiiigAooooAKKKKACiiigAooooAKKKKACiiigAooooAKKKKACiiigAooooAKKKKACiiigAooooAKKKKACiiigAooooAKKKKACiiigAooooAKKKKACiiigAooooAKKKKACiiigAooooAKKKKACiiigAooooAKKKKACiiigAooooAKKKKACiiigAooooAKKKKACiiigAooooAKKKKACiiigAooooAKKKKACiiigAooooAKKKKACiiigAooooAKKKKACiiigAooooAKKKKACiiigAooooAKKKKACiiigAooooAKKKKACiiigAooooAKKKKACiiigAooooAKKKKACiiigAooooAKKKKACiiigAooooAKKKKACiiigAooooAKKKKACiiigAooooAKKKKACiiigAooooAKKKKACiiigAooooAKKKKACiiigAooooAKKKKACiiigAooooAKKKKACiiigAooooAKKKKACiiigAooooAKKKKACiiigAooooAKKKKACiiigAooooAK8F/4KG/tdS/sjfBEX+lxRXHifXbj7BpMci7kjfaS8zL/EEGOO7MnbNe9V8W/wDBYdNd8CWnwt+JWjW8F0vgTWZjKk8ImhV5vJaJpF/u5tyuexdcEEiscRLlptt2Wl32V9X8kfL8aY7E4PJMRicI7TS3W6TaTa9E2/kfnf4vvPiR8cvi9HpmuyeJ9c8ZX1ysMdpfGT7SsrYKqI2x5YwQcAAKPQCvvH4Ya34//wCCaniP4e6R4/8AHNp4q8L+OpVsLrTZ5me48NznGJIGZmZ4FLAOQAvJwuSCdlv+Ck/wX/4Vt/wt/wDsbTj8UhZ/2QNLwP7R8zrt34/49+/m4+78v3vkr4H1nxh40/bj/aU099SupdQ8Q+J7+Kzt1jBEVlGX4SNc/JHGCT9AzEkkmvnKlsPJQpy5ql7tra3RefMtX2/P8KjLBZFNYzA4p4nE1nF0+VtWi2r+0V9ZS1jyP10drfuhXM/Er4xeGfg+uhnxLq9vpI8SatBoemmVWP2q9nJEUI2g4LYPJwB3Irpq+OP2s/B/xC/au+OfibRPBPhrwZr2geB9Am8Pm71zxZdaI2n65fxxTm5gEGn3nmS20C2xUkx7TcuATk4+ncrNK1+/otflf4U9k2r6H9PpXT/rfT8N2t2k7an2PRXwHrHxl+GXxq+NPw41f48J4Ws9Lf4darZeIbHxK8Z8OWetWuq2VvcxXPn4ty6XCTLCZRk8lOTWp8KPhjafGLV/gjoXjLT7nV/CVwvjd9N0vVhJJFqWiC/hGmRXUUuTND9kNuwjlBBCxEg4qpe7BT0d21p5TlH8eW68n5ERknJxelreusFLbsr8rd9H6n3RXM+D/ipp/jXxz4s8P2sN5HeeDbq3tL15UURSvNbR3KmMhiSAkig7gvIPUc18c/Hqx+Geh+LfjDbfEKHQ7b4lWsnlfCeGWONNcitV0i2Fqnh5QBKHF4LkMLX5t+d/y7ayPGcPwpt/ir8Zrj42R6EPG72ujjQ21FQbhtTGhQ7homfmOoCU/wDLp+/wYO2ysZ1GlzRTasnp1um7L+8rWlHo2ld3NIQ5pqD63+Vmld/3Xf3X1Sbsj9A6r6rqKaPpdzdyBjHaxNM4UfMQoJOPfivz9/a68YWvjHwRZeEPiZb/AAq074ieG/h3aapp0vizw+2t65r2qzWs/wBoXRIlnhkS4gmgXMsBmkDSodiAAtv69qXw68SeNb25+Ns+j3GuX3gfRZfAEutsv2qWZ7Kc3TaOW+f+0TOfn+y/v8fZ+2yqxLlTVVR1cNLrVP47W7/BqvNEYeUajpNp2mr9rfDe/b4t+59l/Cj4j2Xxi+F3hzxbpkV1Bp3ijS7bVrWO6VVnjiniWVFcKzKGCsMgMRnOCetdBXwB8Ok+HCeGfhf/AMNBf8Ij/wAIEPhL4YHhMeLhD/Zg1bbN9u8nz/3f27Z9g2bf323Pl/x19T/sjR+I9T/ZJ8MJrFxqtlrU+myLbXGpRu9/BAXkFm9ws3zGcQeSZBJ8xfdu5zXXjKap1KigrqMmlbXZtWvprp/wTHDylKMFPdxi2/WMX+F7PzTR6pc3MdlbSTTSJFFEpd3dtqooGSSTwABXNfCH40+F/j34RbXvCGrw65owu57IXkMbrFJJC5jk2FlG9dwOHXKsMFSQQaueHfCM4+G9lofie9i8W3P9nJZard3VlFEmsP5YSWR4FHlqJDuJjA2jdgcV4foXxLn+Df7PHxV1jTIIZ9Yj8Y6vZaLaudqXWoT3n2ezh9g88kS+wJ9K45Taruktfdk1bq1KEUtbb83lqdCV4Rls3JJ36Jxk+nax6P4v/a0+HfgL4dXPizV/E9pY6Ba6pPoxunhlJmvIJnhlhiQIXmKvFID5asMRu2dqkj0avnX9o34MaX8Jf+Cd/iDQ0iivrnwv4QubSLUJ4w9w8jRfv5d5ywaVwWfB+YnmvZ/jB/ySXxR/2CLv/wBEvV4qSo0ZVN+W/wA7L9SMM3WxCpbJ29Vdvf0Vvnfvp0dFfAP7Hd18Or2//Zwk+FLaTL8Q5dKtm+I72rbtabTToUuTrZ/1xc3n2PyvtXzZz5fy7qvfDf41+F7j4Kfs9fD221myvfG/hnxppllr2h20glvvD0kQug322JfntgWAVTKFDl1253CrxMXSxEcOtbyUb+s1Bv0V7/h5mdKrz4f2+3uOVv8At1vlfZ6fc0/I+8KyvC/jfS/Gj6mNLu1u/wCx76TTbzarAQ3EYUvHkgZI3DJGRnjOQa+FNE+D/hvwp+zd4e+I1ppFl/wsCL4zCzh8SSQq+q29rc+OWtprSO4I8xLZoJHjMKkRkMcrkk1Mvhfwd4D8FfHLQ/CWm+GdF8cW/j2K68S2GjWsNtr48KzapZPdyeXCBcfZntDcFWUbT8207hRGLc+V/wB5eScXS3fa1Rt9lFvpZ66uEZrZyS+9Tv8AjFW73toffVFfEFjpHwk8SzfEfTvhV4q8E+CfgpP4QQa/rfh+e2h8K2GrfbTsO6J0tDI0QlS7VXV2RoVkZSymvVf+CdOv+Eb7wJ4j07wR4e+FWn6BpWooses/DaGKPw14jd4UZp4ViXYkin5ZI1kmCkD96xJAUfe120v5/E4/La67pprraXKzt52/8lUtPvs+zT8r/RVFFFBQUUUUAFFFFABRRRQAUUUUAFFFFABRRRQAUUUUAFFFFABRRRQAUUUUAFFFFABRRRQAUUUUAFFFFABRRRQAUUUUAFFFFABRRRQAUUUUAFFFFABRRRQAUUUUAFFFFABRRRQAUUUUAFFFFABRRRQAUUUUAFFFFABRRRQAUUUUAFFFFABRRRQAUUUUAFFFFABRRRQAUUUUAFFFFABRRRQAUUUUAFFFFABRRRQAUUUUAFFFFABRRRQAUUUUAFFFFABRRRQAUUUUAFFFFABRRRQAUUUUAFFFFABRRRQAVm+MfB+l/EHwvfaLrVjb6lpWpwmC6tZ03RzIeoI/UEcggEcitKijfRkzhGcXGSumfCHxD/4IV+Gdb8QyXHhrxxqugafI277Hd6euoGMf3VkEkRx6bgx9Sete6fshf8E8PA/7IU8mpad9q1zxLPGYn1W+C74kPVYUAxGD35LHpuxxXvdFcsMFQhLnjHU+YwHBWR4LE/XMNh4xqdHq7eibaXySCiiiuo+pOYn+FOn3HxltfHBmvf7WtNFm0JIg6/ZzBLPFOzFdu7fuhUA7sYJ4J5HT0UULSKitlf8AFtv8W2Ky5nLq9/kkl+CS+QUUUUDCiiigAooooAKKKKACqXiTQovFHh2/0y4aRINRtpLWRoyA6q6lSQSCM4PGQau0VM4KcXCWzHGTi1KO6MX4ceBrT4X/AA80Hw1YSXE1j4e0630y2kuGDSvHDEsaFyoALEKMkADOeBW1RRWk5ynJzluzOnTjTgoQVktEFFFFSWFFFFABRRRQAUUUUAFFFFABRRRQAUUUUAFFFFABRRRQAUUUUAFFFFABRRRQAUUUUAFFFFABRRRQAUUUUAFFFFABRRRQAUUUUAFFFFABRRRQAUUUUAFFFFABRRRQAUUUUAFFFFABRRRQAUUUUAFFFFABRRRQAUUUUAFFFFABRRRQAUUUUAFFFFABRRRQAUUUUAFFFFABRRRQAUUUUAFFFFABRRRQAUUUUAFFFFABRRRQAUUUUAFFFFABRRRQAUUUUAFFFFABRRRQAUUUUAFFFFABRRRQAUUUUAFFFFABRRRQAUUUUAFFFFABRRRQAUUUUAFFFFABRRRQAUUUUAFFFFABRRRQAUUUUAFFFFABRRRQAUUUUAFFFFABRRRQAUUUUAFFFFABRRRQAUUUUAFFFFABRRRQAUUUUAFFFFABRRRQAUUUUAFFFFABRRRQAUUUUAFFFFABRRRQAUUUUAFFFFABRRRQAUUUUAFFFFABRRRQAUUUUAFFFFABRRRQAUUUUAFFFFABRRRQAUUUUAFFFFABRRRQAUUUUAFFFFABRRRQAUUUUAFFFFABRRRQAUUUUAFFFFABRRRQAUUUUAFFFFABRRRQAUUUUAFFFFABRRRQAUUUUAFFFFABRRRQAUUUUAFFFFABRRRQAUUUUAFFFFABRRRQAUUUUAFFFFABRRRQAUUUUAFFFFABRRRQAUUUUAFFFFABRRRQAUUUUAFFFFABRRRQAUUUUAFFFFABRRRQAUUUUAFFFFABRRRQAUUUUAFFFFABRRRQAUUUUAFFFFABRRRQAUUUUAFFFFABRRRQAUUUUAFFFFABRRRQAUUUUAFFFFABRRRQAUUUUAFFFFABRRRQAUUUUAFFFFABRRRQAUUUUAFFFFABRRRQAUUUUAFFFFABRRRQAUUUUAFFFFABRRRQAUUUUAFFFFABRRRQAUUUUAFFFFABRRRQAUUUUAFFFFABRRRQAUUUUAFFFFABRRRQAUUUUAFFFFABRRRQAUUUUAFFFFABRRX5+/8ABwf4P/4WD8IvgVon/CH23xB/tX4s6Xbf8I1c6n/ZkWubra8H2ZrnB8kP034OM1LbvGK6uK/8CaXS76lximpN9Iyl/wCAxcutlrY/QKivzH+J3xY8efsGfA34BfCP4ZfB+/8AghrPxX8Raut/ovhW/sfF99o0VtGZmFlNqEkNnJcXAKP++O1FEgCMwGdHU/2xP2n4fA/wi+GviUN8LfiB8UfiJqPhi38X6zoenz339i21r9qhvDYwzy2aXkwPlFdzRho3wmCDVO19O6j01bcY6a2esl8k3bQizSUp6XTfolzavS/2H03sr6o/QzXfiT4d8LeLdE0DU9f0XTtd8TGZdH026voobvVjCnmTC3iZg8vlp8zbAdq8nArbr82v22/hb8TNO/bU/Yi8Ln4qLqPxD+0+MoW8bXHhu1Rgp05C0gsYyIPNEGUX+DeA5UjKVW+Fn/BRXx/qf7KPirwz4t+IWu/8LX0X4v3/AMK9B17wx4Osb3VfFclqEmBWxlKWUMrQs+XdliTYCQehvlvG8dXr8/fUNOu8o+bvonY1qU3CMJvZq7v0/iPXytTevTrZH6XUV8k/8Ejf2nPiF+0N8PPibpfxLnvL3xF8NfHV54WF3f2NjZajcQxwwSr9risZJLRZ1MrKxgcodoxzmqX/AATD/wCTkP2wv+yst/6a7GsnK1WNNaqUOdPy/d2+9Tv8jJ3UbvdS5befvX/9J/E+qNI+JnhzX/Guq+GrHxBol74i0KOKXU9Kt76KS905JRmJpoQxeMOBlSwG4dM1t1+Wmsfto/FL4c/sx/tG+IvB+qeHdK8VaJ+0qfCOlzt4eskt2s5L3T4fLukhiQzllmZXmYm4IPEoIUg+I/xx/ar8H/Ev9pnwLB8fNIlPwM8J23j2y1pvAdgL3UhLazT/ANmumTClv+4kG/Y03zJ+84OU6kY04znpdJ/+U41X90JfOztrZPd4ef1iWHWsk7f+TumvvkvldX0uz9NJfH+hQ+OIvDD63pC+JZ7NtRi0lryMX0lqrhGnEOd5iDkKXA2gkDOa16/PD4fftK+L/j5+1X8I9Uil0Dw9q3jv9mufxXJfQaDZ3F1p9/LNaODFcSRm48lWkJ8jzfKYgFlJGa8a+BH7WXxl/ZZ/4IsfC3x7beOdf+IHib4va/pfh/SVvdIsLiTwp9rvLpZ5ImYwi6kfZhPtk20SMgLBMit50pwvGS1UuX1k6tSkkvnD08+hzKalNRXVOXolCE236KfTX13P10or5e/4Jv8AxD+Onim58e6V8YdB8VwaVpF1aSeFdd8TadpWnavq8EsTefHcwaZPLbBoZUwGTZuSRcrnOPqGplHl+5P71f8A4cadwoorw39kr/ktv7Rn/ZQoP/Ud0WnTjzuS7R5v/Joxt/5Nf5F8vuuR7lRXybrv7R3ic/H/AMJa54b1X4iar4B8S+LR4VkS+sdCh8NNj7RDKbcgLq5mSeA4d90LbWwCpDDrP2x/C2r+Jvj/APASDTfGfiTwrHceJdQikGlxWL7mGi6g4kIubaYbgFK/3dsjcbtrCKX7xXXez8mkpa/KS+8zqSUG0+yfrdtfmmfQ1FfInx1/ac8TeHPifpniTwfq3xC1Xwnb+NtK8F6jC1noKeFvNm1S3067UtIF1Vp43kkAeEmHzF2kFVbFy7+Ovj3wb8GPjV8WNS8TXOp2Xw2u/E1vo/hm3sbKGzvI7OSQQtdStGJmkQptXy5oU2D95vYlwk7x5l2k/wDwHk/P2kbd79jV05J2fdR+b5tPlyu/nofV9FfI3wo+OHxX+Hdxr9/8RtL+KmmeBm0J7o654qt/Csl3Zaq88ENva6fBolxMZIpPObatzG7Bo0Bmfea6f9kP4q+OLn9obxz4C8XTeOru30nQdL1+xm8YRaEmqIbq51CGRAdHxbmDFpGU3qJQd+4sCuLULu3lf8Wreul9emvUhawc1srfjZJ+l5Jep9JUV8lftlftJeJvBOo+JfEPgTVviJc23wzkhttbs7Gy0IeG/tLCGZoLyS9C37kwXEZzYvhd6g7mBSvQfBWqeLfjj8fvHEyeO9Z8K+Hfht4jg0SPQtKstPki1oCxtLyV72W5tpZgHN1sVbd4Sqx53MW4mN5a+V/+3dFzej5la173vtcmUlGTj10+9309fdd+1j3SqXh/xJp/i3SlvtKv7LU7KR3jW4tJ1miZkdo3UMpIyrqykZ4KkHkV8p+HP2nPE2oftMfDTUNH1X4g618N/ixrN3p1nJrNnoUGhNbppt9ewzaf5AXVNxNqozdBkdGYjBKE8v8As/8AiHxn8GP2b/DPjqDxvealpU3j6bQJfCSafZf2a9te+KZrEusnlfa/tcfniQt9o8o+WR5QzkXGnJuC/maXzbsr/Mc+aNTka6N+vp9z3tsfaV94o03TNdsdLudRsbfUtUWR7K0lnVJ7sRgGQxoTucIGUttBxuGetX6+RJviX4vk8Jal8dh4maP+zPE1z4YHhT+yrBrKXToddOmtH9o8j7d9qfYZVxciISsqmEgZPon7dXxt8U/CzSPA2h+D9P8AE17rHj7X20bzPDo0o6raxJY3V272w1SWKy83FtgGYsACxEbkAVnd2137dv0/p/OtHJror6+m/wCX5fL2nWPE+m+HrvT4L/ULGxn1e5+x2MdxOsT3s/lvL5UQYgu/lxyPtXJ2xscYU1er40t/EXxG17U/gfH8SNC8RaNfaf8AF2W20qbxA+knVdUsP+Ec1RkuLpdLmls1l8xpoyIigIiVvLTdivX/ANt34ZfCnV/hbe+MPiR8MfA3xHu/DNq0Wj2+u6BaanPLcTukcNpAZ0ba085hjABALMuelVUThBS39PRP79bW7+ZbhrGK+0r6/wCOcfu929z2yqWpeJdO0bUdPs7y/srS71aVoLGCadUkvZFjaVkiUnLsI0dyFyQqMegNeVfAn4S2P7EX7G8GjaZpWlxN4V0i61W6s9KtltbSa9YSXVyIIkAWONpnk2IBhVKgDArxuxtfGB+I/wCzT4s8T+PLzxj/AMJVqF3q81g+nWcFrpk8nhy+lCWDQRRyfZwGkXFy9xIcxnzBghh8ilNX0hZt+vNb7+VnPKbUIy6yvZelr+nxL7/Jn2NRXxh+x3+0N8cvjh4p+H3i+68JfEb/AIQvx7Cb7Wf7YbwrF4f0O0ktZZbeTTvsl22qs/m/Z42F2rlld2KQkbR6r8dtQ8c+Mv2sPCXgPw7471LwL4f1Pwjq+sajc6Xp9jc6i1xb3mnRQGJryCeJBi4lDbomyCMAHDCvZzUowa1d9O3KnJ3+UWXUfJzOXS34yUV+L+7Xtf3qivkD4K/Fb4nnSfhT4w8QfEK41xPGHiy78I6noQ0axttLMMJ1GNLuMpF9qS5LWUbuTcNCd7hYkBXbPB+0r4pk/aV+HOp6JqnxD1j4dfErxHPocR1ey0KDQDCthf3CyWPlBdV8zzLRQGuN0TpvIA3I1RTtUlyxet2vRpJ2+akrdNfUa1jzL+Xm/wC3fe1+XKz64orwj9izWPHHxS0PUPGXizxnd30B1nXtGstCtrGzhsI7e21e4t4J5HEP2h7kRwbcrKsW1sGNnHmn0341aB4S8RfDTVI/HcWmTeEreI3Wpx6k+LFoY/nPngkI8XHzI+VOOQaKl4q/9IKb59jqqK+Y/gp+zbYaj8C/HtvZfDzQYfBniXVP7U8I/D/WN+laTBBFawxRpcQJDKtrDcTRPO0At3CCUFovMLqKH7I/w01fwtJ8QfBek/2V8I9Z0nxHpOsT+H/DVtDf+HtK094oc2th5iRjy7pbacSP9nt3SSR2WIELJI0ves9Nvxte/pd3td6bX0E5K2j7/hfb16dOztqfVdFfGvjr4GWnwD/aH8W/F3xp8FPg/wCMNMvvFNnqVr40+0JP4u0ON47Kyh8uCfT8BYXTfmO9DAMxRC3ynD/aA+H+rfCzW/E/ijUPhfJqXj8+Lba68P8AxMS/sE8q0uNUto7bTEczf2gmInWBrRIPs83O5x5rETFp8t+qu/LbTprdta2Ts7Njd1zW6Oy899dL6aLu9VdI+5qK+av+CmWhab4m8GfDKx1jwD/wtDTbjx5aLP4W+z2Fx/a4FnekJsvpYrVtpAf97Io+Tg5wDyGlfsb+JNa+EXimx0bwXongrwxqXiPT9Y0v4Y6pqSRaXNZW9ukdxY3QsvPt7WO4kBcw24nhzEhZX8yRKzhUclJ2+GXL+EG38lLZXem2ulTXK4rvG/4yVvny7uy18j7Eor461X4GfBX4s/sofErw3dfATwR4WvPh1DqDTeG9Q8O6bcW+i38mnLKt1ZmNXhCyRGFlkj2Nxh1R1Kj2n9ir4B+Bfgb8BfDh8FeC/Cfg/wDtzR7C61L+xNIt9P8A7Qm+zp+8m8lF8x/mb5myeT61pCSlOcf5VB+vPzflyv8AAiV48n97m+XLy/nzL8T1yiiimMKKKKACiiigAooooAKKKKACiiigAooooAKKKKACiiigAooooAKKKKACiiigAooooAKKKKACiiigAooooAKKKKACiiigAooooAKKKKACiiigAooooAKKKKACiiigAooooAKKKKACiiigAooooAKKKKACiiigAooooAKKKKACiiigAooooAKKKKACiiigAooooAKKKKACiiigAooooAKKKKACiiigAooooAKKKKACuN+LfwB8JfHW78Kz+KtJ/tSXwTrkHiTRW+1TQfYr+FXWKb92678CR/lfchzypwK7KijZprda/Nap/Jh0a73XyejXzWjOB/aJ/Ze8BftY+CIvD3xB8OWviLTLW6S+tQ8stvcWVwmQs0E8LJLDIASA8bq2CRnmuJ1//gmt8E/FfwAt/hjqngiPU/B1nqH9rW8F3ql7PeW95/z8petMbpZuSPMEobBIzjivdKKVlqu+/wCH+S+5Du9H22/H/N/ezx/wZ+wV8J/h9e/DW40jwp9kn+ELag/hOT+07yRtMa/VlvGbdKfPaUM2Wn8wgkkEHmsHxN/wS8+BXjDwfrWh6h4FWWw1/wAXTePLspq9/FcrrcqhZLyG4ScTQMyqAVhdExkbcE179RVucm7t/wBXUv8A0pKXqk9wu7cvT/h//kpfe+7PP/gB+y14A/Za07W7T4f+GrPwxaeI78apqMFrJIY7i5EEUHm7XZgrGOGPdtxuYF2y7Mx8p8Zf8Egv2evH3x1v/iVqfge/k8Z6pqkes3d9D4p1i3juLtNm2RoI7pYf4F+XZtOOQa+lqKn7aqfaSsn1S00T7aL7l2JsnFw6Pdf16v7zxq8/4J+fCK/8I+JtCl8JbtK8YeMF8favB/al6PtetrLFMLvcJtyfvIIj5aFYvlxswSDr67+xz8OPEvjH4h6/e+HPO1b4raJH4c8VT/b7pf7UsI4pIkh2iQLFhJZBuiCP82S2QCPTqKTimuVrRf8AyPL/AOkpR/wq2xp7San7RP3t79d+bf8Axe9667nmHgP9jT4a/DPxb4V1zRfDQtNU8E+E18D6LM1/czCz0cGNhalHkZZOYo/3kgaT5fvcnPHeCv8Aglr8A/h98NvGHg7S/hzpqeFfHciTaxpNxe3d1ZyskjyoYY5ZWW22ySO6iARhWORggGvoCiqlJybctb3v83zP75e8+713ITa0Xl+CsvuWi7LQ84/Zx/ZN8B/sm6Bf6b4E0m90y21SZbi7a81i91Sed1XauZruaWTAXgLuwB0Fej0UUNtu7EklogryXWf2JfAes/FPU/GSyePtL1zWr6HUtQGkeP8AXtKsb24iiihSSWztryO2c+VBEjZiIdUAbNetV8/2et/HGT9q2fwvJ43+FJ8K29nFrphXwDqA1B7N7uSL7J9o/tkxiYRx/wCv8kruOfJwNtSpJVYxvZyuk/Rcz/CLfy72Kd1Tk+ml/m0l+LX3nU6T+xJ8NdF8apr8Oh3zXtvqx12zgn1y/nsNLvmd3e4tLN5zb2ru0khcwRpv8x927cc9T8YPgZ4b+O2k2Fp4it9Rb+ybwX9jdabq13pN9YzhGTfFc2ksU8ZKO6MFcBldlYEEiue8IftkfDzxv48m8O2OsX8d6iXEkF1faJf2OmamtvzObO/nhS0vPLALN9nlkwqsx4Ukc18Pv239C+L3xmsdH8Nx61P4ffw1qOuzz3/hbVdOurryJrJYpLNbiGM3UDpcyEPAkiuQm1uxITTsovT4l20V7/dHfyE2rtvfZ99Xt/5Nt5+Zt6n+xB8M9a8Zza7d6Hf3N1Nq0GvfZZdd1BtNh1GGdLhL2KyM/wBliuPNQM0scSu+W3lgzA9xoHwp8PeGvD+saVa6XB/ZviC7u77UbactcRXct07PcFlkLDa5Zsr93BwABxXLfDn9rfwP8UJ7eDT7nxBYXl1qX9kx2eu+GdT0K7+0G3e5VWgvbeGRVeKOQpIyhHMbKrMylRDc/tC2mr+PVi0XU7G70LRbDU73WoodJv73U7o2kwtylmkSYfbMJA2wSu7IEjjJYuqcUrU2uj08rJv5Wim/JLyDnfxLXVfe3ZfO7a+/zIdB/Yr+H3h7w1rWipZ+JL3RtethZz6fqXivVtRtLaEFWVLWK4uXSzClVK/ZhHs2LtxgY2fhH+zN4O+B+tXuqaBY6j/bGp2sNlfapqes3ur6hfQwtI0SzXN3NLNLsMr7S7kgHaDgAC98HPjn4e+PGh3l94fbWkXTrr7Hd2usaHfaJfWsuxJAJLW9hhnQFHRlLIAwYEEiuS8Jftz/AAz8beJ/7KsNY1cSPbT3Vtd3XhzU7PTtRWBN86Wt7NbpbXUsahy8UEjyL5UuVHlvtpvld3o7X+S1+6zv21ErSVl3/G/53S+aJPiB+xD8M/il4r1nV9d0K+vZfEQQ6pZjXL+HTNQlRI0S4lsUnW1e4RYogs5i81fKTDjaMbXiX9mXwh4p+KFv4ylt9bsdfhkhlml0vxBqGmQai0P+q+2W9tPHDeBRwBcJIAOOnFaF58ePCOmW1nPd65a2dtfaFP4mjnuVeGFdNgEJluXkYBY1QTxEhyDhicfK2OU079tv4dX/AIK1zXZL/wAQ6Xb+Hmt1vLPVvCuq6ZqrG4k8q28mwuLaO7uBPKGihMMTiWRWRNzqVFcslZW+H8NeX5a6eug0udc61UtL9+q9d194vgz9iL4aeAfGOla7p2h339oaBey6ho4utc1C8t9DklhlgkWygmneG0iaOaRTFAiRnIO3KqRJ4V/Yq+G3grxdYazpmhXlvNpl1Jf2tkdavpNLhu5Hd3uxYtMbX7SWkc+f5Xm5Y/PXL+Cf29PDOsweNdV1E6xb6Loeu2ui6XZx+FdWGv3csmnwXbQnS/IN80wDyybFtwwhjMhXYpeul1L9tTwDYaRoF5DN4u1dfEglNtBo3gzWdWurUxS+TKt3b21rJLZMku6NlukiKukiEBo3CpRacbLayXldXSXyV/kVJNx5pbNfhr/wfxL11+yN4BvPiZ/wlcmkXraj9sGpG0/ti9GkPehgwvG03zvsTXIZVYTmEyhgG3Z5rpfin8JdA+NHhb+x/Edi95ZrMlzC8NzLaXNnMnKTQXELJNBKuTiSJ1cZOCM0vxR+KWmfCDwi+t6tbeI7uzSRIjHonh+/1y7JY4GLayhmnI9WCYXuRXBeJ/27/hr4T0HSdQm1DxLfR61pq6vb2+k+EdY1S9jtCXVppra2tZJ7dUdGSTzkTynwj7WYAx7riqa2T287X++yv6K/QWt+bq/87fm7er8zovD/AOzP4R8PaV4btBBrmpDwlqra3pdxrHiHUdVu4LxreW2MrXF1PJLL+5nlULI7KN2QMgEdH40+HWjfEN9IOs2f20aDqMWrWSmV0SO6iDCORlVgH27iwDgqGCtjcqkcrN+1h8P18ZadoMGvjUdS1SwttWhGnWVxfwR2NwszQ3ss0MbxQ2rCCTE8rLFkKCwLqDwnjL/goF4Qvvg98QNZ8IXt42teEPDVz4jtovEHh7UtIttRt4kYi6t2uooBeWu4LumtndAJIyXHmIW095yt1Wvo118rW+VhJqSS6NW+Uuno+b583me/SxLPEyOqujgqysMhgeoIry3wD+xb8Ofhn4p0vWNI0bUY7vQJ3n0dLnXdQvLbQ98LwPFZW807w2sJicr5MCJFwh25RSLfgb9rDwd8QtL1+fTz4qE/hm2+2Xthd+EtWstRlgw2Jra0ntkuLuNijqj28ciuylVLNxWXH+3T8ND4Nj1qXVdcs45tUk0SPTrzwxqtrrL36Wpu/so02S2W8MzW481I/J3SKylA25cynu49vwvb7r6eoayj5f8AA/yNjwN+yr4L+Gnj6TxFoNvr+mXMjSyDT4fEmpf2LC8pYyPHphuPsUbsWYlkhByxOckmuruvh5o958Q7LxXJZ7tf0/T59Kt7rzXHl208kMssezOw7ngiOSpYbMAgEg5XxL+Onh74R+DLTXNabWRbag6RWlpYaHfajqd27qXCR2NtDJdO4QM7KsRKKjswVUYjmrn9s7wHG3h1baXxbq8niaITW0ekeDtZ1OSyUymH/Tkt7WRrAiVZEK3YhKtDMpAMUgWoqSso9NPS6enzV9O1xOzi29nr9zVn99te9jodM/Z98IaPoOgaZbaR5dj4X1aXXNMi+1TH7NeSNOzy5L5bJuZ/lYlRv4HC45zwp+xN8NvBfjOx16x0O/N/pN/Jqelpda5f3dpos8iSJIbK2lnaC0V1lkDJAiI27lTgYZoX7aHhDxBb+NZYNL+JJTwDfGw1LHw/1yRriQS+UfsapaMbwBuv2cSFV+cgIQx6DTf2ifDGtfBG/wDiDZPrdz4e0y2urm5jGh3qalF9mLiaJrB4hdLMrRspiMQkyMbayThGPtlt8V/VLX7kvuXYrlbfsrf3bel9Pld6efmPn/Z18H3HwsuvBZ0p18NXt7LqM1ol7cIzTy3jXrv5ocSDNwzPgMBztA2/LT/jp8A/DX7R/glPD3iuHV5tMivYNRjGm63e6ROk8Dh4nE9nNFKCrgMAHxuVTjIGORuf25fA2nfDDQvGF5ZfEiy0PX0lkikl+HevmSySLbvku41sy1pEA2RLOEjZQzK7KCw6C9/ak8DWPxOm8HnWZZdds4Bd3yW+nXU9tpMBga4Se8uUjMFpFJGr+XJPIiSNG6IWdGUXUVtZ9H+K1/C1/lcVPVe51X4bfd0MjTf2MPBul+DtQ0NdS+J89nqM8dxJNd/EvxJdXsDxhlUwXUl81xbjDtkQyIG43A4GL+i/skeAdB8Hf2HDpF7Lavq1prlxc3WsXt1qF9e2rxPbz3F5LM1zcMhhiH72RwVQIQV+Wo/C/wC154L8Y+Hde1Kw/wCExdfDkQuLq0l8GazBqNxCSQs1rZyWq3F5ExBCyW0ciMQcE4rpvhJ8XtD+N/g9dc8PyakbPz5bWSLUdKutKvbaWNirxzWt1HFPCw67ZI1JVlYZVgS4yd7xeuj+56P5Naea8haWs9tV9+6+69zmtR/ZE8Da18RD4mv7XxBqV59sTUFsb3xPqlzo0dyjiRJ10yS4ayWRZAHV1hDK4DAgjNaV1+zf4T1L4r/8JpewazqetJKlxbx6hr1/eabYTInlrNbWEszWlvKFz+8hiRzuYk5Yk4UH7bHw8EHiaW/v/EPh6PwhGk2pP4g8LaroqrE8xgE0Ju7aL7REJMAyQb0XcpZgGUnJv/8AgoL8OrL4f6j4iEXxBlg0jU7HSbzTj4B1yHWLeW8dUt3OnyWiXZicsdsoiKMVZVLONlKMtFy7aNfN2TXq7Jd2N35nF7vR/nr8tfxPVPFvw/0jx1d6LPqtp9ql8Paguq6e3mun2e5WOSMSfKRu+SWQYbK/N0yBil8VvhJo/wAZ/DK6TrT65DbRzC4jl0jXL7RruJwrKCtzZzRTLwzDAcA55rlpv2xfAVr440/w9Lfa9Df6gbWMyy+GdTSx0+e5VGt7W9uzbi3srqQSw7ba5kimJnhGzMqBtT4bftHeGfi14y1TRNDj8VSz6QZBLeXXhTVbHS7jZJ5bfZ7+e3S1ufm6eRK+4AsMqM0ezt7tt7v1atd/JWv8httLnfkr+T1X33bXe5L4M/Z48I+Afh/q/hnTtNn/ALM8QCX+1Xu9Qub291VpIhC8lxdzSPcTSGNVTe8hcKigEBRjqvD2g2nhXQLHTLCLyLHTreO1totxby40UKq5JJOAAMkk14z8Zf23NA8E+Mrfwtoj39/4iXxJpOh3kknh7UZNItzdXltFLD/aKxCzF0sNxuEPn7wSMoRkV2Hhr9qXwX4u+Kk/g6xvdXbV4pJYI7ibQdQg0q9miz5sFtqMkK2dzMm190UMzuvkzZUeVJtcE5r2kdb6evKk/mkpadrsl2Ts+n4Xf68vzsehUV5l8Yv2wfAHwF8SNpXiXU9Vgurew/tW9ex0DUNSt9Is/wB4BcXs9tBJFZxN5Uu17ho1bypNpOxsbZ/aA8IrpniC8/tb/R/C19babqj/AGWb/Rbi4itpoUxsy26O8tzlcgeZgkFWAX2XLot/Irladn/W3+a+9HZUV5/J+094Ni+LQ8Fm81f+2DKLY3A0K/OkrcEbhbHUvJ+xC4Ix+4M3m5IG3JArz39oD9rXU/An7Tfhj4d6EDZyzaPeeItVu9Q8GazqNjcW8BjAtkvrYLb2jNuctcSGZYisamFnljBh1IpKV9Hf8Fd/ck337XdkLuuqt+LsvvbS/PQ+gqK8c8Xft2/Dr4canBpuv6pqMWqLY2moaiumaBqmq2mjQXK5inu7mC1Mdrbth9s9z5KERSE48twvUeIP2kPC/hX4t6d4K1AeJrXV9WZEtbpvC+p/2PLI6syR/wBpi3+wrIwQgRtOGLYUDcwB1cWpcr3vb5rp6kqScebpa/y7+h3dFeL/AA2/aztr/wAJQ6n4rn0LSLeHR7/Wb+dJJ0NvFb3zWylYjGylSo5Pnby+AsZDZXSn/bO8E2vgK38Qy2/xBht7u6ezt9Pk+H+vprVy6BWd49MNl9teJQy5lWExjIy1ZqcXHmvp/wAHl/8ASlb1Gnd8vX/gc35O56tRXKax8bvC+hfCoeNp9VVvDckMc0VzBBLPJc+aypFHFCitLJM8jLGkKIZHkZUVS5C1xVh+1hpvj3X/AAEnhUzyWfiLxFc6Hq1vrGj3ulanpjR6Zc3qo9pdJDPBI3lQMBNF80UqsoIdHq4xcr26D15ebp/kewUVwfxC/aT8KfDPx/pfhbUJPEF7r+rLHIlnovhzUdaa0ikkMUc10bOCVbSFnVwstwY0PlS4Y+W+3Rsvjf4X1Cw0u6h1PfBrWsXGg2TfZpR517btcLLFgrkbTaz/ADNhTs4JyuVfTm6Daa0fr8rXv92vodXRXjll+3r8NNY8Dp4j0y+8U67o1zNDBZ3Gj+DdZ1L+1GliMwNolvau90qKrea0AdYWVkkKOCosePv24Phz8MBpv9uX/iKz/tDTYdYmA8KatMdEs5c7LjUwls39lxnbJ8195AHkzZx5Um18rva39b/lqJa7f1rb89PXQ9bopkE6XMKSRsskcihlZTkMDyCD6U+kG+qCiiigAooooAKKKKACiiigAooooAKKKKACiiigAooooAKKKKACiiigAooooAKKKKACiiigAooooAKKKKACiiigAooooAKKKKACiiigAooooAKKKKACiiigAooooAKKKKACiiigAooooAKKKKACiiigAooooAKKKKACiiigAooooAKKKKACiiigAooooAKKKKACiiigAooooAKKKKACiiigAooooAKKKKACiiigArlY/hls+NVz4wN7kXOhxaKbPyfu7J5JvM37u/mY27e2c84rqqKmUIykpNaq9vmnF/g2g+y49Hb8GmvxSPnLw5+wrq32DRPCviLxrYar8MvBmn3WmeHNGsdAax1OGGaylsEF5fNdSrceVazyopit7clirMWIwY9R/Yw8feOtHvYvFnxT0q+vU8K33hTTLnR/Ckml+VDcPZuJroG+lMz5tNsgia3V0lYIsJAavpGim1e/NrdNO7ve6ad/O0nrvruNtuXM973/ACf5pabHy/8ACr/gnOfhL8LPGWmaJqfw98J+IfEt1Y6rYXPhDwFHoejaJqNmSYLmPT1uZDIDiPzFafdIPMG9VdVTofH/AOwuvij4bjw/pvig6ds8JJ4ZMtxpouo79luormSS7jEkfnw3BjdLiEMhlSeUCRC24e/0UNJu7/r3XHbbWLafdWvsrKPu2t0/+SUv/Skmu2vd38X/AGMP2QbT9kTw94ltbX/hDYD4o1NNVnsvCfhWPw1o9nItrDbkW9okspUMIQ5LyOxZ2+bGAPNf2df2S/HHjDwF4FHjzxZbL4W8MR3t7pXh+Lww+nazZXVzbXVn/pd49w6Sxxw3lyERbSFvmiLu5RjJ9ZUVNSPtJ80/5XH5Oy/JDhJw+B2/r9evfqfM2nfsF+IvHHgqbw/8TPH2i+J9M/4Qi/8AAcCaJ4VOkEWd0toPPlE93drJOv2Xn5Vibf8A6oAENS+Fn/BOib4XfDrV7HSW+CXhHxNJf6dqel6z4H+FaeHIxPZSGSP+0Ldb6X7bGxLKVSS3IWSTYyMyun1NRWrnJvmb1/8AtnL7+Z3uSoxUeVLT/gWt6W0tt5Hyr8Uv+Cb998c/C97P428ReAfF3i248S2/ieP+2PACX/hhZo9OGnGB9Kmu3kkiMO5wftYlSUhhJtHlmbxZ/wAE+NU1T4aeCfD2gXvwc8CyeF0uVfUPC/w7u9Fu7AzzLJK2jyWmrxPphkUYkUtcJMf9YroWib6kopKTTuu6f3Ky/Dpt13G9bX6af1/nv02PGv2xf2VZ/wBqTwtoGnpe+EJItFvmup9M8Y+GD4m0HVVMTRj7RYi5tvMkjLB43Mm1GBOxjtK+WeFP2S/iH8GfHWjeGfhn4t0LwzYaB4JXSv7S1TwS2oaZOjahdSrFFBBdWqwzxB02hZDGFJzCQU2fXFFYuknOM+zb9bwlD8mH2eXyS+6Sl+aPHPh3+xlonw98Map4eTUb698Oaj4I0vwMLeVQtylrZR3cXmtMuAzyJdc4RQpTIznA5DVf2JPGPxJ0rXLfx18S9L1aVvB2oeC/D9zo3hX+zJNNt73yPPuboSXdwl1cn7La4KLbxApJ+6w4CfSVFdEqkpVHVb957v1uv1eu+o02ravTz9OvnZX79ep83+OP2KvGnxh8P+KR4z+JGi6nq+radbaPpv2Dwm1npUVnDdrdPDfWrXssl6tyUWG5VZ4Ekg3IiRb3Zm/s1/8ABPS0/Z3urG4tL/wnYeT4vl8XT6b4X8JR6Bo6SyaKNKaC2tUnk8hDgTEs8jFi4J5yPpKilTm6acYaJ6fjzfnr6id3o/60S/JJfI8Y/bR/Y9079rzwroFvcxeDZ9Q8L6kdRsYvFvhWLxPos5aJ4ZEuLGSSIuNkhKtHNE6OqHcV3xvwut/8E/tVn8O+A9M0DUPhD4ETwlC0U154T+Ht3od9biS7FxOmlzW2rIbCKXavmQyC6ilcFpVlUmOvqGipj7ruu9/mlb8gl7ytLtb5Xv8A09+mx84/Gz9ifxP8X9I8UaM/jDwXceF9X8Qw+IrHQ9d8Fvq1jK+wrPa6nH9uiXULVnIljjUW5jliiZmlCbT2n7OX7KVj+z7+zrd/Dy3uNMFjeTalMRpGjxaRZWf22aWZ4ra1RmSKKMylUXLEKq5LHLH1qio9nFUnRt7rVn6JJeuyS+RbqSclO+qd166u/wCLPj342/8ABMbX/wBpDwzoth468X/DLxTJYeHpfDksmqfDT7dHp6EuEvtKin1CRbC/KMglmbz1kNvAVjiCFW9xuP2XNN13w78R9F1m+lv9I+JWmx6VfQxR+RJBALAWUgV9zZLKCwOBtzjnGa9RoqqkVUjyy2u383e7/F/eKE5QlGcXZx28ttvuR8d+Gv8AglcPDXwo8QeG7VfgDpMuqPYBZ9C+D8ekwazDbSl3t9at4dQC6jBKMboozapvBO0qfLr2X9mH9lC3/Zt+CGreDbG90jT01e7ur7d4X0OPQLLS5LhFDiztVeVYUVwzICzkZG5nYF29foocU1JP7Ss/TT7tlt+rISS5Wvsu69bNfk2fIvwa/wCCWsfwxttZkk1b4fWep6zY2en3V34W8BjQzqItr2C7W5vSbyeW7u3aOQPM8gB8wMEUh/M9k+Mf7Omo/ESbxNfaP4kt9D1fWE0OSwmuNLN7BZXGl30l5G0sQmjM0cjMEdFeJtoO1wSCvq1FFlo10/zcvzbY42jLnW+/3JL8kj5auP8Agm1Z3P7Tg+JV3Z/BHXtR1W/sdY1q4174XR6hrCX1vBDCz6ZqJvVksoyLeN40lW6aJyxDsCFHbfAj9lbW/hP8dvEvi671/wAKRaZra3Pl6H4W8PXmhWc001wJmvL2J9Ruba5vcKFN1HBBK+5t5Zdip7fRVRk42t0ul6Oyf4JenQTSd79bfhs/XW7e7erueC63+yV4rvvF1xa2njvSLT4fT+KbbxgNHfw08uqR3kd9DeyxC/8AtYjNvJLHIdptfMUy8SFVC1z/AMBv+CcWj/AP9oq58Y6fpXwauLI31/qNren4aww+MreS7MjOG1uO5AkUNLImTa+Y0RCO7Nukb6aopU3yJKPS/wCKSf4RS+Q5e9fm6u7+9v8ANu/fqfOf7Yv7PvjvWfDvxI1vwH4qsNPg8WeEptP1nRbjwy+rXl+8NvcLEbCVLmLyJ3WYofMiuUJSIrGp3+ZBrP7G/jHxHq2t/wBm+PdJ0Pwh44vNK1zW9KuPCz3WrJeWdvZQhILz7WkUULrYW4dHtZH5m2yKWUx/SdFEdFJdHo/TXR915PtoW5t2t5/jy/8AyK9ep80aF/wTn0bwr+1jc/Eay0r4N3tvf6zJr802r/DeG88WWt1IuW+za0t1G0aCT508y3ldAzIH27AnrPj34H/8Jv8AEc+IP7T+zZ8Laj4a+z/Zt/8Ax9y28nnbtw+55GNmOd/3hjnvqKjkjyKl0Sa+Ti4v/wAldvyIesnN7tp/NS5l/wCTK/8AwDyW7/Zc+1eEfH2l/wBuY/4Tjw5b+H/N+xf8eXlWktt5uPM+fPmbtuVxjGTnNeeav/wTpXX/ANq5PiVe6p4IvZLPXLfXbG8ufBaz+KrQxoiGxXV2uTtsdok2wxW8ZXeMu/z+Z9O0Vo5N1VWfxJ3+d0/TdEqEVS9h9mzVvVW9djwWT9h6OfwyLBvE8ySwaRNY21zFYKGt7k6oNSgudrOysI5UQGMjDhTkjOK5z49fsF67+1BoXhe++IGqfBnxf4z8I3F4tlLrHwwfUfDclpdLCJI5NMuNSkk88NBGy3Ed2hGCu0qzhvp2ioUEoqK2X6tyf3tu/dabaFJtS5lv/wDaqP5K3/BPE/il+xfo/wAWv2PrP4U31r4KsLexhsZIIbDwpCvh2O5tJo7iMf2TJJIhs2ljAa2MpJjZlEqtiQZvwH/Yig+Dum+E0jg+FugTeGvEdzr8sHgLwIPC2m6iZdPmsgHtvtdwRKBNuMpdtwjVdq9a9+orRTknKS+1v+H+S+4XKuVR7bf121f3t7nlvjH4L+L4Pjj/AMJl4K8W+H9Dj1i1srDxFp+teHZdWW+gtZZnja1kivLZraYrcTIzOJ0P7oiMFW8zkfCv7IXi/Q/HOlfaviDpF34I8O+K7/xZpelReGGh1Pzbs3rPBc3pu2jliRr6TZ5dtC2I4wzPhi30BRU2vo/6/rp26D6OPR/Lo1+N3fvu9T588ZfsVajqn7JHw++GOmat4FubnwJaWNtHq3ibwnc6ptktbUwJeWaW+oWk1jeK3zx3EVwZIudpDEOKviD9i/xvD4bOk+G/ipDY23iDw1aeGvFlzrfh+XW9Q1FIInh+12dw94jQXLxyyBnuheqSsTFSyyGb6Nop1X7Xm9przO7vs3tqttumxo6s3NTb1W3lrfTtr/Vjmfh34K1TwTdavFda82q6PLNANFsmso4TottHawwtAZF5nLSxyzb3AI87YOFFdNRRTlJyd5b/ANf15maSSSWyCiiipAKKKKACiiigAooooAKKKKACiiigAooooAKKKKACiiigAooooAKKKKACiiigAooooAKKKKACiiigAooooAKKKKACiiigAooooAKKKKACiiigAooooAKKKKACiiigAooooAKKKKACiiigAooooAKKKKACiiigAooooAKKKKACiiigAooooAKKKKACiiigAooooAKKKKACiiigAooooAKKKKACiiigAooooAKKKKACiiigAooooAKKKKACiiigAooooAKKKKACiiigAooooAKKKKACiiigAooooAKKKKACiiigAooooAKKKKACiiigAooooAKKKKACiiigAooooAKKKKACiiigAooooAKKKKACiiigAooooAKKKKACiiigAooooAKKKKACiiigAooooAKKKKACiiigAooooAKKKKACiiigAooooAKKKKACiiigAooooAKKKKACiiigAooooAKKKKACiiigAooooAKKKKACiiigAooooAKKKKACiiigAooooAKKKKACiiigAooooAKKKKACiiigAooooAKKK4b4rfGf/hWPj74c6H/Zv23/AIWBr02ief8AaPL+weXpt7febt2nzM/ZNm3K/wCs3Z+XaWk27IaTd7dE38krv8DuaK8m0P8Abf8Ahp4k8VWmkWOuahcSXupTaLHeroWof2Wt/FO9u9m98YPssdx5yMgieVXY7dqncudHSP2r/BviHxjqeiac3ijUrnSBc+fdWfhPVrjTXe33CaKK+S2NrNMjI6mKKVpN6ldu4YpdObpr+G/3dRXW3p+O339D0iivCPhr/wAFDfAPjX4PeG/F2qnX/DEfiiU21hZ3+gaik15ceVJMsFuGt1Ny7RxttEKtubCLucgH0rwh8cPDfjiXUIrG6vkudJ0601W+tr3TLqxubO3ukeSEyRTxo6OVjfMbKHQqQyqeKL2jzvZCTTkord6fM62ivL/EH7ZHw/8AD2geGdR/tLWdVj8YadHrGlW+i+HdS1e9nspAhW6e1tbeWeKH94gMkqKqlgCQeK0br9pvwhB8Vo/BUVxrmoa/5kcNwuneHtRvrTTZJEEiR3d3DA9vaOyMrBbiSMlWU4wRT5Wnyta3t81uvUFJOPMtrX+Xf0O/orySx/a98NaP8LtM8Q67dtcSaxe31pZWnhvSdT1q6vPs1zLE/lWsNsbuTYIx5hEO1Tn5ipVjpa7+138PPDvhXw/rM3iHzrPxXLNb6OlnYXN5dajPCrtLbxW8UbTNcII5AYdnmBo3XbuUgTdWb7Amna3XY9Jorze3/a18B3Xws/4TBNT1H+yvth077M2iXy6t9sHW0/s4w/bftPfyPJ8zHO3HNQXv7Yvw/svh7Z+Jf7S1e4tL+8fToLC08Pajday10iM8ludMjga9WZEVneMwhkUbmAHNPv5f1+q+8f8AX3b/AJP7j0+iszwf4stPHXhiz1exS/jtL+PzYlvrCewuFHTDwToksbcfddFI9K06GmnZgndXQUUUUAFFfNf/AAU//wCCg9x/wTk+DGgeLrbwLP8AEB9Z1xdJfT4NUGnyQRC1uLmWdWMUm8pHbN+7wN2fvdjy37eH/BWfS/2O9S+EVtonhJviA3xVnt5t8Oqiyj0jTZp7W3S+Y+TL5gaW8hVU+XcSfmGKIe+7R1fMo/8AbzV0vu1vto9dHYqfu1eei5XL/t1OzfyfTfbuj69orx79n/8AaAv/AIp/tA/Gbwnd6t4RvoPh3q9hZWtrpVtfxX+npcWSTlb550WCSRmYsptmZAhUMQ+RVX4l/wDBRT4LfB/4w/8ACB+I/Hmnab4ljlt4LqI21xJbabLcY8iO7ukja3tXkyNizyIWBBAOaFrypbySa87pNfmK6tJ9I3T8rOz/ABPa6K+fPjj/AMFUvgD+zd4613wz41+Itlouv+GZbaPVLA6feXE1kLiJJYpXWKF/3JSWPM3+rUsFZlbiu88P/tcfDnxT8Qtb8LWHii0uNa8PaBbeKb2MQyrCul3AYxXkcxQRTREI2TE7bcfNjIpcy5ee+n/Av+Sb9NSmmnyvfT8WkvvbSXm13PR6K+cvCP7dui/Hr4y/DnTvh54v8JHwv4q8MXXjSZtV0XVV1LVdMimW3ElsHSCG2QSNkyTu7EY2wFT5g2vgH/wUs+Bn7T/xRufBngT4iaTr/iO3jlmjtkguIUv44ziR7WWWNYrtFOctA0gGCc4qlFvTrrp191tP7mmn6MlySV+mmvTVXX3pp/M9zooopDCiiigAooooAKKKKACiiigAooooAKKKKACiiigAooooAKKKKACiiigAooooAKKKKACiiigAooooAKKKKACiiigAooooAKKKKACiiigAooooAKKKKACiiigAooooAKKKKACiiigAooooAKKKKACiiigAooooAKKKKACiiigAooooAKKKKACiiigAooooAKKxfiR4v/4V98O9e1/7P9r/ALE0641DyPM8vzvKiaTZuwduduM4OM9DXivhL9rfx3oWh+FNe+JXw88NeGfCnjCextLbVPDvi6bXf7NmvSiWovIptPszGjyyRxb4jLteRdwC5cKDU5unHdcv/k11H5txdl/wAl7qTfW/4Wv910fQlFeT3/7Wvhzwdb+IptfvN40vxHL4es7TQtL1HV9Ru5Y7WO4aMWkNs00kqozuwgSVFQA7+GC3/GH7WfgrwL4b0LUtQm8SbvEsbzadplr4W1S71m4jjKiRzp0Nu94ixl03s0ICb13Ebhl9FLo0n96uvvWoLVtLpdfc7P7mj0miuSsPjl4Y1Gx8S3EeoSrH4QgS41gS2U8T2KPbLdLuRkDE+S6sVUEjO0gMCKwdd/a48D6Dr+k6Z9q8Q6pe6zaW1/Emj+GNU1YWtvcZ8iW6a1t5FtEfa203BjB2N/dOEmnLlW6t+N7ffZ29H2C9ld7f5Wv+a+9dz0uivNE/aX0PQdI8X6lr2oWMNl4a8QnQI10+C7u7qabyoHSAQCESS3LGXiO3WUEFdrE7grU/bF+HK/Dn/hKrjxBJpukrqUOjTLqOm3dje2d7NtEVtPaTRJcQTPvj2pLGrHzEIHzrlrVJrrb/AMmtb77q3qhXWvldf+A3T+6zv6M9Norzrwn+1b4F8X+D/EGuR6pfaXZeFSBq8euaPe6LeafkZQvbXkMU4Vx9w7MSfwFqp6Z+2T8PtT8Farrh1LWLGHRZoba7sdR8O6lYaukk77LdF06eBLx2mbIiCQnzSDs3Yo/r79vvHf8Ar0PUaK5/4ZfE3Tfi34Uj1nSYddt7SV2jEesaHe6NdqR13W15FFMvXgsgz2roKGmtwvfYKKKKACiiigAooooAKKKKACiiigAooooAKKKKACiiigAooooAKKKKACiiigAooooAKKKKACvKv2gfhvrXjf4u/BXVNLs/tNj4S8W3Op6tL50afZLd9E1O1V8MwL5muIVwgJ+fOMAkeq0VUZOLuhqTSa7pr701+p8s/wDDNni6H9kTSvC0WiKmt2/xTg8SzWq3MAxZDxiNTefdv2E/Zcy7c7z93G/5a1/AfgrxZoH7T6t4R8G+PPAfgx9TvbvxKNa1bTLrw/rwlimIn0+2iu7i5tZ2ujFIf3dtGytOXRpGBr6Pop+0drPu3/4Eop/+kq3n8rLan7P+uv4677nyd8GPgh41t7H4D6NrXgi+00fB7xDepfahc3lhNbXsB0nULaK+tRHO8vls9xGm2SOOUFzlNoLV1nxB0Dx54B+PfxB1Lw94FvvF1n8RdB0+wsb+21KytrXR7q2S8Q/blnmjmEJ8+IhraOdvv5QYG76ForGcFOl7F7Wt+AR92r7Xre68v68/zPk74I/C74gfsqyeENc/4QPWfG7Xnw18OeD9U0vRdR06O90O9037SXcm7uYIZIH+1sCY5WYGAYRw2V774T23jH4K/FjxRo0vgHWtc0Lxp4ml16DxHp1/pwttMinihDx3sc1xHceZG6Oq/Z4p1ZBHypyB7nRXRUqupWdeW7v90pKTX3pefmZqmlTVNbLlt/27HkT9eXTt1tc+Tfhn8GfHnwATwL4vHgrUvFd74fs/E+jX/h/S7+wTUVj1HWEvbe5he5uIbZhsgUOrTKwEq4yVK1sfDr9nXxfp3xB+HPiHU9It7d08ZeI/FOq2sd1FKugx39rcpBFnI8yTMkYkMQYeZJIQSvzH6aorKOnyTS8k5czXzlrrr0TtoJ0U4Kn0TT9XFWX4advnqfHXxl/Y/wDFfjLX/EOuNpPiK8tNP+KLeLINL0HxVLoGqa7p7+HodOb7NeW11A0MqzF2CSzRK4iZWKq4atW1+AWjeEvgYtxpvwT+On9tX3iNtcFqPHtre+LNOvfsyW3206jea2ybTCixGJbuRWQbWjKswP1hRTUmoqKfSMe2kVFLb/Cn66q1lbTlV7vvJ/8AgTk3/wClP5aO+t+K/Z3s/F2n/BzRofHVw914mRZftMkpgM5j81zCJjAqwmcQ+WJDEBGZA+z5cV2tFFOUuZthFWVgoooqRnzZ/wAFE/2b9f8A2kNT+B9vpGiprWleG/iPZ6x4iR7iGJbfTFtLuKaQiRl8wZmUbE3Md3CkA18V6T/wS++Ol/8AAbW7DxB4eXU/EPhDxH4V8IeDE/tezZrjwlo2sfbPt5cyhUeSOQbo2KyH7InyZIz+s9FFL92+aP8AMpfNctvwi16Tn3VlWiqqal/LyfK8n+cr+sY9nf5p/Y8/Z/8AF3ws/bP/AGoPFmvaT9h8P/ETxBo194euvtUMv9oQ2+lxwStsR2ePbKpXEiqTjIBHNfK/xh/4JkeMW/ac+MkWr/Dnxx8V/h58ZPEMevJLoXxWk8M6dZq0cSSW+paeZ0Wfy3iBSSOOZioUEDaAP0+oojZVIVOsIqPySj/8indW+7QIrlhKC+1Jy9G3J3XpzO17/fqfA3xA/Yd+Ieq/FP8Abr1Gy8LrPZ/F/wADaTofgqdtQtd+rzwaPc20sXzSbocTPGpM2xTwQSBkedftE/8ABOL41Xv7NnwAHw/0SG28f/8ACsYvg/8AERG1O0ibTdKurW3Wa5Mpk2zG1milwsTOW807c1+n1FU5Xjytae6vlGM42/7ejOSl3vpZm8q0m01pba3pBJ/L2cWul+60PiX4o/8ABPTXNa/at0qx8M2DaH8NLP4Car8MrfWIbiFTpdzNNCluiw7xKSIlL7lTb8uNwJArzr9ln9jX45ap8Rv2YND8b/D7Q/AXhz9lu0u4JfEVv4it9Q/4TB2sTZRi0giAlhjcYlf7QEOcgAkZP6P0Uoyad3rrfXq+ec0/VSqSt0atdOxjLWHItFa3y5Ywa+cYK/Xs0FFFFIAooooAKKKKACiiigAooooAKKKKACiiigAooooAKKKKACiiigAooooAKKKKACiiigAooooAKKKKACiiigAooooAKKKKACiiigAooooAKKKKACiiigAooooAKKKKACiiigAooooAKKKKACiiigAooooAKKKKACiiigAooooAKKKKACiiigAooooAKKKKAOY+Nnh688XfBnxdpOnw/aL/AFPRby0tot6p5sskDoi5YgDLEDJIHqa+fLTw78Rv2ifg94I+HeqfC/xF8ONI0a40WfxBqniLVdJmaeLTpre5MVlFp93dl2llt0QtMYQiMzDcwCn6qoqYQUakqm9+XR7e45Nf+lO/R9gl7yS7c3/k1r/+kq3Y+W/FPwV1LRdJ8c3eqfDjx34rvr74hXGv+H5PB+t6fp2q6fG9jbQLeRz3F9aqinbNG0Zcl1JDxsjczeGfDnxY+FviTwl491zwtq/xJ1f/AIRq78ParYade6XBrNqGvxcWkzGaW2spG8gBLjypEHmRqY1den09RVR0UEvspJfKHs/xjv5+itHJH3k/tNt+rnz/AIS2/G+t/lz4leF/iTpOq/F+30H4c6lrcnxe0iKXTr3+1dOgstCuhpa2bW9/vuBNw6Ah7aOdSG6rjJp/EL4W+M9Ag8IjwR4H8f6X8RYPDenaZL4s03WdKi8Po0CDFtqdtNeGS5iRjIN0dnLIqyP5Milia+r6KmjCNKTnFb2/8l5rL099+q363ufvpKXRNffy3fr7q/q1vlvVP2fPGmjeJb3xZb6HJqd14c+K9z4zs9IivLdJddsJdF/s5vKZ5BGkoaZ3RZnjBMOCyBg1Qax8DvHHxX8R3XjO98J3Hh+XXvHHhbU18P3l/Zy3en2GmSKZbm5MMr2/nks/yQyy/JDDhi2VX6roq4u3s+vs+S3/AG5y2+/lV/V2tpbOpSU4Sg/tKa+U3Nv7nN2+V7nyx+1F+yZ4q+N/iv4rtYwy29prmneEJtLli1iTTX1KfStTu72e1FxbuLi2ZlMSCZdpUyhlOUOKHg79nPw/Z/D3xpqtx8DPjrLq+qjT7aWy1z4jx6zr2oC0mlmtpbK7uNdmS1EEsryIwuYJAzkgZr62oo5nZpdf+B/kvLqrPU0WkeXp/meYfsn2HjXT/hzeDxqNdieTUZX0i2164s7nWbKwKR7IbyWzLW8kqyebhkeQmPy90jvuJ9Poopyld3/r/h+/mJK39f1p28goooqRhRRRQAUUUUAFFFFABRRRQAUUUUAFFFFABRRRQAUUUUAFFFFABRRRQAUUUUAFFFFABUc6ytjy3RfXchbP6ipKKAK/l3X/AD2g/wC/J/8AiqPLuv8AntB/35P/AMVViigCv5d1/wA9oP8Avyf/AIqjy7r/AJ7Qf9+T/wDFVYooAr+Xdf8APaD/AL8n/wCKo8u6/wCe0H/fk/8AxVWKKAK/l3X/AD2g/wC/J/8AiqPLuv8AntB/35P/AMVViigCv5d1/wA9oP8Avyf/AIqjy7r/AJ7Qf9+T/wDFVYooAr+Xdf8APaD/AL8n/wCKo8u6/wCe0H/fk/8AxVWKKAK/l3X/AD2g/wC/J/8AiqPLuv8AntB/35P/AMVViigDwj9p39gDwr+1d4ysdd8Q6nrdjqFhZCwU6a8cayRB3kXcJFfkNI/Ix15zgV5t/wAOX/hz/wBDJ42/7/2v/wAYr7AorGWHpyd2j5nGcGZJi60sTicNGU5atvqfH/8Aw5f+HP8A0Mnjb/v/AGv/AMYo/wCHL/w5/wChk8bf9/7X/wCMV9gUUvqtL+U5f9QOHf8AoEh+P+Z8f/8ADl/4c/8AQyeNv+/9r/8AGKP+HL/w5/6GTxt/3/tf/jFfYFFH1Wl/KH+oHDv/AECQ/H/M+P8A/hy/8Of+hk8bf9/7X/4xW38Nf+CTPgH4YfEDRvEdprXiq8vNCvYr+3iupoDC0sbB0LBIlYgMAcBh0r6looWGpLVRNKXAuQU5qpDCwTTutOqK/l3X/PaD/vyf/iqPLuv+e0H/AH5P/wAVViitz6wr+Xdf89oP+/J/+Ko8u6/57Qf9+T/8VViigCv5d1/z2g/78n/4qjy7r/ntB/35P/xVWKKAK/l3X/PaD/vyf/iqPLuv+e0H/fk//FVYooAr+Xdf89oP+/J/+Ko8u6/57Qf9+T/8VViigCv5d1/z2g/78n/4qjy7r/ntB/35P/xVWKKAK/l3X/PaD/vyf/iqPLuv+e0H/fk//FVYooAr+Xdf89oP+/J/+Ko8u6/57Qf9+T/8VViigCv5d1/z2g/78n/4qjy7r/ntB/35P/xVWKKAK/l3X/PaD/vyf/iqPLuv+e0H/fk//FVYooAr+Xdf89oP+/J/+Ko8u6/57Qf9+T/8VViigCv5d1/z2g/78n/4qjy7r/ntB/35P/xVWKKAK/l3X/PaD/vyf/iqPLuv+e0H/fk//FVYooAr+Xdf89oP+/J/+Ko8u6/57Qf9+T/8VViigCv5d1/z2g/78n/4qjy7r/ntB/35P/xVWKKAK/l3X/PaD/vyf/iqPLuv+e0H/fk//FVYooAr+Xdf89oP+/J/+Ko8u6/57Qf9+T/8VViigCv5d1/z2g/78n/4qjy7r/ntB/35P/xVWKKAK/l3X/PaD/vyf/iqPLuv+e0H/fk//FVYooAr+Xdf89oP+/J/+Ko8u6/57Qf9+T/8VViigCv5d1/z2g/78n/4qjy7r/ntB/35P/xVWKKAK/l3X/PaD/vyf/iqPLuv+e0H/fk//FVYooAr+Xdf89oP+/J/+Ko8u6/57Qf9+T/8VViigCv5d1/z2g/78n/4qjy7r/ntB/35P/xVWKKAK/l3X/PaD/vyf/iqPLuv+e0H/fk//FVYooAr+Xdf89oP+/J/+Ko8u6/57Qf9+T/8VViigCv5d1/z2g/78n/4qjy7r/ntB/35P/xVWKKAK/l3X/PaD/vyf/iqPLuv+e0H/fk//FVYooAr+Xdf89oP+/J/+Ko8u6/57Qf9+T/8VViigCv5d1/z2g/78n/4qjy7r/ntB/35P/xVWKKAK/l3X/PaD/vyf/iqPLuv+e0H/fk//FVYooAr+Xdf89oP+/J/+Ko8u6/57Qf9+T/8VViigCv5d1/z2g/78n/4qjy7r/ntB/35P/xVWKKAK/l3X/PaD/vyf/iqPLuv+e0H/fk//FVYooAr+Xdf89oP+/J/+Ko8u6/57Qf9+T/8VViigCv5d1/z2g/78n/4qjy7r/ntB/35P/xVWKKAK/l3X/PaD/vyf/iqPLuv+e0H/fk//FVYooAr+Xdf89oP+/J/+Ko8u6/57Qf9+T/8VViigCv5d1/z2g/78n/4qjy7r/ntB/35P/xVWKKAK/l3X/PaD/vyf/iqPLuv+e0H/fk//FVYooAr+Xdf89oP+/J/+Ko8u6/57Qf9+T/8VViigCOBZVz5jo3ptQrj9TUlFFABRRRQAUUUUAFFFFABRRRQAUUUUAFFFFABRRRQAUUUUAFFFFABRRRQAUUUUAFFFFABRRRQAUUV+Zf/AAcXf80d/wC41/7j69/hfI/7YzOllvPyc/N71r2tFy2uu1tzx8/zb+zMBUx3JzcttL2veSW9n37H6aUV/MvRX6//AMQN/wCo3/yn/wDdD81/4iz/ANQv/k//ANof00UV/MvRR/xA3/qN/wDKf/3QP+Is/wDUL/5P/wDaH9NFFfzL0Uf8QN/6jf8Ayn/90D/iLP8A1C/+T/8A2h/TRRX8y9FH/EDf+o3/AMp//dA/4iz/ANQv/k//ANof00UV/MvRR/xA3/qN/wDKf/3QP+Is/wDUL/5P/wDaH9NFFfzL0Uf8QN/6jf8Ayn/90D/iLP8A1C/+T/8A2h/TRRX8y9FH/EDf+o3/AMp//dA/4iz/ANQv/k//ANof00UV/MvRR/xA3/qN/wDKf/3QP+Is/wDUL/5P/wDaH9NFFfMv/BHT/lHF8Ov+4n/6dLuvpqvxHNsD9Sx1bB83N7Oco3ta/K2r21te212fq2XYv61hKWKtbnjGVt7XSdrhRRRXnnYFFFFABRRRQAUUUUAFFFFABRRRQAUUUUAFFFFABRRRQAUUUUAFFFFABRRRQAUUUUAFFFFABRRRQAUUUUAFFFFABRRRQAUUUUAFFFFABRRRQAUUUUAFFFFABRRRQAUUUUAFFFFABRRRQAUUUUAFFFFABRRRQAUUUUAFFFFABRRRQAUUUUAFFFFABRRRQAUUUUAFFFFABRRRQAUUUUAFFFFABRRRQAUUUUAFFFFABRRRQAUUUUAFFFFABRRRQAUUUUAFFFFABRRRQAUUUUAFFFFABRRRQAUUUUAFFFFABRRRQAV+Zf8AwcXf80d/7jX/ALj6/TSvzL/4OLv+aO/9xr/3H19/4X/8lPhv+3//AE3M+O4//wCRDX/7d/8AS4n5l0UUV/Xp/Nh9P/s5f8EyPF3xk+DvxH8R6zo3jXw7f+FdJj1DQbGTQJs+JJHSZ/Li3hS/+rjH7sMf3o9s/OnjHwRrXw68QTaT4g0jVNC1S3CmWz1C0ktbiIMAylo3AYZBBGRyDX2n+zP/AMFjvFvgn4JfEHSfGnijVr/xD/Y8Nr4Img0izKafcJHMu6UhF3DJgOZA/wBw8dc/IPxl+NXif9oL4gXfinxfqjaxr18saT3TQxw7wiBFGyNVQYUAcAV8jktXPZZjiI5jGCoq3Lyt/wAsfhvFXW/M27qWi0Ppsyp5Osvoywkpe1d73S7/AGvedv7tlqt9TpbP9mWTT/Amj674o8ZeD/A48RQvd6XYauL+W+vbVTtW58q0tZ/LidtwjaUpv2Mygrhj5jXvPxb1Pwb+0R4K8E6wnjzRPCmu+HPDFr4d1HRtYsNQZpns02RTW8trbTRssqY4kMZVlOcghq9S0b9uPQT+0t4ck1HxBPd+BtH8J2mn6Z5sN4LDQtYGmJAb5reExTNJHKZFM0R84KQY3+RK1WaY2nCU/ZSnL3242cUuV6KL5XzOS83e11vY5ZYLDTlGMZqMbR1vdty5U7q+nK23stE73tc+NKK+39G/ay8PXXjnVte1Lx54LsvF0WmWWm2Oq6Ve+NLewvrXz5nuPtc6supXV2gEIQSuIQhA3EqAvBftP/tbadq/gvxlpPw/8TXlla+K/iDrerXcNjDNZG/0y5trRIxIxVSYpGWbdCW+YqC6nCGqw+eYyrWVH6rKN927pLbry9n96a8zplkmFjRlV+tRduml37sm9ObvHl87xfVI+XaK+sf2P/2ptE+EHwATSdP1jwf4Y8U2+vy32of8JEPEH2XXrZoohCrHSXxKsbRyK1vdRvEwmJH3pFbQ8JftuabpN18LdAbxRJp/gay8NavY+KNFtLe5GmPcXLX+yKSAqftCbZLcLuEgTI5BDGnic7xtOpUhTwkpKLet2uZKMpXVovdpJecldp6HPhMrwtWEJ1MQotq7Wmnvxjb4l0k5O9tIvdanyRqeh3uix2rXlndWi30AubYzRNGLiIkqJEyPmUlWG4cZU+lVa+2PDn7btpo/hfQ9W/4WneNc6T8MZ9AtdCuY9QnlsNdRHWK4CNC1r82IwsokLDjcFAqn8Lf237e0/Z30qyfxL4P/AOEmzqg8U2/jT/hI7hvE0k5PlzP9hdra8zAyQ4vU3RmAYO0gjnefZjGLf1Ruzto5f3tdYbe6tVf4l0NKOU4OcY82JUW0nql2g39re8no7fC+p8Z0V+iPxI8aSwfCfUvAV14nv9NGk+HPDw8eaBa+IbsNoOmQfZI7z+z7QWgsVkcTpu/02XzQxHl7jtXyD9vD9ojwj8X/AIL6PpOneJ9N8Ua3pfie8urSW3l168kttMkhRI0e41ctJvLRqXSIrFkKQucmlgeJq+JqwgsM+WUrcybaUbJqT921pX01s0rpmmJyGlRpObrq6inZq3va3hvvG2vVNpNK58m0UUV9efNH7nf8EdP+UcXw6/7if/p0u6+mq+Zf+COn/KOL4df9xP8A9Ol3X01X8RcV/wDI7xn/AF9qf+ls/qzh3/kVYX/r3D/0lBRRRXgHsBRRRQAUUUUAFFFFABRRRQAUUUUAFFFFABRRRQAUUUUAFFFFABRRRQAUUUUAFFFFABRRRQAUUUUAFFFFABRRRQAUUUUAFFFFABRRRQAUUUUAFFFFABRRRQAUUUUAFFFFABRRRQAUUUUAFFFFABRRRQAUUUUAFFFFABRRRQAUUUUAFFFFABRRRQAUUUUAFFFFABRRRQAUUUUAFFFFABRRRQAUUUUAFFFFABRRRQAUUUUAFFFFABRRRQAUUUUAFFFFABRRRQAUUUUAFFFFABRRRQAUUUUAFFFFABRRRQAUUUUAFfmX/wAHF3/NHf8AuNf+4+v00r5l/wCCi/8AwTo/4b9/4Q7/AIrH/hE/+ET+2/8AMJ+3/avtH2f/AKbRbNvke+d/bHP1/AeaYXLs9oYzGS5acea7s3vCSWiTe7XQ+b4vwGIxuUVcLhY805ctldLaUW9XZbI/DGiv00/4h0f+qxf+Wn/92Uf8Q6P/AFWL/wAtP/7sr+jv+IocMf8AQT/5JU/+QPxD/UDPv+fH/k0P/kj8y6K/TT/iHR/6rF/5af8A92Uf8Q6P/VYv/LT/APuyj/iKHDH/AEE/+SVP/kA/1Az7/nx/5ND/AOSPzLor9NP+IdH/AKrF/wCWn/8AdlH/ABDo/wDVYv8Ay0//ALso/wCIocMf9BP/AJJU/wDkA/1Az7/nx/5ND/5I/Muiv00/4h0f+qxf+Wn/APdlH/EOj/1WL/y0/wD7so/4ihwx/wBBP/klT/5AP9QM+/58f+TQ/wDkj8y6K/TT/iHR/wCqxf8Alp//AHZR/wAQ6P8A1WL/AMtP/wC7KP8AiKHDH/QT/wCSVP8A5AP9QM+/58f+TQ/+SPzLor9NP+IdH/qsX/lp/wD3ZR/xDo/9Vi/8tP8A+7KP+IocMf8AQT/5JU/+QD/UDPv+fH/k0P8A5I/PnxJ+0B488Y+DYvDur+NvF2q+H4FjWLS7zWLiezjEfEYWFnKALgbcDjHFcjX6af8AEOj/ANVi/wDLT/8Auyj/AIh0f+qxf+Wn/wDdlZUvErhSkrU66SeulOotf/ADSfAvEM7c9Fu2ms4bdviPzLor9NP+IdH/AKrF/wCWn/8AdlH/ABDo/wDVYv8Ay0//ALsrX/iKHDH/AEE/+SVP/kDP/UDPv+fH/k0P/kj6a/4I6f8AKOL4df8AcT/9Ol3X01XmX7HX7On/AAyZ+zj4d+H/APbH9v8A9gfaf9P+yfZfP866muP9Xvfbjzdv3jnbnjOB6bX8s8Q4qlic1xOJoO8J1JyT2unJtPXXbuf0Dk2HqUMvoUKqtKMIprzUUnsFFFFeQekFFFFABRRRQAUUUUAFFFFABRRRQAUUUUAFFFFABRRRQAUUUUAFFFFABRRRQAUUUUAFFFFABRRRQAUUUUAFFFFABRRRQAUUUUAFFFFABRRRQAUUUUAFFFFABRRRQAUUUUAFFFFABRRRQAUUUUAFFFFABRRRQAUUUUAFFFFABRRRQAUUUUAFFFFABRRRQAUUUUAFFFFABRRRQAUUUUAFFFFABRRRQAUUUUAFFFFABRRRQAUUUUAFFFFABRRRQAUUUUAFFFFABRRRQAUUUUAFFFFABRRRQAUUUUAFFFFABRRRQAUUV5T+0jp3xwv7vSf+FQax8KtKgVJf7UHjDRr/AFB5WynleT9luoAgA37t27OVxjByrjPVqK+F/wBjL4/ftc/tUaJqWuy6v+zlp2keHvGGp+GL+3TwxrP2m5XT717aaSJ/7RKqXEbFdynbkZBxX2noPjnRfFWravYaZrGl6jfeH7lbPVLa1u45pdNnaNJVinRSTG5jkRwrAEq6nGCDVW0Uu6v8mk0/xRPNq12dvmm01+DNWisjQPH2heK9c1jTNL1rSdS1Lw7Olrq1pa3kc0+mTPGsqRzopLRO0bK4VwCVYEcEV4f/AMFI/wBpXxx+zP8ACjwbc/DyLwo/ibxn450bwhBJ4itLi6sbYX8xhMrRwTRSEqdp4f14qb6xitXJxS83JpL720Ule/km38k2/wAj6HorwT4MaN+1BafEnTn+IfiT4C3/AIQHmfb4PDvhvVrTUn/dt5flSz30sa4k2FtyHKhgMEgjuvGH7Wfwr+HuhDVNf+Jnw/0PTWv5tKF3qHiKztoDeQuY5rbe8gXzo3BVkzuUjBANU7K2u/8Aw39eotf6/ryPQaK5/VPiz4V0PRtG1G98TeH7PT/EdzBZaTdT6jDHDqk8/wDqYoHLBZXkwdioSWxwDVnxv8QNB+GWgNqviTW9I8P6WksUDXmpXkdpbrJK6xxoZJCF3O7KqjOWZgBkmlr+Nvn29dUH/D/I16K8Q8HeF9S+I37aXifxRc/ES2utF8B2UWgaf4O0HXpHitLieJJ5rvV7dSq/amVkWGJwwjiHmAlpcJ2r/tQfDSL4qDwK3xD8DL42J2jw8detRqpPp9m8zzf/AB2haqPd62/L71Z+V7bg9G+y6/n9zuvkd1RWB8Sfir4X+DXhaXXPF/iTQfCmiQELLqGsahFY2sZPQNLKyqOh6ntUfww+MXhH42+HRrHgzxT4c8XaSW2i+0XUob+3J648yJmXP40LXboD03OjooooAKKKKACiiigAooooAKKKKACiiigAooooAKKKKACiiigAooooAKKKKACiiigAooooAKKKKACiiigAooooAKKKKACiiigAooooAKKKKACiiigAooooAKKKKACiiigAooooAKKKKACiiigAooooAKKKKACiiigAooooAKKKKACiiigAooooAKKKKACiiigAooooAKKKKACiiigAooooAKKKKACiiigAooooAKKKKACiiigAooooAKKKKACiiigAooooAKKKKACiiigAooooAKKKKACiiigAooooAKKKKACiiigAooooAKKKKACiiigAooooA+S/+COv/JA/iR/2Vzxn/wCnm4q/+wbKp/a3/a6Tcu9fiHp7Fc8gHw7peDj8D+Rr2H9mv9mnQv2WvCOt6L4fu9WvLXXvEep+J7h9QljkkS5v7l7mZEKIgEYdyFBBYDGWY81wPxa/4J2eH/iJ8bdS+IOgeO/ih8MPEfiGK3h8QP4O1qKzg8QrApWI3MU0Mq+YqHYJIwkm0AbuKIacn/XuMH6pQ19Lxt87k8t1L/HKXybn+kr/ACt5nEf8E+b6LUP22P2x3hkWVF8eaXGWU5AZNCslYfUMCD7is3/gtjo2oeI/gn8IdP0nWJ/D2qX3xi8KQWeqQW8VxLpszXhVJ1jlVo3ZGIYK6lSRggiva/2Vv2IvBP7HGqeNbnwYdbH/AAnmoQarqaajfG9JuY7dIGlErgzO8uwySPK8jPI7tu5xU/7Yv7IWjftofDfSvDms+IPFfhf+w9dsvEen6n4duIIL60vLRy8Lq00MyYDHPKdhzS2dB78jo36fA4c1v/AXbUuFk6v972lv+3+a1/vVzJ+Av7OnxX+GXj9NT8X/ALQvij4k6MIJIm0bUPCuiadEztjbJ5tpbRygrjpuwcnIr5+/4JR/s1eCPGUXx98S+IPDWjeJNXv/AIweKLBZ9Ws4702lql3kW8PmBvLjLs7sq4DM5JzxXuvwY/Yg1j4RfEnTvEN18f8A49eNYLDzN2jeItU0ubTbzfGyDzUhsIpDtLbl2yL8yrnIyD2/7OP7M+hfsw6N4psdAu9Wu4vFvifUfFl4dQljkaO6vZPMlSPYiARAj5QQWA6s1XGynzP+Rrbq5wf5J6/Impd01CP88ZP0UKi/Nx/M+Jfgx+zFJ8Yv+Cbn7Qfw28KKtjdeBvil4lk8AwrxHol1p+oC8sIoR/BGs67Qo4CuwHFdbq/x0s/+Cl3xJ/Za8P6dGp0G509PjB4utTz9mFmBBZ2cg9f7SkckH/nxb0r6z+AH7Omifs42XiyDRLrVbpPGPijUPFt6b6SNzFdXsgklSPYiYiBHyhtzAdWNcd+yr+wB4E/Y8+InxA8S+FJNcmvviJfm8uotQukmg0qPz7i4+y2aqimK38+6uJNhLHdK3PQBUnZw5uipv/t+EEr+rlyyb6qml1Cqk/acn2pVEv8ABObf4Qukls5t9D5X1Lx/4g+FWn/8FJvEnhRpo/Emh3Md5p0sIzJBMnha0KyKPVSNw91r1PTP2E/gfc/8ExYtK/4RPwvLo83goau2vG3iN89ybT7QdT+2Y8z7R5n77zt27dznFe9/DH9lnw18LfiJ8UfElrJqOo3Hxc1GDUtbtdQaKW1R4rKKyEcSCNSI2iiXcHL5JbkA4Hjj/wDBIjwI2lN4aXxx8YIvha+Vb4dJ4oI8NmEtuNsF8v7ULbPHkC4EW35du3isJ03Kk6Sdm4U437OEWn57tNW7ejWlOSjUVR6pTqSt3UpJr8F17+t/J/B/wW+Jn7W37K37Kvxtgs/B3j3xp4T8GrPqXhbxuskVhr7X1pbh7pJgkot75RF8krQupE8gO0NmvoH9hj4yeD/HmqeOfD2n/C5Pg58Q/DV3av4w8NtZWcchkniJt7oXFrmK7hkSNlSXOf3TKVXGK6/42fsuH4r2ehRaH8QfiL8Lh4egNtbL4Ovra1heL5AqSW9xbzwMFEYC/u8qCwBGak/Zt/ZO8Pfsyrr11p+peJfE3iPxXcRXOueIvEeom/1TVWiTy4g8mFRY40yEjjRI13NhQSc9cpxlOpJKybbS9ZX6dN7367I54wcacIPVpJX9Fb/hrfPseoUUUVkahRRRQAUUUUAFFFFABRRRQAUUUUAFFFFABRRRQAUUUUAFFFFABRRRQAUUUUAFFFFABRRRQAUUUUAFFFFABRRRQAUUUUAFFFFABRRRQAUUUUAFFFFABRRRQAUUUUAFFFFABRRRQAUUUUAFFFFABRRRQAUUUUAFFFFABRRRQAUUUUAFFFFABRRRQAUUUUAFFFFABRRRQAUUUUAFFFFABRRRQAUUUUAFFFFABRRRQAUUUUAFFFFABRRRQAUUUUAFFFFABRRRQAUUUUAFFFFABRRRQAUUUUAFFFFABRRRQAUUUUAFFFFABRRRQAUUUUAFFFFABRRRQAUUUUAFFFFABRRRQAUUUUAFFFFABRRRQAUUUUAFFFFABRRRQAUUUUAFFFFABRRRQAUUUUAFFFFABRRRQAUUUUAFFFFABRRRQAUUUUAFFFFABRRRQAUUUUAFFFFABRRRQAUUUUAFFFFABRRRQAUUUUAFFFFABRRRQAUUUUAFFFFABRRRQAUUUUAFFFFABRRRQAUUUUAFFFFABRRRQAUUUUAFFFFABRRRQAUUUUAFFFFABRRRQAUUUUAFFFFABRRRQAUUUUAFFFFABRRRQAUUUUAFFFFABRRRQAUUUUAFFFFABRRRQAUUUUAFFFFABRRRQAUUUUAFFFFABRRRQAUUUUAFFFFABRRX5+/8HB/g/wD4WD8IvgVon/CH23xB/tX4s6Xbf8I1c6n/AGZFrm62vB9ma5wfJD9N+DjNS27xiuriv/Aml0u+pcYpqTfSMpf+AxcutlrY/QKivzH+J3xY8efsGfA34BfCP4ZfB+/+CGs/FfxFq63+i+Fb+x8X32jRW0ZmYWU2oSQ2clxcAo/747UUSAIzAZ0dT/bE/afh8D/CL4a+JQ3wt+IHxR+Imo+GLfxfrOh6fPff2LbWv2qG8NjDPLZpeTA+UV3NGGjfCYINU7X07qPTVtxjprZ6yXyTdtCLNJSnpdN+iXNq9L/YfTeyvqj9DNd+JPh3wt4t0TQNT1/RdO13xMZl0fTbq+ihu9WMKeZMLeJmDy+WnzNsB2rycCtuvza/bb+FvxM079tT9iLwufiouo/EP7T4yhbxtceG7VGCnTkLSCxjIg80QZRf4N4DlSMpVb4Wf8FFfH+p/so+KvDPi34ha7/wtfRfi/f/AAr0HXvDHg6xvdV8VyWoSYFbGUpZQytCz5d2WJNgJB6G+W8bx1evz99Q067yj5u+idjWpTcIwm9mru/T+I9fK1N69OtkfpdRXyT/AMEjf2nPiF+0N8PPibpfxLnvL3xF8NfHV54WF3f2NjZajcQxwwSr9risZJLRZ1MrKxgcodoxzmvralKNkmndNJr0kk1+DMU3dpqzTa+adn+QUUUVIwooooAKKKKACiiigAooooAKKKKACiiigAooooAKKKKACiiigAooooAKKKKACiiigAooooAKKKKACiiigAooooAKKKKACiiigAooooAKKKKACiiigAooooAKKKKACiiigAooooAKKKKACiiigAooooAKKKKACiiigAooooAKKKKACiiigAooooAKK/Mz/guJ8MIvjD+2v+zFoM/wj/4XjHc2fih/+ER/t2LRPt5W3tGD/apHRU8vG/G7nbgZp3wSHxu/4J6+F/2Ufhr4h8RDTR8QPiTqtpqmiC8TW10zR5Lea4tNJF7cIZG8jCjzIyp/hDFRyoNOKlLTmkor1c1Bdurvomkk9b2TK/7vVa6OT8kouX6W1s7taWu1+mNFfmF8ef8Ago18YvCHws/aw1bw34u059S+GXxa0Lwv4WNzpdrNbWNpPcWMc9tIFjDSqxllVmZjKu47XUgEdXJ8dvjp8PvjJ+0j8HPE/wAVrfxXe+HvhavjvQPEkPhi10250aV/OjltkiiJR48x5RpNzrkZZyMnH26+rfWUtHFyXnamqtvXlfpdNdrtW9t7FvW6T8r1HST9OZette9v0Sor8sfhv8dPjD+zH/wT5/Y11WP4s6v4jf4r+O/CGlX7ajpGns9ppF5b/vtOEnklnBK589yZ85/eV6R4n/4KNa58PP2gP21LDxV8QZ9F8H/CqHwxZeFJbPw/b6nPol7qVtIpVIUVXunkuTENk0mAeNyLk131cNKDqJa8jkvNuPs9F5t1Ipa6u/lcppypxqvRNRl8pScf/bW35a73R+g1ZPjjx7ofwy8MXGt+JNa0nw9o1mUE9/qd3HaWsG9gi7pJCFXLMqjJ5LAdTX5meGf+Cmfxv/Z38DftUW/jQ674n1X4ReEdL8TeHG8Y6HpWmaqkl8Zowl1FpM727QBkSQDKShdwcA4NdX+3HN8YvgJ/wSD+KHjfxp8XNH+LOq6pp2h6jpsWoeBNIXT9IaW+tvNRYGikiuYiJBsM6MybN24sQV56VqsuWD/lXzlJxt6pxlfpp10vpSpOpVhSW8nZfdF39LTj5+R+gPj34oeGvhVoMeq+KPEOh+G9LmuIrSO81S/is4HmlYLFGHkZVLuxAVc5YnAzW6DkV+ZH7Wf7RvxY+KXxt/aA1Twt4r8H+C9M/Y90mx13StN1LwhZ6xL4iu5tMe7lkeef95aI0e6BWtSj/M2WPQ6N9+138ev2svj6+i+AviJZ/CTQb34FaN8TjFJ4YtNXvLG/uHuN0EZnGNj/ACCTzA5AhGwRszNQ9KbqPpr/ANuuEpp/NQk++yaTMU78vnZf9vc0YtfJziu2rs3Y/SaivDP+CaH7R2t/tc/sG/DD4jeJY7SPX/FOjLcah9lj8uF5ld43dVydoYpux23Yr3OtK1J0qkqct02vuM6FaNWnGrDaSTXzCiiiszUKKK+d/wDgoP8AtDXXwU0/4YaTonjS48LeJvG/jvStHtbWy0O21m91m2eYC6hWCaWPZEIzmW4Xc0SDIUkihayjDrJqK9ZNJfmH2ZS7Jv7lf9D6Ior8cv8Agu7+0v4N+JH7Xdx4B1fxVf6DdfBPwTN4o8OvY6dfXpk8YzyRS6fHJ9likEeyCDO6Uqg+09euPoDxH+3Z8Rv2rfif+ynpnwr+INj8PtG+PXgbW9X1S5k0W11SWyu7WK0k/crKMefE5uIsEmP5nLI5VcFG9WHNBXu2vuU39/7uTt25X9rRV2qMuWo7aL8eT8P3kde/Mvs6/obRX5caP/wUP+P3i79nP4O2el+LfDA+IGrfG/UvhNq3iCXRIn07XIIIr2NL426424ZIptsLxhmh27lRmFeg/EX4oftDa7+1IPgJovxv03wzq3w5+GUfjTXPGT+C7KWfxhePcyQhPskjGG2tlCDf5R35JAYdQptRjz7xez7pU/aN97KDT2vrZK9xRmpScOq38m6ns0vnNNdtLtpH3bqnxG8P6J410rw3e67o1p4i12KafTdKnvY473UI4QpmeGEtvkWMMu4qCF3DOM1s1+Slh8evH/7ff7QH7DHjbSfEOmfDLxt458C+MDdanHpaagtnIi20cr2tvM2ws5iLIJN6qGOVfFd38Pv+CjXj74jfsl+GPDeo+Ptfh+NWo/EDXfBWnX3gnwlp2oXvjSPSWkEtxDBeuljbZRond5HCDacD5vl1nTcPdfxe9outqjptr00vs9dE7GVGvGo21tpb50/aa/Lm8tNWj9MKK/MLwl+2p+1N8af+Cedv4i8K2+taj4t8IfEnU/C3jK/0PQtLufEx0iyeRDPbWDyPYPebjErxxGRDhvLyDuFP4nfGDxz+1Fr/AOxZN4G/aE8TxWvjbWtet7nX4vCllp9495aWd1k3NjKjwebGA8DRFDHuVpFGdm2ErtW7x+6aUk/Szt66dHbWMk032U/vg2mvX3X8tex+pNFfmL8e/wBt/wDad8Y/tY/GDwl8INM8Waq3wYl0zTrDTtM8P6Jdad4hupbRLiV9WmvLuG6gjk3FY/sSjaFJJYjbXqHxn/4J0RfHH9tLwL410XwfN8P9dglsfGniXx8PEs9xqhmikUNoNpafaD5cUiqRLIUEATIVHdiVKfvuD+zK33PVS1tpy3e99lbmkk3OXKpd1f71o4+t2l23d+VNn3VRRRSGFFFFABRRRQAUUUUAFFFFABRRRQAUUUUAFFFFABRRRQAUUUUAFFFFABRRRQAUUUUAFFFFABRRRQAVxvxb+APhL463fhWfxVpP9qS+Cdcg8SaK32qaD7Ffwq6xTfu3XfgSP8r7kOeVOBXZUUbNNbrX5rVP5MOjXe6+T0a+a0ZwP7RP7L3gL9rHwRF4e+IPhy18RaZa3SX1qHllt7iyuEyFmgnhZJYZACQHjdWwSM81xOv/APBNb4J+K/gBb/DHVPBEep+DrPUP7Wt4LvVL2e8t7z/n5S9aY3SzckeYJQ2CRnHFe6UUrLVd9/w/yX3Id3o+234/5v72eP8Agz9gr4T/AA+vfhrcaR4U+yT/AAhbUH8Jyf2neSNpjX6st4zbpT57Shmy0/mEEkgg81g+Jv8Agl58CvGHg/WtD1DwKsthr/i6bx5dlNXv4rldblULJeQ3CTiaBmVQCsLomMjbgmvfqKtzk3dv+rqX/pSUvVJ7hd25en/D/wDyUvvfdnn/AMAP2WvAH7LWna3afD/w1Z+GLTxHfjVNRgtZJDHcXIgig83a7MFYxwx7tuNzAu2XZmPoFFFJtvf0+7RfciUktgooopDCiiigAooooAKKKKACiiigAooooAKKKKACiiigAooooAKKKKACiiigAooooAKKKKACiiigAooooAKKKKACiiigAooooAKKKKACiiigAooooAKKKKACiiigAooooAKKKKACiiigAooooAKKKKACiiigAooooAKKKKACiiigAooooAKKKKACiiigDjfF3wB8JeO/i/4R8e6rpP2rxZ4EivIdDvvtUyfYUu0WO4Hlq4jfeqKPnVtuPlwayv2mv2Sfh5+2N4GtfDnxI8NweI9LsL6PUrMG5ntJ7K5jzsmhngdJonGSMo4OCR0r0eih6pJ7L/O/56+uo7tO6/roeBaZ/wAEvPgPofw18S+D7H4fWdh4a8X6rY65q9ha6heQx3l7ZmJrefKzBlYNBGzbCBIwZnDlmJ7+T9l/wJN8ade+IUnh+Kbxd4n0FPDGqXktzNIl5pyOzrbtAXMIG52yQgY5wSRxXfUUPVWf9XXK/vj7vppsRyxTul2/B8y+6XvLz13PnbS/+CT37P2kfAfVvhlD8PYj4H1q+j1KfTZdX1CbyLiMkxyW8rzmW22ZbaIHQLubAGTUmj/8Ep/2fdB8E+NfDtr8NdLTRviLbWVt4kt2vLt/7VFmztbyuzSlhOrSO3nqRKzEMzsQCPoWijv57+drWv8AcvuRS0tbp/nf89fXU8W+GH/BO74MfB228RQ6F4D06OPxfo0Wga8Ly4uNQ/tuzjMpVLo3Ekhnb9/IDJJukZSqliqqBzfhr/gkr+z74R+DHi74e6f4AMPhDx0LVNasG13UpDdJay+dbxrK1wZYY43yVSJ0UZIxgkV9G0VSlJPmT1/4N/z19ddxpuLTXR3Xrpr66L7keGfH7/gmr8Dv2oviFZ+KvHfw+0zX9ds4IrQ3DXNzAt7BG2+OG6jikSO6jVuQk6yKPSuzj/Za8BQfFjVPG8fh+KHxNrPhuLwjd3UVzOiPpUbvIlssIcRIFaR8MiB+cbsAAegUVFly8vTX8U0/vTafdNisrp9rfhZr7mk12sjkvgT8C/C37NHwj0PwJ4J0v+xfCvhuA22nWP2ma5+zxlmfb5kzvI3zMxyzE811tFFVKTk3KWrZMYxjFRirJBRRRSKCvkr9qb9kb4u3f7bWifG/4RXvwuv9ZtvCb+EZtP8AHcd75Gko1yZzeWb2oZvMYNseM7NyqP3gzx9a0Ure8pdVf8U4v702v+CO/uuL2dvwaa+5pP8A4B5x8Cf2a/DvwXv/ABNr9vpVjD4z+Ik8Gp+MNQt57mWPVr5IFiLos8khihABCRKQqr2zkn5j+J//AARS8AeKPjt8IItJ8NaDbfBrwHYeJU1LQJtW1D7at3qjQSpLZPlnhCyxyMSk0Xl7vkGCRX3HRT05lK2yt5Ws429Enoull2IavDku90/mne/q3u+t33PH9D/YH+EPhjwP8O/DemeCrHTdD+FGsLr/AIWtLS5uIU02/VZV+0ErIDM5E0pbzi4YuSwJ5pn7UH7AHwg/bM1LTL34keC7XxDfaPE9ta3aXlzY3CwOcvA8ltJG8kLHrE5ZDk5Xk17HRTk3J3lrrf57X9bJK44pRd49rfK97el236s8O+L3/BNr4H/HXTPC9l4m+HmkXlp4I0qfRPD0NvLPYx6JazeVvW2WCRBE37iMLImJEAIVlDNmprn/AAS++A+v/CHwZ4Fk+HlhbeGvh7cPdeHYLG+u7GfTJZM+ay3MMqTsZMnzN8h8z+PdXvlFJtvfq7/O97+t236u41pt6fK1vy09NDwPWP8AgmF8DdX+GK+DV8D/ANl+G49an8QxWej6zqGlfZ72dQkskT208bxqyjBjRgmM/Lyan8bf8E0fgd8Qfgt4V+Huo+ALBPCfgi6N9oVrY3t1YS6ZOdxaWO4glSfc5Zi5MhLliW3V7rRRurdNP/JdvusrdraAlbbz/G9/vu797u54P8W/+CZnwP8Ajh4utNe8R+B0n1e0sIdLN1Z6tfae95axLtjgufs80YukVeAs+8Y4r0O3/Z28GWnx7b4nx6HCvjt9CXw02qiaXedOE3niDZu8vHmfNu27u2ccV2tFNNrbzfzejfzTafe+oWVrei+Stb7rK3ouwUUUUgCiiigAooooAKKKKACiiigAooooAKKKKACiiigAooooAKKKKACiiigAooooAKKKKACiiigAooooAKrX+lx6lt8xrhdmceVcSRZz67SM9O9WaKAM7/hF7b/nrqP/AIMJ/wD4uj/hF7b/AJ66j/4MJ/8A4utGigDO/wCEXtv+euo/+DCf/wCLo/4Re2/566j/AODCf/4utGigDO/4Re2/566j/wCDCf8A+Lo/4Re2/wCeuo/+DCf/AOLrRooAzv8AhF7b/nrqP/gwn/8Ai6P+EXtv+euo/wDgwn/+LrRooAzv+EXtv+euo/8Agwn/APi6P+EXtv8AnrqP/gwn/wDi60aKAM7/AIRe2/566j/4MJ//AIuj/hF7b/nrqP8A4MJ//i60aKAM7/hF7b/nrqP/AIMJ/wD4uj/hF7b/AJ66j/4MJ/8A4utGigDO/wCEXtv+euo/+DCf/wCLo/4Re2/566j/AODCf/4utGigDO/4Re2/566j/wCDCf8A+Lo/4Re2/wCeuo/+DCf/AOLrRooAzv8AhF7b/nrqP/gwn/8Ai6P+EXtv+euo/wDgwn/+LrRooAzv+EXtv+euo/8Agwn/APi6P+EXtv8AnrqP/gwn/wDi60aKAM7/AIRe2/566j/4MJ//AIuj/hF7b/nrqP8A4MJ//i60aKAM7/hF7b/nrqP/AIMJ/wD4uj/hF7b/AJ66j/4MJ/8A4utGigDO/wCEXtv+euo/+DCf/wCLo/4Re2/566j/AODCf/4utGigDO/4Re2/566j/wCDCf8A+Lo/4Re2/wCeuo/+DCf/AOLrRooAzv8AhF7b/nrqP/gwn/8Ai6P+EXtv+euo/wDgwn/+LrRooAzv+EXtv+euo/8Agwn/APi6P+EXtv8AnrqP/gwn/wDi60aKAM7/AIRe2/566j/4MJ//AIuj/hF7b/nrqP8A4MJ//i60aKAM7/hF7b/nrqP/AIMJ/wD4uj/hF7b/AJ66j/4MJ/8A4utGigDO/wCEXtv+euo/+DCf/wCLo/4Re2/566j/AODCf/4utGigDO/4Re2/566j/wCDCf8A+Lo/4Re2/wCeuo/+DCf/AOLrRooAzv8AhF7b/nrqP/gwn/8Ai6P+EXtv+euo/wDgwn/+LrRooAzv+EXtv+euo/8Agwn/APi6P+EXtv8AnrqP/gwn/wDi60aKAM7/AIRe2/566j/4MJ//AIuj/hF7b/nrqP8A4MJ//i60aKAM7/hF7b/nrqP/AIMJ/wD4uj/hF7b/AJ66j/4MJ/8A4utGigDO/wCEXtv+euo/+DCf/wCLo/4Re2/566j/AODCf/4utGigDO/4Re2/566j/wCDCf8A+Lo/4Re2/wCeuo/+DCf/AOLrRooAzv8AhF7b/nrqP/gwn/8Ai6P+EXtv+euo/wDgwn/+LrRooAzv+EXtv+euo/8Agwn/APi6P+EXtv8AnrqP/gwn/wDi60aKAM7/AIRe2/566j/4MJ//AIuj/hF7b/nrqP8A4MJ//i60aKAM7/hF7b/nrqP/AIMJ/wD4uj/hF7b/AJ66j/4MJ/8A4utGigDO/wCEXtv+euo/+DCf/wCLo/4Re2/566j/AODCf/4utGigDO/4Re2/566j/wCDCf8A+Lo/4Re2/wCeuo/+DCf/AOLrRooAzv8AhF7b/nrqP/gwn/8Ai6P+EXtv+euo/wDgwn/+LrRooAzv+EXtv+euo/8Agwn/APi6P+EXtv8AnrqP/gwn/wDi60aKAM7/AIRe2/566j/4MJ//AIuj/hF7b/nrqP8A4MJ//i60aKAM7/hF7b/nrqP/AIMJ/wD4uj/hF7b/AJ66j/4MJ/8A4utGigDO/wCEXtv+euo/+DCf/wCLo/4Re2/566j/AODCf/4utGigDO/4Re2/566j/wCDCf8A+Lo/4Re2/wCeuo/+DCf/AOLrRooAzv8AhF7b/nrqP/gwn/8Ai6P+EXtv+euo/wDgwn/+LrRooAzv+EXtv+euo/8Agwn/APi6P+EXtv8AnrqP/gwn/wDi60aKAM7/AIRe2/566j/4MJ//AIuj/hF7b/nrqP8A4MJ//i60aKAM7/hF7b/nrqP/AIMJ/wD4uj/hF7b/AJ66j/4MJ/8A4utGigDO/wCEXtv+euo/+DCf/wCLo/4Re2/566j/AODCf/4utGigDO/4Re2/566j/wCDCf8A+Lo/4Re2/wCeuo/+DCf/AOLrRooAzv8AhF7b/nrqP/gwn/8Ai6P+EXtv+euo/wDgwn/+LrRooAzv+EXtv+euo/8Agwn/APi6P+EXtv8AnrqP/gwn/wDi60aKAM7/AIRe2/566j/4MJ//AIuj/hF7b/nrqP8A4MJ//i60aKAM7/hF7b/nrqP/AIMJ/wD4uj/hF7b/AJ66j/4MJ/8A4utGigDO/wCEXtv+euo/+DCf/wCLo/4Re2/566j/AODCf/4utGigDO/4Re2/566j/wCDCf8A+Lo/4Re2/wCeuo/+DCf/AOLrRooAzv8AhF7b/nrqP/gwn/8Ai6P+EXtv+euo/wDgwn/+LrRooArWGlx6bu8trht+M+bcSS4x6bicde1WaKKACiiigAooooAKKKKACiiigAooooAKKKKACiiigAooooAKKKKACiiigAooooAKKKKACiiigAr5x/4Ka/to+Lv2DPgXYfEHw78N7z4i6Hp2qRDxULS6EU+jaXz5t0iYJcjgdlXO5iFBI+jqjvLOLULSWCeKOeCdDHJHIoZJFIwVIPBBHUVM+a3u76P7nez8ns/IqDjf3tv6/Fbo+C/2l/8AgvX8PtB+Gvw/T4GWqfGv4mfFZ4h4c8K6fKUmhQvtka9wC1uU2uuxgDuVicIrOPu3QLy61DQrKe+s/wCz72eCOS4tPNE32aQqC0e8cNtORuHBxmvnb9kT/gkv8EP2IPjX4x8feAPCwsPEHi+YtumcSxaJC2C9tZLtHkQs4LEZJ5CghFVR9KVr7vLpu9fT+6u9ure72siNebyWnr5vt5JbLe725P4veENZ8aeG1tdI8bap4CVGMt1qemWllPeLGFPCG8imgQZwWLwvwMDb1ryn4ZftHeIbb9mWx1W8ePxV4o17WL3RvB8kkK2Z8VILiZbK8kRAFSN7aP7RI8ahfKR5FQAqldR+1t8C/GPx+8L6TpHhjxf4c8NadFdmfWbLWvDc+tWmvwhfktpVhvrNxFvwzr5hEgUI4KF1fNv/ANkA/GHTNEuPitrr6t4m8NtcxaZqXgK+13wJFbW04iDxGO11WSRyfKXJaUjAACrznKKvzX/paars+nRbt3di21p/Xeye111fXZJrU2/2N/FviLxp+z3pd74s1ZNd8QRX2p2N5qCWsdqt0bbUbm3VhEgCoNkS8D05JOSfH/iP+1B42+I+k+ANc0rw5/YfgLxH4/0ax0zWbPxE51K/tjfmN2u7MQIkVtOqfKFuJmYSoHjTLbfZP2Uf2YtO/ZP+GE3hnTtX8Qa1Hcane6k9xq2sX2oyA3FxJKEU3c87IFVlU7WAdw8hG+RieD039inxLp9n4c8OD4g2P/Cv/BniO08QaJpi+HCNSRYLs3AtLi8NyUlhUNsQpbxOoSMs8mGD63/2qE18KlFv0Uot/hf17dDk5J/Up0/tuEku93Fpa7b2u/xOVj/4K1eBpfj1D4WTWPhrJp1x4o/4Q1IY/Hds3isaj9rNnuOiiPcLbzxjf5/mbTv8nbzXsX7Q3x61z4T+KPBHh/w34Tg8Va547vbqws1utV/s20s3gtJbrzLiUQzOsRERUlI3YFlwjc4z/hx+z/4y+DnjGW18NeNdCj+HV3q13rM2iaj4clutUhku7h7meKC/W8jjSEzSSMqvayMocgPgLjrvH/wi/wCE5+KXgPxL/aH2X/hCLu8uvs3kb/tv2izlttu7cNm3zN2cNnGOM5qFb2ST36/cum299n16Wu96jkptwWnT73r32t9x4zpf7c/jKGw/tbW/hjpmk+HdG8VweC/EV1H4rNzc2t/NewWaS2UItFF1aeZcxZklktpQN+ITtAbb+N/7b8XwK+OujeGNTX4fSaXq+p6dpAjXxoq+JxNfTxW8MiaSbb54RJKu5/tAYKrMEIFaviT9kH/hIfhr4k8Pf8JD5P8AwkHjq18afaPsG77P5OpWl99m2+YN277Ls8zIxv3bTjaeX139hbxBrN/f6YnxBsrTwTc+ObXx8lhH4dLarJeRapFqL28961yUlty8exAtvHJGojHmOqbWeFafsfbq3wuf3U+ZfJupa19lvdM1lGHJJp63kl/hu+WXrtdPveytZ9d8OP2hfGfxg1zxSmg+BNHi0jwxqep6H9u1bxHJatqF7aymOPyo47SX9w+PnkZlaNshY5sbq5zw9+2h4jvNA1yW+8D6K1/F4oi8HeHl0nxJJeWXiDUSG+0Dz5bOBoobdkkWSQRycwThVZkCt2Nr+z5rnhf4M+PPDvhrxgui694v1PVtUstbOl+f/Y0l9M8oIh81fMaLfgHeuSAcDpWDpP7KHiCL4PaL4XufFHhi0n8FXVlfeE7zRvDU9ommTWwZR9ojnvrg3KyK7JJh4nZZJPnDsHXKnz8kOfe1Pm9br2lvNK6XR6a6aqpbmlyd527W15L9bPRvro9NdOs+CPxt1Xx34n1/wr4s0HT/AAz428MQ2l5fWWnaq2qWEtrdeaIJ4Lh4IJHUtBOhDwRsHhbgrtZvF/2yP2n/ABte/A34zSeDPDnkeHPBlneaRdeJofEL2Wr29+kEbPLZ2qwFXhhMoDytdRSAxSbI3wu72b4IfBDVfAnirxB4s8W6/YeJ/G3iiC0s72907Sm0qwhtbXzTBBBbPPcOihp53JeeRi0rchQqjgfi1+xV4k8daV8RPDmi/ECy0HwP8TWuLvVLCbw6b3ULS7mhjjkNtdfaY40gcxhnjeCRyZJNsse5dm6aVZP7Nv8Aya8fwtzfO3Qzkm4NR3v17Wd9ut7f9u36nJ/tLf8ABWPwV+zb8SvEOhXuqfDhY/AscT+IrfWfHVtpOvS+ZbpchdM054na+cRSJw0kAZm2IXZWA+lPG+kal448Gtb6D4huPDU96EZdUtbWG5uIIzgkxLMrxByOjSRyKM8o1eean+z34w8J/FXXfEPw+8aaD4es/GV3b33iHTta8NSaus1xFbxW3nWskd5bGB3ghhVvMEyZiUhQd27of2mvhl4t+L/wmudA8G+MLLwTqd7NELjUbnSpdRWS2BzLAEhurWVDIvy+ZHMrqCxUhsMucrezS3lf07fgnfztur6Fq3MraK3r0/Pfy21Vrni2j/GrxzY+FtT8M2vjK68QNqHj628F+HvGt5p1mLueE2yTX8pSGKO0lmgeK8hR1hWLzIwGjfy3D9l8O7rxtqnifx98Lbv4g6tPqvhqLTNQsvFkul2H9rSWN4swIeNIUs/tCy2twA/2YJtZMxMQS0ui/sy+NL/4UQeHfEPi3wJDceHLyxv/AAnP4T8Fz6LbaJJatlFkt5tRuhNEw/dsiPD+7ZwCCwZc3xL+yX8Qta+HXiz7L8TtE074ieObuzOs69D4WnSw+w26bBY29omoJcQIymTMn2xpQZ5SrqSmw1UZJ6u6t00tBfL3lKT626y2c6uUWtFrfrreX33XKltqr2iXfgR4o+IHifwb8QtK07xTbeLZdA13+x/DvizXbGFPtyLDB9qkmjs44YZ2t7hrmMeSkKu0PlkqVZ67L9kjxZrPjn9m3wfqviHUjrGuXenq17fNBHAbuUEqZDHGFRc4zhQAKk/Z3+HvjP4Y+FTpHinW/AOqWNlHFb6Rb+FfCNx4dt9PhRSDG0cuoXgcfd27TGFAPDZ42fgn8NP+FO/CvRfDP23+0f7Hg8n7T5Pk+d8xbOzc2OvqaU1L2is7q2vrpbT7/wBW9GOLutVbX+v6/BbHE2vinxvY/tn2ujanq+mf8IhqvhvUbyw0m0tBvje2udPRbiadhvaRvtMo2JtRV2/fb5hwvxo8D/EDwn8ZfBen6B8d/idNqHjDxH9o/sSfSvDUum2WlW7/AGi9DY0pbnyRFttkfzzIJLmAl2OSfbtT+GX9o/G3RvGP23Z/ZGi32j/Y/Jz5v2me0l8zfu42/Zcbdpz5mcjbg1dG+EH2T48a146vtR+33N3pdvo2l2v2fYukWyM0swVtxLvNKUZ2wvEMK4+TJuFkqfdXv/4FJq/e/up9o3XSwS+3bra33JO3a2rXdrXe5l+MPjdrHgLwLq9/q/hdbXWX1mTRvDOlw6ilzJ4idm22rhlUeT5nLupB8mNHdiQpNeVfDnx5458TfsdXmreLfiD4n0/XNE8U67puq6z4N8IJq2pzw2usXllDHaWKWl1woSEZ+zTNsjJbndJXonjj9k2w+NTQyePtd8R6vd6Pq95f6DdaDrWo+FbjSbedQgtjJp11E821MqXdvmDH5Rk55n4S/sceI/2ZPhZf6F8M/HwttR1PxDqOtT3fjKHVfFcBjurqadYVim1SORGRZVVpEmHnOrSyKXkY0o/wmpb+7b7le+2t781nZ6WVja8eW3978LT20enw2vr1d3t0H7E/xL1n4pfCa/vNY1efXfses3VlYXl9axWWrTWibfLOoWsSRrbXfJ3RGKJlXZuijYsg+a/hj+1t4h1/xNdS6T8cn8a/EKP4lXnh+6+Fwg0SddP0mPxBNZNI0Vrax6hbiKwT7R5887JlMsGDgV9cfAf4Ly/CGy8Q3Oo6v/b3iLxfqza3rV8lr9kt5bgwQ26rDBufyolht4VVS7t8pLOxJNP/AGe/gz/wofwDd6H/AGl/av2rXtY1vz/s/kbft+pXN95W3c2fL+0bN2fm2bsLnaNk4JxlvZR07tJX8tWnfTXpYy09jKPVyv8AL3/O9tY6Xvt2PHfBPh74pfFzWviPr+kfGXxLpNzoPinUdK0fw/caLo1xoCJb7BEkwFkt86kk7it4rc8EYxXL/FH4jeOPjN+z18L/AIreFvil49+HA8d3nhvT7rw/plloN5ZWgv72C3uWWS802eYyqJnCt5mzKKdnUH0GD9lv4n6RrnjSy0f4reHtD8HeM9Yu9WkjtPBsh8Qaebnb5iw38l+9tuGDtZrFsZ6EjNdn4s/Zf0nUPg14M8DaDMNA0XwRqeiXlighNx+50y6gnSDllOXWAJvJJG7dhuh58EmqdBVunsebq9Le1u+t/nfdW6xiOa1b2e79py/O/J6dO1uvl2fw48J3/gfwdaaZqfibXPGN7bb/ADNX1iKzivLvc7MN62kFvANoIUbIl4UZy2WO5RRVt3dygooopAFFFFABRRRQAUUUUAFFFFABRRRQAUUUUAFFFFABRRRQAUUUUAFFFFABRRRQAUUUUAFFFFABRRRQAUUUUAFFFFABRRRQAUUUUAFFFFABRRRQAUUUUAFFFFABRRRQAUUUUAFFFFAHlv7ZWt+NPDP7OvijU/A2raZoOraXpl3fSald2v2t7SOG3klzDCw8t5WZFUGTKKGLFX27Gj/aA+JuteFvgLYf2Fd+R4y8YSWWh6NceVHIYLy7KqbkRuNjiCPzbgqQQVgbgjiu1+LXgT/haXwr8S+GftX2H/hItKutM+0+V5v2fzomj37Mjdt3ZxkZx1FY2ofBf+1/iP4I1u61LzbPwPZXUdtYfZ8CW8mjjhW7L7uCkAuIwu0/8fLHdwASG7T2vH8L3XlfRerv3HN6Rcd1zf8AtvLfvZ3+V11RzGveJPHWifteeEtMuNb05PBOr6ZqKR6ZBaK1zdzQR2zfaZ52AKkM7qsUQC4yzM5YLH7DXK+Jvhp/wkfxV8K+Jvtvk/8ACMwX0H2byd32n7SsQzv3Dbt8r0Od3bHPVVnT5ry5tr6fcv1v/wANYWgUUUVoAUUUUAFFFFABRRRQAUUUHpQB8xfs9fE7XfFPxvks/G/xS8S6B4yS9v0b4c3mjafYaXdW0ckgiksJpLT7XeIIvKkaaK7kXJO5IzmNfU/2RfFC/ED4AaF4n3awZPFSvq8qalqRv5YXmdmMavtRVjXgKiIiKAML1J59/wBnnx746+IOgX3jvx74Z1rQPCWrLrWk2OjeEpNLvXuEiliT7VdSXtwsigSsSIYYCxAydpZD3H7Pnwl/4UR8FfDfg/7f/av/AAj9ktp9r8jyPtGM/Ns3Nt69Nx+tZx5la/a35b/O+mq0TvrZOSXM7f1v+nWy3tbTXsqKKK0EFFFFABRRRQAUUUUAFFFFABRRRQAUUUUAFFFFABRRRQAUUUUAFFFFABRRRQAUUUUAFFFFABRRRQAUUUUAFFFFABRRRQAUUVWv4ruTb9lmt4eu7zYDJn0xh1x39aALNFZ32bVv+f3Tv/AJ/wD47R9m1b/n907/AMAn/wDjtAGjRWd9m1b/AJ/dO/8AAJ//AI7R9m1b/n907/wCf/47QBo0VnfZtW/5/dO/8An/APjtH2bVv+f3Tv8AwCf/AOO0AaNFZ32bVv8An907/wAAn/8AjtH2bVv+f3Tv/AJ//jtAGjRWd9m1b/n907/wCf8A+O0fZtW/5/dO/wDAJ/8A47QBo0VnfZtW/wCf3Tv/AACf/wCO0fZtW/5/dO/8An/+O0AaNFZ32bVv+f3Tv/AJ/wD47R9m1b/n907/AMAn/wDjtAGjRWd9m1b/AJ/dO/8AAJ//AI7R9m1b/n907/wCf/47QBo0VnfZtW/5/dO/8An/APjtH2bVv+f3Tv8AwCf/AOO0AaNFZ32bVv8An907/wAAn/8AjtH2bVv+f3Tv/AJ//jtAGjRWd9m1b/n907/wCf8A+O0fZtW/5/dO/wDAJ/8A47QBo0VnfZtW/wCf3Tv/AACf/wCO0fZtW/5/dO/8An/+O0AaNFZ32bVv+f3Tv/AJ/wD47R9m1b/n907/AMAn/wDjtAGjRWd9m1b/AJ/dO/8AAJ//AI7R9m1b/n907/wCf/47QBo0VnfZtW/5/dO/8An/APjtH2bVv+f3Tv8AwCf/AOO0AaNFZ32bVv8An907/wAAn/8AjtH2bVv+f3Tv/AJ//jtAGjRWd9m1b/n907/wCf8A+O0fZtW/5/dO/wDAJ/8A47QBo0VnfZtW/wCf3Tv/AACf/wCO0fZtW/5/dO/8An/+O0AaNFZ32bVv+f3Tv/AJ/wD47R9m1b/n907/AMAn/wDjtAGjRWd9m1b/AJ/dO/8AAJ//AI7R9m1b/n907/wCf/47QBo0VnfZtW/5/dO/8An/APjtH2bVv+f3Tv8AwCf/AOO0AaNFZ32bVv8An907/wAAn/8AjtH2bVv+f3Tv/AJ//jtAGjRWd9m1b/n907/wCf8A+O0fZtW/5/dO/wDAJ/8A47QBo0VnfZtW/wCf3Tv/AACf/wCO0fZtW/5/dO/8An/+O0AaNFZ32bVv+f3Tv/AJ/wD47R9m1b/n907/AMAn/wDjtAGjRWd9m1b/AJ/dO/8AAJ//AI7R9m1b/n907/wCf/47QBo0VnfZtW/5/dO/8An/APjtH2bVv+f3Tv8AwCf/AOO0AaNFZ32bVv8An907/wAAn/8AjtH2bVv+f3Tv/AJ//jtAGjRWd9m1b/n907/wCf8A+O0fZtW/5/dO/wDAJ/8A47QBo0VnfZtW/wCf3Tv/AACf/wCO0fZtW/5/dO/8An/+O0AaNFZ32bVv+f3Tv/AJ/wD47R9m1b/n907/AMAn/wDjtAGjRWd9m1b/AJ/dO/8AAJ//AI7R9m1b/n907/wCf/47QBo0VnfZtW/5/dO/8An/APjtH2bVv+f3Tv8AwCf/AOO0AaNFZ32bVv8An907/wAAn/8AjtH2bVv+f3Tv/AJ//jtAGjRWd9m1b/n907/wCf8A+O0fZtW/5/dO/wDAJ/8A47QBo0VnfZtW/wCf3Tv/AACf/wCO0fZtW/5/dO/8An/+O0AaNFZ32bVv+f3Tv/AJ/wD47R9m1b/n907/AMAn/wDjtAGjRWd9m1b/AJ/dO/8AAJ//AI7R9m1b/n907/wCf/47QBo0VnfZtW/5/dO/8An/APjtH2bVv+f3Tv8AwCf/AOO0AaNFZ32bVv8An907/wAAn/8AjtH2bVv+f3Tv/AJ//jtAGjRWd9m1b/n907/wCf8A+O0fZtW/5/dO/wDAJ/8A47QBo0VnfZtW/wCf3Tv/AACf/wCO0fZtW/5/dO/8An/+O0AaNFZ32bVv+f3Tv/AJ/wD47R9m1b/n907/AMAn/wDjtAGjRWd9m1b/AJ/dO/8AAJ//AI7R9m1b/n907/wCf/47QBo0VnfZtW/5/dO/8An/APjtH2bVv+f3Tv8AwCf/AOO0AaNFZ32bVv8An907/wAAn/8AjtH2bVv+f3Tv/AJ//jtAGjRWd9m1b/n907/wCf8A+O0fZtW/5/dO/wDAJ/8A47QBo0VnfZtW/wCf3Tv/AACf/wCO0fZtW/5/dO/8An/+O0AaNFZ32bVv+f3Tv/AJ/wD47R9m1b/n907/AMAn/wDjtAGjRWd9m1b/AJ/dO/8AAJ//AI7R9m1b/n907/wCf/47QBo0VnfZtW/5/dO/8An/APjtH2bVv+f3Tv8AwCf/AOO0AaNFVrCK7j3faprebpt8qAx49c5ds9vSrNABRRRQAUUUUAFFFFABRRRQAUUUUAFFFFABRRRQAUUUUAFFFFABRRRQAUUUUAFFFFABRRRQAUUUUAFFFFABRVXWtVXQ9Hur14bm4W0heYxW0LTTSBQTtRF5ZjjAA5Jrl/gh8U7r4t+Fr2/vdDm8O3Vlqdzp0llNcpcSR+S+0FmQbQxGMqpYA5AZutC1bS6K/wArpfqgeiTfV2/X9DsqK4v4p+N/FnhFZZtA8K6ZrVjZWjXd3Pfa3/Z+du4mOFVhl3vhc/vPLT5l+f722z4F+M+hfEGfSreyluUvtX0ODxDFazWzqyWk2AjM2NgbccFd2eM4xzQtdv63/wAn9wPTf+tv81951dFeaXv7RkemftQwfDi40oxx3elR30Gq/afle4czlbYx7OCY7aZw2858sjb3pukftHprP7Smq+AYtIf7HpGlvey6v9oyr3EZtzJbrEEydqXULF93Viu3IJoTu0u9/wAL3/L+roHpfyt+Nrffdf1c9Norg9P/AGlfCOoWWsTfatXtf7BszqN5Fe6Ff2c4tgSDPHFLCryxjB+aNWHHWk+IHx70bw14c12aw1LTZ77RdMh1SQzCdrOKKZiIWklhjk+/gkKoLEDOMc0f1/X3P7g/r8v8196O9orzzxb+1T4G8DeIdV0vU9WuYbrQZI49VaPS7ye30rzI0kRriaOJo4Y2WRSHkZV4YZyrAS6T+054L1jTtbuo9Tu4YfD+nNq94bvSru1Y2QDE3MSyxK08XyNh4g6njBORRe6ug12O+orn9b+KOheHbywgvL7yZdTs7jULZfJkbzYIEV5XyFIG1XU4OCc8A81xtn+2d8PNQFp5Gq6rP/aUPn6cI/D+osdXQbcmzAgzdbQwLCDeVGScAE0dbdf+H/yf3MN1zLb+v8z1KisjwL470r4leF7fWdFuvtmn3RdUkMTxMrIxR0dHAdHV1ZWVgGUqQQCK8q8E/tS+INa03wxrWr+D9M0/wx4s1MaTaXVlrzXd3byvI8URmge2iUKzJglJHK5HBGSD7Sj1YdHLoj2yiuRt/jj4dn8fJ4ZabVLfVZpZLeA3Oj3lva3Usas7xw3MkSwSuFVjtR2OEY44NYGmftReG7Hw1pFzrWpQC+11r77BbaXZ3t698trc+S6wxiESvIu5NyBM/fKhkUtR28w1vY9Noripf2h/B9toml6hNrH2e21nWj4dtDNazRu9+JXiMDIyB0O+NxlgF4znBBMepfHHSl+IVjoVpqGnGRdQuNP1EXAnRoZIrIXZWNhGY2IR42Ys6qASMlhto/r8v81967hvt/W/+T+5nc0VxPhb9ofwp4v0u+v7W71GDTNPtDfy6hf6PeWFk9uBkzRzzxJFKmOd0bMMc9OaufD340eHviheXVtpNzei8so0mltb/TbnTrgRPkJKsVxHG7RsVYB1BUkEA8Ua7AdVRXknjP4/+KdI8aeMbHRfB+j6vpvgi3gub6efxA9ndzrJCZiIYfsrxkhQfvzICe4rd0r9pnwhrGqaTp8N5fS6rrNlZ6hDYQabc3M8cF0MxSyCJGCR9mkYhEONzLkZFrt/V72/J/cD03/q1r/mjvqK4nTP2ifCGseMF0ODU5zdy3UljDO2n3KWNzcJu3wRXbRi3klG1wY0kLZRhjKnHLfEv9rTR9Cv9P0/Qbj7bqFx4ksdClkn027Fi5kukhuI4brasEk8al/kSRipRsr8rAC1cUurSXzaX6oHom30/S7/AEZ6/RXMX3xl8N6b4Z8R6xNqOzTvCU8ttq032eU/ZJI0V3G0LufCupygIOeKraz8dvDeh+NR4eafU7vVh5XnRafo95fpZ+b/AKvz5IInSDd1HmsuRz05o7eYf19x2FFcF8Bvj9p/x60a/urLTtZ042F9dWbLe6bdW6OsNzLArLJLEiszeVuZFJaMna2CK72gOrXbQKKKKACiiigAooooAKKKKACiiigAooooAKKKKACiiigAooooAKKKKACiiigAooooAKKKKACiiigAooooAKKKKACiiigAooooAKKKKACiiigAooooAKKKKACiiigAooooAKKKKACiiigAorjPj18WLj4MfDi+1y00DUPElzaxSSraWzCJAscbSO8srArFGFQ5YgknAVWYgGb4j/FRfh98Jp/Ev2I3k/kRfZLATbDeXMzLHBAHwcF5XRN204znHaje9v6vsG1k+v6b/mdbRXA3Hxou7f446X4Pbw3fR2t9azyvq8sojgM0SRuYoUI3SjbIN0nyqDwNxDBe+oAKKKKAOR+PPx08L/szfBzxF4+8a6pFovhXwrZPf6jeOrP5Ua9gqgszMSFVVBLMwABJr44sP+C9Wn67ZRXuk/smftv61pd0gltNQsfhX5ttexNyksTfahuRhgg4GQRU3/BzG23/AIIjfGvH/UD/APT9p1e8W37Vniqf4br8QLX4bxN8NBaf2klz/bm3XX08LuF0mni3MRQx/vAhuhIU/g3fJXbhMvr4m7opaNLVpau9lq1duzslroY1cRCm1GW76JNv7ld21Wvmjwf/AIfq/wDVnP7d/wD4ab/7qo/4fq/9Wc/t3/8Ahpv/ALqr608U/tKeEPCWqabYy3upahearax38EGj6Ne6tIttIdsc8q2sMhhiY5Akk2qcNzwcX7344+FtO8Ha1r82qbNJ8O3sunahP9mmP2eeOQROm0JubDkDKgg5yDjmp/s/FWi/ZytLbR6620766eofWKT2ktPNdVdfetfTU+PP+H6v/VnP7d//AIab/wC6qP8Ah+r/ANWc/t3/APhpv/uqvefH/wC2UPhL4h8Yx6zpV1fWWi+LNG8N2C6Zp91cTMt9DZM0kvlJLlla5cqoVd+1Ixl2BPb+Nv2mvCXw5s7G51qTxDYWl9apem5fw1qTQWML5w93ItuVswMHP2gx7cHdjBrplkuOShKNJtT+Gybv7sZaW7KSv/wGQ8bQTcZSSaV3d2sruN/vTR8n/wDD9X/qzn9u/wD8NN/91Uf8P1f+rOf27/8Aw03/AN1V9dz/ALQXhSH4kv4QS/u7vxHDLHFPZWemXV0bTzI1kSSZo42WKIq6/vZCsecru3Aij4j/ALQXhT4U+IbPSNZv7saxqNu91Z6fZaZdaheXkaMFcxQ28cjybcgkKCQuWI2gkc0cvxUpRhGnJuSulZ3a3uu6trc0lXpRi5SkrLfXbpr2PkT/AIfq/wDVnP7d/wD4ab/7qo/4fq/9Wc/t3/8Ahpv/ALqr6yu/2m/BVh8QB4al1W4XUftaac039m3R0+O7fbstXvRH9mS4bcoELSiQllAXJAp3h39pDwn4t8VXek6bPrV3JZNcJLepoF//AGYXgLLMi33k/ZXZGR1KrKTuVhjIIqnluLUed0pWte/K7W77beewvrNFy5FJXva11e/b18j5L/4fq/8AVnP7d/8A4ab/AO6qP+H6v/VnP7d//hpv/uqvsTSvjd4Y1vQvBupW2p+bZfEDy/7Ak+zSj7fvtZLtOCuY8wRu/wC8C/dx94gV5P8ADn9uSPUF8G2XiDRtUk1Pxbea3CJdH0W/ure2jsb+a1j/ANVHLlmWNC/zDZksdqsorajk2NqqThTd49La7Tb08uSV/NW3MXj8OmvfVmrp30tdJO/nzK3c8T/4fq/9Wc/t3/8Ahpv/ALqo/wCH6v8A1Zz+3f8A+Gm/+6q+uof2gvDEnxLi8JPNrFrrFxLJb27XWh31tZXkqIzvFDdyQrbSyBEdtkcjNhGOPlOOF+MH7Z+jeF7yw0zw3cf2hq03ivS/D00tzpV5/Zr+dqENtdRQ3m1LeS5jRpT5aSsytG25CEYUsPlGNrVI0oUpXlZ7O1m7J7fD57FVsbQpU51JyVo3vrrdJtr1023Pn/8A4fq/9Wc/t3/+Gm/+6qP+H6v/AFZz+3f/AOGm/wDuqvrDUf2nvBOk+PD4dn1W5W+S8TTpbhdMu2023u327LaS+ERtY52LoBE8ocl1AGWAPQ/Eb4l6L8KPDZ1XXbt7W086O3jWK3luZ7maRtqRRQxK0ksjHgJGrMewrneBxKlCLpyvP4dH719rd/kaqvTfNaS93fXb17Hxd/w/V/6s5/bv/wDDTf8A3VR/w/V/6s5/bv8A/DTf/dVfR/w4/ay0jxfqPxFv727t9P8AC/guazjSe5srizu4vNtkkdLiCYCVJRI20RmNX5UbSSMw+O/2uNPfwXa6h4TZpr5PFOiaFqNjrWk3mnXdnFfX8FuztbXCwzITHI7Ruy7GK5G4Aiuz+w8b7VUXTd3yrZ2Tmk0m+j95bmE8ww8aTrOSslJ+qhdyt3tZnzt/w/V/6s5/bv8A/DTf/dVH/D9X/qzn9u//AMNN/wDdVfaHxH+J2ifCXw5/amvXjWlq88dtEsdvJcz3M0hwkUUMStJLIx6Iisx5wOK5/V/2lvDGheDdO124g8Yix1TzTDHH4P1eW7jEbbXaa2W2M8Kg/wAUqKMEHODmuOlgsTVipUqcmm7Kybu7XsvO2tuxvOvTg+Wckna+/Tv6eZ8n/wDD9X/qzn9u/wD8NN/91Uf8P1f+rOf27/8Aw03/AN1V9E+Of2ojovjVRpVxoN14Yn+Hmo+NYNRm85o5DBJbCJi8Qc+QY52ZtkTvwCufunnvF37XmqzfHabwlovkabBoPh6LXdTur/wlrF7aXpkS4kEaXkSpFaxKtuT58iyCRm2IhdGWvQo5Bjai5lHSzk99EnZ3sm99NtL62WpzyzCgm436pdNXJRat0ek1+J4v/wAP1f8Aqzn9u/8A8NN/91Uf8P1f+rOf27//AA03/wB1V9Tz/tQ+FtFs/D8V9dX15quu6bb6mtroei6hqxihmACzOsEDPDCzZCyTLGDtPQggaXiX9oXwv4P8eW3hzU59Xs767uIbSK4fQ77+zvPm2iKE3oh+yrI5ZQqNKGLMoAyQK4/7Mxl+X2Uur+F6pbtabLqzRYyg48/OraPdaX2v69D5G/4fq/8AVnP7d/8A4ab/AO6qP+H6v/VnP7d//hpv/uqvoT4+ftmaF8NdM1Wz0a6+2+INMv7TT3M2lXkmlxzy3ECPbveKi24uBHLkRecJM4+U9K63xb+054K8D+MJNE1LVLqK7tpIobyePS7uew015ADGl1dxxNb2zMGUgTSISHU/xDOn9j45wjUVKXvXto7tJRd7W295a7A8ZQTknNe7vqtL3Vn56M+VvD//AAXo8DW3jDRNP8f/AAS/af8AgvpGvX8OlweJPH/w/bSdEiuZmCRRyXCzSbCzHGSu0ckkAE19z1+cX/By/wDHDwvd/wDBJn43eDYb+W58T2b6CZrSGynlNlnWNNmWSWRUKRIyHCyOyqzHYCXO2v0driqUalO3tItXV1dWuns13T7nQpJ7PYKKKKyGFFFFABRRRQAUUUUAFFFFABRRRQAUUUUAFFFFABRRRQAUUUUAFed+AfhzrNp4V8WWMl/qPhq61XxFe31rfWP2aW4SGSYOjqJUli+ZRgh0JAJ4BwR6JRQtHzeVvxT/AEQbpLs7/g1+p4f8ZtO8Z31xpvhF/DvjTxl4OFqJNZ1SyutIhvdcbcf9EkV57VY4iAPMMcY3qQg2jcT6V4V8Satf6za2knhK70PRzpaXAnuLu2L2s+8r9jaGF3GVQBt6Myc4ByK6aihaf16/l09PW49f69Pz6/8ADW8K+MnwV8SeJfiP4x8RaPYxvf2ulaJeeHZXnjQXOoWNzfSvAcnKB0mWIswC7ZzzwcY0XwM8feGUt9T0ZLeLxVN4N1n7TfGaIpHrd7c29yEG4nKhlkVWKlQsag9gfo6iklbbz/FNP8Gv/AV823d3fl/5La35f+TS76fOXgHwD4u8L/FLUPFtn4J8V+WnhOfToLLxD4rj1G7vb43EThSWupooYmAJyjgYV8op2K2fp37MXir4d/s++OvANlYW2tf25axajZ6hA8NuHun8tZrMq7ArHF5Y8kn5RFtjJzGN307RVJ227NfJty/N/gvO82vv6/ckvyX4vyt4V8Qvgx4h1zwd+0BbWumCS68cR7dGHnxKb7/iU29uBksAn71HX59vTPQ5q58Z/gnrvxE8U60llBDFaap8O9R8OR3MsqiOO7nePYrKCXxgEkhSOOucCvaaKhxvbyVv/JXH8n95ak1by1/GMvzivxPnvVvDPjn4m+LPDdzP4IvvD9lofhnVtMn+3ajZSSzXVxBAkfliGaQeUTGwDMVbnlVHJ6Dwn8Jtb0m8+CJk05Yk8HaJNZ6piWP/AEOVrGKIKMN83zqwymRx1xzXslFac2772/Byf/tz/AzUUlGK2V7fO3/yKOD/AGe/BmpeBvC2t22qW32Wa88TavqEK+Yr74J76aWJ8qSBuR1ODyM4IB4rkv2Z/wBl6w8CeCtAvPEGn6i/ibTZJ51hvtZuL+20+V5ZcPBA0z28LbH+9EqkBiM8mvaaKnt5JL7tCnre/Vt/e7/qfMvhv4T+Pdd+IvgTUNe0TxM+p+HvEE19rerXviVZdMuozBdxRtZWSXDIi/vI/vQRSKOPny5roPgv8E/EXhbxT8ObrUtLWGPw9Z+JI7tzPE5tnu7+GW3xhiTvjVzlc46NgnFe9UUR921ul/xVvyB6y5vl+Lf6nzZ43/Zb8Q+NfiZ47hMS23huW3utX8OXAmT5NYuobdC+zO5TFJbO+4gA/a2weDWh8PPg14pgf4fazruhr/ajarreueJbVbmCX7NJeQTLHDnftkwGii+UkfLycc19B0UkrR5fK3y7fkvSK7DbvLm87/Pv+fzkz5lu/gV4t8ZeBvFfhXRNM8UeD/CV5opgsdK8SavbXIhvUljeJbWW2nnlht9iOjBpcJuTy0GDXffAH4eW+k+LrvWp/BXjrw5q/wBgWxa78R+K21zzoy+9ooc3tyVQMoOWWMnPTkivXKKpOzv8vz/zt6aCaurf10/yv66njT/sz2njr44+PNX8T2eqTaPq66fHaQx63cwWWoJHblJVntYZljlXdxiZCCOmRXR+Cvh5eaB+0J4w1o2EVtpGo6NpNjYzIUG4wNeGRAoO5Qolj6gD5uM4OPQqKXSwPXf+tn+h88eHvhZ4wj8B+FPhzL4bmtrTwzrtrfzeJTe2xs7m2tbz7UhiRZDcefKFVGV4lVS8h3sAN1O1+GXjaw+HvhrwGPB9xLH4a8WWmpvrn2+0Wzu7OPU/tPmRp5vn+d5bZZHjUZWTa7HaG+k6KI6NPs+b5q3/AMiglrdd1b5a6fiz5s+Kvw78dr4E+LfhHRvB9zqzeOL+41DT9VXULSKyWOaCBGjkDyrMsoMbhQIyhJQl1BOO68GaZ4k+E/xT8UxDwrqOvaT4w1iDU4dUsbu0RNPBtre3kS5SaaOT5PI3AxLJuVgMAjB9Zooj7trdEo/JW0/BeYS969+7fze7/F+R5r+zfoGteBdK13QNX0S8skttb1K/tdRM9vJa6jFdXs9wnlhJDKrKsihhJGnPQsOa9Kooo6JB1b7tv79QooooAKKKKACiiigAooooAKKKKACiiigAooooAKKKKACiiigAooooAKKKKACiiigAooooAKKKKACiiigAooooAKKKKACiiigAooooAKKKKACiiigAooooAKKKKACiiigAooooAKKKKAOY+Nnh688XfBvxZpWnw/aL/U9Hu7W2i3qnmSvC6quWIAySBkkCsDxJ4E1XxV4s+H1nPbFNA8PBtW1CTzUxJeQxrHbQbQ24gNJJLnBUGBOckV6NRQtHf0/C9vubv6pA9Ul6/ja/5W+bOL8Y+E9Q1X4z+C9Wgt9+n6TBqKXcu9R5RlSER8E5OSrdAcY5xXaUUUAFFFFAHwh/wcy/8oRfjX/3Av8A0/adXsGlaf8AFDw/+ztbfCeLwFNLqtroY8NReKhqll/YXlLCLdbxkMwvN3lgOYRbkb/lD7fnr0T9sX9lXwz+27+zL4w+FfjEXX/CPeMrIWlxJasFntnV0limjJBG+OWOORcgjKDII4r5U03/AIJ0ftneHNPhsNM/4KA3yadZIILVb34MaJe3KxKMKJJ3m3yvgDLtyx5PWvQwWYPDpx5IyTafvX0cb2ejXd6O68jnq4dTnGrGTjKN0mrbO19010Xnoe/eG/AniP8AZt+KWo3OjeEdW8caDrmi6PpcM2nXdjBdac9jHLCfPW6nhBiZHVwYi7BvMGzkE8f8Tfhr8Rf+Fb/EfwHpHga61M+J/EU+s2Wuf2nZRac1tNcxXDRsrTC4WcAOgXyfLJAPmAGvOP8AhgH9tz/pIH/5gvQf/j1H/DAP7bn/AEkD/wDMF6D/APHq9ClxDWhVVeVOMpLl1fNq4W5W7SSurW0sn1TepzPLYey9jCTjHolbTRp2unvzPe/lY9g+LXwO8W6refETUdP0V79rnxx4a8TadbR3UCS6pb6eumtOkZd1RJCbaVVErICQOQCDXM/tTfDP4k/HTQfHmnjwh44uh4n8PrF4ahi8WwaVp2hu9nia31CK3vF8+bzy/wDBcwsCi71Xc1cL/wAMA/tuf9JA/wDzBeg//HqP+GAf23P+kgf/AJgvQf8A49V4TibEYdwlGEW4Ws3zXVlTj0kulNX9ZLZ2KqZdCcnNt6pJ7WaUpS6p9ZP/AIdJn1J8Hvh1qXhT4xfEbWL2xS3tvEEmmfY5w6M1ykFkkTg7SWAWTeAGA6kjg5pNU+Hep3X7YeieLBZK2i2Pg7UNKe7MiZjuZb2ylSMLnfykMhyBt+XBOSAflz/hgH9tz/pIH/5gvQf/AI9R/wAMA/tuf9JA/wDzBeg//Hq8z+06vtXWsruHJ8uTk772/HpbQ0+pw9h9X1teL/8AAZKa/Fa+X3novh79lt9E+Jl/p/iPwV8RPFFle+LpvENnrGnePJ4NCgSS9+2xPcac2oRASQyHlYrWVXMauSWZsdN4W+HfiTTfjVNB4V8L+MfBPhC9n1CXXotX1PT7nRtRMySlZrG3iuZ57eVrl0kYBYI2UyllMjCvFP8AhgH9tz/pIH/5gvQf/j1H/DAP7bn/AEkD/wDMF6D/APHq9GtxJiqsXGqlJONtXNrX7Si5cqfaysmk0lZGVPLaVOp7Wm7Pm5tFG+7dr2va7fW+6vZs9K+Ffw5+IkGn/ADwzfeB7vSbH4TTxwa1qtzqVlJDfLFo13ZJNaJFO8jRtJImfNSNxvX5D8xWz8N/hF41+FFl8M9Sk8KX2rzeH9W8TR6jYWN7Zi5gg1G/llguAZZo4mQJsLKJN4D8KSCteWf8MA/tuf8ASQP/AMwXoP8A8eo/4YB/bc/6SB/+YL0H/wCPVdbiavVbbpwSd7pc2t/aJ/avr7WWz7W21xo5PSpcvJJ+7HlW2iVrdOnKt7+dz0Dw58HviL4k+KXgLUPEHh7xa+qeGfFE2oa5rV/4sSTSLyAwXkUTWOnx3LRqAJYgd9vDIo/56Eu1SN8IvH1p8M/Dvw4TwTcTQ+GvHNjrr+Iv7QslsLyxj1xb4vGnnfaPtHlH51eJVysm13O1W87/AOGAf23P+kgf/mC9B/8Aj1H/AAwD+25/0kD/APMF6D/8eqpcU4iUoydOFotNL3rJxcmmve0tzNcvw26bFzyqnOM05P3k4va7jJNNbee/xaLXe/qnin4QeN5vht4u+Fdt4Xu5rPxZr99fxeLk1C0WzsbW8vjdu8iGUXX2qISOiKkLIWjiPmKCdvp/7SXg7W9abwVr2g6Y2vXfgrxCusS6Uk8UMuoQta3Nq6xNKyxeaoufMUO6qTHgsuc18uf8MA/tuf8ASQP/AMwXoP8A8eo/4YB/bc/6SB/+YL0H/wCPVxTzurKcJuMdHJvf3nJJSb16pfZ5bdLG6wUFz6v39Omm7007t73PSvHHwC8a/Gvw18T72fw7eeGbnxHrmg65pmnSa2lteXaaf9md4JLmzlb7NK5t2QPHIdhZGD8Ehkn7OU2teHXvdC+H3xA8P67ceKfC9xfv4t8YDW7q8stP1RLl2R31G7CRxI07BQ6sxcgITivOP+GAf23P+kgf/mC9B/8Aj1H/AAwD+25/0kD/APMF6D/8ershxVi4RVOmkopxaSc7e6oJJrmtJfu4/Fd31TRy1smoVrupq3GUb2je0ubbTRrnla1vO6PqD9o7wVrer6t4D8TaDpr67c+BddbVJtJjnjgm1GGSyurRxE8rLF5ifad6iRlU7CNy5zXDfFW28f8AxN8Taddz+CPiDF4fvtIeCHRrDxXa6PPpOo+fIPPv5rS9UyQtF5RAgkn24fMRYjHjH/DAP7bn/SQP/wAwXoP/AMeo/wCGAf23P+kgf/mC9B/+PVw4bN50YwXJFuCaTfNdJ3dvdkurbT36XtodlTCqUnJSava+3R36p9rNbNdDtbD9l3xzafCLQNJfRVa/sPgZqHg2dFvYSBqsiWYS3DF+cmKT959z5eWGRXo8vwd8Rt4u+IN1/Z37jW/h3pmhWTfaIv317D/aXmRY3ZXH2iH5mwp38E4OPA/+GAf23P8ApIH/AOYL0H/49R/wwD+25/0kD/8AMF6D/wDHq6sRxLiq1+eMdb9H1lz9+6+77zLD5dSoyUoN6W/8ljCK/Cmvnfyt7N8LPBvjT9nrxKt+PBGp+K4PEXhrQtOuF0u+sI7jR7qygeKRJvtNxErw/vAytC0hyJPkOQTzHxV+DfxF+IvjWWG88P8AizUrq08cadq9pq58VpbeH00eDU7edYo7BLkb7hIUO7zrblldhKx2KeA/4YB/bc/6SB/+YL0H/wCPUf8ADAP7bn/SQP8A8wXoP/x6qp8S14Yj60qcefTX3ulrbSWySVtmviTepl/ZVP6v9VUnydtOzT6db38mla1j0vxd8LfH1n8M/FPw7sfBF1qsep+LJdftfEA1KyjsZLabVk1BldXlFwLhAzoF8kofLU+YM4Gj8Qfhd42sPDfxZ8DaV4QfW7X4p313cWfiAXlpHYaWl5axW8n2yOSVbgtEUYr5MUoZRGMqc48j/wCGAf23P+kgf/mC9B/+PUf8MA/tuf8ASQP/AMwXoP8A8epR4krRt+7jvzP4tZPkfM/e3vBaK0d9DZ4BNtqT3uttPi20/vNa3+880/4OAvhlqHgn/glN+1hqd3bYs9bk8HpY3jyI0l4lvqOlxMWwSww4f7wHJJHBzX6dV+fXi3/gj78cf2mItP8ADn7Qf7X+sfFj4XR6hbajqfhOw+HGleGl1treVZo4p7m3dnMO9FLJt5wCCpAYfoLXi4rEzxE/aVN7RX/gMVFfgtTqo0o0ockNgooornNAooooAKKKKACiiigAooooAKKKKACiiigAooooAKKKKACiiigAooooAiubn7Ns+R3LttAXHoT3I9KZ9sk/59Z/zT/4qi8/4+LX/rqf/QHqxQBX+2Sf8+s/5p/8VR9sk/59Z/zT/wCKqxRQBX+2Sf8APrP+af8AxVH2yT/n1n/NP/iqsUUAV/tkn/PrP+af/FUfbJP+fWf80/8AiqsUUAV/tkn/AD6z/mn/AMVR9sk/59Z/zT/4qrFFAFf7ZJ/z6z/mn/xVH2yT/n1n/NP/AIqrFFAFf7ZJ/wA+s/5p/wDFUfbJP+fWf80/+KqxRQBX+2Sf8+s/5p/8VR9sk/59Z/zT/wCKqxRQBX+2Sf8APrP+af8AxVH2yT/n1n/NP/iqsUUAV/tkn/PrP+af/FUfbJP+fWf80/8AiqsUUAV/tkn/AD6z/mn/AMVR9sk/59Z/zT/4qrFFAFf7ZJ/z6z/mn/xVH2yT/n1n/NP/AIqrFFAFf7ZJ/wA+s/5p/wDFUfbJP+fWf80/+KqxRQBX+2Sf8+s/5p/8VR9sk/59Z/zT/wCKqxRQBX+2Sf8APrP+af8AxVH2yT/n1n/NP/iqsUUAV/tkn/PrP+af/FUfbJP+fWf80/8AiqsUUAV/tkn/AD6z/mn/AMVR9sk/59Z/zT/4qrFFAFf7ZJ/z6z/mn/xVH2yT/n1n/NP/AIqrFFAFf7ZJ/wA+s/5p/wDFUfbJP+fWf80/+KqxRQBX+2Sf8+s/5p/8VR9sk/59Z/zT/wCKqxRQBX+2Sf8APrP+af8AxVH2yT/n1n/NP/iqsUUAV/tkn/PrP+af/FUfbJP+fWf80/8AiqsUUAV/tkn/AD6z/mn/AMVR9sk/59Z/zT/4qrFFAFf7ZJ/z6z/mn/xVH2yT/n1n/NP/AIqrFFAFf7ZJ/wA+s/5p/wDFUfbJP+fWf80/+KqxRQBX+2Sf8+s/5p/8VR9sk/59Z/zT/wCKqxRQBX+2Sf8APrP+af8AxVH2yT/n1n/NP/iqsUUAV/tkn/PrP+af/FUfbJP+fWf80/8AiqsUUAV/tkn/AD6z/mn/AMVR9sk/59Z/zT/4qrFFAFf7ZJ/z6z/mn/xVH2yT/n1n/NP/AIqrFFAFf7ZJ/wA+s/5p/wDFUfbJP+fWf80/+KqxRQBX+2Sf8+s/5p/8VR9sk/59Z/zT/wCKqxRQBX+2Sf8APrP+af8AxVH2yT/n1n/NP/iqsUUAV/tkn/PrP+af/FUfbJP+fWf80/8AiqsUUAV/tkn/AD6z/mn/AMVR9sk/59Z/zT/4qrFFAFf7ZJ/z6z/mn/xVH2yT/n1n/NP/AIqrFFAFf7ZJ/wA+s/5p/wDFUfbJP+fWf80/+KqxRQBX+2Sf8+s/5p/8VR9sk/59Z/zT/wCKqxRQBX+2Sf8APrP+af8AxVH2yT/n1n/NP/iqsUUAV/tkn/PrP+af/FUfbJP+fWf80/8AiqsUUAV/tkn/AD6z/mn/AMVR9sk/59Z/zT/4qrFFAFf7ZJ/z6z/mn/xVH2yT/n1n/NP/AIqrFFAFf7ZJ/wA+s/5p/wDFUfbJP+fWf80/+KqxRQBX+2Sf8+s/5p/8VR9sk/59Z/zT/wCKqxRQBX+2Sf8APrP+af8AxVH2yT/n1n/NP/iqsUUAV/tkn/PrP+af/FUfbJP+fWf80/8AiqsUUAV/tkn/AD6z/mn/AMVR9sk/59Z/zT/4qrFFAFf7ZJ/z6z/mn/xVH2yT/n1n/NP/AIqrFFAFf7ZJ/wA+s/5p/wDFUfbJP+fWf80/+KqxRQBm3PieK0mMckU6uvUYU/1qP/hMLb/nnP8AkP8AGsvxJ/yGpv8AgP8A6CK4XwD8bvDXxN1/VdN0bUoru60l9sgHSdOMyxH+OMMdu4dwOzIWAPWdL1iPVt/lrIvl4zuA759/ardYXgzrc/8AAP8A2at2gAooooAKKKKACiiigAooooAKKKKACiiigAooooAKKKKACiiigAooooAKKKKACiiigAooooAKKKKACiiigAooooAr3n/Hxa/9dT/6A9c38bdbu/D/AMNryeynezkea2tpLpGVWsoZbiOKWdSwKgxxu7gsCAVyQQCK6S8/4+LX/rqf/QHp99Yw6pYzW1zDFcW1wjRSxSoHSVGGGVlPBBBIINJ6oadnc8L0jXrr4W+MvEug6HbeO4r9v7OgtJfFusjV9JgFxcyQJdRH7TLdneQ5McjJuMcaDyt2a6F/iF42gnPhlrnws/iZ9USxj1ldOnGmrG1q10S1p55fzQqMnl/aMEMkm4Z8uuu0T4GeCfDXhfUND07wd4W0/RdW/wCP7T7bSYIrW94x+9iVAr8AD5gelEfwM8ExeB38ML4O8LL4bll899JGkwCxeTIbeYdmwtkA5xnIFPpZ6/0tPz163tZaC63X9afj6Pbz68O/xC8beLLj/hF7a98J6brdql79v1SezuXtL5IGhT/RokuI5IyfPXe3nP5LLtHmbgy9T+zPrM3iH4AeEb6ed7mW60yKRpXvHvC+R185/nl/325bqetXtU+BPgfW/CVhoF74N8K3ehaW5kstNn0m3ktLNjnLRxFNiH5m5UD7x9a3fD3hnTfCOlrY6Tp9lplkrvItvaQLDErOxd2CqAMszMxOOSSTyaForde/fz8vTZW82Lrf+l/n69fkcZ8VX8TaR4u8Pala6ro66BHqlpby6e1hdC7leZzAzefHdpGVCy5CSQOu5QeoUrQ8SfEbxbZ69q+pWb+HV8OeH9Tg0yfTJ7SZ9Sv94h3SJOJQkTfvx5cRhk8zavzr5v7vpvEXwyl8T+MrPUrnxJr39m2UsVwNDRLMWMksZ3JIz+R9pyH2tgTBSVAIxkGfU/hB4S1rxrb+Jbzwv4du/Edpt8jVZtNhkvYdudu2YrvXGTjB4zRDTfu//bfv2lp2fdDlrt2X6/dutfLzPJvg/wCO/FWgi6Z9V0XU/DVp4yvfDy2dxNc3ms/PfSKjm5eZgPLDp+4aMnyY9/mAEKPV/B2j6rp/jXxbc301xJp99ewSaakk/mLFGtrCj7Fz8imQOccZO498mLQPgZ4J8KeIodX0vwd4W03VrdXSK9tdJghuIlcsXCyKgYBi7k4PJZs9TW7p/hvTtJ1W+vrWwsra91Rke9uIoFSW8ZFCIZGAy5VQFG4nAAA4ojpFJ7/8N+qb+dtkEtZyktm3+Lb/AOB8r9S7Xg3iy/17xx8PbvU9O1TVrHWG8cyw6dGl5JBFH9kuHs44HCsA8Evkb3RgVbzmOMgEe81yWo/A7wrr4vk1fRNN122vdS/tcW2p2kV3Da3PlpGZIldTsJ27s9dzuc80L41Ltb8JRf5J6/LZsH8DS31/GMl+bT+R5FH8RPG2h3PiXUootRXxX4mvLCLSdAvYxfLYRGOeTyFgN5BbrL9nieSRvPQFww3PhFNnxH+1B4q0b4O+FPFUdnpc9zfS31jqOiW9l9q1G9mh86MS2aR3fllUki8yWMSS4iL7ZWKBn9T1X4A+BNdfVWvfBXhK8bXZUn1Iz6PbyHUJEJKPNlD5jKSSC2SMmltPgJ4F097ZoPBfhOE2QnFuY9It1NuJ12TbMJ8vmLw+PvDg5pa8tv622/4O/Xcasnd6/wBb/lp8tjS+G+p32teAdHvNSv8ARtUvby0jnlu9JRlsbguobdCGdyY8EYJY5HPGcDivHmv+MNI+MO238WeEtE8J22lHULqPU9EkmaNElVZGa4F3Eq8E4YrtUdVbrXoPhjwtpngnQrfS9G06w0nTLRSsFpZW6QQQAkkhUQBVGSTwOpNVPE/w38PeN9T0y91rQdF1e80WXz9OuL2xiuJbCTKnfEzqTG2UU5XByo9BVtr2qmtrvT5NfhdP5EJP2fK99NfRp/ja3zMS5vtYt/j1p9vLeWEui3mjXcttbxwTxzwyRyWgYyP55hlDeZ8v7lWTBAbDNnznQ/jb8Q7bXc6pL4OudOg1IW0sdlpdzHcTxHVH04bS1yyq5K+bkhgMbMHPmD07WvgH4F8S+MB4h1HwX4Tv9fEkco1O50i3lvA8YARvNZC+VCrg542jHSktfgB4EsbbyYfBPhKGHDDy00e3VcNKkzcBMcyxxufVo1bqAahX93y3++/9f8Ep7Nen/B/D/Pc4b9nP4vfEn4k6xa3XiPwktj4Z1iwN9a30aWkK2bHY0cWY9QuXuQyM37zyYMGMZT58J6B8ZvEuo+DPhVr+s6VLYQ32kWUl8hvbdp4GWIb2VlWSM/MqsAd3ykg4YDaXeHvgx4P8I+LLrXtJ8J+GtM1y+3/adRtNLghu7je2598qqHbcwBOTyeTXQX1jDqljNbXMMVxbXCNFLFKgdJUYYZWU8EEEgg1Teisv69eoL4nc8u1n4v69Zap8RLCyuPDmo3nh77CulRIghZJboHZbzeZcqkk2dhRd8Ak8xFym4PXHR/tB/E5PBT2r+H7GXxk/iX+xUt4tPgVraIWIvN0lu+piFpCvRUvyNrBvvK0Veq2n7Onw+sNFutNg8CeDYdOvokt7m1j0W2WG4jSQyqjoE2sokJcAjAYk9eaur8GPB6+BD4WHhPw0PDBbedIGlwfYCd+/PkbfLzv+bp1561Nt/l+DX6X9b+Vw9fP8V/mcPpnj/wCInifRPD+kXOn6N4N8VapHfT3Uuq232yHybaSNFMcFtefK8omR9v2lvKCuMyYDVl/Db4h65YfAn4e3NrrnhGGbVNe+wXkuv6xcXIvLY3Fwphs7h28y4uSFURGTO5VJIr0S6+AngW98F2/hubwX4Tl8O2kxuYNLfSLdrKGU7syLCU2K3zNyBn5j6mrsHwm8K2unWlnH4Z8Px2lhff2pawLp0IjtrvJP2hF24WXLMd4+bk881aav81+D/wAvl94rO33/AI/0vM6CvJvHCXh8cX2uf2jrVteaJrWmaZYWcWoSpZXFvO1uJS9spEcrP58y75FYr5SlSpU59ZrFv/hv4e1XxnZ+I7rQdFufEOnxGG11SWxie9tozuBRJiu9V+d+AQPnb1NSviT/AK/rp211T2H0aLUPizS7jxNNoqalYPrFvAt1LYLcIbmKFiVWRo87ghIIDEYJBrzPwfJd6R410zWWv9du7zxDNqaanp8t/Lc28UVuz7DDb58uIxlI4v3aqX875974avTIfCel2/iabWk02wTWLiBbWW/W3QXMsKkssbSY3FASSFJwCTVXR/hx4e8O+KNQ1zT9B0Wx1rVgBfahb2MUV1egYx5sqqGfoPvE9KWvz1/r/MPy0/r/ACPLv2b/AIrS+LvGPjG61SbxPau1paalPa6xpl9p9vpIY3AMUQuYo1ASNIwzKMOyO/c463wNpV98SfAuqajqGoa1pyeLpPPto7e4aCbT7HAWFIz1hkeIb3K4dXmbDAopG1J8H/Cr3mtXKeHtHt7zxJH5Wq3VvapBcainTbNKgDuMcfMTwa1vEfhjTfGGhXGl6vp1jqmmXaeXPaXlus8Ey5BwyMCrDIHBHam9tulvL+ttd9+4K6fz/r9dPTscv8J/E1voH7P3h7Vda1RYLW10aCe81DUrz7qiJS0ks0rZPqXds9yaT4lW0fj0+GtNS/1CLRdbuHea50rUpLOS4Rbd5Y1SeFlkCsQGzG6khMElSwOjofwY8H+GPCN94f03wn4a0/QdTLG80220uCK0uyyhW8yJVCPlQAcg5AA7Vc8S/Djw94z8LpoesaDouq6LGECafeWMU9qoT7mImUqNuOOOO1Etd9dv+D/wAWm2m/8AwDytxd+O/B2kR6pr+vafa6bol7qEOpWepPZyXbwSrHDdStGV80CLbIUbMLGXLIw249O8O+OLd9O8OW+r3djp+v69ZCeLT5ZljnndY1eYRxk7m2bvmwDtBGaXxJ8KvC/jKw0611fw3oOq2ujuslhDeafFPHYsoAUxKykIQAACuMYpZ/h1YXXxLt/FUpnk1Kz06TTLdWYGKCOSRZJGUYyHYpGCc9EAx1y46aPW99f/AAJ/jdL0SE1s10/4C/Czfq3sbxrwfw18aPiGPEsa6rP4Mm02PVVtJVtNMuYp5YjqraaNrNcsqMSvmkkMABswc+YPeDzXI2vwA8CWNt5MPgnwlDDhh5aaPbquGlSZuAmOZY43Pq0at1ANKOk03t18xv4Wlv8A1f8AD/M8/wDhx8d/F3jH4o32k3NvpttomrafqGoeHdTl0+OFGjgnijSRlW/klnQrMhYtFa/d4+98tn9mT45eJPjJr2oR6rL4fitdJsokZLWyeN9WnaSQG/tJDcSB9OcJiJym52D8jZhu0T9nnwBHqt7fr4G8Hi+1Iym8uBo1t5t0ZVdZfMbZl96yOGyTuDsDnJrR8O/Cbwr4P1WC/wBJ8M+H9LvrayGmw3Fpp0MEsVqG3CBWVQREG52A7c84ohokn2/z/wCAvx3SCWt7d/8AL+v+HZm/G7xB4j8O+GbCTwxPosGoXWq2lk7apaS3MIjmlERYLHLGdylw45w2wr8u7evlE37RvxFPhjTorTS9F1XxBr8tnLZCwsBstIJ7e5mKNFcX0CzSAWp5E8XEhIVvLw/uvirwPovjq2todb0jS9YhsrlLy3S+tI7hYJ0zslQOCFdcnDDkZPNY9x8BfA15plxZS+DPCctndxLDPbvpFu0U0aytMqMpTDKJXaQA8BmLdSTS6W8/w00+9P7x9fl/n/wPuPMfEPxm+Kei+GdIu7nSPDmhagthqN7qdjqVsZZLhbWWII8TW93IkPnJKuULS+UWPzSbcPsaH8Q/iB4xaTS7G/8ABljquiJcvqN7d6TcvbagUu7i3RYYRdK0IxAWd2kl271wpzXYw/s8eALaztbePwN4PS3soZra2iXRbYJbxTZE0aDZhVk3NuA4bcc5zSa5+zp8PvE0Kx6l4E8G6hGkz3Krc6LbShZXCK8gDIfmYRxgnqQi56Cm9Xp/T/rW2z22F0t/Vu36X3W97nK3/wAQ/H/izX/C6+GT4RsbHxP4ffVzHq1pcyzac8ZtyV3RyqJg/wBoVB8sRjwXzJ/qzn/EL45eLPCXirxB4djk8Nx+Irq70tfCtq+nzzLcwXLbJnmYTqX8t47ksUCeXHGjEPvC16Hr/wADvBXivxVBruqeD/C2pa3a+WYNQutJgmuofLOY9srIXG08jB47VQ1T4F2mufHLSfHd5rGsXN5oNtcWunaeyWos7QToiyspEInLNsU/NKccgAAkU1bmXa7v6Xuv0j5K/cWtvOy+/wDq/a/3HbMGMRwQHxwSMgH6Z/rXkfhb42a2/iLwpbapqfhV49Ut9XF9HFayWzmSxmaMzozXD+XDwAysrlSfv9q9erlE+BPgiPxDcasvg3wqNVvJmuLi9Gk2/wBonlZXVnaTZuZiskgJJyQ7Dual36f1/X9d01bqeQ6T+0Z8StI0vxLNr+gaUk9lo8WoaXAltDC1w8s4iVg6ahPFJAmdzPJJbFgR8qLlh0Phj4q/EyPwldxeJPDtjoWsXOo2un6VqN9bwQ2b+eSpaS2t7+6b92RgD7QvmtJGoMeSw9C8IfBjwf8AD7S7+y0Hwn4a0Sy1Vdl7b6fpcFtFeDBXEiooDjDMPmzwT61BofwE8C+GPD2paTpvgvwnp+layoXULK20i3it74DOBLGqBZAMn7wPU09Onl89b/LTS+/WyDXr/wANpb5662+R554I8WeJvDXgz4uy3PiDwpJr+garJ5V/qV7dR6HbSGwtZQZFklke1hBky0SSFVJYg817D4XvptT8M6dcXEtjcXFxaxSSy2TFraRygJaInkxknKk9sVjaP8EPBfh3Qr7S9P8ACHhex0zVIRbXtpb6VBFBdxDdiORFUK6je/DAj5m9TXR2VlDpllFb28UVvb26LHFFGgVI0AwFUDgAAYAFP/gfhe/pft8ugf8AB/Gx5f8AtJ/Y7sWVpDq3iVPE81vM2jabpGrS2CiQbc3tz5RUG3hO0uZ90OG27Hd0Rsz49vc/ZbLX9O8TTTyeG4bW5vktvEDWcdjCz7jdi0hXbetKFKrFcOIyE/djcWD+gePPgj4L+Kd9Bc+J/CPhjxHc2yeVDLqmlQXjxJnO1WkUkDPOBVnVvhV4X17WtK1K+8N6DeajoIA0y6n0+KSbTsEEeS5UtHggfdI6ClDTfvf8/wCv10Vieu3b/L+v+HZ5N8RvFmr6t+0JdW9xZ6u/hrwm2meYLXxLNpJL3cu1J1ggUPeAP8jJNIkWEYIsj7gOgtY7uD4jWGutqWtDUdR8RXWiy6c+oyNY/Y0inKBbbPlI22FJ/M2+YdzLv2MFrv8AXPh54f8AE/iHTdW1LQ9H1DVdGYtp97c2UctxYk4yYpGBaMnA+6R0FJb/AA48PWvjabxLFoOix+I7mH7PNqqWMQvZY+BsabbvK/KvBOPlHpRHS1/P81+mnez3Cet0vL8mvzfN6rZHkWh6h4i8F/tAW8OpWviSCLVptUl1DU7zxBHPpMlkgaS3ktrMzMYPKHkRu/kwgFiGaUuHNnwPq+ofCrxL4tZ7rWPE1t/YS63p0Uesz65ca0FaTM6psAtnlJQCC2j8k9Y84Kr6j4b+F/hrwbr+patpHh3Q9K1TWXMmoXlnYRQXF8xYsWlkVQzncScsTySad4M+Gnhz4cC8/wCEe8P6JoP9oS+fdf2dYxWv2mTn532KNzcnk5PNJbL0t+f/AAH8tr2abtr5u/5f8N897XT8j+E/xfv9O+GHxA1JB4t8Q6ppmqoUjvtD1ON1lmtbUlYreSATiBJXkby44yyxjIUlgW1Pgr8VY9E/Z91PVZbjxNrk2l6pfWkTazaXNpfalO126wRBbhEYF2eONQFCITsAXYVHpXhX4d+H/As2oSaJoWj6O+rTm5vmsbKO3N5Kc5klKKN7HJ5bJ5NVPD3wf8K+D9Pt7PRvD2j6LZW17/aKW2nWqWkBuNpXzWjjCqzYPVgeVU9VBD0enlFfda/62+VxdLdU7+uj/wA9fwOE+JfgbXZvh14V0Fdaiv8AxFNftdXkM/iu98PvrDeVM80cNxbK84RHcOsaqVCRAHAFZvjG4l+J/wAEtHl0XUbqy1Sx0+a4j0seM57ETCEiFrpryNTcXKRsMqXZY5fNUy4JUp654y8C6J8RdDbTPEGjaVrumu6u1pqNpHdQMy8qSjgrkdjjiqXiT4ReFPGWkadp+r+GPD2q2GjlTYW15psM8NiVAVfKRlITAAA2gYApSu0+l3+n6ff2a3GnZp72X9ff/SZ4r8UfiLq3irxBpMSxa1qHhjSvClt4pv5bbxBL4cmu0dpBI6/ZwZppURNwgEkUIMn7xyTFt6Txnb69L8cU1e2vHi0fS9S0/TpJ21+9txb+b5Qa3/s0Rm2uvM89f37uroZRgZhAb0/xV8PNA8dXGnza3oej6xLpM4ubF76yjuGs5RgiSIuCUbgcrg8Cor74WeGNU8bW3ia58OaDceI7NPLt9Vl0+J72BcMNqTFd6jDNwD/EfWruuZS/vX/G9v09PLQi2jXkl+H9P189XxafDi10T49aTJZ614tnvpftusX6XPiO9ntDC2Y0gFoZfs6JvmBTEYIFv1zkmDwPHeWfjzSNU/tLWZ77xNcalDqVlcahJPa28UDuI2igJ8uHymWOLMaru8395vfDV6munwJfvdCCIXMkaxPMEHmOiliqlupALMQO24+tZej/AA38O+HvFGoa3YaDotjrWrAC+1C3sYorq9AxjzZFUM/QfeJ6VFtEvJ/193+ZT1bfp/X33seP/B228UWnxGvPDWpw+MNKlv8Aw9LNqupXuvxais18JUjW6sYzLMLWJt8zKrRwqdqgQjy2x0/huTT9G/Z41CPW/EWs6bpVhqGoWkupSapM98II9RmiSMXLlpi7IqxBlbzfmGxg+0jrvD/wZ8H+EtG1PTtK8KeG9M0/Www1G1tNMghhvwwKsJkVQsmQSDuByCapaf8As6fD7SfDd/o1r4E8G22kaq0b3tjFotslteMhyhkjCbXKnkbgcdqb+Hl/p6v8k7L8kh/b5vP/AC/O1/8AMyvgzrUHg/4b6tfavqd3p2j2N1JcRJ4g1MzXejWhjjdVu55naRWOTNiZy6JMikjbgXfjX4lfS/AOm6/pd/8A8e2qadNE8VxiG8hmuY4XQ4+V1eKZtucjdsYcqDWtonwb8IeGvB954e07wr4bsNA1HcbvTLbTIYrO63AK2+JVCNkAA5ByAKs694CsPEGnaVZOrW+n6TdQXcVpbhY4XMHzQoy4+4jhHAXHMadsqX1Xly/hvfv+ut9yVt9//Df1sbdFFFIYUUUUAFFFFABRRRQAUUUUAFFFFABRRRQAUUUUAFFFFABRRRQAUUUUAFFFFABRRRQAUUUUAFFFFAHIeMbKHU728trmGK4t7hPKlilQOkiMgBVgeCCCQQa5nRvhd4Z8OalHeaf4d0KxvIc+XPb2EUUiZBBwyqCMgkfQmum8YvNHe3jW0cUtwEzEkshjR32DAZgrFQTjJCnHoeleW/Cj4zeJfiL4x1DTb7wRLoFvo7mG9up9Q37JduVjRREBISCrZDbQjBs/MoYA9k8Gdbn/AIB/7NW7WF4M63P/AAD/ANmrdoAKKKKACiiigAooooAKKKKACiiigAooooAKKKKACiiigAooooAKKKKACiiigAooooAKKKKACiiigAooooAKKKKAKmq3KWjW0kh2osvJxn+BqZ/wkll/z2/8cb/Cq/jD/kGx/wDXUfyavHf2i/jgvwL8Di+Szlvb+9c29mpjb7OsmCd0rjgAAE7chnwQMAMygHtX/CSWX/Pb/wAcb/Cj/hJLL/nt/wCON/hXK0UAdV/wkll/z2/8cb/Cj/hJLL/nt/443+FcrRQB1X/CSWX/AD2/8cb/AAo/4SSy/wCe3/jjf4VytFAHVf8ACSWX/Pb/AMcb/Cj/AISSy/57f+ON/hXK0UAdV/wkll/z2/8AHG/wo/4SSy/57f8Ajjf4VytFAHVf8JJZf89v/HG/wo/4SSy/57f+ON/hXK0UAdV/wkll/wA9v/HG/wAKP+Eksv8Ant/443+FcrRQB1X/AAkll/z2/wDHG/wo/wCEksv+e3/jjf4VytFAHVf8JJZf89v/ABxv8KP+Eksv+e3/AI43+FcrRQB1X/CSWX/Pb/xxv8KP+Eksv+e3/jjf4VytFAHVf8JJZf8APb/xxv8ACj/hJLL/AJ7f+ON/hXK0UAdV/wAJJZf89v8Axxv8KP8AhJLL/nt/443+FcrRQB1X/CSWX/Pb/wAcb/Cj/hJLL/nt/wCON/hXK0UAdV/wkll/z2/8cb/Cj/hJLL/nt/443+FcrRQB1X/CSWX/AD2/8cb/AAo/4SSy/wCe3/jjf4VytFAHVf8ACSWX/Pb/AMcb/Cj/AISSy/57f+ON/hXK0UAdV/wkll/z2/8AHG/wo/4SSy/57f8Ajjf4VytFAHVf8JJZf89v/HG/wo/4SSy/57f+ON/hXK0UAdV/wkll/wA9v/HG/wAKP+Eksv8Ant/443+FcrRQB1X/AAkll/z2/wDHG/wo/wCEksv+e3/jjf4VytFAHVf8JJZf89v/ABxv8KP+Eksv+e3/AI43+FcrRQB1X/CSWX/Pb/xxv8KP+Eksv+e3/jjf4VytFAHVf8JJZf8APb/xxv8ACj/hJLL/AJ7f+ON/hXK0UAdV/wAJJZf89v8Axxv8KP8AhJLL/nt/443+FcrRQB1X/CSWX/Pb/wAcb/Cj/hJLL/nt/wCON/hXK0UAdV/wkll/z2/8cb/Cj/hJLL/nt/443+FcrRQB1X/CSWX/AD2/8cb/AAo/4SSy/wCe3/jjf4VytFAHVf8ACSWX/Pb/AMcb/Cj/AISSy/57f+ON/hXK0UAdV/wkll/z2/8AHG/wo/4SSy/57f8Ajjf4VytFAHVf8JJZf89v/HG/wo/4SSy/57f+ON/hXK0UAdV/wkll/wA9v/HG/wAKP+Eksv8Ant/443+FcrRQB1X/AAkll/z2/wDHG/wo/wCEksv+e3/jjf4VytFAHVf8JJZf89v/ABxv8KP+Eksv+e3/AI43+FcrRQB1X/CSWX/Pb/xxv8KP+Eksv+e3/jjf4VytFAHVf8JJZf8APb/xxv8ACj/hJLL/AJ7f+ON/hXK0UAdV/wAJJZf89v8Axxv8KP8AhJLL/nt/443+FcrRQB1X/CSWX/Pb/wAcb/Cj/hJLL/nt/wCON/hXK0UAdV/wkll/z2/8cb/Cj/hJLL/nt/443+FcrRQB1X/CSWX/AD2/8cb/AAo/4SSy/wCe3/jjf4VytFAHVf8ACSWX/Pb/AMcb/Cj/AISSy/57f+ON/hXK0UAdV/wkll/z2/8AHG/wo/4SSy/57f8Ajjf4VytFAHVf8JJZf89v/HG/wo/4SSy/57f+ON/hXK0UAdV/wkll/wA9v/HG/wAKP+Eksv8Ant/443+FcrRQB1X/AAkll/z2/wDHG/wo/wCEksv+e3/jjf4VytFAHVf8JJZf89v/ABxv8KP+Eksv+e3/AI43+FcrRQB1X/CSWX/Pb/xxv8KP+Eksv+e3/jjf4VytFAHVf8JJZf8APb/xxv8ACj/hJLL/AJ7f+ON/hXK0UAdV/wAJJZf89v8Axxv8KP8AhJLL/nt/443+FcrXn/7OnxwX46eBzfPZy2V/ZOLe8URt9naTAO6JzwQQQduSyZAOQVZgDu/FHjHTYddnVrjBG3/lm390e1Z//CbaZ/z8/wDkN/8ACuV8bf8AIz3P/AP/AEBayqAPZ/h1qkGrQ3Ulu/mICqk7SOeT3+tdLXB/Ab/kC33/AF3H/oNd5QAUUUUAFFFFABRRRQAUUUUAFFFFABRRRQAUUUUAFFFFABRRRQAUUUUAFFFFABRRRQAUUUUAFFFFABRRRQAUUUUAZPjA/wDEtj/66j+RrjvE/hrT/GegXWl6pbRXthep5c0MnRh169QQQCCMEEAggivR6KAOG3Ubq7migDht1G6u5ooA4bdRuruaKAOG3Ubq7migDht1G6u5ooA4bdRuruaKAOG3Ubq7migDht1G6u5ooA4bdRuruaKAOG3Ubq7migDht1G6u5ooA4bdRuruaKAOG3Ubq7migDht1G6u5ooA4bdRuruaKAOG3Ubq7migDht1G6u5ooA4bdRuruaKAOG3Ubq7migDht1G6u5ooA4bdRuruaKAOG3Ubq7migDht1G6u5ooA4bdRuruaKAOG3Ubq7migDht1G6u5ooA4bdRuruaKAOG3Ubq7migDht1G6u5ooA4bdRuruaKAOG3Ubq7migDht1G6u5ooA4bdRuruaKAOG3Ubq7migDht1G6u5ooA4bdRuruaKAOG3Ubq7migDht1G6u5ooA4bdRuruaKAOG3Ubq7migDht1G6u5ooA4bdRuruaKAOG3Ubq7migDht1G6u5ooA4bdRuruaKAOG3Ubq7migDht1G6u5ooA4bdVHwx4a0/wZoFrpel20VlYWSeXDDH0UdevUkkkknJJJJJJr0eigDw/wAX6Xc3PiK4eO3nkQ7cMsZIPyjvWb/Yd7/z53X/AH6b/CvoKigDh/gday2ekXyyxyRMZgQHUqcY967iiigAooooAKKKKACiiigAooooAKKKKACiiigAooooAKKKKACiiigAooooAKKKKACiiigD/9k=)"
      ]
    }
  ]
}