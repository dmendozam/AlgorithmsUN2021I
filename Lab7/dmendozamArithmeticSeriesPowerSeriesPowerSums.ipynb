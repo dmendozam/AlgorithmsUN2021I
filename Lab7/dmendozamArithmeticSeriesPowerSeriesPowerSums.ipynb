{
  "nbformat": 4,
  "nbformat_minor": 0,
  "metadata": {
    "colab": {
      "name": "dmendozamArithmeticSeriesPowerSeriesPowerSums.ipynb",
      "provenance": [],
      "collapsed_sections": [],
      "toc_visible": true
    },
    "kernelspec": {
      "name": "python3",
      "display_name": "Python 3"
    }
  },
  "cells": [
    {
      "cell_type": "markdown",
      "metadata": {
        "id": "r4rXWI4gCN5B"
      },
      "source": [
        "# Arithmetic Series\n",
        "\n",
        "## Modified from Arithmetic Series -  [Wolfram MathWorld](https://mathworld.wolfram.com/ArithmeticSeries.html)\n",
        "\n",
        "\n",
        "An arithmetic sequence $\\{a_k\\}$ for $k=1, 2, ..., $ in which each term is computed from the previous one by adding (or subtracting) a constant $d$. \n",
        "\n",
        "\\begin{align*}\n",
        "a_1 & \\\\\n",
        "a_2 &\\ \\ =\\ \\ a_1 + d  \\\\\n",
        "a_3 &\\ \\ =\\ \\ a_2 + d \\ \\ =\\ \\ a_1 + 2d   \\\\\n",
        "a_4 &\\ \\ =\\ \\ a_3 + d \\ \\ =\\ \\ a_2 + 2d \\ \\ =\\ \\ a_1 + 3d  \\\\\n",
        "\\vdots\\\\\n",
        "a_k &\\ \\ =\\ \\ a_{(k-1)}+d \\ =\\  a_{(k-2)}+2d \\ =\\  \\ldots \\ =\\  \\ a_1+(k-1)d\n",
        "\\end{align*}\n",
        "\n",
        "Therefore, for $k>=1$,\n",
        "\n",
        "$$ a_k = a_1 + (k-1)d$$\n",
        "\n",
        "With $a_1$ and $d$ given.\n",
        "\n",
        "<br /> \n",
        "\n",
        "The sequence of the partial sum of the first $n$ terms of a sequence is called a series, in the case of an arithemetic sequence the series is called an arithmetic series.\n",
        "\n",
        "If  $a_1= 1$ and $d=1$ we have, the simplest arithmnetic sequence,  the natural numbers sequence $\\{a_k = k \\}$ for  $k=1, 2, ..., $  i.e. the seuqnece\n",
        "$$1, 2, ...,$$\n",
        "The  corresponmding series is \n",
        "$$ \n",
        "S_n = 1 + 2+ \\ldots + (n-1)+ n = \\sum_{k=1}^n k\n",
        "$$\n",
        "can be calculated as a function of $n$.\n",
        "\n",
        "Assume that we allign one $S_{n-1}$ with a second  $S_{n-1}$ that have the terms adden reverse order and you add term to term, we have\n",
        "\\begin{array}{llclclclclc}\n",
        "  S_{n-1} &=& 1 &+& 2 &+& \\ldots &+& (n-2) &+& (n-1) \\\\\n",
        "  S_{n-1} &=& (n-1)  &+& (n-2)  &+& \\ldots   &+& 2   &+& 1 \\\\\n",
        "   \\hline \\\\\n",
        "   2S_{n-1} &=& n  &+& n  &+& \\ldots   &+& n   &+& n \\\\\n",
        "\\end{array}\n",
        "so\n",
        "$$  2S_{n-1} = (n-1)n $$\n",
        "then\n",
        "$$  S_{n-1} = \\frac{1}{2} (n-1)n$$\n",
        "therefore \n",
        "$$  S_{n} = \\frac{1}{2} n(n+1)$$\n",
        "\n",
        "\n",
        "\\begin{align*}\n",
        "S_n &= \\sum_{k=1}^n a_k\t\\\\\n",
        "    &= \\sum_{k=1}^n[a_1+(k-1)d]\t\t\\\\\n",
        "    &= na_1 + d \\sum_{k=1}^n(k-1)\t\\\\\n",
        "    &= na_1 + d \\sum_{k=0}^{n-1} k\t\\\\\n",
        "    &= na_1 + d \\sum_{k=1}^{n-1} k\t\\\\\n",
        "    &= na_1 +  \\frac{1}{2} d(n-1)n\\\\\n",
        "\\end{align*}\n",
        "so \n",
        "$$ S_n =  \\frac{1}{2} n[2 a_1 +d(n-1)].$$\n",
        "\n",
        "Note, however, that\n",
        "$$a_1+a_n=a_1+[a_1+d(n-1)]=2a_1+d(n-1),$$ \t\n",
        "so\n",
        "$$S_n = \\frac{1}{2}n(a_1+a_n),$$\n",
        "\n",
        "\n",
        "or $n$ times the arithmetic mean of the first and last terms! This is the trick Gauss used as a schoolboy to solve the problem of summing the integers from $1$ to $100$ given as busy-work by his teacher. While his classmates toiled away doing the addition longhand, Gauss wrote a single number, the correct answer\n",
        "\n",
        "$$\\frac{1}{2}(100)(1+100)=50·101=5050$$ \t\n",
        "on his slate (Burton 1989, pp. 80-81; Hoffman 1998, p. 207). When the answers were examined, Gauss's proved to be the only correct one.\n",
        "\n",
        "<br /> \n",
        "\n",
        "If  the sequence starts at index $0$, $\\{a_k\\}$ for $ k=0, 1, 2, ..., $ we have\n",
        "\n",
        "\\begin{align*}\n",
        "a_0 & \\\\\n",
        "a_1 &\\ \\ =\\ \\ a_0 + d  \\\\\n",
        "a_2 &\\ \\ =\\ \\ a_1 + d \\ \\ =\\ \\ a_0 + 2d   \\\\\n",
        "a_3 &\\ \\ =\\ \\ a_2 + d \\ \\ =\\ \\ a_1 + 2d \\ \\ =\\ \\ a_0 + 3d  \\\\\n",
        "\\vdots\\\\\n",
        "a_k &\\ \\ =\\ \\ a_{(k-1)}+d \\ =\\  a_{(k-2)}+2d \\ =\\  \\ldots \\ = \\  \\ a_1+(k-1)d \\ \\ =\\ \\ a_0+kd\n",
        "\\end{align*}\n",
        "\n",
        "<br /> \n",
        "for given   $a_0$ and $d$.\n",
        "\n",
        "In this case the sum of the first $n$ terms  of  the arithemnetic sequence  is then given by\n",
        "\\begin{align*}\n",
        "S_n &= \\sum_{k=0}^{n-1} a_k\t\\\\\n",
        "    &= \\sum_{k=0}^{n-1}[a_0+kd]\t\t\\\\\n",
        "    &= n a_0 + d \\sum_{k=0}^{n-1} k\t\\\\\n",
        "    &= n a_0 + d \\sum_{k=1}^{n-1} k\t\\\\\n",
        "    &= n a_0+  \\frac{1}{2} d(n-1)n \\\\\n",
        "\\end{align*}\n",
        "so \n",
        "$$ S_n =  \\frac{1}{2} n[2 a_0 + d(n-1)].$$\n",
        "<br /> \n",
        "\n"
      ]
    },
    {
      "cell_type": "markdown",
      "metadata": {
        "id": "GfBh-QHRcods"
      },
      "source": [
        "### Code\n",
        "####  The simplest arithmetic sequence and series\n",
        "\n",
        "The simplest arithmnetic sequence is \n",
        "\n",
        "\n",
        "$$S_n = 1, 2, ...,$$"
      ]
    },
    {
      "cell_type": "markdown",
      "metadata": {
        "id": "n36eWqEXiktl"
      },
      "source": [
        "The following code plots the first $n = 15$ terms of the simplest arithmnetic sequence \n",
        "$$\\{a_n = n\\} \\text{ for } n =1,2,\\ldots  $$\n",
        "i.e\n",
        "$$\\{a_n = n\\} =1,2,\\ldots $$\n",
        "adn the corresponding terms of the simplest arithmnetic series \n",
        "$$  S_n = 1 + 2+ \\ldots + (n-1)+ n = \\sum_{k=1}^n =  \\frac{1}{2} n(n+1)$$\n"
      ]
    },
    {
      "cell_type": "markdown",
      "metadata": {
        "id": "_VyGiunIZknK"
      },
      "source": [
        "Plot"
      ]
    },
    {
      "cell_type": "code",
      "metadata": {
        "colab": {
          "base_uri": "https://localhost:8080/",
          "height": 282
        },
        "id": "gx3Q4uo-ONCi",
        "outputId": "8582710c-1336-4ec1-c328-827d014b3628"
      },
      "source": [
        "import matplotlib.pyplot as plt\n",
        "\n",
        "n = 15\n",
        "S_n = 0\n",
        "Serie_S_n=[]\n",
        "Sequence_a_n =[]\n",
        "for i in range(1,n+1):\n",
        "  S_n = S_n + i\n",
        "  Serie_S_n.append(S_n)\n",
        "  Sequence_a_n.append(i)\n",
        " \n",
        "plt.plot(Serie_S_n, color='black',label='Serie_S_n')\n",
        "plt.plot(Sequence_a_n, color='red',label='Sequence_a_n')\n",
        "plt.legend()\n",
        "\n",
        "\n"
      ],
      "execution_count": 8,
      "outputs": [
        {
          "output_type": "execute_result",
          "data": {
            "text/plain": [
              "<matplotlib.legend.Legend at 0x7f6538a39690>"
            ]
          },
          "metadata": {
            "tags": []
          },
          "execution_count": 8
        },
        {
          "output_type": "display_data",
          "data": {
            "image/png": "[encoded data removed]",
            "text/plain": [
              "<Figure size 432x288 with 1 Axes>"
            ]
          },
          "metadata": {
            "tags": [],
            "needs_background": "light"
          }
        }
      ]
    },
    {
      "cell_type": "markdown",
      "metadata": {
        "id": "0ybfJdHxZGvW"
      },
      "source": [
        "The following code computes the  $n=10000000$  term of the airthmetic series\n",
        "$$  S_n = 1 + 2+ \\ldots + (n-1)+ n = \\sum_{k=1}^n =  \\frac{1}{2} n(n+1)$$"
      ]
    },
    {
      "cell_type": "code",
      "metadata": {
        "colab": {
          "base_uri": "https://localhost:8080/"
        },
        "id": "99xYHDQycnol",
        "outputId": "cf000b7e-eb50-480b-f741-9836f79e24c6"
      },
      "source": [
        "n = 10000000\n",
        "S_n = 0\n",
        "for i in range(1,n+1):  # range(n+1) goes form 1 to n\n",
        "  S_n = S_n + i \n",
        "print(S_n)"
      ],
      "execution_count": null,
      "outputs": [
        {
          "output_type": "stream",
          "text": [
            "50000005000000\n"
          ],
          "name": "stdout"
        }
      ]
    },
    {
      "cell_type": "code",
      "metadata": {
        "colab": {
          "base_uri": "https://localhost:8080/"
        },
        "id": "RGCSuDGHeFwH",
        "outputId": "a813baea-83ca-44c5-dea0-619f19bb435a"
      },
      "source": [
        "(1/2)*n*(n+1)"
      ],
      "execution_count": null,
      "outputs": [
        {
          "output_type": "execute_result",
          "data": {
            "text/plain": [
              "50000005000000.0"
            ]
          },
          "metadata": {
            "tags": []
          },
          "execution_count": 3
        }
      ]
    },
    {
      "cell_type": "markdown",
      "metadata": {
        "id": "bg8zxAhcecpk"
      },
      "source": [
        "The following code computes the $n=10000000$ term of the airthmetic series \n",
        "$$ S_n  = \\sum_{k=1}^n a_k$$\n",
        "\n",
        "<br /> \n",
        "for the airthmetic sequence $a_k = 10 + 3 (k-1) $ for $k=1,2,\\ldots$\n",
        "\n",
        "<br /> \n",
        "$$ 10,13,16,19,21,\\ldots$$\n"
      ]
    },
    {
      "cell_type": "markdown",
      "metadata": {
        "id": "hg3ixQ3bZiVh"
      },
      "source": [
        "Plot"
      ]
    },
    {
      "cell_type": "code",
      "metadata": {
        "colab": {
          "base_uri": "https://localhost:8080/"
        },
        "id": "w8FP1XqSgnie",
        "outputId": "deebe6b5-bb5c-42ff-cd1e-66552bf8ee4e"
      },
      "source": [
        "n = 10000000\n",
        "a = 10\n",
        "d = 3\n",
        "S_n = 0\n",
        "for i in range(1,n+1):  # range(n+19 goes form 1 to n\n",
        "  S_n = S_n + a + d * (i-1) \n",
        "print(S_n)"
      ],
      "execution_count": null,
      "outputs": [
        {
          "output_type": "stream",
          "text": [
            "150000085000000\n"
          ],
          "name": "stdout"
        }
      ]
    },
    {
      "cell_type": "code",
      "metadata": {
        "colab": {
          "base_uri": "https://localhost:8080/"
        },
        "id": "g_38RfB_hgg2",
        "outputId": "d84efd2f-5271-4bb6-e6a3-9292c4f29a3e"
      },
      "source": [
        "n*(2*a +d*(n-1))/2"
      ],
      "execution_count": null,
      "outputs": [
        {
          "output_type": "execute_result",
          "data": {
            "text/plain": [
              "150000085000000.0"
            ]
          },
          "metadata": {
            "tags": []
          },
          "execution_count": 5
        }
      ]
    },
    {
      "cell_type": "markdown",
      "metadata": {
        "id": "r9qzONSlZq2q"
      },
      "source": [
        "## Your own example of arithmetic series "
      ]
    },
    {
      "cell_type": "markdown",
      "metadata": {
        "id": "cj-qJZYlOGuF"
      },
      "source": [
        "Another arithemtic series would be the sum of all pair numbers. </br>\n",
        "\n",
        "This would be represented by: </b>\n",
        "\n",
        "$$S_n=  \\sum_{k=1}^n 2a_k$$"
      ]
    },
    {
      "cell_type": "code",
      "metadata": {
        "id": "sJ1yhp4lNVw9",
        "colab": {
          "base_uri": "https://localhost:8080/"
        },
        "outputId": "19f95b59-a189-40d0-d1e2-c493bb164b9e"
      },
      "source": [
        "#This would be the calculation via code up to 100000:\n",
        "n = 100000\n",
        "S_n = 0\n",
        "for i in range(0,n+1):  # range(n+1) goes form 1 to n\n",
        "  S_n = S_n + 2*i \n",
        "print(S_n)\n",
        "\n"
      ],
      "execution_count": null,
      "outputs": [
        {
          "output_type": "stream",
          "text": [
            "10000100000\n"
          ],
          "name": "stdout"
        }
      ]
    },
    {
      "cell_type": "code",
      "metadata": {
        "colab": {
          "base_uri": "https://localhost:8080/",
          "height": 293
        },
        "id": "SqqtFKpES1bF",
        "outputId": "54992e06-c4dd-4e0f-a7f9-3c894d655d79"
      },
      "source": [
        "#And the graphical representation:\n",
        "n = 100000\n",
        "S_n = 0\n",
        "Serie_S_n=[]\n",
        "Sequence_a_n =[]\n",
        "for i in range(0,n+1):\n",
        "  S_n = S_n + 2*i\n",
        "  Serie_S_n.append(S_n)\n",
        "  Sequence_a_n.append(i)\n",
        " \n",
        "plt.plot(Serie_S_n, color='black',label='Serie_S_n')\n",
        "plt.plot(Sequence_a_n, color='red',label='Sequence_a_n')\n",
        "plt.legend()\n"
      ],
      "execution_count": null,
      "outputs": [
        {
          "output_type": "execute_result",
          "data": {
            "text/plain": [
              "<matplotlib.legend.Legend at 0x7fdb5d756510>"
            ]
          },
          "metadata": {
            "tags": []
          },
          "execution_count": 25
        },
        {
          "output_type": "display_data",
          "data": {
            "image/png": "[encoded data removed]",
            "text/plain": [
              "<Figure size 432x288 with 1 Axes>"
            ]
          },
          "metadata": {
            "tags": [],
            "needs_background": "light"
          }
        }
      ]
    },
    {
      "cell_type": "markdown",
      "metadata": {
        "id": "KpFQ0a8gTTGW"
      },
      "source": [
        "We can see this series grows twice as fast. As expected."
      ]
    },
    {
      "cell_type": "markdown",
      "metadata": {
        "id": "AKWJ1F7hac8T"
      },
      "source": [
        "# Geometric Series\n",
        "\n",
        "## Modified from Arithmetic Series -  [Wolfram MathWorld](https://mathworld.wolfram.com/GeometricSeries.html)\n"
      ]
    },
    {
      "cell_type": "markdown",
      "metadata": {
        "id": "W5zx_-nR81GI"
      },
      "source": [
        "An geometric series is the sum of a sequence $\\{a_k\\}$ for $k=1, 2, ..., $ in which each term is computed from the previous one by adding (or subtracting) a constant $d$. \n",
        "\n",
        "\\begin{align*}\n",
        "a_0 &\\ \\ =\\ \\ r^0 \\ \\ =\\ \\ 1\\\\\n",
        "a_1 &\\ \\ =\\ \\ a_0 *  r \\ \\ =\\ \\  r\\\\\n",
        "a_2 &\\ \\ =\\ \\ a_1 * r\\ \\ =\\ \\ a_0 * r^2  \\ \\ =\\ \\ r^2 \\\\\n",
        "a_3 &\\ \\ =\\ \\ a_2 * r \\ \\ =\\ \\ a_0 * r^3 \\ \\ =\\ \\  r^3  \\\\\n",
        "a_4 &\\ \\ =\\ \\ a_3 * r\\ \\  =\\ \\ a_0 * r^4 \\ \\  =\\ \\ r^4  \\\\\n",
        "\\vdots\\\\\n",
        "a_k &\\ \\ =\\ \\ a_{(k-1)}* r \\ =\\   a_0 * r^k \\ \\  =\\ \\  r^k\n",
        "\\end{align*}\n",
        "\n",
        "The sum of the first $n$ terms  of  the geometric sequence (called an geometric serie)  is then given by\n",
        "$$\n",
        "\\begin{array}{ll}\n",
        "S_n &=  1 + r + r^2 + \\cdots + r^{n-1} +r^n \\\\\n",
        " &=  (1 + r + r^2 + \\cdots + r^{n-1} ) +r^n \\\\\n",
        " &= S_{n-1}  +r^n \n",
        "\\end{array}\n",
        "$$\n",
        "\n",
        "$$\n",
        "\\begin{array}{ll}\n",
        "S_n &=  1 + r + r^2 + \\cdots + r^{n-1} +r^n \\\\\n",
        " &=  1 + (r + r^2 + \\cdots + r^{n-1}  +r^n)  \\\\\n",
        " &=   1 + r (1 +  r  + r^2 + \\cdots + r^{n-1} )  \\\\\n",
        "  &=   1 + r   S_{n-1} \n",
        "\\end{array}\n",
        "$$\n",
        "\n",
        "Then\n",
        "$$\n",
        " S_{n-1}  +r^n =   1 + r   S_{n-1} \n",
        "$$\n",
        "\n",
        "Therefore\n",
        "$$\n",
        " S_{n-1} (1 -r)   +r^n =   1 - r^n \n",
        "$$\n",
        "\n",
        "$$\n",
        " S_{n-1}   =   \\frac{1 - r^n }{1 -r}\n",
        "$$\n",
        "\n",
        "$$\n",
        " S_{n}   =   \\frac{1 - r^{n+1} }{1 -r}  = \\frac{ r^{n+1} - 1}{r -1}\n",
        "$$\n"
      ]
    },
    {
      "cell_type": "markdown",
      "metadata": {
        "id": "CDUYfT8k8crr"
      },
      "source": [
        "## Nodes in Complete Binary Tree with $L=0,1,2,\\cdots , L-1$ levels \n",
        "\n",
        "![](https://raw.githubusercontent.com/gjhernandezp/algorithms/master/Lab7/ComBinTree.png)\n",
        "\n",
        "In a complete binary tree you have in ecah level $k =0,1,2,\\cdots $  $ 2^k $\n",
        "\n",
        "$$\n",
        "\\begin{array}{ll}\n",
        "\\text {Level } 0 \\rightarrow 2^0 = 1 \\text { node (root)} \\\\\n",
        "\\text {Level } 1 \\rightarrow 2^1 = 2 \\text { nodes} \\\\\n",
        "\\text {Level } 2 \\rightarrow 2^2 = 4 \\text { nodes} \\\\\n",
        "\\text {Level } 3 \\rightarrow 2^3 = 8 \\text { nodes} \\\\\n",
        "\\vdots\\\\\n",
        "\\text {Level } k \\rightarrow 2^k  \\text { nodes} \\\\\n",
        "\\end{array}\n",
        "$$\n",
        "\n",
        "nodes, with $l = 0,1,2, ... $ the level\n",
        "\n",
        "Total number of the complte tree with $L=0,1,2,\\cdots , L-1$ levels\n",
        "\n",
        "$$ \n",
        "2^0 + 2^1 + 2^2 + \\cdots +2^{L-1}  = 1 + 2 + 4 + \\cdots +2^{L-1} = \\sum_{k=0}^{L-1} 2^k = \\frac{ 2^{L} - 1}{2 -1} = 2^{L} - 1\n",
        "$$"
      ]
    },
    {
      "cell_type": "markdown",
      "metadata": {
        "id": "YiWlrhLZNMX9"
      },
      "source": [
        "### Code"
      ]
    },
    {
      "cell_type": "code",
      "metadata": {
        "id": "YvMkYU8UNOll",
        "colab": {
          "base_uri": "https://localhost:8080/"
        },
        "outputId": "93b7f099-d720-48f2-d42d-2e7950691fd8"
      },
      "source": [
        "#Code for calculating the number of nodes on a given level.\n",
        "\n",
        "n_nodes=0\n",
        "level=100000\n",
        "geometric_n=[]\n",
        "\n",
        "for i in range(0,level+1):\n",
        "  n_nodes = n_nodes+2**i\n",
        "  geometric_n.append(n_nodes)\n",
        "print(\"The number of nodes is: \",n_nodes)  \n"
      ],
      "execution_count": null,
      "outputs": [
        {
          "output_type": "stream",
          "text": [
            "The number of nodes is:  19980041860287690158880655286600671819608582781083633835430585477262916649285146966549746626648993008063287888911117098600375993215312353125816942708494985750397779259747342186492700854746224958531600557062482177474171210574456780329137382053701351847035829394105715289393603049664690951086500585573041613915541943482204464085952702410661555993795850233239741543571551911043440162640590409235898458518591247841931595747116317335050991594626289612498520523675882610161165372063070268357479245669981772715516124209213272744261175590644689944021616972739082803671702719716071207148043745816311133161214372922537945679589243684535158699277786714495177523918275313524822250041417409740930358792797420218400727869491236181203226755797120593727197116049522897866094104445720262754191916714638971796992809144767750341404484665266873788846594763755466306573888435872250603815737807207326566323005452279868305608142343829847806683749870788911792602584394512835434467087089503104758621784536364804905511504189409284371887725731265488462664169484443102986630005435500128457652423645098699201114914669929356966538361903791911538349019346448835480865680911764218275810751293544279953243570530114339709669124975036644766500637291010944228739868335963356340510245625956130389612590810678309314959882594998380697015088672829011263314792013386764854632868079160242560521968424495028415669424449662820608137207439280323711483312878944506929890499400629019780186324537905488857410952850944506335029042364462910776748616465284401266050275066258730328683450412512310623589477238285809522891309854256836350367062654105950990741122876479146455879346060212154913696954855664390698455967672872327529485939091813344738248272651864246671286271788930438203764247659481815832772046470901918777533472806459155987802304308896007274430138231182223992003061178215458842064460848524071386986432105855139251716891644709189290553846216394611612560653033472898687523464819506684666579460565918347138546026572846623519210460990343354066327419044513904920804286775310395288033056296044696663762195118843920952958777040397082034697971897022010938493234468286270619876811846537907173077773948854017214057271004171124059098704960101593043129839366530213488201935645903908323235435085995040019774614755752421371781541938823220876057247900890647579183741520578520786979652201549775345705836212936978287787298129569182423224386601415801074118084376025713118807398141776065933743223311922464663996621846450165732360643760878895145973524193871639568771855938500246653870389386415448671054731132496447575667776149998553663266880637208927237407579568626065687646940821888613182943856682381950370478424655348769981123127376865878078884005235061953701210265874202898172792283241112107094671139853401882750543658284814468535875130139531134951868202620450685660160818159174659088427102614604100343196848461520938419465814580283212707921761118404714753771295704480185554222978268984833991214343572596873067956361738948213502222707047423080873198621779394971317601775723949868715858492408103534492024501236808023932579745347606140996722435948969358201495692712389329658449472268230271134358583563936112107452968282256695716482518243909202368824818699565926634084005060837323389924637471721304970820444423739088447576578379424161029150282723929610739446329141129996959075314349096257194812154678317550664710431218871838550398702028444493926034027434838675009838590726590202230585903672565638383643303352911893031656097968512233496300735610535757325433999298593898754091589752293256221859964041474026660648902010770757102377606948296397330229158645369801986000473472337110588346884119850743930489995850966318687412687940743619222940646148373970070109444578054349700666736656600562265821683386300914779866367869186585989885592030619512237417837859056898148486569534012486342343245463533213592203935604409129178031799049409482002316221927267462658776713737898817518668353818775612797169294601177856351997688954972260126306137520140169674535055579554713660085557805544211367666042940559457190672664221128128527819449159899372325816039208283507871537753175984857099824303475848540686497296828494913677779083786482901975011518806026499395083393910660593760438609748327002195840072420477536550352739961955229959272193408696280248261367153759809994873192592991410919049470764000727540649789964206662665827124630339708820830634108387856469446797696907104346407376176624201887882869876564407099300563061502174197209362449605947651262489978663930592404745217173018100615986617304002463343830365531484191379026272368190824242947572622085795435722896316633931697533899109652505009922454089429424459240549364725819607754938753974717884250883584710596774959660900507819577466939465206195088312949610947465465534497305518069990672708253907800917709977367149855729230504081600980229571784578170886707993989561734943227039571677142912843166342386008235978881580536692715100679776173450255767154595252998427654873147985854604477585153848465570974402594510772143936607564966127451799616969277007656712516807834623745388762929107303380125060046435182686169510431802950598298430593888724733821666467387535986276418551740048492476662436473430473544196834375407720344617044896086352667205519466322402524496646170658577972309118442854757014821957644489459025327144451134339558819534683086034578536665270154902420335738242668931361479594745422923838599876236357655082843585853767580570861819884882521023891698475819932659100527731402229768284532325939620147305421857009158941723016188109155595728603009799917268329401056441125572017728051418864888508088068486280407624149715075998032132931041973961581178694640486101271814727643042561200083655058650970495855808471455197148419109264727661864856501423037603551267479623047523989372526541101270199702508667751189203081801724028587251347476663386164657708654002974953270237661770347550537639052720330691801112321535426907235310901948849958152127812186600056833929695188054093338936973187272850857250483289673304347845173056948489904726604610622826898664679644673103222862938263800340976453673051832799447825253232280411415993454767059194958250977922838574522519515123403185291647082303844354507839302068689587360738114007626113115732622022952626379143112673037455515983817725781530989904038949844297702834158504704788587603402298970478011688716659497538559883172769281754531803498209866477706930859958507801122623124576482294384316274420240534799297245663220860574537479680670284240599033221692386329376151889053930497140141108904305094986900869705835975024371947294380923030827165164278080344236591404655074054779575587013808089877107175301007114311745746403193770122662290954203151398750882194986748231982398229925453603436077901815606082368800151170937121953931339168651254566654832836089181455689360102721548308576825424912706767250938137872861804136433500919638643489026725827707966309121220919385209017575400608369158306956583451525621265444216071652121809144921238408475160726294400317498150723267570486924597539835775617342907857693144834447009775533607738906949177663815194710585601418482942741393294059061401014166182824985542809552386918014630412467268452256274149008325040946899194831357764007690893548777900758384689188342491020463477990060696843874176166659418216353122021417386316041390120192856704093294666722326953328212622494130347605021198818533817968093326597227297709742461319807131544655335392114374114553628789865118742736058751949208232151283199838804533588461362971446722727185807353682960716656186255013602223143230125523113214316473224537088536660549451698589751704179581701925670471055956982951127488636967986949266600661944994025616831801938910380751699891500758930038332019723005589212261589453797015699220607769692070846784350899011752314260689400831646160451573386601024253663692019020407086348647566584353731952152550824843785616277745760351626218592040301492663959122976292666825349792513767568702356955185321154425468538656764769423492167564419879293224616687904339153162130847543963799147680860631861946430119802742436799525170110870919032680110298161131254660950725057853890040452326261804841590012517862735626010444281485929512388107564364905666194043108421859277386010920023854356605523127011431470811345305048351850872743726943672584024324913324187284149211001684898694579661239012155141057509690555361322436716132260582926577864481402087775070015703994318396780169309193992394276799446991727499613164878769230098368096971638387121334251936037149755639122208670476841746835486770371471326202585514818561173680023609709988298957473765898737573274405365214397415312572873507551419120699436794811131010538850436708602697821570469035591039515032969423091856932007509116970941989474987593231682080828479751526670403591037289713264403197112683868573337825044306892697582436319245489050744628438369477541193319884362550807227320877077658403620409701835435582970512052485059604984618459124354125540055318576316947989608510135461806840086983265827177289254830636937034925160361802628954717274973056442548901323767335747090074279071126520699556419984833118223204194874982864721575758662030104834094875647107012411234035144350774123502385839431320726056604687639169893188656920965863921030249734247209251307807130346645713516421875082445348447694093329467240585649668130275628950735495343764440196779364039568433448030982506720872875694959541267315810836267046021609119917094759371729417875583318680447591074090547698870882211967775939482286102138802542131257015074079646617735639736596342830370436542987226221927968043824896646847802785107623451908306418870005909615280583965531483028085913333906354608006717403007406994849795796217878906053953756463115876317857993737532735207158110645589645515318209625670439491448044695139829300481273460985666572303750098259746915861749998976097362501605809212892447139125535929797829739848403892917042710331419774236756580874348751250565212281069223974790669355001873251493531276919259043744525554946960982467930388562707450137321564153367725130974558076040973556199983508761631579641650511132469967866434982987729932568233779749330010829496529199945504006740169085185088602380798082463505543987535599695102558896025827684068646309776275865049774344198762391444326296203340549754758323661937874697440337889806599317865023993008219307349237829723198963264081783861154477260792623716426682674220192778227673193791829430741850147996923364092852894581577953051187010273093956729206367641239121157035123009945323635298060609964277069477392424469252228086071201934085094024634720899449246574905150302397543603171485658778051301651976550990221730849408436674528046156091363302841035614836392192803026923521588725539224456252237221825533629761001901927778065755421675302103800152256116947938517537475874613329502775884434709388042315351115137940337468208684893051045137948659432305485116221006990091437863504894140820615521660731073428360777447205897745611181505422231181589513853807957039203879580623536140713603889872213701281137038581290097371071256513574451469088293131082375633435459701225748089241781437004217036050105849180719628235045440641105285195503968821484984358484078160029212451998844219434352237493691605347449602731207733819942142694511719446434055108110170164180837975069658444008357996950061039074358124003018666046047763613038364811101637344329423404615059845304456067640808226773250671630085868230287961879972832731267847241347748518685426889402485405444454395146406388978815712711023279238231971815990798167360258937621543191876169816222503876032829732500282190573361829657006247877921995318351954630865594347891525120730047175863119852341704630148495699628513129386016210123952794791183467090945835053479197580234954898435491543816338979087580629156305334779378821209176702890052261291274475375262259929153398951534681347167074437409870354640429558807945133065163463318404399505885648865556204215064321160208864242134416547752201556664853139249531242126253950983092448687956122507998627787831564017120022342639546886260825996431253970197791445556319049011280871069959711744469043983556839128213244244098078035773475995810541104604824005561729452565035050184665110757475584869831852365472302485184485451745399688028265135909280951484902252205714788386959432766374276741445564845238768042021792542563371464575528420597417791114296795486994836219699267267820795556508450358800044286971772415064245293227228975037470284988939151673489570056026386067803899477432326227601728186817058595459482925672284402241146054854619133317699769930268590376575874032294999009370370233703419516293373988487346280073984762464967841237257326074804702667815543814910448497031497452272150096041921953135724050464712546051114108773458378511143344793743983339303669473974880591884790441726962682968059677878971186654513254636388275470903783088769921932902571122953545129865033847644006459466966663452612400118384134882273826487440807156197352881789344734669099807810567364822844023773898530649062798647528201127993488547387213173702487873474310699392717940941412493486129363023051161544734258717383093354358561349206394887320471329623822350648479584543206427865381800862867145023871183571574877863821673444439499188770435365634411074867975878744841396845172004053404409004682968864462836319674266446934676371991440430425998133710637187530376245631288699685795608088948506346374396499760438112249513670106243873368182227226903480760800082562949054907375060245482452585098862016917736165254338625782828474933946431376613925192595648573656959516396764680690445417514690787794253820349670359942641845823492870910047853258770911485261680946491978748615673751728175828624638456614609950724963417159699741100628714737320907008199359370779605156955820838462105010289393770497452688730738907842744389431996313248908661125596565554699169333514037939801970220328982095987205845923290265990448542809816373896161636289530882952141669886359842695386411550987455162293598955639614089819661775604836709056191152536356443192821424433019990393923864737533919848673878037351660955902697129934993286013957096241722026058052965280804633242036517208345469003941677140445530377180786247254490464013071967815208255796015256441582492326445426103813356059288546457526920120578426632188114792007047216298975711569639847208067418487841791570201907332491076094236839668137179897868053036265483903498250385137459649755965876703420448779773669511124436429732151037256841016882481710176816998810453097071553357728889361008602571976939831003385242346099100536730996681275886683169594781333946543635134222246890425402276575466341407297687121385070025715491274332025855692388271512983016538646020127118175983662960359213329787213729751138309401721205407819280181029218721026074561969979952945868411942152208731413340739273462173233546128722666368328664208146958421551377407508386482203528976143346608352536069056255893458488905838323764190671891334316901882952603074065176218509843241204847996767879279141728536631115475847085660954338107701443879854533661134454885827505360474356351816874539561416199380385390005184842040970387907610310317326532836460904258742093680437613330330462877194996163242840296102710263730906029742596499877248544308690744783604430252231709723950797966221776392717751131587186621195791984106480879369181724386464030464515337939018830796787442617494495465888986107515155388725360656632110120706439370002414390383342852126728112358012437343209277368498134495145711528143262795649278377387579270495416464391880800901659187707303035285020258671822956675991317003532351570859933674834495677677291784639840082392781850708452148398824363900392503196274152934170044958403298348113589988049935186006259914199484053191570780021337851729437678052116835164792994219045889459748366547904584495184313887391364074955462099028257636862420634953201014657226091396283753477411671179361137624125803344779415206079099416546836968138074430359724533163859110841511391308279953628470054981189325185541972089177587351124287419297411489330639629545784354581875599669905539990290122314408788257374243077513685136073244642739016083831474938019834096079771894520972517368899524724637448170679000409978591927237478874817837777137807382257975664651785202662310521802263823925073058769287986931332980542217045668940369536783147247790479465562316798710356044152354901511858276762937053154618304581005018290482268013791322147522640969091291087220477546175188616817399565422630851026944117878678906027096270488353508262770025540048312523872339299419888313867083333181871519569551892937907847032459447346807301611772372419776247354197785889539308720649337748859480260730019540583207072853005689236092256274648012069895779415446524729855031090027463594555230544472017193197473387682935370060332207033976781991141318663426439148006502092607208392590552633945787981890182559090723255186973636911660337268561306410057458210053813287452341323556878622309474299518192232288987624213492074502905232543230425870086282248311699695148183756916820354650061106414475323867940508976670870138227155515531169102273429269258446228995619092810158053511708321908521115566812934712378797006320606093375045159416775986597538365973645941334712493295879306730909088536772808645300592057762597114484396374416080414592154992257772333546577677241219955850833644313427407334782666644173041743808946097186034933587156347661664812919170036354534895380753046357480285273004344186205238526093084225416189539364784414767594964114069586393050278442740399755087862357202476397849414095259175003032599825785866138050687150976502909896938656645796405913013806616940965035488262332929549501446955723036110686933716081974264546906163673589128728860310492548316201462138646161469803181034017507308339201997823139196909405853258748098787355370571446079509382362042938534438667693126107347693075649940099012418807013212489168825255804768485570561103198506376525572543063979134330796770857818623154244877236239449971288467815117625149718435374299442683666634579429955389964234454675339756722425576930578698941353990293571671910148243136750065875644704757330206533846899775381239588233149872836695829647967976004135299934578429966972848937475484572877126128850446922421279904836292332222783172816179480827891759698073365390976395617532043919929693542291396318735135809536224094111481204702474998024517134715930214026503124475687509989494473767642121291938960134632064762702385070296644433522884822289390722365677522231591822620724841483021652644096749080808293980959294146226856736600316494701425844662239578026359403303528066073299213499037257313672065112706411234773205498654835599048487799761162645241362595871231642405472911080828857411714263670477903484942478101517838706981140536605625621409501206363418548869613009686844268304403159253552787285396337702971090413795604072514992087168361471046184820529588872847902949711707960518734034411177535970619942086580809768935083403837824551491504804243489780653362321295675970009279728387291584164210532115007842390622915185242801661320603536240357120657300440342827623284311973405275062311109643916777810787089184361174544867499798484083085633333643692749726675045458155988417921090529727725032823436098225806902756280043013799933524161465302760855584921861524526893988318386446285130059992806268767128175533379075519714946806240954183773192711159889287376411962484080955605887607864919444415083479179193384068104323361675177843272097169579859327806214699891334055661220966261725745361322030601491043339787714767565381950052157382490154193394711489942127756758167217126649548022853209177595425686670178683504241686267098311611890435007533456273637979402151590069951862294227702355058169416765293861887327675702977597447377543069540666913140508009928079975521491902552291873389391017755592636800186459947473541037025146466460254268421874137361900528724451021745754283271203432552534080337993632574426652844536755710655775644620409079524545166029805219421862389991371901669197018517606726039103783692425981829840311676597215136381474751917146696523427589407185007944252628632384319142902163488068229695808773202568489286725714784884633534822072835115553983773439821022913804005811543398354995496718979620231301114507002485039191862966880834232444411009179343273508956085786976771000550422995052492842244021549724666952492365153194356807960873235339121134099873578700741786349235120564149358116221612560697786273537546266469442357082076578426161160738605707820769409056036688116626505488259856711465408056441803903120108899529271864130167521728947979385418762241008502533861669679999913720432712297880334885128156938700305460491498871444410018807361620642273797892886124083319756720813622662434267009921009888330945767852757215736771463030732746832625132245206471955484947880649586957481540705450873064910616876501731387728660041914241438245653378475218547048935153295963595245663418496374286378948899856658102174133732527802925509200373367167244124891107657734287242831547276489705141329306846004006772174371366774190565128463784674611654935650205810478428928235181400165725749831294425924446200299685547821170525424191405266850278138551082499851653797511826096978118167330094773138011961453025365287619600161537433779499534011494456570330861870938847402593802450400083551950556198682798298911351310831582578028283614361941636021337252000669493566984232708661483533112395730825888663159221713467814421941630495388720416462154754638511871183838723019984483703739525023643943196898792845846445173879166411699075200346776485833626514006396981885610357057565685120043098466470065883745685202219246864122971095158077605698456278794261958361124895406988599061171818830062474800426890863214099077618235741142091372423242139310046057773234120629160445768689813758809781488134329115130321192794976329489150818801783822167890252467980906729545083482662661642307517966154780805099479503241651675796769992401749499244662872709107199420945792792525829351084563471249331608424014550802547964539303605192260668659585730660127308351352006739376487852782561426246077520152079914571316666781677185068498674306140914942965487102074834294048013734838283748796460898405544019364564949281605558136209483205765226881606513215060460344063962141593786103908290478655323567811657887864292297789643391837158997004527716637408946580599580946387507607087840571412701344968490017841379425990616427494670511585965131606939559009948106659012441169173953564753094716185341507783473304803155051780404709766454961357922656933643731945739571185345653645312915155917341142195456793210203032774327230643836407305459795173615572886089793257340786376973843863678365854345109007535466153712617315201330685244509070115258061725437874728654896167117856440204749903069330525715008445901990892028857603718122886759358285434826556573951996519987638168954939550441135796790757140309218315390012257379221651038746973225136450021171504750100901007283255608813353810261129614382028264570126965331453657023866118867434747799247309431069633183260173677041810982120389193516447403823027162284143042441347043897554139043217063434955161085108276077957747432116483543808504802112741323585992791617413434167745900476114477095220990123465379175896480639138998001189187439698008209100068830028132309053989218188882782878143732618018499383624937626176252484717574409712179216468075354875018993536902116119159954378013210709806719923568490242192289754126374933820584713255542330407045294032332592976167617995775375538616441713060136307881713496082698938983741409985320420132911639665772261356042920739786348999878214462460810176684970767593484417694120770669887856295039371582584348883834772797478311817831718621500898839938851713841007782555100185120058451132056491466108328740965930703065391514623972066307723534254144645925340244961224644390977783696080298715514262604617795002697147200714268614093256314357440043157411966605712803702807348337047158404612881288318897173132493810955928173144925223668126426050252461793899427284669170838702256746264314464203155375768295973504728883422596944709526285431700586869492868254460451471584194166879820996788039579959740703675572021557334452204483368997372797748455161262545162948793353438808888580142569828572503734170184716906554182882199150715319624357047513697868859340737372362459856066866913392986921541807184463608145699655281911747708982910832961242197238180898663522577932270650826124627983942924665536974448368238177682109638541757897879181363557159177837175762852198483535507724764812004903642298070320248985787881156988110864347179559007735584897229538897469343727167634593254146682808055262059643124606284315486758589233298748723120918072120597162449152170505401140123755219165491949934810631764325391965702286012641795460946266922344285891610814357752446022925117021041861523542986557207082525439761045653728214110098728741111633891661681301920894643736533716433807569736064560959728043412631307374978580935358031729418758957524746027644052747577645655128327451745341843204868154558597131359650469892856752325837435113986909387449519489288749172247155537685294693848731819117106325143129615938068105343009521509485353920076511628068709433041669197729076865187816308785837878179792218167043985038107060796718163032578495142086709572849909961482777490772046226659182781272013389078874877381519178242577516015608165823950414190556266671100465553523566782763588210218825999360860207798950102486464662862241327197453237220169434509393817453274913716933292324186446855361369203437033404855342251826160119166107316360071982428895370573069970794027752161634041836945726702737567490502585872588746275595588336326261967377667249184976540085066550620348074803716310385326295176064900632699657888181882918871419678662908155875277067769648113929167323813160724624119520074255329661990251718620428580474612104001766831499448810057726805000057494110467377082137186778079324759827552971431544187499362111436555562859318488503333406220271641250633037813872925327226753567354003149819122889925656411381640660026242579746015710412561830071760668143492467022285676193101303636542355651928294684551771606324947296507017758552598149626485384923428339042137097636550723225573910432824766526492328069205542106104434254833819663428851685508718650387416735841049740372425417149063036394159595248312644739255060607250020114803006370483542763433833918133100960988534947393312103639055459480881564974832706174149606894252615100906037537469023262520005143531416588226894318116653718928045950978123737139431058650667358385809018362677978079062452228155208292682790240506398137441380901308634721598704869582164079390956123852906509288106249172724052032313915776652839820691039483584280792123634918934664422734226103351689941444161276498618570696515494165509879721217016972773099825824440783790758664643628689996917361114535831107050424227815446778075958854970418619009283199278392106592060585478549327812468380169764439600081508780501436860336961732314018044106316547714834535804620387132128487321668160405572784527304906791009412488217915582098597816794195431613714073055745865693543904549750402643713288568478233004011572628166533213128938047097730904873990856346108766963065050312623206877882881225199324529919757538007424824812610145426098722121555038703533368701958190224940755457054090363307112571243313523958765921674504169518406362228768808010229227980652546724292301335703760158655126972889607453926556951636906937019130730761447615473587052484291066177667359454148385677745370969954774613340015103931522863167882204084985246266485540541643420094274304335897744937482378519611247820974277950068406753346689978120104223455689341061042654850664379469957776615887252198251139482701678868123501425752890444079114910300038885992465478634182975810297625643165789159899497246866905730920549890266954534690725599369413221875415376096759135720999774654574546317570391010433893973143518745751969029988174733471399380644425238146744263969945747429647844112722316553438587375035901914629550695459560147740901938408402811283299340917698114933587364311043802190055932047180401259126853243395112332523913442806879607243836486354484220969647803244242866492789023664381474072552725113895070745238872253993290684459178013473904029740787730030174148829470440441540822140176656061463090082171443524897200649149059284891603101775071162890257836347372692233134222100302219429521088723075840415092230147058335870719607492466316070805014587170844269900479310009636912512655589860883852565882726014448301516288955377911139232051482847718548831480954435286949897326366365296420167571498160444398244289388234800541712318190209771691934784665204603687480657405617139564622364920785284258049458385070453575135795737129201141090217890748381298743117788506659406973965386773269149615602157438508259569814310553366810724814457950036032834973390453278937795599659494068829693210465955063828533276947813621083342336132262525837669529601279309524690385081160800515455901718123634652000376713355152499270169024532821115103290268940524166970961552347403847252812769662743684174954446188935957322443299379684645578497525210335797372951478024520722135849323456780032534688119806448053072687100603105966529039731762607885173235469974560463785088556032226636708552206516004787885215717513898970238601431707859686327935151062704968442549629728054594614310914218846864943713941047271344573103032531344778496161318558897906157416307213333482629196521597622557509312626015571486968379221618998238872075122150652718828286953764989385061575581386550581791819890130544143958839365483681639661134995376172472921638691247275404935630146266932395846239878234391958705666234993641001154599877132953968521631037881733552641710966319672377700896679822703010265819407980177838126266751608189773911790931825296209069242860591466751985797918659328889373801297349063323757642594388292383828265957346750567405990381412359848356280498712570013072547543272711139440006493992261330564903390334546323662787735117582556529867516080022118422744541678247036919418214961339705392161818363745957003148129089096528942157266773198226377620275492637968993491978023080668518630695480164221469636943042506749014543076262096593225958162955326539582789140714781074845539559267623136792446416805194050310609468779766218751\n"
          ],
          "name": "stdout"
        }
      ]
    },
    {
      "cell_type": "markdown",
      "metadata": {
        "id": "RaAz0MEXVBfW"
      },
      "source": [
        "We can roughly compare this with our arithmetic series from 0 to 10 just so we can appreciate the difference:"
      ]
    },
    {
      "cell_type": "code",
      "metadata": {
        "colab": {
          "base_uri": "https://localhost:8080/",
          "height": 282
        },
        "id": "SlvCblQGVEwd",
        "outputId": "77f119a5-20a0-4923-f937-f424db50bf94"
      },
      "source": [
        "plt.plot(Serie_S_n[:10], color='black',label='Serie_S_n')\n",
        "plt.plot(geometric_n[:10], color='red',label='Geometric_n')\n",
        "plt.legend()"
      ],
      "execution_count": null,
      "outputs": [
        {
          "output_type": "execute_result",
          "data": {
            "text/plain": [
              "<matplotlib.legend.Legend at 0x7fdb5d6f7a10>"
            ]
          },
          "metadata": {
            "tags": []
          },
          "execution_count": 27
        },
        {
          "output_type": "display_data",
          "data": {
            "image/png": "[encoded data removed]",
            "text/plain": [
              "<Figure size 432x288 with 1 Axes>"
            ]
          },
          "metadata": {
            "tags": [],
            "needs_background": "light"
          }
        }
      ]
    },
    {
      "cell_type": "markdown",
      "metadata": {
        "id": "Dd3RWDwJe2xD"
      },
      "source": [
        "## Zenon Arrow\n",
        "\n",
        "![](https://raw.githubusercontent.com/gjhernandezp/algorithms/master/Lab7/zeno-paradox-arrow.png)\n",
        "\n",
        "https://leseditionsdeschavonnes.com/2018/10/15/the-paradox-of-achilles-and-the-tortoise/\n",
        "\n",
        "\n",
        "\n",
        "$$ \n",
        "\\lim_{n\\rightarrow \\infty} \\left\\{\\left(\\frac{1}{2}\\right)^0 + \\left(\\frac{1}{2}\\right)^1 +\\left(\\frac{1}{2}\\right)^2 + \\cdots +\\left(\\frac{1}{2}\\right)^{n} \\right\\} = \\lim_{n\\rightarrow \\infty} \\left\\{ 1 +\\frac{1}{2} + \\frac{1}{4} + \\frac{1}{8} + \\cdots +\\frac{1}{2^{n}}\\right\\}  = \\lim_{n\\rightarrow \\infty} \\sum_{k=0}^{n} \\left(\\frac{1}{2}\\right)^k = \\lim_{n\\rightarrow \\infty} \\frac{ 1- \\left(\\frac{1}{2}\\right)^n  }{1 - \\left(\\frac{1}{2}\\right) } = \\frac{ 1}{1 - \\left(\\frac{1}{2}\\right)} = 2\n",
        "$$"
      ]
    },
    {
      "cell_type": "markdown",
      "metadata": {
        "id": "R-J4EekBNPkd"
      },
      "source": [
        "### Code"
      ]
    },
    {
      "cell_type": "markdown",
      "metadata": {
        "id": "rWxRrUvvWjyj"
      },
      "source": [
        "This is the Sum: </b>\n",
        "$$Down_n= \\sum_{k=1}^n (\\frac{1}{2})^k$$"
      ]
    },
    {
      "cell_type": "code",
      "metadata": {
        "colab": {
          "base_uri": "https://localhost:8080/"
        },
        "id": "ahYiv1QcXWi2",
        "outputId": "4b1e34a8-346f-4f0c-b034-428610d554f8"
      },
      "source": [
        "#The code for down_n would be:\n",
        "\n",
        "down=0.000\n",
        "n=100000\n",
        "down_n=[]\n",
        "\n",
        "for i in range(0,n+1):\n",
        "  down = down+(1/2)**i\n",
        "  down_n.append(down)\n",
        "print(down) \n"
      ],
      "execution_count": 2,
      "outputs": [
        {
          "output_type": "stream",
          "text": [
            "2.0\n"
          ],
          "name": "stdout"
        }
      ]
    },
    {
      "cell_type": "code",
      "metadata": {
        "id": "8xdBovY3NEW_",
        "colab": {
          "base_uri": "https://localhost:8080/",
          "height": 282
        },
        "outputId": "4800fe09-9042-4dc7-a641-ee89d23d0199"
      },
      "source": [
        "#And the graphic.\n",
        "plt.plot(down_n[:15], color='black',label='Down_n')\n",
        "plt.legend()\n"
      ],
      "execution_count": null,
      "outputs": [
        {
          "output_type": "execute_result",
          "data": {
            "text/plain": [
              "<matplotlib.legend.Legend at 0x7fdb5d479290>"
            ]
          },
          "metadata": {
            "tags": []
          },
          "execution_count": 45
        },
        {
          "output_type": "display_data",
          "data": {
            "image/png": "[encoded data removed]",
            "text/plain": [
              "<Figure size 432x288 with 1 Axes>"
            ]
          },
          "metadata": {
            "tags": [],
            "needs_background": "light"
          }
        }
      ]
    },
    {
      "cell_type": "markdown",
      "metadata": {
        "id": "pkayTTl-YVPI"
      },
      "source": [
        "We say this series converges to 2."
      ]
    },
    {
      "cell_type": "markdown",
      "metadata": {
        "id": "dh2ntBeoNQlN"
      },
      "source": [
        "# Power Sums \n",
        "\n",
        "A power  sum is a consecutive sum of the powers of a set of variables $x_k$.\n",
        "$$S_p(x_1,...,x_n) = \\sum_{k=1}^n x_p^k$$ \n",
        "And there's the special case where $x_p=k$. Then we have:\n",
        "$$S_p(n) = \\sum_{k=1}^n k^p$$\n",
        "\n"
      ]
    },
    {
      "cell_type": "markdown",
      "metadata": {
        "id": "FrjyyRrspKIN"
      },
      "source": [
        "In the special case we have some examples like which have analytical solutions:\n",
        "$$\\sum_{k=1}^n k=\\frac{1}{2}n(n+1)$$\n",
        "$$\\sum_{k=1}^n k^2=\\frac{1}{6}n(n+1)(2n+1)$$\n",
        "$$\\sum_{k=1}^n k^3=\\frac{1}{4}n^2(n+1)^2$$"
      ]
    },
    {
      "cell_type": "code",
      "metadata": {
        "colab": {
          "base_uri": "https://localhost:8080/"
        },
        "id": "mlUyvFPwiHPr",
        "outputId": "1b2f981f-95ce-4ed7-d4bb-29fb9a1eda4d"
      },
      "source": [
        "#We can calculate and plote the above sums recursively\n",
        "\n",
        "first_sum=0\n",
        "second_sum=0\n",
        "third_sum=0\n",
        "up_to=50\n",
        "\n",
        "first_series=[]\n",
        "second_series=[]\n",
        "third_series=[]\n",
        "\n",
        "for i in range(1,up_to+1):\n",
        "  first_sum=i+first_sum\n",
        "  first_series.append(first_sum)\n",
        "\n",
        "  second_sum=i**2+second_sum\n",
        "  second_series.append(second_sum)\n",
        "\n",
        "  third_sum=i**3+third_sum\n",
        "  third_series.append(third_sum)\n",
        "\n",
        "print(first_sum)\n",
        "print(second_sum)\n",
        "print(third_sum)  "
      ],
      "execution_count": 6,
      "outputs": [
        {
          "output_type": "stream",
          "text": [
            "1275\n",
            "42925\n",
            "1625625\n"
          ],
          "name": "stdout"
        }
      ]
    },
    {
      "cell_type": "code",
      "metadata": {
        "colab": {
          "base_uri": "https://localhost:8080/",
          "height": 282
        },
        "id": "IM30Lz55rpil",
        "outputId": "9a1e6301-b25e-40c8-c594-806b40f48bd0"
      },
      "source": [
        "plt.plot(first_series[:10], color='black',label='First series')\n",
        "plt.plot(second_series[:10], color='red',label='Second series')\n",
        "plt.plot(third_series[:10], color='blue',label='Third series')\n",
        "plt.legend()"
      ],
      "execution_count": 11,
      "outputs": [
        {
          "output_type": "execute_result",
          "data": {
            "text/plain": [
              "<matplotlib.legend.Legend at 0x7f652ce54ad0>"
            ]
          },
          "metadata": {
            "tags": []
          },
          "execution_count": 11
        },
        {
          "output_type": "display_data",
          "data": {
            "image/png": "[encoded data removed]",
            "text/plain": [
              "<Figure size 432x288 with 1 Axes>"
            ]
          },
          "metadata": {
            "tags": [],
            "needs_background": "light"
          }
        }
      ]
    },
    {
      "cell_type": "markdown",
      "metadata": {
        "id": "c73s5F2IsDj-"
      },
      "source": [
        "It's very clear that the third power grows dramaticaly faster than the other two."
      ]
    },
    {
      "cell_type": "markdown",
      "metadata": {
        "id": "yBrm26acdm1M"
      },
      "source": [
        "**References**\n",
        "*   https://mathworld.wolfram.com/PowerSum.html\n",
        "*   https://www.researchgate.net/publication/331933608_The_Powers_Sums_Bernoulli_Numbers_Bernoulli_Polynomials_Rethinked\n",
        "*   https://en.wikipedia.org/wiki/Sums_of_powers\n"
      ]
    }
  ]
}