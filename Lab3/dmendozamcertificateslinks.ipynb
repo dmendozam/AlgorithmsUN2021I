{
  "nbformat": 4,
  "nbformat_minor": 0,
  "metadata": {
    "colab": {
      "name": "dmendozamcertificateslinks.ipynb",
      "provenance": [],
      "collapsed_sections": []
    },
    "kernelspec": {
      "name": "python3",
      "display_name": "Python 3"
    },
    "language_info": {
      "name": "python"
    }
  },
  "cells": [
    {
      "cell_type": "markdown",
      "metadata": {
        "id": "L9edqlc7OeWV"
      },
      "source": [
        "# Python 101 for Data Science"
      ]
    },
    {
      "cell_type": "markdown",
      "metadata": {
        "id": "hHxqfGxcOmM2"
      },
      "source": [
        "https://courses.cognitiveclass.ai/certificates/6447bd0e1de24e6e8e16c22fd4191fe7"
      ]
    },
    {
      "cell_type": "markdown",
      "metadata": {
        "id": "4bgEG70BOqyr"
      },
      "source": [
        "# Data Analysis with Python"
      ]
    },
    {
      "cell_type": "markdown",
      "metadata": {
        "id": "p3nMn0NmOyUG"
      },
      "source": [
        "https://courses.cognitiveclass.ai/certificates/dfbae3a5af0b441593697a4cfb62d87a"
      ]
    },
    {
      "cell_type": "markdown",
      "metadata": {
        "id": "lGHeP7pcO1Pp"
      },
      "source": [
        "# Data Visualization with Python"
      ]
    },
    {
      "cell_type": "markdown",
      "metadata": {
        "id": "707TMsmKPAPb"
      },
      "source": [
        "https://courses.cognitiveclass.ai/certificates/1b2ff01873e4458882000d6e71428683"
      ]
    }
  ]
}