{
  "nbformat": 4,
  "nbformat_minor": 0,
  "metadata": {
    "colab": {
      "name": "AlgorithmicToolboxWeek2.ipynb",
      "provenance": [],
      "collapsed_sections": []
    },
    "kernelspec": {
      "name": "python3",
      "display_name": "Python 3"
    },
    "language_info": {
      "name": "python"
    }
  },
  "cells": [
    {
      "cell_type": "code",
      "metadata": {
        "id": "hz4v01KkQutP"
      },
      "source": [
        ""
      ],
      "execution_count": null,
      "outputs": []
    },
    {
      "cell_type": "code",
      "metadata": {
        "colab": {
          "base_uri": "https://localhost:8080/"
        },
        "id": "9iEBLHL9P0JR",
        "outputId": "49aefebf-a239-419a-dfe9-62e11bf2da23"
      },
      "source": [
        "import numpy;\n",
        "\n",
        "#Fibonacci number\n",
        "def Fibonacci(n):\n",
        "  if n <= 1:\n",
        "    return n\n",
        "  \n",
        "  return int((1/numpy.sqrt(5))*(((1+numpy.sqrt(5))/2)**n -((1-numpy.sqrt(5))/2)**n))  \n",
        "\n",
        "Fibonacci(331)\n",
        "\n"
      ],
      "execution_count": null,
      "outputs": [
        {
          "output_type": "execute_result",
          "data": {
            "text/plain": [
              "668996615388012452760374193356804254407717527009820203670488949456896"
            ]
          },
          "metadata": {
            "tags": []
          },
          "execution_count": 65
        }
      ]
    },
    {
      "cell_type": "code",
      "metadata": {
        "colab": {
          "base_uri": "https://localhost:8080/"
        },
        "id": "l3CZ08OfX6ER",
        "outputId": "e1357e3f-57f5-424b-da5c-fe3aeab047d4"
      },
      "source": [
        "#fibonacci last digit\n",
        "\n",
        "# Uses python3\n",
        "import sys\n",
        "import numpy;\n",
        "\n",
        "def get_fibonacci_last_digit_naive(n):\n",
        "    if n <= 1:\n",
        "      return n\n",
        "    a,current,c=1,1,1\n",
        "    n=n-2\n",
        "    for i in range(n):\n",
        "      c=current\n",
        "      current=(a+current)%10\n",
        "      a=c\n",
        "      print (current)\n",
        "\n",
        "    return current % 10\n",
        "\n",
        "get_fibonacci_last_digit_naive(10)\n",
        "\n",
        "#if __name__ == '__main__':\n",
        "#    input = sys.stdin.read()\n",
        "#    n = int(input)\n",
        "#    print(get_fibonacci_last_digit_naive(n))"
      ],
      "execution_count": 23,
      "outputs": [
        {
          "output_type": "stream",
          "text": [
            "2\n",
            "3\n",
            "5\n",
            "8\n",
            "3\n",
            "1\n",
            "4\n",
            "5\n"
          ],
          "name": "stdout"
        },
        {
          "output_type": "execute_result",
          "data": {
            "text/plain": [
              "5"
            ]
          },
          "metadata": {
            "tags": []
          },
          "execution_count": 23
        }
      ]
    },
    {
      "cell_type": "code",
      "metadata": {
        "colab": {
          "base_uri": "https://localhost:8080/"
        },
        "id": "Ypc_aPUU2cAu",
        "outputId": "ac93f0b0-5ec7-46de-dfcf-a9063185aab2"
      },
      "source": [
        " #maximo comun divisor\n",
        "\n",
        "# Uses python3\n",
        "\n",
        "import sys\n",
        "\n",
        "def gcd_naive(a, b): \n",
        "    if b == 0:\n",
        "        return a\n",
        "    return gcd_naive(b,a%b)\n",
        "print(gcd_naive(20, 60))\n"
      ],
      "execution_count": 51,
      "outputs": [
        {
          "output_type": "stream",
          "text": [
            "20\n"
          ],
          "name": "stdout"
        }
      ]
    },
    {
      "cell_type": "code",
      "metadata": {
        "colab": {
          "base_uri": "https://localhost:8080/"
        },
        "id": "V9N50ZYcHZIF",
        "outputId": "4b3f6bad-3851-41bb-dd6b-7024e87d5d60"
      },
      "source": [
        "\n",
        "#minimo comun multiplo\n",
        "\n",
        "%%writefile MCM.cpp\n",
        "#include <iostream>\n",
        "\n",
        "using namespace std;\n",
        "long long mcd(long long a, long long b){\n",
        "    if(b == 0){\n",
        "        return a;\n",
        "    }\n",
        "    return mcd(b, a%b);\n",
        "}\n",
        "int main()\n",
        "{\n",
        "    long long a, b;\n",
        "    cin >> a;\n",
        "    cin >> b;\n",
        "    cout << a * b / mcd(a, b);\n",
        "    return 0;\n",
        "}"
      ],
      "execution_count": 52,
      "outputs": [
        {
          "output_type": "stream",
          "text": [
            "Writing MCM.cpp\n"
          ],
          "name": "stdout"
        }
      ]
    }
  ]
}